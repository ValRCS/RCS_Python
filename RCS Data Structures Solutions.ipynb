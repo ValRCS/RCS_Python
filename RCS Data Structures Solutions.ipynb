{
 "cells": [
  {
   "cell_type": "code",
   "execution_count": null,
   "metadata": {},
   "outputs": [],
   "source": [
    "## RCS Data Structures Solutions"
   ]
  },
  {
   "cell_type": "code",
   "execution_count": null,
   "metadata": {},
   "outputs": [],
   "source": [
    "a4 = mydata[7]['Description'][:18]\n",
    "# Find First Two Words in the Description for Kristers Liepins\n",
    "# a4 = ' '.join(mydata[7]['Description'].split( )[:2])\n",
    "a4\n",
    "assert(a4 == 'Perspiciatis ipsum'), \"Expected 'Perspiciatis ipsum'\""
   ]
  }
 ],
 "metadata": {
  "kernelspec": {
   "display_name": "Python 3",
   "language": "python",
   "name": "python3"
  },
  "language_info": {
   "codemirror_mode": {
    "name": "ipython",
    "version": 3
   },
   "file_extension": ".py",
   "mimetype": "text/x-python",
   "name": "python",
   "nbconvert_exporter": "python",
   "pygments_lexer": "ipython3",
   "version": "3.6.4"
  }
 },
 "nbformat": 4,
 "nbformat_minor": 2
}
