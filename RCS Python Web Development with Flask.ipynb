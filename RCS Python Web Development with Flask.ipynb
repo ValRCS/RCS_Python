{
 "cells": [
  {
   "cell_type": "markdown",
   "metadata": {},
   "source": [
    "## RCS Python Web Development with Flask"
   ]
  },
  {
   "cell_type": "markdown",
   "metadata": {},
   "source": [
    "![Image](img/flask.png)"
   ]
  },
  {
   "cell_type": "markdown",
   "metadata": {},
   "source": [
    "### http://flask.pocoo.org/"
   ]
  },
  {
   "cell_type": "markdown",
   "metadata": {},
   "source": [
    "### Web Server\n",
    "\n",
    "\"Web server\" can refer to hardware or software, or both of them working together.\n",
    "\n",
    "On the hardware side, a web server is a computer that stores web server software and a website's component files (e.g. HTML documents, images, CSS stylesheets, and JavaScript files). It is connected to the Internet and supports physical data interchange with other devices connected to the web.\n",
    "\n",
    "On the software side, a web server includes several parts that control how web users access hosted files, at minimum an HTTP server. An HTTP server is a piece of software that understands URLs (web addresses) and HTTP (the protocol your browser uses to view webpages). It can be accessed through the domain names (like mozilla.org) of websites it stores, and delivers their content to the end-user's device.\n",
    "\n",
    "![Image](https://mdn.mozillademos.org/files/8659/web-server.svg)\n",
    "\n",
    "[From Mozilla](https://developer.mozilla.org/en-US/docs/Learn/Common_questions/What_is_a_web_server)\n",
    "\n",
    "Then there is HTTPS which is an extension of HTTP but provides authentication/security/integrity, protecting from Man-In-the-Middle attacks. HTTPS is pretty much mandated these days."
   ]
  },
  {
   "cell_type": "markdown",
   "metadata": {},
   "source": [
    "## Static Files vs Dynamic Files"
   ]
  },
  {
   "cell_type": "code",
   "execution_count": null,
   "metadata": {},
   "outputs": [],
   "source": []
  },
  {
   "cell_type": "markdown",
   "metadata": {},
   "source": [
    "## Getting started with Flask"
   ]
  },
  {
   "cell_type": "markdown",
   "metadata": {},
   "source": [
    "Create an environment\n",
    "Create a project folder and a venv folder within:\n",
    "\n",
    "`mkdir flaskapp\n",
    "cd myproject\n",
    "python -m venv venv`"
   ]
  },
  {
   "cell_type": "markdown",
   "metadata": {},
   "source": [
    "### Activate the environment\n",
    "\n",
    "Before you work on your project, activate the corresponding environment:\n",
    "\n",
    "On MacOS/Linux from your project directory run \n",
    "\n",
    "`. venv/bin/activate`\n",
    "\n",
    "\n",
    "On Windows:\n",
    "\n",
    "`venv\\Scripts\\activate`\n",
    "\n",
    "Your shell prompt will change to show the name of the activated environment.\n",
    "\n",
    "deactivate with deactivate :)"
   ]
  },
  {
   "cell_type": "code",
   "execution_count": null,
   "metadata": {},
   "outputs": [],
   "source": []
  },
  {
   "cell_type": "markdown",
   "metadata": {},
   "source": [
    "## Setup\n",
    "Once we have (venv) prompt that is active venv\n",
    "\n",
    "`$ pip install Flask`\n",
    "\n",
    "#### Enviroment variable but we are not going to use this\n",
    "$ FLASK_APP=hflask.py flask run\n",
    "\n",
    "#### Instead just using\n",
    "`python hflask.py` will work for demonstration purposes"
   ]
  },
  {
   "cell_type": "code",
   "execution_count": null,
   "metadata": {},
   "outputs": [],
   "source": []
  },
  {
   "cell_type": "code",
   "execution_count": null,
   "metadata": {},
   "outputs": [],
   "source": []
  },
  {
   "cell_type": "code",
   "execution_count": 1,
   "metadata": {},
   "outputs": [
    {
     "name": "stdout",
     "output_type": "stream",
     "text": [
      "Writing helloflask.py\n"
     ]
    }
   ],
   "source": [
    "%%writefile hflask.py\n",
    "from flask import Flask\n",
    "\n",
    "app = Flask(__name__)\n",
    "\n",
    "@app.route('/') # remember decorators? :)\n",
    "def hello():\n",
    "    return 'Sup!'\n",
    "\n",
    "if __name__ == '__main__':\n",
    "    app.run()"
   ]
  },
  {
   "cell_type": "code",
   "execution_count": null,
   "metadata": {},
   "outputs": [],
   "source": [
    "## localhost:5000 , stop it with Ctrl-C in the terminal"
   ]
  },
  {
   "cell_type": "code",
   "execution_count": null,
   "metadata": {},
   "outputs": [],
   "source": [
    "%%writefile hflask.py\n",
    "from flask import Flask\n",
    "\n",
    "app = Flask(__name__)\n",
    "\n",
    "@app.route('/')\n",
    "def hello():\n",
    "    return 'Sup!'\n",
    "\n",
    "@app.route('/admin')\n",
    "def admin():\n",
    "    return 'Super Secret Admin Page'\n",
    "\n",
    "if __name__ == '__main__':\n",
    "    app.run()"
   ]
  },
  {
   "cell_type": "code",
   "execution_count": null,
   "metadata": {},
   "outputs": [],
   "source": [
    "### How about adding some HTML ?"
   ]
  },
  {
   "cell_type": "code",
   "execution_count": null,
   "metadata": {},
   "outputs": [],
   "source": [
    "%%writefile hflask.py\n",
    "from flask import Flask\n",
    "\n",
    "app = Flask(__name__)\n",
    "\n",
    "@app.route('/')\n",
    "def hello():\n",
    "    return 'Sup!'\n",
    "\n",
    "@app.route('/admin')\n",
    "def admin():\n",
    "    return 'Super Secret Admin Page'\n",
    "\n",
    "@app.route('/about')\n",
    "def about():\n",
    "       user = {'username': 'Valdis'} \n",
    "       return '''\n",
    "            <html>\n",
    "                <head>\n",
    "                    <title>Home Page - Microblog</title>\n",
    "                </head>\n",
    "                <body>\n",
    "                    <h1>Hello, ''' + user['username'] + '''!</h1>\n",
    "                </body>\n",
    "            </html>'''\n",
    "\n",
    "if __name__ == '__main__':\n",
    "    app.run()"
   ]
  },
  {
   "cell_type": "markdown",
   "metadata": {},
   "source": [
    "### What are problems with the above approach?\n",
    "\n",
    "* unwieldy code\n",
    "* inline HTML is generally hard to view especially for large pages"
   ]
  },
  {
   "cell_type": "markdown",
   "metadata": {},
   "source": [
    "# VS Code -> Tasks -> Configure Default Build Task\n",
    "\n",
    "#### Replace Task json with one below\n",
    "### This will allow you to run current .py file with Ctrl-Shift-B (Option-Shift-B on MAc ??)"
   ]
  },
  {
   "cell_type": "code",
   "execution_count": null,
   "metadata": {},
   "outputs": [],
   "source": [
    "{\n",
    "    // See https://go.microsoft.com/fwlink/?LinkId=733558\n",
    "    // for the documentation about the tasks.json format\n",
    "    // this goes in your .vscode folder under tasks.json (one already exists there)\n",
    "    //\"command\": \"python ${relativeFile}\" opens your currently active file with python (or at least tries to..)\n",
    "    // you activate the build command with Ctrl-Shift-B in VS Code\n",
    "    \"version\": \"2.0.0\",\n",
    "    \"tasks\": [\n",
    "        {\n",
    "            \"label\": \"Run Python active file\",\n",
    "            \"type\": \"shell\",\n",
    "            \"command\": \"python ${relativeFile}\",\n",
    "            \"group\": {\n",
    "                \"kind\": \"build\",\n",
    "                \"isDefault\": true\n",
    "            }\n",
    "        }\n",
    "    ]\n",
    "}"
   ]
  },
  {
   "cell_type": "markdown",
   "metadata": {},
   "source": [
    "## Using Templates "
   ]
  },
  {
   "cell_type": "code",
   "execution_count": null,
   "metadata": {},
   "outputs": [],
   "source": [
    "from flask import Flask\n",
    "from flask import render_template\n",
    "\n",
    "app = Flask(__name__)\n",
    "\n",
    "@app.route('/')\n",
    "def hello():\n",
    "    return 'Sup!'\n",
    "\n",
    "@app.route('/admin')\n",
    "def admin():\n",
    "    return 'Super Secret Admin Page'\n",
    "\n",
    "@app.route('/about')\n",
    "def about():\n",
    "       user = {'username': 'Valdis'} \n",
    "       return '''\n",
    "            <html>\n",
    "                <head>\n",
    "                    <title>Home Page - Microblog</title>\n",
    "                </head>\n",
    "                <body>\n",
    "                    <h1>Hello, ''' + user['username'] + '''!</h1>\n",
    "                </body>\n",
    "            </html>'''\n",
    "\n",
    "@app.route('/hello/')\n",
    "@app.route('/hello/<name>')\n",
    "def bighello(name=None):\n",
    "    return render_template('hello.html', name=name)            \n",
    "\n",
    "if __name__ == '__main__':\n",
    "    app.run()"
   ]
  },
  {
   "cell_type": "code",
   "execution_count": 13,
   "metadata": {},
   "outputs": [
    {
     "name": "stdout",
     "output_type": "stream",
     "text": [
      "Writing hello.html\n"
     ]
    }
   ],
   "source": [
    "%%writefile hello.html\n",
    "<!doctype html>\n",
    "<html>\n",
    "    <head>\n",
    "        <title>Hello from Flask</title>\n",
    "        <link rel=\"stylesheet\" href=\"{{ url_for('static', filename='style.css') }}\">\n",
    "    </head>\n",
    "    <body>\n",
    "        {% if name %}\n",
    "        <h1>Hello {{ name }}!</h1>\n",
    "      {% else %}\n",
    "        <h1>Hello, World!</h1>\n",
    "      {% endif %}\n",
    "      <hr>\n",
    "      <p>Just a normal paragraph</p>\n",
    "    </body>\n",
    "</html>"
   ]
  },
  {
   "cell_type": "code",
   "execution_count": 14,
   "metadata": {},
   "outputs": [],
   "source": [
    "## Place hello.html in yourproject/templates subdirectory (mkdir templates if one is not made)"
   ]
  },
  {
   "cell_type": "code",
   "execution_count": 12,
   "metadata": {},
   "outputs": [
    {
     "name": "stdout",
     "output_type": "stream",
     "text": [
      "Overwriting style.css\n"
     ]
    }
   ],
   "source": [
    "%%writefile style.css\n",
    "h1 { font-family: serif; color: #377ba8; margin: 1rem 0; }\n",
    "a { color: #377ba8; }\n",
    "hr { border: none; border-top: 2px solid darkblue; }"
   ]
  },
  {
   "cell_type": "code",
   "execution_count": 11,
   "metadata": {},
   "outputs": [],
   "source": [
    "#place style.css in yourproject/static directory (make static directory if one is not already made)"
   ]
  },
  {
   "cell_type": "markdown",
   "metadata": {},
   "source": [
    "## Exploring Flask deeper\n",
    "\n",
    "* Real flask apps would benefit from deeper folder structure for readabily (http://flask.pocoo.org/docs/1.0/tutorial/layout/)\n",
    "* connect database for data storage(SQLite support is built in), http://flask.pocoo.org/docs/1.0/patterns/sqlite3/\n",
    "* SQLAlchemy toolkit for Python - https://www.sqlalchemy.org/\n",
    "* authorization/authentication/security  - https://flask-security.readthedocs.io/en/latest/ includes Flask-Login\n",
    "* form processing - https://flask-wtf.readthedocs.io/en/stable/\n",
    "* providing REST API - https://flask-restful.readthedocs.io/en/latest/"
   ]
  },
  {
   "cell_type": "code",
   "execution_count": null,
   "metadata": {},
   "outputs": [],
   "source": []
  },
  {
   "cell_type": "markdown",
   "metadata": {},
   "source": [
    "## Deploying your Flask app(web server):\n",
    "\n",
    "http://flask.pocoo.org/docs/1.0/tutorial/deploy/\n",
    "\n",
    "General idea is to use Flask only for dynamic pages when in deployment.\n",
    "    \n",
    "    "
   ]
  },
  {
   "cell_type": "markdown",
   "metadata": {},
   "source": [
    "## Serving Static Files via Flask\n",
    "\n",
    "Can be done via Flask for quick testing: https://stackoverflow.com/questions/20646822/how-to-serve-static-files-in-flask\n",
    "        \n",
    "KEY: By default flask thinks that there could or should be a directory called “static” just under the root level of the project.\n",
    "\n",
    "BUT in deployment best handled by nginx/Apache/other server"
   ]
  },
  {
   "cell_type": "markdown",
   "metadata": {},
   "source": [
    "## Serving via HTTPS:\n",
    "\n",
    "Generally in a serious deployment should be done by nginx/Apache/other proxy server \n",
    "\n",
    "## Can be done by Flask \n",
    "\n",
    "https://blog.miguelgrinberg.com/post/running-your-flask-application-over-https\n",
    "    \n",
    "* Involves sysadmin tasks generating self-signed certificates / loading purchased ones (ie from Let's Encrypt)\n"
   ]
  },
  {
   "cell_type": "markdown",
   "metadata": {},
   "source": [
    "## Flask Tutorials\n",
    "\n",
    "[Offical Flask Docs](http://flask.pocoo.org/docs/1.0/)\n",
    "\n",
    "https://blog.miguelgrinberg.com/post/the-flask-mega-tutorial-part-i-hello-world"
   ]
  },
  {
   "cell_type": "markdown",
   "metadata": {},
   "source": [
    "# Flask Books\n",
    "\n",
    "Best Flask book: \n",
    "\n",
    "Flask Web Development, 2nd Edition by Michael Grinberg \n",
    "http://shop.oreilly.com/product/0636920089056.do\n",
    "\n",
    "(he has a nice blog above as well)"
   ]
  },
  {
   "cell_type": "markdown",
   "metadata": {},
   "source": [
    "## Flask Extensions\n",
    "\n",
    "* http://flask.pocoo.org/extensions/ - offical registry\n",
    "* https://pypi.org/ - our well known general Python Package Index\n",
    "* Github etc"
   ]
  },
  {
   "cell_type": "markdown",
   "metadata": {},
   "source": [
    "## Online help\n",
    "\n",
    "* Stack Overflow with Flask tag\n",
    "* www.reddit.com/r/flask\n",
    "* www.reddit.com/r/python for general Python lectures\n",
    "* IRC #pocoo "
   ]
  },
  {
   "cell_type": "markdown",
   "metadata": {},
   "source": [
    "## Repository for this lecture: https://github.com/ValRCS/RCS_Flask_hw"
   ]
  },
  {
   "cell_type": "markdown",
   "metadata": {},
   "source": [
    "## Python Alternative is Django very serious and big package\n",
    "https://www.djangoproject.com/\n"
   ]
  },
  {
   "cell_type": "markdown",
   "metadata": {},
   "source": [
    "Middle ground framework (between Flask and Django) is Pylons project: https://pylonsproject.org/"
   ]
  }
 ],
 "metadata": {
  "kernelspec": {
   "display_name": "Python 3",
   "language": "python",
   "name": "python3"
  },
  "language_info": {
   "codemirror_mode": {
    "name": "ipython",
    "version": 3
   },
   "file_extension": ".py",
   "mimetype": "text/x-python",
   "name": "python",
   "nbconvert_exporter": "python",
   "pygments_lexer": "ipython3",
   "version": "3.6.4"
  }
 },
 "nbformat": 4,
 "nbformat_minor": 2
}
