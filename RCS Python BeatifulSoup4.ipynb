{
 "cells": [
  {
   "cell_type": "code",
   "execution_count": null,
   "metadata": {},
   "outputs": [],
   "source": [
    "! pip list"
   ]
  },
  {
   "cell_type": "code",
   "execution_count": 1,
   "metadata": {},
   "outputs": [],
   "source": [
    "import bs4"
   ]
  },
  {
   "cell_type": "markdown",
   "metadata": {},
   "source": [
    "# need urllib\n",
    "http://urllib3.readthedocs.io/en/latest/"
   ]
  },
  {
   "cell_type": "code",
   "execution_count": 2,
   "metadata": {},
   "outputs": [],
   "source": [
    "import urllib3"
   ]
  },
  {
   "cell_type": "code",
   "execution_count": 3,
   "metadata": {},
   "outputs": [],
   "source": [
    "http = urllib3.PoolManager()"
   ]
  },
  {
   "cell_type": "code",
   "execution_count": 4,
   "metadata": {},
   "outputs": [
    {
     "name": "stderr",
     "output_type": "stream",
     "text": [
      "C:\\ProgramData\\Anaconda3\\lib\\site-packages\\urllib3\\connectionpool.py:858: InsecureRequestWarning: Unverified HTTPS request is being made. Adding certificate verification is strongly advised. See: https://urllib3.readthedocs.io/en/latest/advanced-usage.html#ssl-warnings\n",
      "  InsecureRequestWarning)\n"
     ]
    }
   ],
   "source": [
    "r = http.request('GET','https://www.ss.com/lv/real-estate/flats/riga/teika/')"
   ]
  },
  {
   "cell_type": "code",
   "execution_count": 5,
   "metadata": {},
   "outputs": [
    {
     "data": {
      "text/plain": [
       "200"
      ]
     },
     "execution_count": 5,
     "metadata": {},
     "output_type": "execute_result"
    }
   ],
   "source": [
    "r.status"
   ]
  },
  {
   "cell_type": "code",
   "execution_count": 6,
   "metadata": {},
   "outputs": [
    {
     "data": {
      "text/plain": [
       "b'<!DOCTYPE html>\\r\\n<HTML><HEAD>\\r\\n<title>SS.COM Dz\\xc4\\xabvok\\xc4\\xbci - R\\xc4\\xabga - Teika, Cenas - Sludin\\xc4\\x81jumi</title>\\r\\n<meta http-equiv=\"Content-Type\" CONTENT=\"text/html; charset=UTF-8\">\\r\\n<meta name=\"viewport\" content=\"user-scalable=1, width=device-width, initial-scale=1.0\"/>\\r\\n<meta name=\"keywords\" content=\"Sludin\\xc4\\x81jumi teika r\\xc4\\xabga dz\\xc4\\xabvok\\xc4\\xbci nekustamais \\xc4\\xabpa\\xc5\\xa1ums cenas pa\\xc5\\xa1a sird\\xc4\\xab sl\\xc4\\x93gta lielisks p\\xc4\\x81rdo\\xc5\\xa1an\\xc4\\x81 p\\xc4\\x81rdod p\\xc4\\x93rk iz\\xc4\\xabr\\xc4\\x93 \\xc4\\xabr\\xc4\\x93 maina\">\\r\\n<meta name=\"description\" content=\"Sludin\\xc4\\x81jumi. Dz\\xc4\\xabvok\\xc4\\xbci - R\\xc4\\xabga - Teika, Cenas, tirdzniec\\xc4\\xabba, Foto, Att\\xc4\\x93li\">\\r\\n<meta http-equiv=\"Set-Cookie\" content=\"LG=lv; expires=Sun, 07 Jul 2019 10:18:53 GMT; path=/; domain=www.ss.com\"><link rel=\"alternate\" media=\"only screen and (max-width: 640px)\" href=\"https://m.ss.com/lv/real-estate/flats/riga/teika/\">\\r\\n\\r\\n<meta http-equiv=\"imagetoolbar\" content=\"no\">\\r\\n\\r\\n<BASE href=\"https://www.ss.com/\">\\r\\n<link href=\"https://i.ss.com/w_inc/style.css?v=193\" rel=\"stylesheet\" />\\r\\n<style>html{overflow-y:scroll;}.page_bg{background-image:url(\\'https://i.ss.com/img/head/classifieds.jpg?v=1\\' );background-repeat:no-repeat;}@media screen and (min-width:1280px){.page_bg{background-image:url(\\'https://i.ss.com/img/head/classifieds-1280.jpg?v=1\\' );}}\\r\\n.l50{width:50px;}.l130{width:130px;}.l35{width:35px;}.l23{width:23px;}.l85{width:85px;}.l100{width:100px;}@media screen and (min-width:1280px){.l50{width:calc(50px*1.25);}.l130{width:calc(130px*1.25);}.l35{width:calc(35px*1.25);}.l23{width:calc(23px*1.25);}.l85{width:calc(85px*1.25);}.l100{width:calc(100px*1.25);}}</style>\\r\\n<link rel=\"shortcut icon\" href=\"/favicon.ico?v=1\" type=\"image/x-icon\" />\\r\\n<link rel=\"apple-touch-icon\" sizes=\"57x57\" href=\"/img/m/ss-com-57x57.png\"/>\\r\\n<link rel=\"apple-touch-icon\" sizes=\"72x72\" href=\"/img/m/ss-com-72x72.png\"/>\\r\\n<link rel=\"apple-touch-icon\" sizes=\"114x114\" href=\"/img/m/ss-com-114x114.png\"/>\\r\\n<link rel=\"alternate\" hreflang=\"lv\" href=\"https://www.ss.com/lv/real-estate/flats/riga/teika/\" /><link rel=\"alternate\" hreflang=\"ru\" href=\"https://www.ss.com/ru/real-estate/flats/riga/teika/\" />\\r\\n<script src=\"https://i.ss.com/w_inc/js/main.lv.ss.js?v=494\" type=\"text/javascript\"></script>\\r\\n<script async src=\"https://i.ss.com/w_inc/adsbygoogle.js?v=494\"></script>\\r\\n<SCRIPT type=\"text/javascript\">\\r\\n<!--\\r\\nLINK_MAIN_HOST = \"https://www.ss.com\";var REGION = \"\";SS_Lang = \"2\";get_page_zoom();\\r\\nif(window._setCookie){_setCookie(\"LG\",\"lv\",365,\"www.ss.com\");};\\r\\n-->\\r\\n</SCRIPT>\\r\\n</HEAD>\\r\\n<BODY onLoad=\"window.defaultStatus=\\'Sludin\\xc4\\x81jumi - SS.COM\\';\" bgcolor=\"#FFFFFF\" class=\"body\">\\r\\n<div style=\"position:absolute;height:0px;width:0px;top:15px;left:10px;z-index:0;\" id=\"left_banner\" z-index=\"0\"></div>\\r\\n<div align=center>\\r\\n\\t<div id=\"main_table\" class=\"page_header page_bg\">\\r\\n\\t\\t<div z-index=\"20\" id=\"sslogin\"></div>\\r\\n\\t\\t<span class=\"page_header_head\"><a href=\"/\" title=\"Sludin\\xc4\\x81jumi\"><img class=\"page_header_logo\" src=\"https://i.ss.com/img/p.gif\" border=\"0\" alt=\"Sludin\\xc4\\x81jumi\"></a><h1>SLUDIN\\xc4\\x80JUMI</h1></span>\\r\\n\\t\\t<span class=\"page_header_menu\"><b class=\"menu_main\"><a href=\"/lv/real-estate/flats/new/\" class=\"a_menu\" title=\"Iesniegt Sludin\\xc4\\x81jumu\">Iesniegt Sludin\\xc4\\x81jumu</a></b>\\r\\n<b class=\"menu_main\"><a href=\"/lv/login/\" class=\"a_menu\" title=\"Mani Sludin\\xc4\\x81jumi\">Mani Sludin\\xc4\\x81jumi</a></b>\\r\\n<b class=\"menu_main\"><a href=\"/lv/real-estate/flats/riga/teika/search/\" class=\"a_menu\" title=\"Mekl\\xc4\\x93t sludin\\xc4\\x81jumus\">Mekl\\xc4\\x93\\xc5\\xa1ana</a></b>\\r\\n<span style=\"display:inline-block;text-align:left;\"><b class=\"menu_main\" style=\"padding-right:0px;\"><a href=\"/lv/favorites/\" class=\"a_menu\" title=\"Memo\">Memo</a></b><span id=\"mnu_fav_id\"></span></span></span>\\r\\n\\t\\t<span id=\"mails_status_menu\"></span>\\r\\n\\t\\t<span class=\"menu_lang\"><a href=\"/ru/real-estate/flats/riga/teika/\" class=a_menu title=\"\\xd0\\x9f\\xd0\\xbe-\\xd1\\x80\\xd1\\x83\\xd1\\x81\\xd1\\x81\\xd0\\xba\\xd0\\xb8\">RU</a></span>\\r\\n\\t</div>\\r\\n</div>\\r\\n<div align=center>\\r\\n\\t<div class=\"page_header\">\\r\\n\\t\\t<table border=0 cellpadding=0 cellspacing=0 width=\"100%\"><tr><td>\\r\\n\\t\\t\\t<div style=\"float:left;\">\\r\\n\\t\\t\\t<table id=\"page_main\" border=0 cellpadding=0 cellspacing=0 width=\"100%\"><tr><td valign=top><div class=\"top_head\"><div style=\"float:left;padding-top:2px;\"><h2 class=\"headtitle\"><a href=\"/lv/real-estate/flats/\"  title=\"Sludin\\xc4\\x81jumi Dz\\xc4\\xabvok\\xc4\\xbci\">Dz\\xc4\\xabvok\\xc4\\xbci</a> / <a href=\"/lv/real-estate/flats/riga/\"  title=\"Sludin\\xc4\\x81jumi R\\xc4\\xabga\">R\\xc4\\xabga</a> / Teika</h2></div><div style=\"float:right;\"><select id=\"today_cnt_sl\" onchange=\"go(this.value+\\'\\');\"><option selected value=\"/lv/real-estate/flats/riga/teika/\">Visi sludin\\xc4\\x81jumi</option><option value=\"/lv/real-estate/flats/riga/teika/today/\">\\xc5\\xa0odien - 1</option><option value=\"/lv/real-estate/flats/riga/teika/today-2/\">Par 2 dien\\xc4\\x81m - 19</option><option value=\"/lv/real-estate/flats/riga/teika/today-5/\">Par 5 dien\\xc4\\x81m - 48</option></select></div></div><form id=\"filter_frm\" name=\"filter_frm\" action=\"/lv/real-estate/flats/riga/teika/filter/\" method=post>\\r\\n\\t<table cellpadding=1 cellspacing=0 border=0 width=\"100%\" bgcolor=\"#EEEEEE\" style=\"margin-top:5px;\" id=\"filter_tbl\">\\r\\n\\t<tr><td style=\"padding-bottom:3px;\"><table border=0 cellpadding=1 cellspacing=0><tr><td class=\"filter_name\" valign=bottom nowrap>Cena:<br><span id=\"foptfld_8\"><input id=\"f_o_8_min\"  class=\"filter_txt l50\"  type=text name=\"topt[8][min]\" value=\"\">-<input id=\"f_o_8_max\"  class=\"filter_txt l50\"  type=text name=\"topt[8][max]\" value=\"\"></span>&nbsp;</td><td class=\"filter_name\" valign=bottom nowrap>Istabas:<br><span id=\"foptfld_1\"><select onchange=\"this.form.submit();\" class=\"filter_sel l50\" id=\"f_o_1\" name=\"topt[1][min]\"><option value=\"\"></option><option value=\"1\">1</option><option value=\"2\">2</option><option value=\"3\">3</option><option value=\"4\">4</option><option value=\"5\">5</option><option value=\"6\">6</option><option value=\"Citi\">Citi</option></select>-<select onchange=\"this.form.submit();\" class=\"filter_sell50\" id=\"f_o_1\" name=\"topt[1][max]\"><option value=\"\"></option><option value=\"1\">1</option><option value=\"2\">2</option><option value=\"3\">3</option><option value=\"4\">4</option><option value=\"5\">5</option><option value=\"6\">6</option><option value=\"Citi\">Citi</option></select></span>&nbsp;</td><td class=\"filter_name\" valign=bottom nowrap>Plat\\xc4\\xabba:<br><span id=\"foptfld_3\"><input class=\"filter_txt l35\" id=\"f_o_3_min\" maxlength=4 type=text name=\"topt[3][min]\" value=\"\">-<input id=\"f_o_3_max\" class=\"filter_txt l35\" maxlength=4 type=text name=\"topt[3][max]\" value=\"\"></span>&nbsp;</td><td class=\"filter_name\" valign=bottom nowrap>St\\xc4\\x81vs:<br><span id=\"foptfld_4\"><input class=\"filter_txt l23\" id=\"f_o_4_min\" maxlength=4 type=text name=\"topt[4][min]\" value=\"\">-<input id=\"f_o_4_max\" class=\"filter_txt l23\" maxlength=4 type=text name=\"topt[4][max]\" value=\"\"></span>&nbsp;</td><td class=\"filter_name\" valign=bottom nowrap>S\\xc4\\x93rija:<br><span id=\"foptfld_6\"><select class=\"filter_sel l85\" id=\"f_o_6\"  onchange=\"this.form.submit();\" name=\"opt[6]\"><option value=\"\"></option><option value=\"67\">103.</option><option value=\"69\">119.</option><option value=\"76\">Hru\\xc5\\xa1\\xc4\\x8d.</option><option value=\"72\">LT proj.</option><option value=\"74\">M. \\xc4\\xa3im.</option><option value=\"79\">P. kara</option><option value=\"77\">Priv. m.</option><option value=\"3616\">Renov.</option><option value=\"78\">Specpr.</option><option value=\"75\">Sta\\xc4\\xbcina</option><option value=\"3596\">Jaun.</option></select></span>&nbsp;</td></tr></table></td><td width=\"100%\" align=\"right\" style=\"padding-top:14px;\"><input class=\"b s12\" style=\"padding-top:1px;padding-bottom:2px;\" type=submit value=\"Mekl\\xc4\\x93t\"></td></tr></table><div class=\"filter_second_line_dv\"><span class=\"filter_opt_dv\">Re\\xc5\\xbe\\xc4\\xabms:<br><noindex><select onchange=\"go(this[this.selectedIndex].value);\" title=\"Izv\\xc4\\x93lieties sludin\\xc4\\x81jumu apskat\\xc4\\xab\\xc5\\xa1anas veidu\" class=\"filter_sel w95\">\\r\\n\\t\\t\\t\\t<option selected value=\"/lv/real-estate/flats/riga/teika/\">Saraksts</option>\\r\\n\\t\\t\\t\\t<option value=\"/lv/real-estate/flats/riga/teika/photo/\">Albums</option>\\r\\n\\t\\t\\t\\t<option value=\"/lv/real-estate/flats/riga/teika/fDgQeF4S.html\">Karte</option>\\r\\n\\t\\t\\t\\t</select></noindex>\\r\\n\\t\\t\\t</span>\\r\\n<span class=\"filter_opt_dv\">Dar\\xc4\\xabjuma veids:<br><select name=sid onchange=\"go(this[this.selectedIndex].value);\" class=\"filter_sel l100\"><option value=\"/lv/real-estate/flats/riga/teika/\">Visi</option><option value=\"/lv/real-estate/flats/riga/teika/sell/\">P\\xc4\\x81rdod</option><option value=\"/lv/real-estate/flats/riga/teika/buy/\">P\\xc4\\x93rk</option><option value=\"/lv/real-estate/flats/riga/teika/hand_over/\">Iz\\xc4\\xabr\\xc4\\x93</option><option value=\"/lv/real-estate/flats/riga/teika/remove/\">\\xc4\\xaar\\xc4\\x93</option><option value=\"/lv/real-estate/flats/riga/teika/change/\">Maina</option></select></span>\\r\\n<span class=\"filter_opt_dv\">Rajons:<br>\\r\\n<select class=\"filter_sel\" style=\"min-width:54px;max-width:200px;\" onchange=\"go( this[this.selectedIndex].value );\">\\r\\n<option value=\"/lv/real-estate/flats/riga/all/\">Visi</option>\\r\\n\\r\\n<option value=\"/lv/real-estate/flats/riga/centre/\">Centrs</option><option value=\"/lv/real-estate/flats/riga/agenskalns/\">\\xc4\\x80genskalns</option><option value=\"/lv/real-estate/flats/riga/aplokciems/\">Aplokciems</option><option value=\"/lv/real-estate/flats/riga/beberbeki/\">Beberbe\\xc4\\xb7i</option><option value=\"/lv/real-estate/flats/riga/bergi/\">Ber\\xc4\\xa3i</option><option value=\"/lv/real-estate/flats/riga/biekensala/\">Bie\\xc4\\xb7\\xc4\\x93nsala</option><option value=\"/lv/real-estate/flats/riga/bierini/\">Bieri\\xc5\\x86i</option><option value=\"/lv/real-estate/flats/riga/bolderaya/\">Bolder\\xc4\\x81ja</option><option value=\"/lv/real-estate/flats/riga/bukulti/\">Bukulti</option><option value=\"/lv/real-estate/flats/riga/chiekurkalns/\">\\xc4\\x8ciekurkalns</option><option value=\"/lv/real-estate/flats/riga/darzciems/\">D\\xc4\\x81rzciems</option><option value=\"/lv/real-estate/flats/riga/daugavgriva/\">Daugavgr\\xc4\\xabva</option><option value=\"/lv/real-estate/flats/riga/dreilini/\">Dreili\\xc5\\x86i</option><option value=\"/lv/real-estate/flats/riga/dzeguzhkalns/\">Dzegu\\xc5\\xbekalns (Dzirciems)</option><option value=\"/lv/real-estate/flats/riga/ilguciems/\">I\\xc4\\xbc\\xc4\\xa3uciems</option><option value=\"/lv/real-estate/flats/riga/imanta/\">Imanta</option><option value=\"/lv/real-estate/flats/riga/jaunciems/\">Jaunciems</option><option value=\"/lv/real-estate/flats/riga/jaunmilgravis/\">Jaunm\\xc4\\xablgr\\xc4\\x81vis</option><option value=\"/lv/real-estate/flats/riga/yugla/\">Jugla</option><option value=\"/lv/real-estate/flats/riga/katlakalns/\">Katlakalns</option><option value=\"/lv/real-estate/flats/riga/kengarags/\">\\xc4\\xb6engarags</option><option value=\"/lv/real-estate/flats/riga/kiburga/\">\\xc4\\xb6iburga</option><option value=\"/lv/real-estate/flats/riga/kipsala/\">\\xc4\\xb6\\xc4\\xabpsala</option><option value=\"/lv/real-estate/flats/riga/kleisti/\">Kleisti</option><option value=\"/lv/real-estate/flats/riga/kliversala/\">Kl\\xc4\\xabversala</option><option value=\"/lv/real-estate/flats/riga/krasta-st-area/\">Krasta r-ns</option><option value=\"/lv/real-estate/flats/riga/kremeri/\">Kr\\xc4\\x93meri</option><option value=\"/lv/real-estate/flats/riga/kundzinsala/\">Kundzi\\xc5\\x86sala</option><option value=\"/lv/real-estate/flats/riga/lucavsala/\">Lucavsala</option><option value=\"/lv/real-estate/flats/riga/mangali/\">Manga\\xc4\\xbci</option><option value=\"/lv/real-estate/flats/riga/mangalsala/\">Manga\\xc4\\xbcsala</option><option value=\"/lv/real-estate/flats/riga/maskavas-priekshpilseta/\">Maskavas priek\\xc5\\xa1pils\\xc4\\x93ta</option><option value=\"/lv/real-estate/flats/riga/mezhapark/\">Me\\xc5\\xbeaparks</option><option value=\"/lv/real-estate/flats/riga/mezhciems/\">Me\\xc5\\xbeciems</option><option value=\"/lv/real-estate/flats/riga/ozolciems/\">Ozolciems</option><option value=\"/lv/real-estate/flats/riga/plyavnieki/\">P\\xc4\\xbcavnieki</option><option value=\"/lv/real-estate/flats/riga/purvciems/\">Purvciems</option><option value=\"/lv/real-estate/flats/riga/shampeteris-pleskodale/\">\\xc5\\xa0amp\\xc4\\x93teris-Pleskod\\xc4\\x81le</option><option value=\"/lv/real-estate/flats/riga/sarkandaugava/\">Sarkandaugava</option><option value=\"/lv/real-estate/flats/riga/shkirotava/\">\\xc5\\xa0\\xc4\\xb7irotava</option><option value=\"/lv/real-estate/flats/riga/stacija-tirgus/\">Stacija-Tirgus</option><option selected value=\"/lv/real-estate/flats/riga/teika/\">Teika</option><option value=\"/lv/real-estate/flats/riga/tornjakalns/\">Tor\\xc5\\x86akalns</option><option value=\"/lv/real-estate/flats/riga/trisciems/\">Tr\\xc4\\xabsciems</option><option value=\"/lv/real-estate/flats/riga/vecaki/\">Vec\\xc4\\x81\\xc4\\xb7i</option><option value=\"/lv/real-estate/flats/riga/vecdaugava/\">Vecdaugava</option><option value=\"/lv/real-estate/flats/riga/vecmilgravis/\">Vecm\\xc4\\xablgr\\xc4\\x81vis</option><option value=\"/lv/real-estate/flats/riga/vecriga/\">Vecr\\xc4\\xabga</option><option value=\"/lv/real-estate/flats/riga/voleri/\">Voleri</option><option value=\"/lv/real-estate/flats/riga/zakusala/\">Za\\xc4\\xb7usala</option><option value=\"/lv/real-estate/flats/riga/zasulauks/\">Zasulauks</option><option value=\"/lv/real-estate/flats/riga/ziepniekkalns/\">Ziepniekkalns</option><option value=\"/lv/real-estate/flats/riga/zolitude/\">Zolit\\xc5\\xabde</option><option value=\"/lv/real-estate/flats/riga/vef/\">VEF</option><option value=\"/lv/real-estate/flats/riga/other/\">Cits</option>\\r\\n</select></span>\\r\\n<span class=\"filter_opt_dv\" style=\"padding-right:5px;\">Iela:<br><select class=\"filter_sel l130\" id=\"f_o_11\"  onchange=\"this.form.submit();\" name=\"opt[11]\"><option value=\"\"></option><option value=\"3809\">\\xc4\\x80rai\\xc5\\xa1u</option><option value=\"3865\">Baj\\xc4\\x81ru</option><option value=\"3911\">B\\xc4\\x93rzaunes</option><option value=\"3915\">B\\xc4\\x93rzpils</option><option value=\"3928\">Bi\\xc4\\xb7ernieku</option><option value=\"3948\">Br\\xc4\\xabv\\xc4\\xabbas gatve</option><option value=\"3952\">Br\\xc4\\xabv\\xc4\\xabbas iela</option><option value=\"3973\">Burtnieku</option><option value=\"4149\">Dz\\xc4\\x93rbenes</option><option value=\"5724\">Ieri\\xc4\\xb7u</option><option value=\"5725\">Kastr\\xc4\\x81nes</option><option value=\"4646\">Laimdotas</option><option value=\"4662\">Launkalnes</option><option value=\"4966\">Palmu</option><option value=\"4999\">Piebalgas</option><option value=\"5048\">Pudi\\xc4\\xb7a</option><option value=\"5727\">Raunas</option><option value=\"5118\">Ropa\\xc5\\xbeu</option><option value=\"5316\">Struktoru</option><option value=\"5351\">T\\xc4\\x81lival\\xc5\\xbea</option><option value=\"5730\">\\xc5\\xaanijas</option><option value=\"5729\">Vairoga</option><option value=\"5478\">V\\xc4\\x81veres</option><option value=\"5525\">Vidri\\xc5\\xbeu</option><option value=\"5576\">Z\\xc4\\x81l\\xc4\\xab\\xc5\\xa1a</option><option value=\"5597\">Zemga\\xc4\\xbcu</option></select></span></div>\\r\\n<table align=center cellpadding=2 cellspacing=0 border=0 width=\"100%\">\\r\\n<tr id=\"head_line\">\\r\\n\\t<td class=\"msg_column\" colspan=3 width=\"70%\">\\r\\n\\t<span style=\"float:left;\">&nbsp;Sludin\\xc4\\x81jumi\\r\\n</span>\\r\\n<span align=right class=\"msg_column\" style=\"float:right;text-align:right;padding-right:3px;\">\\r\\n<noindex>\\r\\n\\t<a rel=\"nofollow\" href=\"/lv/real-estate/flats/riga/teika/fDgSeF4S.html\"\\r\\n\\t\\tclass=a19>datums</a></noindex></span>\\r\\n</td>\\r\\n<td class=\"msg_column_td\" nowrap><noindex><a rel=\"nofollow\" href=\"/lv/real-estate/flats/riga/teika/fDgSeF4SFDwT.html\" class=a18 title=\"\">Iela</a></noindex></td><td class=\"msg_column_td\" nowrap><noindex><a rel=\"nofollow\" href=\"/lv/real-estate/flats/riga/teika/fDgSeF4SelM=.html\" class=a18 title=\"\">Ist.</a></noindex></td><td class=\"msg_column_td\" nowrap><noindex><a rel=\"nofollow\" href=\"/lv/real-estate/flats/riga/teika/fDgSeF4QelM=.html\" class=a18 title=\"\">m2</a></noindex></td><td class=\"msg_column_td\" nowrap><noindex><a rel=\"nofollow\" href=\"/lv/real-estate/flats/riga/teika/fDgSeF4XelM=.html\" class=a18 title=\"\">St\\xc4\\x81vs</a></noindex></td><td class=\"msg_column_td\" nowrap><noindex><a rel=\"nofollow\" href=\"/lv/real-estate/flats/riga/teika/fDgSeF4VelM=.html\" class=a18 title=\"\">S\\xc4\\x93rija</a></noindex></td><td style=\"border-left:1px #FFFFFF solid;\" class=\"msg_column\" nowrap background=\"https://i.ss.com/img/pl.gif\"><noindex><a rel=\"nofollow\" href=\"/lv/real-estate/flats/riga/teika/fDgSeF4bRDwT.html\" class=a18>Cena, m2</a></noindex></td><td class=\"msg_column_td\" nowrap><noindex><a rel=\"nofollow\" href=\"/lv/real-estate/flats/riga/teika/fDgSeF4belM=.html\" class=a18 title=\"\">Cena</a></noindex></td></tr><tr id=\"tr_44335500\"><td class=\"msga2 pp0\"><input type=checkbox id=\"c44335500\" name=\"mid[]\" value=\"44335500_1105_0\"></td><td class=\"msga2\"><a href=\"/msg/lv/real-estate/flats/riga/teika/cgnhc.html\" id=\"im44335500\"><img src=\"https://i.ss.com/gallery/2/308/76888/15377415.th2.jpg\" alt=\"\" class=\"isfoto foto_list\"></a></td><td class=msg2><div class=d1><a data=\"aGolN0UlQTglN0YlODUlQjBjJTgyJUE0JTdGJTg3bGYlN0QlQUMlN0UlODNkYyU4NCVBQg==|42MtNP\" id=\"dm_44335500\" class=\"am\" href=\"/msg/lv/real-estate/flats/riga/teika/cgnhc.html\">M\\xc4\\x81j\\xc4\\xabgs, m\\xc4\\x93bel\\xc4\\x93ts dz\\xc4\\xabvoklis ar zemiem komun\\xc4\\x81lajiem maks\\xc4\\x81jumiem. \\r</a></div></td><td class=\"msga2-o pp6\" nowrap c=1>B\\xc4\\x93rzpils 7</td><td class=\"msga2-o pp6\" nowrap c=1>1</td><td class=\"msga2-o pp6\" nowrap c=1>30</td><td class=\"msga2-o pp6\" nowrap c=1>4/5</td><td class=\"msga2-o pp6\" nowrap c=1>Hru\\xc5\\xa1\\xc4\\x8d.</td><td class=\"msga2-o pp6\" nowrap c=1>967 \\xe2\\x82\\xac</td><td class=\"msga2-o pp6\" nowrap c=1>29,000  \\xe2\\x82\\xac</td></tr>\\r\\n<tr id=\"tr_44333885\"><td class=\"msga2 pp0\"><input type=checkbox id=\"c44333885\" name=\"mid[]\" value=\"44333885_1105_0\"></td><td class=\"msga2\"><a href=\"/msg/lv/real-estate/flats/riga/teika/cnbhj.html\" id=\"im44333885\"><img src=\"https://i.ss.com/gallery/2/240/59862/11972299.th2.jpg\" alt=\"\" class=\"isfoto foto_list\"></a></td><td class=msg2><div class=d1><a data=\"aSU4NyVBMSVBNiU4QSU4QyVERmklODclQTAlQTglODQlOEQlOTNpJTg1JUE1JUE0JThBJThEJTk2cSU4Nw==|8RnpSTc\" id=\"dm_44333885\" class=\"am\" href=\"/msg/lv/real-estate/flats/riga/teika/cnbhj.html\"><b>Tikko p\\xc4\\x93c kapit\\xc4\\x81la eiroremonta, un ar visu nepiecie\\xc5\\xa1amu premium </b></a></div></td><td class=\"msga2-o pp6\" nowrap c=1><b>Z\\xc4\\x81l\\xc4\\xab\\xc5\\xa1a 1</b></td><td class=\"msga2-o pp6\" nowrap c=1><b>1</b></td><td class=\"msga2-o pp6\" nowrap c=1><b>33</b></td><td class=\"msga2-o pp6\" nowrap c=1><b>3/5</b></td><td class=\"msga2-o pp6\" nowrap c=1><b>103.</b></td><td class=\"msga2-o pp6\" nowrap c=1><b>10</b> \\xe2\\x82\\xac</td><td class=\"msga2-o pp6\" nowrap c=1><b>330</b>  \\xe2\\x82\\xac/m\\xc4\\x93n.</td></tr>\\r\\n<tr id=\"tr_44330691\"><td class=\"msga2 pp0\"><input type=checkbox id=\"c44330691\" name=\"mid[]\" value=\"44330691_1105_0\"></td><td class=\"msga2\"><a href=\"/msg/lv/real-estate/flats/riga/teika/djxgi.html\" id=\"im44330691\"><img src=\"https://i.ss.com/gallery/3/420/104874/20974782.th2.jpg\" alt=\"\" class=\"isfoto foto_list\"></a></td><td class=msg2><div class=d1><a data=\"aSVBQSVBQyVBQW8lOTglQjN2JTdCaCVCMiVBQyVCMG4lOUFnJTdDJTdFaiVCMCVBQSVBQ2Y=|8yyy6b7EF\" id=\"dm_44330691\" class=\"am\" href=\"/msg/lv/real-estate/flats/riga/teika/djxgi.html\">\\xd0\\x9c\\xd0\\xb5\\xd1\\x81\\xd1\\x82\\xd0\\xbe - \\xd0\\xb2\\xd0\\xbd\\xd0\\xb5 \\xd0\\xba\\xd0\\xbe\\xd0\\xbd\\xd0\\xba\\xd1\\x83\\xd1\\x80\\xd0\\xb5\\xd0\\xbd\\xd1\\x86\\xd0\\xb8\\xd0\\xb8. \\xd1\\x86\\xd0\\xb5\\xd0\\xbd\\xd1\\x82\\xd1\\x80 \"\\xd1\\x81\\xd1\\x82\\xd0\\xb0\\xd1\\x80\\xd0\\xbe\\xd0\\xb9\" \\xd0\\xa2\\xd0\\xb5\\xd0\\xb9\\xd0\\xba\\xd0\\xb8. \\xd0\\x9d\\xd0\\xb0\\xd0\\xbf\\xd1\\x80\\xd0\\xbe\\xd1\\x82\\xd0\\xb8\\xd0\\xb2 Teikas V</a></div></td><td class=\"msga2-o pp6\" nowrap c=1>\\xc4\\x80rai\\xc5\\xa1u 2</td><td class=\"msga2-o pp6\" nowrap c=1>3</td><td class=\"msga2-o pp6\" nowrap c=1>80</td><td class=\"msga2-o pp6\" nowrap c=1>2/2</td><td class=\"msga2-o pp6\" nowrap c=1>Priv. m.</td><td class=\"msga2-o pp6\" nowrap c=1>1,088 \\xe2\\x82\\xac</td><td class=\"msga2-o pp6\" nowrap c=1>87,000  \\xe2\\x82\\xac</td></tr>\\r\\n<tr id=\"tr_44331871\"><td class=\"msga2 pp0\"><input type=checkbox id=\"c44331871\" name=\"mid[]\" value=\"44331871_1105_0\"></td><td class=\"msga2\"><a href=\"/msg/lv/real-estate/flats/riga/teika/dchph.html\" id=\"im44331871\"><img src=\"https://i.ss.com/gallery/3/420/104894/20978644.th2.jpg\" alt=\"\" class=\"isfoto foto_list\"></a></td><td class=msg2><div class=d1><a data=\"ZSU4MSVBNyU4NGslQUZkaSU3QyVBOSU4MGhsY2slN0YlQUElODNlbGZk|4KsM333\" id=\"dm_44331871\" class=\"am\" href=\"/msg/lv/real-estate/flats/riga/teika/dchph.html\"><b>Tiek iz\\xc4\\xabr\\xc4\\x93ts 2-istabu dz\\xc4\\xabvoklis, ar izol\\xc4\\x93t\\xc4\\x81m istab\\xc4\\x81m \\xc4\\xb7ie\\xc4\\xa3e\\xc4\\xbcu, sp</b></a></div></td><td class=\"msga2-o pp6\" nowrap c=1><b>\\xc5\\xaanijas 28</b></td><td class=\"msga2-o pp6\" nowrap c=1><b>2</b></td><td class=\"msga2-o pp6\" nowrap c=1><b>50</b></td><td class=\"msga2-o pp6\" nowrap c=1><b>3/5</b></td><td class=\"msga2-o pp6\" nowrap c=1><b>Specpr.</b></td><td class=\"msga2-o pp6\" nowrap c=1><b>6</b> \\xe2\\x82\\xac</td><td class=\"msga2-o pp6\" nowrap c=1><b>300</b>  \\xe2\\x82\\xac/m\\xc4\\x93n.</td></tr>\\r\\n<tr id=\"tr_44330105\"><td class=\"msga2 pp0\"><input type=checkbox id=\"c44330105\" name=\"mid[]\" value=\"44330105_1105_0\"></td><td class=\"msga2\"><a href=\"/msg/lv/real-estate/flats/riga/teika/annpm.html\" id=\"im44330105\"><img src=\"https://i.ss.com/gallery/3/420/104865/20972829.th2.jpg\" alt=\"\" class=\"isfoto foto_list\"></a></td><td class=msg2><div class=d1><a data=\"eSU3RCU3QyU3RSVBOSU4QSU5MiVFMSU5NyU3RCU3RSU3QiU4MiVBNiU5MCU5MSU5RSU5RCU3QyU4MSU4MCU3Qg==|HKKKsXYef\" id=\"dm_44330105\" class=\"am\" href=\"/msg/lv/real-estate/flats/riga/teika/annpm.html\"><b>\\xc4\\xaapa\\xc5\\xa1nieks iz\\xc4\\xabr\\xc4\\x93. saulains, gai\\xc5\\xa1s, da\\xc4\\xbc\\xc4\\x93ji M\\xc4\\x93bel\\xc4\\x93ts(Ikea), Necaurs</b></a></div></td><td class=\"msga2-o pp6\" nowrap c=1><b>Piebalgas 4</b></td><td class=\"msga2-o pp6\" nowrap c=1><b>2</b></td><td class=\"msga2-o pp6\" nowrap c=1><b>45</b></td><td class=\"msga2-o pp6\" nowrap c=1><b>5/5</b></td><td class=\"msga2-o pp6\" nowrap c=1><b>Renov.</b></td><td class=\"msga2-o pp6\" nowrap c=1><b>6.67</b> \\xe2\\x82\\xac</td><td class=\"msga2-o pp6\" nowrap c=1><b>300</b>  \\xe2\\x82\\xac/m\\xc4\\x93n.</td></tr>\\r\\n<tr id=\"tr_43941864\"><td class=\"msga2 pp0\"><input type=checkbox id=\"c43941864\" name=\"mid[]\" value=\"43941864_1105_0\"></td><td class=\"msga2\"><a href=\"/msg/lv/real-estate/flats/riga/teika/kmggx.html\" id=\"im43941864\"><img src=\"https://i.ss.com/gallery/2/395/98631/19726085.th2.jpg\" alt=\"\" class=\"isfoto foto_list\"></a></td><td class=msg2><div class=d1><a data=\"JThFeSU5NyVBMiVBN2slRDQlODklOUFxJThBJTgwJTlBJUE5JUE1aCU4RSU4QiU5Q3ElOEN4|YHgrs2XXeA\" id=\"dm_43941864\" class=\"am\" href=\"/msg/lv/real-estate/flats/riga/teika/kmggx.html\">Unik\\xc4\\x81ls dz\\xc4\\xabvok\\xc4\\xbcu projekts izvietots sl\\xc4\\x93gt\\xc4\\x81, za\\xc4\\xbc\\xc4\\x81 teritorij\\xc4\\x81 ar d</a></div></td><td class=\"msga2-o pp6\" nowrap c=1>Vairoga 32</td><td class=\"msga2-o pp6\" nowrap c=1>4</td><td class=\"msga2-o pp6\" nowrap c=1>57</td><td class=\"msga2-o pp6\" nowrap c=1>1/3</td><td class=\"msga2-o pp6\" nowrap c=1>Renov.</td><td class=\"msga2-o pp6\" nowrap c=1>1,949 \\xe2\\x82\\xac</td><td class=\"msga2-o pp6\" nowrap c=1>111,110  \\xe2\\x82\\xac</td></tr>\\r\\n<tr id=\"tr_43941782\"><td class=\"msga2 pp0\"><input type=checkbox id=\"c43941782\" name=\"mid[]\" value=\"43941782_1105_0\"></td><td class=\"msga2\"><a href=\"/msg/lv/real-estate/flats/riga/teika/cbchm.html\" id=\"im43941782\"><img src=\"https://i.ss.com/gallery/2/395/98623/19724552.th2.jpg\" alt=\"\" class=\"isfoto foto_list\"></a></td><td class=msg2><div class=d1><a data=\"JTg1JTkyZiU5OHglQUUlQ0NlJTlDJTk3JTgxJTk5aSU5RnYlQUIlODZnJTlFJTk3JTgzJTkx|Pa6hDuP4gg\" id=\"dm_43941782\" class=\"am\" href=\"/msg/lv/real-estate/flats/riga/teika/cbchm.html\">Unik\\xc4\\x81ls dz\\xc4\\xabvok\\xc4\\xbcu projekts izvietots sl\\xc4\\x93gt\\xc4\\x81, za\\xc4\\xbc\\xc4\\x81 teritorij\\xc4\\x81 ar d</a></div></td><td class=\"msga2-o pp6\" nowrap c=1>Vairoga 32</td><td class=\"msga2-o pp6\" nowrap c=1>3</td><td class=\"msga2-o pp6\" nowrap c=1>52</td><td class=\"msga2-o pp6\" nowrap c=1>3/4</td><td class=\"msga2-o pp6\" nowrap c=1>Renov.</td><td class=\"msga2-o pp6\" nowrap c=1>1,923 \\xe2\\x82\\xac</td><td class=\"msga2-o pp6\" nowrap c=1>100,000  \\xe2\\x82\\xac</td></tr>\\r\\n<tr id=\"tr_43941681\"><td class=\"msga2 pp0\"><input type=checkbox id=\"c43941681\" name=\"mid[]\" value=\"43941681_1105_0\"></td><td class=\"msga2\"><a href=\"/msg/lv/real-estate/flats/riga/teika/bgmbg.html\" id=\"im43941681\"><img src=\"https://i.ss.com/gallery/2/395/98621/19724128.th2.jpg\" alt=\"\" class=\"isfoto foto_list\"></a></td><td class=msg2><div class=d1><a data=\"JUE3JTg2JTg1YiU5OXolRTIlQTMlODklODUlQTMlOEQlODhpJTk3dyU5QyVBNSU4QiU4NSVBNSU4NQ==|rUU2eAfrTU\" id=\"dm_43941681\" class=\"am\" href=\"/msg/lv/real-estate/flats/riga/teika/bgmbg.html\">Unik\\xc4\\x81ls dz\\xc4\\xabvok\\xc4\\xbcu projekts izvietots sl\\xc4\\x93gt\\xc4\\x81, za\\xc4\\xbc\\xc4\\x81 teritorij\\xc4\\x81 ar d</a></div></td><td class=\"msga2-o pp6\" nowrap c=1>Vairoga 32</td><td class=\"msga2-o pp6\" nowrap c=1>2</td><td class=\"msga2-o pp6\" nowrap c=1>28</td><td class=\"msga2-o pp6\" nowrap c=1>1/3</td><td class=\"msga2-o pp6\" nowrap c=1>Renov.</td><td class=\"msga2-o pp6\" nowrap c=1>1,982 \\xe2\\x82\\xac</td><td class=\"msga2-o pp6\" nowrap c=1>55,500  \\xe2\\x82\\xac</td></tr>\\r\\n<tr id=\"tr_44027422\"><td class=\"msga2 pp0\"><input type=checkbox id=\"c44027422\" name=\"mid[]\" value=\"44027422_1105_0\"></td><td class=\"msga2\"><a href=\"/msg/lv/real-estate/flats/riga/teika/eojgh.html\" id=\"im44027422\"><img src=\"https://i.ss.com/gallery/2/397/99119/19823717.th2.jpg\" alt=\"\" class=\"isfoto foto_list\"></a></td><td class=msg2><div class=d1><a data=\"JUEyZyU5MSU5MiU5NiVBNCVDMSU4MSVBMmYlOTIlOUElOTUlQTJ3JTg2JUEzaSU5OCU5MiU5NSU5Qg==|m6abbkEP\" id=\"dm_44027422\" class=\"am\" href=\"/msg/lv/real-estate/flats/riga/teika/eojgh.html\">\\xd0\\xa3\\xd0\\xbd\\xd0\\xb8\\xd0\\xba\\xd0\\xb0\\xd0\\xbb\\xd1\\x8c\\xd0\\xbd\\xd1\\x8b\\xd0\\xb9 \\xd0\\xbf\\xd1\\x80\\xd0\\xbe\\xd0\\xb5\\xd0\\xba\\xd1\\x82 \\xd1\\x81 \\xd0\\xb4\\xd0\\xb5\\xd1\\x82\\xd1\\x81\\xd0\\xba\\xd0\\xbe\\xd0\\xb9 \\xd0\\xbf\\xd0\\xbb\\xd0\\xbe\\xd1\\x89\\xd0\\xb0\\xd0\\xb4\\xd0\\xba\\xd0\\xbe\\xd0\\xb9 \\xd0\\xb8 \\xd0\\xbf\\xd0\\xb0\\xd1\\x80\\xd0\\xba\\xd0\\xbe\\xd0\\xb2\\xd0\\xba\\xd0\\xbe\\xd0\\xb9 \\xd0\\xbd\\xd0\\xb0 \\xd0\\xb7\\xd0\\xb0\\xd0\\xba\\xd1\\x80\\xd1\\x8b\\xd1\\x82\\xd0\\xbe\\xd0\\xb9 \\xd0\\xb7\\xd0\\xb5</a></div></td><td class=\"msga2-o pp6\" nowrap c=1>Vairoga 32</td><td class=\"msga2-o pp6\" nowrap c=1>3</td><td class=\"msga2-o pp6\" nowrap c=1>42</td><td class=\"msga2-o pp6\" nowrap c=1>3/3</td><td class=\"msga2-o pp6\" nowrap c=1>Renov.</td><td class=\"msga2-o pp6\" nowrap c=1>2,000 \\xe2\\x82\\xac</td><td class=\"msga2-o pp6\" nowrap c=1>84,000  \\xe2\\x82\\xac</td></tr>\\r\\n<tr id=\"tr_44329507\"><td class=\"msga2 pp0\"><input type=checkbox id=\"c44329507\" name=\"mid[]\" value=\"44329507_1105_0\"></td><td class=\"msga2\"><a href=\"/msg/lv/real-estate/flats/riga/teika/ghopn.html\" id=\"im44329507\"><img src=\"https://i.ss.com/gallery/2/365/91090/18217862.th2.jpg\" alt=\"\" class=\"isfoto foto_list\"></a></td><td class=msg2><div class=d1><a data=\"JTg0enZ6dSU3RSVGMCU4QSU4M3J0d3olODMlQUMlOTElODB1JTdCdCU3QyU4NQ==|NBBCCMtY\" id=\"dm_44329507\" class=\"am\" href=\"/msg/lv/real-estate/flats/riga/teika/ghopn.html\"><b>\\xc4\\xaapa\\xc5\\xa1niece iz\\xc4\\xabr\\xc4\\x93 m\\xc4\\x81j\\xc4\\xabgu, vienas istabas studio tipa dz\\xc4\\xabvokli (15 </b></a></div></td><td class=\"msga2-o pp6\" nowrap c=1><b>Struktoru 13</b></td><td class=\"msga2-o pp6\" nowrap c=1><b>1</b></td><td class=\"msga2-o pp6\" nowrap c=1><b>15</b></td><td class=\"msga2-o pp6\" nowrap c=1><b>3/4</b></td><td class=\"msga2-o pp6\" nowrap c=1><b>Sta\\xc4\\xbcina</b></td><td class=\"msga2-o pp6\" nowrap c=1><b>14</b> \\xe2\\x82\\xac</td><td class=\"msga2-o pp6\" nowrap c=1><b>210</b>  \\xe2\\x82\\xac/m\\xc4\\x93n.</td></tr>\\r\\n<tr id=\"tr_44013166\"><td class=\"msga2 pp0\"><input type=checkbox id=\"c44013166\" name=\"mid[]\" value=\"44013166_1105_0\"></td><td class=\"msga2\"><a href=\"/msg/lv/real-estate/flats/riga/teika/eicjk.html\" id=\"im44013166\"><img src=\"https://i.ss.com/gallery/2/399/99678/19935515.th2.jpg\" alt=\"\" class=\"isfoto foto_list\"></a></td><td class=msg2><div class=d1><a data=\"eGglOEYlOEYlQjAlOTd3JUE2JTg4JThDdmMlODklOEZmJTlDeCVBNSU4OSU4QnU=|C3XY4fBsXX\" id=\"dm_44013166\" class=\"am\" href=\"/msg/lv/real-estate/flats/riga/teika/eicjk.html\"><b>P\\xc4\\x81rdod piln\\xc4\\xabb\\xc4\\x81 labiek\\xc4\\x81rtotu dz\\xc4\\xabvokli projekt\\xc4\\x81 \\'\\'Jaun\\xc4\\x81 Teika\\'\\'. \\r</b></a></div></td><td class=\"msga2-o pp6\" nowrap c=1><b>Ropa\\xc5\\xbeu 10</b></td><td class=\"msga2-o pp6\" nowrap c=1><b>2</b></td><td class=\"msga2-o pp6\" nowrap c=1><b>44</b></td><td class=\"msga2-o pp6\" nowrap c=1><b>13/16</b></td><td class=\"msga2-o pp6\" nowrap c=1><b>Jaun.</b></td><td class=\"msga2-o pp6\" nowrap c=1><b>2,205</b> \\xe2\\x82\\xac</td><td class=\"msga2-o pp6\" nowrap c=1><b>97,000</b>  \\xe2\\x82\\xac</td></tr>\\r\\n<tr id=\"tr_44327684\"><td class=\"msga2 pp0\"><input type=checkbox id=\"c44327684\" name=\"mid[]\" value=\"44327684_1105_0\"></td><td class=\"msga2\"><a href=\"/msg/lv/real-estate/flats/riga/teika/agced.html\" id=\"im44327684\"><img src=\"https://i.ss.com/gallery/3/420/104826/20965074.th2.jpg\" alt=\"\" class=\"isfoto foto_list\"></a></td><td class=msg2><div class=d1><a data=\"JTdGaiU4QmMlOTYlOTclQzR5ZiU4NWMlOUQlOTl4JTdDZSU4RGMlOUElOUR5JTdC|H1U2eeH\" id=\"dm_44327684\" class=\"am\" href=\"/msg/lv/real-estate/flats/riga/teika/agced.html\">Pied\\xc4\\x81v\\xc4\\x81jam ieg\\xc4\\x81d\\xc4\\x81ties jauku, saulainu vienistabas dz\\xc4\\xabvokli priv\\xc4\\x81</a></div></td><td class=\"msga2-o pp6\" nowrap c=1>Z\\xc4\\x81l\\xc4\\xab\\xc5\\xa1a 3</td><td class=\"msga2-o pp6\" nowrap c=1>1</td><td class=\"msga2-o pp6\" nowrap c=1>35</td><td class=\"msga2-o pp6\" nowrap c=1>2/5</td><td class=\"msga2-o pp6\" nowrap c=1>103.</td><td class=\"msga2-o pp6\" nowrap c=1>1,200 \\xe2\\x82\\xac</td><td class=\"msga2-o pp6\" nowrap c=1>42,000  \\xe2\\x82\\xac</td></tr>\\r\\n<tr id=\"tr_42290877\"><td class=\"msga2 pp0\"><input type=checkbox id=\"c42290877\" name=\"mid[]\" value=\"42290877_1105_0\"></td><td class=\"msga2\"><a href=\"/msg/lv/real-estate/flats/riga/teika/apiin.html\" id=\"im42290877\"><img src=\"https://i.ss.com/img/buy/homes.lv.gif\" alt=\"\" class=\"isfoto foto_list\"></a></td><td class=msg2><div class=d1><a data=\"aCU5RCVBQXJzYyVGNWIlOTklQTRyemUlQTllJTk4JUFDcndpJUFBZA==|1dtAB1y\" id=\"dm_42290877\" class=\"am\" href=\"/msg/lv/real-estate/flats/riga/teika/apiin.html\"><b>\\xc5\\xa0obr\\xc4\\xabd akt\\xc4\\xabvi mekl\\xc4\\x93jam savu klientu interes\\xc4\\x93s divu l\\xc4\\xabdz \\xc4\\x8detru (2</b></a></div></td><td class=\"msga2-o pp6\" nowrap c=1><b>Ieri\\xc4\\xb7u 29</b></td><td class=\"msga2-o pp6\" nowrap c=1><b>4</b></td><td class=\"msga2-o pp6\" nowrap c=1><b>78</b></td><td class=\"msga2-o pp6\" nowrap c=1><b>-</b></td><td class=\"msga2-o pp6\" nowrap c=1><b>-</b></td><td class=\"msga2-o pp6\" nowrap c=1><b>-</b></td><td class=\"msga2-o pp6\" nowrap c=1><b>p\\xc4\\x93rku</b> </td></tr>\\r\\n<tr id=\"tr_40516589\"><td class=\"msga2 pp0\"><input type=checkbox id=\"c40516589\" name=\"mid[]\" value=\"40516589_1105_0\"></td><td class=\"msga2\"><a href=\"/msg/lv/real-estate/flats/riga/teika/bngnf.html\" id=\"im40516589\"><img src=\"https://i.ss.com/gallery/2/299/74565/14912821.th2.jpg\" alt=\"\" class=\"isfoto foto_list\"></a></td><td class=msg2><div class=d1><a data=\"JTlGJUE0aiU5NCU4QWMlQ0MlOTklQTBkJTk0JTkxZSU4MCU5QyU5RmwlOTQlOEVpJTgxJTlC|hk4cY1P\" id=\"dm_40516589\" class=\"am\" href=\"/msg/lv/real-estate/flats/riga/teika/bngnf.html\">Pied\\xc4\\x81v\\xc4\\x81jam ieg\\xc4\\x81d\\xc4\\x81ties jauku, kvalitat\\xc4\\xabvi remont\\xc4\\x93tu\\r\\ndivistabu dz</a></div></td><td class=\"msga2-o pp6\" nowrap c=1>Laimdotas 57</td><td class=\"msga2-o pp6\" nowrap c=1>2</td><td class=\"msga2-o pp6\" nowrap c=1>42</td><td class=\"msga2-o pp6\" nowrap c=1>4/5</td><td class=\"msga2-o pp6\" nowrap c=1>Hru\\xc5\\xa1\\xc4\\x8d.</td><td class=\"msga2-o pp6\" nowrap c=1>1,524 \\xe2\\x82\\xac</td><td class=\"msga2-o pp6\" nowrap c=1>64,000  \\xe2\\x82\\xac</td></tr>\\r\\n<tr id=\"tr_44325963\"><td class=\"msga2 pp0\"><input type=checkbox id=\"c44325963\" name=\"mid[]\" value=\"44325963_1105_0\"></td><td class=\"msga2\"><a href=\"/msg/lv/real-estate/flats/riga/teika/cocme.html\" id=\"im44325963\"><img src=\"https://i.ss.com/gallery/3/420/104797/20959257.th2.jpg\" alt=\"\" class=\"isfoto foto_list\"></a></td><td class=msg2><div class=d1><a data=\"JTk5JThBJUFEJTgzJTg3JUYwJTk0JThBJUFCJTdEJTg5JUFDJTlCJTg4JUFCJTg0JTg0JUFDJTk0JThEJUIwJTgy|cUxMRt\" id=\"dm_44325963\" class=\"am\" href=\"/msg/lv/real-estate/flats/riga/teika/cocme.html\">P\\xc4\\x81rdodu dz\\xc4\\xabvokli divst\\xc4\\x81vu m\\xc4\\x81j\\xc4\\x81, ar izol\\xc4\\x93t\\xc4\\x81m istab\\xc4\\x81m. Junkers g\\xc4\\x81z</a></div></td><td class=\"msga2-o pp6\" nowrap c=1>Ropa\\xc5\\xbeu 2</td><td class=\"msga2-o pp6\" nowrap c=1>2</td><td class=\"msga2-o pp6\" nowrap c=1>50</td><td class=\"msga2-o pp6\" nowrap c=1>2/2</td><td class=\"msga2-o pp6\" nowrap c=1>P. kara</td><td class=\"msga2-o pp6\" nowrap c=1>1,260 \\xe2\\x82\\xac</td><td class=\"msga2-o pp6\" nowrap c=1>63,000  \\xe2\\x82\\xac</td></tr>\\r\\n<tr id=\"tr_44325925\"><td class=\"msga2 pp0\"><input type=checkbox id=\"c44325925\" name=\"mid[]\" value=\"44325925_1105_0\"></td><td class=\"msga2\"><a href=\"/msg/lv/real-estate/flats/riga/teika/aiddk.html\" id=\"im44325925\"><img src=\"https://i.ss.com/gallery/3/420/104796/20959181.th2.jpg\" alt=\"\" class=\"isfoto foto_list\"></a></td><td class=msg2><div class=d1><a data=\"JTlDJTk5JTlBaCU4RCU4QiVGMSU5OSU5RCU5NW4lOEMlODUlQUIlQTElOTklOURqJTkyJTg0JUFFJTlF|hhe6YTu\" id=\"dm_44325925\" class=\"am\" href=\"/msg/lv/real-estate/flats/riga/teika/aiddk.html\"><b>Saimnieks iz\\xc4\\xabr\\xc4\\x93 m\\xc4\\x93bel\\xc4\\x93tu divistabu dz\\xc4\\xabvokli ilgtermi\\xc5\\x86\\xc4\\x81. Ir balko</b></a></div></td><td class=\"msga2-o pp6\" nowrap c=1><b>Bi\\xc4\\xb7ernieku 79</b></td><td class=\"msga2-o pp6\" nowrap c=1><b>2</b></td><td class=\"msga2-o pp6\" nowrap c=1><b>46</b></td><td class=\"msga2-o pp6\" nowrap c=1><b>3/5</b></td><td class=\"msga2-o pp6\" nowrap c=1><b>Hru\\xc5\\xa1\\xc4\\x8d.</b></td><td class=\"msga2-o pp6\" nowrap c=1><b>5.98</b> \\xe2\\x82\\xac</td><td class=\"msga2-o pp6\" nowrap c=1><b>275</b>  \\xe2\\x82\\xac/m\\xc4\\x93n.</td></tr>\\r\\n<tr id=\"tr_43746668\"><td class=\"msga2 pp0\"><input type=checkbox id=\"c43746668\" name=\"mid[]\" value=\"43746668_1105_0\"></td><td class=\"msga2\"><a href=\"/msg/lv/real-estate/flats/riga/teika/aeffk.html\" id=\"im43746668\"><img src=\"https://i.ss.com/gallery/2/399/99708/19941430.th2.jpg\" alt=\"\" class=\"isfoto foto_list\"></a></td><td class=msg2><div class=d1><a data=\"JUE5JTdGJTdGJTlEJTk0JTlEJUUxJTk5biU5MiVBMyU4M3olOUMlOUElOUQlOUElOUNxJTlBJUFBJTgx|rKFgdheh9b\" id=\"dm_43746668\" class=\"am\" href=\"/msg/lv/real-estate/flats/riga/teika/aeffk.html\">\\xd0\\xa0\\xd0\\xb5\\xd0\\xb4\\xd0\\xba\\xd0\\xbe\\xd0\\xb5 \\xd0\\xbf\\xd1\\x80\\xd0\\xb5\\xd0\\xb4\\xd0\\xbb\\xd0\\xbe\\xd0\\xb6\\xd0\\xb5\\xd0\\xbd\\xd0\\xb8\\xd0\\xb5. \\r\\n\\xd0\\x9f\\xd1\\x80\\xd0\\xbe\\xd1\\x81\\xd1\\x82\\xd0\\xbe\\xd1\\x80\\xd0\\xbd\\xd0\\xb0\\xd1\\x8f \\xd0\\xb8 \\xd1\\x81\\xd0\\xb2\\xd0\\xb5\\xd1\\x82\\xd0\\xbb\\xd0\\xb0\\xd1\\x8f 3-\\xd1\\x85 \\xd0\\xba\\xd0\\xbe\\xd0\\xbc\\xd0\\xbd\\xd0\\xb0\\xd1\\x82\\xd0\\xbd\\xd0\\xb0\\xd1\\x8f \\xd0\\xba\\xd0\\xb2\\xd0\\xb0\\xd1\\x80\\xd1\\x82\\xd0\\xb8\\xd1\\x80</a></div></td><td class=\"msga2-o pp6\" nowrap c=1>Br\\xc4\\xabv\\xc4\\xabbas 241</td><td class=\"msga2-o pp6\" nowrap c=1>3</td><td class=\"msga2-o pp6\" nowrap c=1>70</td><td class=\"msga2-o pp6\" nowrap c=1>5/5</td><td class=\"msga2-o pp6\" nowrap c=1>Specpr.</td><td class=\"msga2-o pp6\" nowrap c=1>999 \\xe2\\x82\\xac</td><td class=\"msga2-o pp6\" nowrap c=1>69,950  \\xe2\\x82\\xac</td></tr>\\r\\n<tr id=\"tr_44324922\"><td class=\"msga2 pp0\"><input type=checkbox id=\"c44324922\" name=\"mid[]\" value=\"44324922_1105_0\"></td><td class=\"msga2\"><a href=\"/msg/lv/real-estate/flats/riga/teika/dlxex.html\" id=\"im44324922\"><img src=\"https://i.ss.com/gallery/3/420/104780/20955806.th2.jpg\" alt=\"\" class=\"isfoto foto_list\"></a></td><td class=msg2><div class=d1><a data=\"JUE2JUE3JTk2JTlGeml4JUI1dSVBQSVBNiU5RSVBM3Jxd292JUFEJUE4JTk2JUEweA==|uufmB8C9D\" id=\"dm_44324922\" class=\"am\" href=\"/msg/lv/real-estate/flats/riga/teika/dlxex.html\"><b>Firma steidzami v\\xc4\\x93las \\xc4\\xabr\\xc4\\x93t divistabu dz\\xc4\\xabvokli Teik\\xc4\\x81 vai \\xc4\\x8ciekurka</b></a></div></td><td class=\"msga2-o pp6\" nowrap c=1><b>-</b></td><td class=\"msga2-o pp6\" nowrap c=1><b>2</b></td><td class=\"msga2-o pp6\" nowrap c=1><b>30</b></td><td class=\"msga2-o pp6\" nowrap c=1><b>-</b></td><td class=\"msga2-o pp6\" nowrap c=1><b>-</b></td><td class=\"msga2-o pp6\" nowrap c=1><b>-</b></td><td class=\"msga2-o pp6\" nowrap c=1><b>v\\xc4\\x93los<BR>\\xc4\\xabret</b> </td></tr>\\r\\n<tr id=\"tr_41533888\"><td class=\"msga2 pp0\"><input type=checkbox id=\"c41533888\" name=\"mid[]\" value=\"41533888_1105_0\"></td><td class=\"msga2\"><a href=\"/msg/lv/real-estate/flats/riga/teika/fefcp.html\" id=\"im41533888\"><img src=\"https://i.ss.com/gallery/2/306/76272/15254301.th2.jpg\" alt=\"\" class=\"isfoto foto_list\"></a></td><td class=msg2><div class=d1><a data=\"a3klN0YlOEElODklOTYlQjV4JTgyJTgzJThBJTk5cXklODMlODklOEUlOTRreSU4MSU4OQ==|9GMSYb\" id=\"dm_41533888\" class=\"am\" href=\"/msg/lv/real-estate/flats/riga/teika/fefcp.html\">P\\xc4\\x81rdo\\xc5\\xa1an\\xc4\\x81 lielisks 2-istabu dz\\xc4\\xabvoklis pa\\xc5\\xa1a Teika sird\\xc4\\xab. Sl\\xc4\\x93gta k</a></div></td><td class=\"msga2-o pp6\" nowrap c=1>Br\\xc4\\xabv\\xc4\\xabbas 326</td><td class=\"msga2-o pp6\" nowrap c=1>2</td><td class=\"msga2-o pp6\" nowrap c=1>68</td><td class=\"msga2-o pp6\" nowrap c=1>3/5</td><td class=\"msga2-o pp6\" nowrap c=1>Sta\\xc4\\xbcina</td><td class=\"msga2-o pp6\" nowrap c=1>1,000 \\xe2\\x82\\xac</td><td class=\"msga2-o pp6\" nowrap c=1>68,000  \\xe2\\x82\\xac</td></tr>\\r\\n<tr id=\"tr_33484245\"><td class=\"msga2 pp0\"><input type=checkbox id=\"c33484245\" name=\"mid[]\" value=\"33484245_1105_0\"></td><td class=\"msga2\"><a href=\"/msg/lv/real-estate/flats/riga/teika/aejno.html\" id=\"im33484245\"><img src=\"https://i.ss.com/img/buy/homes.lv.gif\" alt=\"\" class=\"isfoto foto_list\"></a></td><td class=msg2><div class=d1><a data=\"JTkwJUFDJTdEJTg3JTdFJUMxJTg5JUE5eSU4Mnl1JTkwJUFDJTgxJTg1eXklOEUlQUIlN0UlN0U=|XtHNHE\" id=\"dm_33484245\" class=\"am\" href=\"/msg/lv/real-estate/flats/riga/teika/aejno.html\"><b>\\xd0\\x97\\xd0\\xb0 \\xd0\\xbd\\xd0\\xb0\\xd0\\xbb\\xd0\\xb8\\xd1\\x87\\xd0\\xbd\\xd1\\x8b\\xd0\\xb5 \\xd0\\xb4\\xd0\\xb5\\xd0\\xbd\\xd1\\x8c\\xd0\\xb3\\xd0\\xb8 - \\r\\n\\r\\n\\xd0\\xbf\\xd0\\xbe\\xd0\\xba\\xd1\\x83\\xd0\\xbf\\xd0\\xb0\\xd0\\xb5\\xd0\\xbc - 1 - 1.5 - 2 - 3 - 4 - \\xd0\\xba\\xd0\\xbe\\xd0\\xbc. \\xd0\\xba</b></a></div></td><td class=\"msga2-o pp6\" nowrap c=1><b>- 777</b></td><td class=\"msga2-o pp6\" nowrap c=1><b>2</b></td><td class=\"msga2-o pp6\" nowrap c=1><b>-</b></td><td class=\"msga2-o pp6\" nowrap c=1><b>12/9</b></td><td class=\"msga2-o pp6\" nowrap c=1><b>-</b></td><td class=\"msga2-o pp6\" nowrap c=1><b>-</b></td><td class=\"msga2-o pp6\" nowrap c=1><b>p\\xc4\\x93rku</b> </td></tr>\\r\\n<tr id=\"tr_43777986\"><td class=\"msga2 pp0\"><input type=checkbox id=\"c43777986\" name=\"mid[]\" value=\"43777986_1105_0\"></td><td class=\"msga2\"><a href=\"/msg/lv/real-estate/flats/riga/teika/bbhfjc.html\" id=\"im43777986\"><img src=\"https://i.ss.com/gallery/2/386/96288/19257542.th2.jpg\" alt=\"\" class=\"isfoto foto_list\"></a></td><td class=msg2><div class=d1><a data=\"bSU5OWUlODYlODMlOEElRjFnJTk3ZSU4QiU3RiU4QSVBRGclOTdoJThDJTdGJTg1JUFCaA==|6b3TNTu\" id=\"dm_43777986\" class=\"am\" href=\"/msg/lv/real-estate/flats/riga/teika/bbhfjc.html\">Pied\\xc4\\x81v\\xc4\\x81jam m\\xc4\\x81j\\xc4\\xabgu divistabu mansarda dz\\xc4\\xabvokl\\xc4\\xabti. \\r\\n\\xc4\\xaapa\\xc5\\xa1ums atrod</a></div></td><td class=\"msga2-o pp6\" nowrap c=1>Ropa\\xc5\\xbeu 91</td><td class=\"msga2-o pp6\" nowrap c=1>2</td><td class=\"msga2-o pp6\" nowrap c=1>37</td><td class=\"msga2-o pp6\" nowrap c=1>2/2</td><td class=\"msga2-o pp6\" nowrap c=1>P. kara</td><td class=\"msga2-o pp6\" nowrap c=1>500 \\xe2\\x82\\xac</td><td class=\"msga2-o pp6\" nowrap c=1>18,500  \\xe2\\x82\\xac</td></tr>\\r\\n<tr id=\"tr_44321849\"><td class=\"msga2 pp0\"><input type=checkbox id=\"c44321849\" name=\"mid[]\" value=\"44321849_1105_0\"></td><td class=\"msga2\"><a href=\"/msg/lv/real-estate/flats/riga/teika/ddhnk.html\" id=\"im44321849\"><img src=\"https://i.ss.com/gallery/3/419/104730/20945946.th2.jpg\" alt=\"\" class=\"isfoto foto_list\"></a></td><td class=msg2><div class=d1><a data=\"eSU5QmklOTJkJTg5JUNBdCU5RGklOTNqJThCJTgydyVBMW4lOUJpJTgzJTg3eQ==|Ch9b3SN\" id=\"dm_44321849\" class=\"am\" href=\"/msg/lv/real-estate/flats/riga/teika/ddhnk.html\"><b>Nam\\xc4\\xabpa\\xc5\\xa1nieks iz\\xc4\\xabr\\xc4\\x93 dz\\xc4\\xabvokli p\\xc4\\x93c remonta. Viet\\xc4\\x93j\\xc4\\x81 g\\xc4\\x81zes apkure.</b></a></div></td><td class=\"msga2-o pp6\" nowrap c=1><b>Pudi\\xc4\\xb7a 13</b></td><td class=\"msga2-o pp6\" nowrap c=1><b>1</b></td><td class=\"msga2-o pp6\" nowrap c=1><b>25</b></td><td class=\"msga2-o pp6\" nowrap c=1><b>3/3</b></td><td class=\"msga2-o pp6\" nowrap c=1><b>Priv. m.</b></td><td class=\"msga2-o pp6\" nowrap c=1><b>10</b> \\xe2\\x82\\xac</td><td class=\"msga2-o pp6\" nowrap c=1><b>250</b>  \\xe2\\x82\\xac/m\\xc4\\x93n.</td></tr>\\r\\n<tr id=\"tr_44319735\"><td class=\"msga2 pp0\"><input type=checkbox id=\"c44319735\" name=\"mid[]\" value=\"44319735_1105_0\"></td><td class=\"msga2\"><a href=\"/msg/lv/real-estate/flats/riga/teika/bmicp.html\" id=\"im44319735\"><img src=\"https://i.ss.com/gallery/3/419/104697/20939292.th2.jpg\" alt=\"\" class=\"isfoto foto_list\"></a></td><td class=msg2><div class=d1><a data=\"bnBqaWVjJUY0aGxkaWxlJUE4a2tsaWlpJUE5ag==|774841x\" id=\"dm_44319735\" class=\"am\" href=\"/msg/lv/real-estate/flats/riga/teika/bmicp.html\">Pied\\xc4\\x81v\\xc4\\x81jam ieg\\xc4\\x81d\\xc4\\x81ties gai\\xc5\\xa1u, pla\\xc5\\xa1u dz\\xc4\\xabvokli Teik\\xc4\\x81, lab\\xc4\\x81 viet\\xc4\\x81 Br</a></div></td><td class=\"msga2-o pp6\" nowrap c=1>Br\\xc4\\xabv\\xc4\\xabbas 358</td><td class=\"msga2-o pp6\" nowrap c=1>3</td><td class=\"msga2-o pp6\" nowrap c=1>72</td><td class=\"msga2-o pp6\" nowrap c=1>1/4</td><td class=\"msga2-o pp6\" nowrap c=1>Sta\\xc4\\xbcina</td><td class=\"msga2-o pp6\" nowrap c=1>1,318 \\xe2\\x82\\xac</td><td class=\"msga2-o pp6\" nowrap c=1>94,900  \\xe2\\x82\\xac</td></tr>\\r\\n<tr id=\"tr_44314988\"><td class=\"msga2 pp0\"><input type=checkbox id=\"c44314988\" name=\"mid[]\" value=\"44314988_1105_0\"></td><td class=\"msga2\"><a href=\"/msg/lv/real-estate/flats/riga/teika/gdxic.html\" id=\"im44314988\"><img src=\"https://i.ss.com/gallery/3/419/104621/20924149.th2.jpg\" alt=\"\" class=\"isfoto foto_list\"></a></td><td class=msg2><div class=d1><a data=\"JTlBJUE1JTdFJUFDZiVERXIlQTAlQTIlOTYlQTAlODUlQjBqJTk0diU5RiVBOCU5QiVBOSU4NQ==|dpMy3bAkr\" id=\"dm_44314988\" class=\"am\" href=\"/msg/lv/real-estate/flats/riga/teika/gdxic.html\">Dz\\xc4\\xabvoklis lab\\xc4\\x81 tehnisk\\xc4\\x81 un vizu\\xc4\\x81l\\xc4\\x81 st\\xc4\\x81vokl\\xc4\\xab, neprasa steidzamus </a></div></td><td class=\"msga2-o pp6\" nowrap c=1>Ropa\\xc5\\xbeu 122 k-5</td><td class=\"msga2-o pp6\" nowrap c=1>1</td><td class=\"msga2-o pp6\" nowrap c=1>37</td><td class=\"msga2-o pp6\" nowrap c=1>1/2</td><td class=\"msga2-o pp6\" nowrap c=1>Sta\\xc4\\xbcina</td><td class=\"msga2-o pp6\" nowrap c=1>1,078 \\xe2\\x82\\xac</td><td class=\"msga2-o pp6\" nowrap c=1>39,900  \\xe2\\x82\\xac</td></tr>\\r\\n<tr id=\"tr_44318701\"><td class=\"msga2 pp0\"><input type=checkbox id=\"c44318701\" name=\"mid[]\" value=\"44318701_1105_0\"></td><td class=\"msga2\"><a href=\"/msg/lv/real-estate/flats/riga/teika/ahkpe.html\" id=\"im44318701\"><img src=\"https://i.ss.com/gallery/3/419/104681/20936019.th2.jpg\" alt=\"\" class=\"isfoto foto_list\"></a></td><td class=msg2><div class=d1><a data=\"JUFCJTkyJTg4bXUlQTIlRjUlOTMlOERpcSVBMSVCMiU5NSU4OWhyJUEwJUFCJTk3JTkwanI=|ybX6Ak\" id=\"dm_44318701\" class=\"am\" href=\"/msg/lv/real-estate/flats/riga/teika/ahkpe.html\"><b>Net\\xc4\\x81lu no Alfas, iz\\xc4\\xabr\\xc4\\x93 \\xc4\\xabpa\\xc5\\xa1nieks</b></a></div></td><td class=\"msga2-o pp6\" nowrap c=1><b>Br\\xc4\\xabv\\xc4\\xabbas 334</b></td><td class=\"msga2-o pp6\" nowrap c=1><b>2</b></td><td class=\"msga2-o pp6\" nowrap c=1><b>45</b></td><td class=\"msga2-o pp6\" nowrap c=1><b>1/5</b></td><td class=\"msga2-o pp6\" nowrap c=1><b>119.</b></td><td class=\"msga2-o pp6\" nowrap c=1><b>6.67</b> \\xe2\\x82\\xac</td><td class=\"msga2-o pp6\" nowrap c=1><b>300</b>  \\xe2\\x82\\xac/m\\xc4\\x93n.</td></tr>\\r\\n<tr id=\"tr_42757345\"><td class=\"msga2 pp0\"><input type=checkbox id=\"c42757345\" name=\"mid[]\" value=\"42757345_1105_0\"></td><td class=\"msga2\"><a href=\"/msg/lv/real-estate/flats/riga/teika/cpojk.html\" id=\"im42757345\"><img src=\"https://i.ss.com/gallery/2/328/81988/16397568.th2.jpg\" alt=\"\" class=\"isfoto foto_list\"></a></td><td class=msg2><div class=d1><a data=\"JTdEZ2UlQTUlODglQzd4eCU5RXlvaSVBNSU4MCU4MXl3JTlFJTdFams=|H74sPKGCn\" id=\"dm_42757345\" class=\"am\" href=\"/msg/lv/real-estate/flats/riga/teika/cpojk.html\">\\xd0\\x9f\\xd1\\x80\\xd0\\xbe\\xd0\\xb4\\xd0\\xb0\\xd1\\x91\\xd1\\x82\\xd1\\x81\\xd1\\x8f \\xd0\\xba\\xd0\\xb2\\xd0\\xb0\\xd1\\x80\\xd1\\x82\\xd0\\xb8\\xd1\\x80\\xd0\\xb0. \\xd0\\x9a\\xd0\\xb2\\xd0\\xb0\\xd1\\x80\\xd1\\x82\\xd0\\xb8\\xd1\\x80\\xd0\\xb0 \\xd0\\xb2 \\xd1\\x81\\xd0\\xb5\\xd1\\x80\\xd0\\xb5\\xd0\\xb4\\xd0\\xb8\\xd0\\xbd\\xd0\\xb5 \\xd0\\xb4\\xd0\\xbe\\xd0\\xbc\\xd0\\xb0. \\xd0\\x9e\\xd1\\x87\\xd0\\xb5\\xd0\\xbd\\xd1\\x8c \\xd1\\x82\\xd1\\x91\\xd0\\xbf\\xd0\\xbb\\xd0\\xb0\\xd1\\x8f, \\xd1\\x81\\xd0\\xbe\\xd0\\xbb\\xd0\\xbd</a></div></td><td class=\"msga2-o pp6\" nowrap c=1>Burtnieku 33</td><td class=\"msga2-o pp6\" nowrap c=1>1</td><td class=\"msga2-o pp6\" nowrap c=1>18</td><td class=\"msga2-o pp6\" nowrap c=1>3/5</td><td class=\"msga2-o pp6\" nowrap c=1>M. \\xc4\\xa3im.</td><td class=\"msga2-o pp6\" nowrap c=1>944 \\xe2\\x82\\xac</td><td class=\"msga2-o pp6\" nowrap c=1>17,000  \\xe2\\x82\\xac</td></tr>\\r\\n<tr id=\"tr_44317872\"><td class=\"msga2 pp0\"><input type=checkbox id=\"c44317872\" name=\"mid[]\" value=\"44317872_1105_0\"></td><td class=\"msga2\"><a href=\"/msg/lv/real-estate/flats/riga/teika/cfllx.html\" id=\"im44317872\"><img src=\"https://i.ss.com/gallery/3/419/104668/20933473.th2.jpg\" alt=\"\" class=\"isfoto foto_list\"></a></td><td class=msg2><div class=d1><a data=\"ZGQlQUYlQUUlQUIlQTUlQTglQ0MlQTNoZSVBRCVBRSVBQSVBNiVBQiU4NSVBNWVoJUFEJUFEJUIyJUE5|33zuzurPr\" id=\"dm_44317872\" class=\"am\" href=\"/msg/lv/real-estate/flats/riga/teika/cfllx.html\"><b>Iz\\xc4\\xabr\\xc4\\x93 divistabas dz\\xc4\\xabvokli- izol\\xc4\\x93tas istabas ar balkonu.</b></a></div></td><td class=\"msga2-o pp6\" nowrap c=1><b>Bi\\xc4\\xb7ernieku 35A</b></td><td class=\"msga2-o pp6\" nowrap c=1><b>2</b></td><td class=\"msga2-o pp6\" nowrap c=1><b>60</b></td><td class=\"msga2-o pp6\" nowrap c=1><b>5/5</b></td><td class=\"msga2-o pp6\" nowrap c=1><b>LT proj.</b></td><td class=\"msga2-o pp6\" nowrap c=1><b>4.92</b> \\xe2\\x82\\xac</td><td class=\"msga2-o pp6\" nowrap c=1><b>295</b>  \\xe2\\x82\\xac/m\\xc4\\x93n.</td></tr>\\r\\n<tr id=\"tr_44134979\"><td class=\"msga2 pp0\"><input type=checkbox id=\"c44134979\" name=\"mid[]\" value=\"44134979_1105_0\"></td><td class=\"msga2\"><a href=\"/msg/lv/real-estate/flats/riga/teika/bfpoc.html\" id=\"im44134979\"><img src=\"https://i.ss.com/gallery/3/407/101677/20335250.th2.jpg\" alt=\"\" class=\"isfoto foto_list\"></a></td><td class=msg2><div class=d1><a data=\"JUE5YyVBNSVBRCVDNCU5RSVBOWMlQTMlQUQlN0MlQTUlQUNpJUE3JUE4JTdFJUExJUE4bA==|t3ruHm\" id=\"dm_44134979\" class=\"am\" href=\"/msg/lv/real-estate/flats/riga/teika/bfpoc.html\">Tikko p\\xc4\\x93c remonta. Dz\\xc4\\xabvoklis absol\\xc5\\xabti perfekt\\xc4\\x81 st\\xc4\\x81vokl\\xc4\\xab, jo nevi</a></div></td><td class=\"msga2-o pp6\" nowrap c=1>Br\\xc4\\xabv\\xc4\\xabbas 262</td><td class=\"msga2-o pp6\" nowrap c=1>2</td><td class=\"msga2-o pp6\" nowrap c=1>47</td><td class=\"msga2-o pp6\" nowrap c=1>2/4</td><td class=\"msga2-o pp6\" nowrap c=1>P. kara</td><td class=\"msga2-o pp6\" nowrap c=1>1,596 \\xe2\\x82\\xac</td><td class=\"msga2-o pp6\" nowrap c=1>75,000  \\xe2\\x82\\xac</td></tr>\\r\\n<tr id=\"tr_43097922\"><td class=\"msga2 pp0\"><input type=checkbox id=\"c43097922\" name=\"mid[]\" value=\"43097922_1105_0\"></td><td class=\"msga2\"><a href=\"/msg/lv/real-estate/flats/riga/teika/cihcl.html\" id=\"im43097922\"><img src=\"https://i.ss.com/gallery/2/347/86543/17308461.th2.jpg\" alt=\"\" class=\"isfoto foto_list\"></a></td><td class=msg2><div class=d1><a data=\"JTg3JThDZyU4RSVBOCVBRSU4NSU4OWUlODclQThrJThEJThEbSU4RSVCMWglOEElODRs|TT5Ux2\" id=\"dm_43097922\" class=\"am\" href=\"/msg/lv/real-estate/flats/riga/teika/cihcl.html\">\\xd0\\xa1\\xd0\\xbe\\xd0\\xb2\\xd0\\xb5\\xd1\\x80\\xd1\\x88\\xd0\\xb5\\xd0\\xbd\\xd0\\xbd\\xd0\\xbe \\xd1\\x8d\\xd0\\xba\\xd1\\x81\\xd0\\xba\\xd0\\xbb\\xd1\\x8e\\xd0\\xb7\\xd0\\xb8\\xd0\\xb2\\xd0\\xbd\\xd1\\x8b\\xd0\\xb9 \\xd0\\xb2\\xd0\\xb0\\xd1\\x80\\xd0\\xb8\\xd0\\xb0\\xd0\\xbd\\xd1\\x82. \\xd0\\xa2\\xd1\\x80\\xd0\\xb5\\xd1\\x85\\xd1\\x8d\\xd1\\x82\\xd0\\xb0\\xd0\\xb6\\xd0\\xbd\\xd1\\x8b\\xd0\\xb9 \\xd0\\xb4\\xd0\\xbe\\xd0\\xb2\\xd0\\xbe\\xd0\\xb5\\xd0\\xbd\\xd0\\xbd\\xd1\\x8b\\xd0\\xb9 \\xd0\\xbe\\xd1\\x81\\xd0\\xbe\\xd0\\xb1\\xd0\\xbd\\xd1\\x8f\\xd0\\xba \\xd0\\xbd</a></div></td><td class=\"msga2-o pp6\" nowrap c=1>B\\xc4\\x93rzaunes 3</td><td class=\"msga2-o pp6\" nowrap c=1>4</td><td class=\"msga2-o pp6\" nowrap c=1>93</td><td class=\"msga2-o pp6\" nowrap c=1>2/3</td><td class=\"msga2-o pp6\" nowrap c=1>P. kara</td><td class=\"msga2-o pp6\" nowrap c=1>1,237 \\xe2\\x82\\xac</td><td class=\"msga2-o pp6\" nowrap c=1>115,000  \\xe2\\x82\\xac</td></tr>\\r\\n<tr id=\"tr_44259778\"><td class=\"msga2 pp0\"><input type=checkbox id=\"c44259778\" name=\"mid[]\" value=\"44259778_1105_0\"></td><td class=\"msga2\"><a href=\"/msg/lv/real-estate/flats/riga/teika/eeoil.html\" id=\"im44259778\"><img src=\"https://i.ss.com/gallery/3/416/103758/20751475.th2.jpg\" alt=\"\" class=\"isfoto foto_list\"></a></td><td class=msg2><div class=d1><a data=\"JThBJTk2JUE1JTg0JUEwJUE3JTgyJUFFJThBJTlCJTlEJTgxJUEwJUFCJTgyaSU4QiU5QyVBNSU4MyU5RCVBOSU4OA==|YfmKmsR2\" id=\"dm_44259778\" class=\"am\" href=\"/msg/lv/real-estate/flats/riga/teika/eeoil.html\">\\xc4\\xaapa\\xc5\\xa1nieks p\\xc4\\x81rdod remont\\xc4\\x93jamu 1 istabas dz\\xc4\\xabvokli \\xc4\\xbcoti lab\\xc4\\x81 viet\\xc4\\x81,</a></div></td><td class=\"msga2-o pp6\" nowrap c=1>Bi\\xc4\\xb7ernieku 47</td><td class=\"msga2-o pp6\" nowrap c=1>1</td><td class=\"msga2-o pp6\" nowrap c=1>29</td><td class=\"msga2-o pp6\" nowrap c=1>1/2</td><td class=\"msga2-o pp6\" nowrap c=1>P. kara</td><td class=\"msga2-o pp6\" nowrap c=1>517 \\xe2\\x82\\xac</td><td class=\"msga2-o pp6\" nowrap c=1>15,000  \\xe2\\x82\\xac</td></tr>\\r\\n\\r\\n\\t<tr id=\"tr_bnr_712\" style=\"display:none;\"><td colspan=12 align=center>\\r\\n\\t\\r\\n\\t<div id=\"div_bnr_712\" align=center></div>\\r\\n\\t<script>load_script_async(\"/w_inc/reklama.728.php?0||1105||\"+escape(document.referrer));</script>\\r\\n\\t\\r\\n\\t</td></tr>\\r\\n\\t</table>\\r\\n\\t<br><table border=0 cellpasdding=0 cellspacing=0 width=\"100%\"><tr><td width=24 nowrap></td><td><div align=center class=td2 nowrap><a name=\"nav_id\" rel=\"prev\" class=\"navi\" href=\"/lv/real-estate/flats/riga/teika/page5.html\"><img src=\"https://i.ss.com/img/s_left.png\" border=0 width=9 height=5 style=\"padding-bottom:2px;\"> Iepriek\\xc5\\xa1\\xc4\\x93jie</a> &nbsp;&nbsp; <button onclick=\"return false;\" class=navia>1</button> <a name=\"nav_id\" rel=\"next\" class=\"navi\" href=\"/lv/real-estate/flats/riga/teika/page2.html\">2</a> <a name=\"nav_id\" rel=\"next\" class=\"navi\" href=\"/lv/real-estate/flats/riga/teika/page3.html\">3</a> <a name=\"nav_id\" rel=\"next\" class=\"navi\" href=\"/lv/real-estate/flats/riga/teika/page4.html\">4</a> <a name=\"nav_id\" rel=\"next\" class=\"navi\" href=\"/lv/real-estate/flats/riga/teika/page5.html\">5</a> &nbsp;&nbsp; <a name=\"nav_id\" rel=\"next\" class=\"navi\" href=\"/lv/real-estate/flats/riga/teika/page2.html\">N\\xc4\\x81kamie <img src=\"https://i.ss.com/img/s_right.png\" border=0 width=9 height=5 style=\"padding-bottom:2px;\"></a></div><br></td><td width=24 nowrap valign=top><script>if(document.documentElement &&document.documentElement.clientHeight &&document.documentElement.offsetHeight && ( document.documentElement.offsetHeight-document.documentElement.clientHeight )>30){D.write( \\'<img src=\"https://i.ss.com/img/up.png\" width=24 height=24 border=0 onclick=\"window.scrollTo(0,0);return false;\" style=\"opacity:0.3;cursor:pointer;position:absolute;\" onmouseover=\"this.style.opacity=1;\" onmouseout=\"this.style.opacity=0.3;\" title=\"Uz s\\xc4\\x81kumu\">\\'); }</script></td></table>\\r\\n\\t<table border=0 width=\"100%\" cellpadding=2 cellspacing=0><tr>\\r\\n\\t<td width=\"40%\" nowrap title=\"Par\\xc4\\x81d\\xc4\\xabt izv\\xc4\\x93l\\xc4\\x93tos sludin\\xc4\\x81jumus\" class=td7><noindex><a rel=\"nofollow\" id=\"show_selected_a\" class=td15 href=\"/lv/show-selected/fDgReF4S.html\" onclick=\"if( !check_selected_msg( \\'Izv\\xc4\\x93lieties sludin\\xc4\\x81jumus.\\' ) ){event.returnValue=false;return false;}\">Par\\xc4\\x81d\\xc4\\xabt izv\\xc4\\x93l\\xc4\\x93tos sludin\\xc4\\x81jumus</a></noindex> <span id=\"sel_cnt_obj\" class=td15></span></td>\\r\\n\\t<td width=\"20%\" align=center rowspan=4 valign=center><input type=button class=b onclick=\"go(\\'/lv/real-estate/flats/riga/teika/new/\\' );\" value=\"Izvietot sludin\\xc4\\x81jumu\"></td>\\r\\n\\t<td width=\"40%\" align=right class=td7>&nbsp;</td>\\r\\n\\t</tr>\\r\\n\\t\\r\\n\\t<tr><td class=td7><noindex><a rel=\"nofollow\" id=\"a_fav_sel\" style=\"display:none;\" class=\"a9a\" href=\"javascript:;\" onclick=\"af(-1,\\'lv\\')\">Pievienot izv\\xc4\\x93l\\xc4\\x93tos Memo</a></noindex></td></tr>\\r\\n\\t<tr><td class=td7 valign=top><a id=\"clear_selected_a\" style=\"display:none;\" class=a9a href=\"javascript:;\" onclick=\"dsl(2);return false;\">Not\\xc4\\xabr\\xc4\\xabt atz\\xc4\\xabm\\xc4\\x93tos</a></td></tr>\\r\\n\\t</table><br>\\r\\n\\t\\r\\n\\t\\r\\n\\t\\r\\n\\t\\r\\n\\t<br></form><script type=\"text/javascript\" src=\"/w_inc/set.cookie.php?a=1&lg=2\"></script>\\r\\n\\t<iframe width=0 height=0 frameborder=0 style=\"display:none\" id=\"ss_mframe\" name=\"ss_mframe\"></iframe></td></tr></table>\\r\\n\\t\\t\\t</div>\\r\\n\\t\\t\\t<div style=\"float:left;\"><div id=\"page_right\"><div id=\"ads_sys_div1\"></div><script type=\"text/javascript\">load_script_async( \"/w_inc/reklama.php?1528|0|1105|\"+Math.random()+\"|1|\"+escape(document.referrer) );</script><img id=\"ads_reklama_img\" style=\"dispaly:none;width:1px;height:1px;\" src=\"https://i.ss.com/img/ads/ad.gif\"></div></div>\\r\\n\\t\\t</td></tr></table>\\r\\n\\t\\t<div class=\"page_main\"><div style=\"float:left;\"><a class=a9a href=\"/lv/archive/real-estate/flats/riga/teika/\">Sludin\\xc4\\x81jumu arh\\xc4\\xabvs</a></div></div>\\r\\n\\t\\t<div id=\"page_footer\"><a class=\"a1\" href=\"/lv/rules/\">Noteikumi</a>  &nbsp;|&nbsp;  <a class=\"a1\" href=\"/lv/feedback/\">Saikne ar redaktoru</a>  &nbsp;|&nbsp;  <a class=\"a1\" href=\"/lv/reklama/\">Rekl\\xc4\\x81ma</a>  &nbsp;|&nbsp;  <a class=\"a1\" href=\"/lv/api/\">Sadarb\\xc4\\xabba</a> &nbsp;|&nbsp; <a href=\"/lv/real-estate/flats/riga/teika/rss/\" class=a1 target=\"_blank\">RSS</a> &nbsp;|&nbsp; Sludin\\xc4\\x81jumi \\xc2\\xa9 ss sia 2000</div>\\r\\n\\r\\n\\t</div>\\r\\n</div>\\r\\n\\r\\n<script type=\"text/javascript\">\\r\\n<!--\\r\\nif( window.add_link_to_selection && document.body.addEventListener ){document.body.addEventListener( \"copy\", add_link_to_selection );}ads_line_init(0,0);_rk_detect();window.onscroll=scbnrtop;window.onresize = new Function ( \"scbnrtop();\" );\\r\\nload_script_async( \"https://i.ss.com/w_inc/js/msg.count-ss.js?\"+new Date() );\\r\\nload_script_async( \"/w_inc/chk.php?mm=1&c=1105&db=lv&mode=1\" );\\r\\n-->\\r\\n</script>\\r\\n<div style=\"display:none;\">\\r\\n<script>document.write( \\'<img src=\"/counter/index.php?c=1105&m=1&\\'+new Date()+Math.random()+\\'\" width=1 height=1 border=0 alt=\"\">\\' );</script>\\r\\n<img src=\"https://galv.hit.gemius.pl/redot.gif?l=41/id=bJian9C6v0xtXWJGfTZTEcWmP4MBWy8y0CL_pL08sob.17\" width=\"1\" height=\"1\" alt=\"\" border=\"0\" />\\r\\n<script>\\r\\n(function(i,s,o,g,r,a,m){i[\\'GoogleAnalyticsObject\\']=r;i[r]=i[r]||function(){\\r\\n(i[r].q=i[r].q||[]).push(arguments)},i[r].l=1*new Date();a=s.createElement(o),\\r\\nm=s.getElementsByTagName(o)[0];a.async=1;a.src=g;m.parentNode.insertBefore(a,m)\\r\\n})(window,document,\\'script\\',\\'//www.google-analytics.com/analytics.js\\',\\'ga\\');\\r\\nga(\\'create\\', \\'UA-6772378-2\\', \\'auto\\');ga(\\'send\\', \\'pageview\\');\\r\\n</script>\\r\\n<img src=\"https://top.lv/counter.php?sid=2774&type=4\" width=\"1\" height=\"1\" border=\"0\" style=\"display:none\" alt=\"\">\\r\\n<!-- puls.lv START //-->\\r\\n<div id=\"_puls.lv_232\" style=\"display:inline-block;\"></div>\\r\\n<script type=\"text/javascript\">_puls_counter_local( 232 );</script>\\r\\n<noscript>\\r\\n<a href=\"http://puls.lv/\" target=\"_blank\"><img src=\"https://hits.puls.lv/?sid=232&jsver=0\" width=1 height=1 border=0 alt=\"\"></a>\\r\\n</noscript>\\r\\n<!-- puls.lv END //-->\\r\\n<!-- puls.lv START //-->\\r\\n<div id=\"_puls.lv_26935\" style=\"display:inline-block;\"></div>\\r\\n<script type=\"text/javascript\">_puls_counter_local( 26935 );</script>\\r\\n<noscript>\\r\\n<a href=\"http://puls.lv/\" target=\"_blank\"><img src=\"https://hits.puls.lv/?sid=26935&jsver=0\" width=1 height=1 border=0 alt=\"\"></a>\\r\\n</noscript>\\r\\n<!-- puls.lv END //-->\\r\\n<!-- europuls.eu START //-->\\r\\n<div id=\"_europuls.eu_2\" style=\"display:inline-block;\"></div>\\r\\n<SCRIPT type=\"text/javascript\">_ps_counter_local(2);</SCRIPT>\\r\\n<noscript>\\r\\n<a href=\"http://europuls.eu/\" target=\"_blank\"><img src=\"https://hits.europuls.eu/?sid=2&jsver=0\"  width=1 height=1 border=0 alt=\"\"></a>\\r\\n</noscript>\\r\\n<!-- europuls.eu END //-->\\r\\n\\r\\n</div></BODY>\\r\\n</HTML>'"
      ]
     },
     "execution_count": 6,
     "metadata": {},
     "output_type": "execute_result"
    }
   ],
   "source": [
    "r.data"
   ]
  },
  {
   "cell_type": "code",
   "execution_count": 43,
   "metadata": {},
   "outputs": [],
   "source": [
    "# Here we parse the raw html text into an edible soup"
   ]
  },
  {
   "cell_type": "code",
   "execution_count": 9,
   "metadata": {},
   "outputs": [],
   "source": [
    "soup = bs4.BeautifulSoup(r.data, 'html.parser')"
   ]
  },
  {
   "cell_type": "code",
   "execution_count": 13,
   "metadata": {},
   "outputs": [
    {
     "data": {
      "text/plain": [
       "3"
      ]
     },
     "execution_count": 13,
     "metadata": {},
     "output_type": "execute_result"
    }
   ],
   "source": [
    "len(list(soup.children))"
   ]
  },
  {
   "cell_type": "code",
   "execution_count": 45,
   "metadata": {},
   "outputs": [
    {
     "data": {
      "text/plain": [
       "bs4.BeautifulSoup"
      ]
     },
     "execution_count": 45,
     "metadata": {},
     "output_type": "execute_result"
    }
   ],
   "source": [
    "type(soup)"
   ]
  },
  {
   "cell_type": "code",
   "execution_count": 47,
   "metadata": {},
   "outputs": [
    {
     "data": {
      "text/plain": [
       "{}"
      ]
     },
     "execution_count": 47,
     "metadata": {},
     "output_type": "execute_result"
    }
   ],
   "source": [
    "soup.attrs"
   ]
  },
  {
   "cell_type": "code",
   "execution_count": null,
   "metadata": {},
   "outputs": [],
   "source": [
    "soup.p"
   ]
  },
  {
   "cell_type": "code",
   "execution_count": 46,
   "metadata": {},
   "outputs": [
    {
     "data": {
      "text/plain": [
       "['ASCII_SPACES',\n",
       " 'DEFAULT_BUILDER_FEATURES',\n",
       " 'HTML_FORMATTERS',\n",
       " 'NO_PARSER_SPECIFIED_WARNING',\n",
       " 'ROOT_TAG_NAME',\n",
       " 'XML_FORMATTERS',\n",
       " '__bool__',\n",
       " '__call__',\n",
       " '__class__',\n",
       " '__contains__',\n",
       " '__copy__',\n",
       " '__delattr__',\n",
       " '__delitem__',\n",
       " '__dict__',\n",
       " '__dir__',\n",
       " '__doc__',\n",
       " '__eq__',\n",
       " '__format__',\n",
       " '__ge__',\n",
       " '__getattr__',\n",
       " '__getattribute__',\n",
       " '__getitem__',\n",
       " '__getstate__',\n",
       " '__gt__',\n",
       " '__hash__',\n",
       " '__init__',\n",
       " '__init_subclass__',\n",
       " '__iter__',\n",
       " '__le__',\n",
       " '__len__',\n",
       " '__lt__',\n",
       " '__module__',\n",
       " '__ne__',\n",
       " '__new__',\n",
       " '__reduce__',\n",
       " '__reduce_ex__',\n",
       " '__repr__',\n",
       " '__setattr__',\n",
       " '__setitem__',\n",
       " '__sizeof__',\n",
       " '__str__',\n",
       " '__subclasshook__',\n",
       " '__unicode__',\n",
       " '__weakref__',\n",
       " '_all_strings',\n",
       " '_attr_value_as_string',\n",
       " '_attribute_checker',\n",
       " '_check_markup_is_url',\n",
       " '_feed',\n",
       " '_find_all',\n",
       " '_find_one',\n",
       " '_formatter_for_name',\n",
       " '_is_xml',\n",
       " '_lastRecursiveChild',\n",
       " '_last_descendant',\n",
       " '_most_recent_element',\n",
       " '_popToTag',\n",
       " '_select_debug',\n",
       " '_selector_combinators',\n",
       " '_should_pretty_print',\n",
       " '_tag_name_matches_and',\n",
       " 'append',\n",
       " 'attribselect_re',\n",
       " 'attrs',\n",
       " 'builder',\n",
       " 'can_be_empty_element',\n",
       " 'childGenerator',\n",
       " 'children',\n",
       " 'clear',\n",
       " 'contains_replacement_characters',\n",
       " 'contents',\n",
       " 'currentTag',\n",
       " 'current_data',\n",
       " 'declared_html_encoding',\n",
       " 'decode',\n",
       " 'decode_contents',\n",
       " 'decompose',\n",
       " 'descendants',\n",
       " 'encode',\n",
       " 'encode_contents',\n",
       " 'endData',\n",
       " 'extract',\n",
       " 'fetchNextSiblings',\n",
       " 'fetchParents',\n",
       " 'fetchPrevious',\n",
       " 'fetchPreviousSiblings',\n",
       " 'find',\n",
       " 'findAll',\n",
       " 'findAllNext',\n",
       " 'findAllPrevious',\n",
       " 'findChild',\n",
       " 'findChildren',\n",
       " 'findNext',\n",
       " 'findNextSibling',\n",
       " 'findNextSiblings',\n",
       " 'findParent',\n",
       " 'findParents',\n",
       " 'findPrevious',\n",
       " 'findPreviousSibling',\n",
       " 'findPreviousSiblings',\n",
       " 'find_all',\n",
       " 'find_all_next',\n",
       " 'find_all_previous',\n",
       " 'find_next',\n",
       " 'find_next_sibling',\n",
       " 'find_next_siblings',\n",
       " 'find_parent',\n",
       " 'find_parents',\n",
       " 'find_previous',\n",
       " 'find_previous_sibling',\n",
       " 'find_previous_siblings',\n",
       " 'format_string',\n",
       " 'get',\n",
       " 'getText',\n",
       " 'get_attribute_list',\n",
       " 'get_text',\n",
       " 'handle_data',\n",
       " 'handle_endtag',\n",
       " 'handle_starttag',\n",
       " 'has_attr',\n",
       " 'has_key',\n",
       " 'hidden',\n",
       " 'index',\n",
       " 'insert',\n",
       " 'insert_after',\n",
       " 'insert_before',\n",
       " 'isSelfClosing',\n",
       " 'is_empty_element',\n",
       " 'is_xml',\n",
       " 'known_xml',\n",
       " 'markup',\n",
       " 'name',\n",
       " 'namespace',\n",
       " 'new_string',\n",
       " 'new_tag',\n",
       " 'next',\n",
       " 'nextGenerator',\n",
       " 'nextSibling',\n",
       " 'nextSiblingGenerator',\n",
       " 'next_element',\n",
       " 'next_elements',\n",
       " 'next_sibling',\n",
       " 'next_siblings',\n",
       " 'object_was_parsed',\n",
       " 'original_encoding',\n",
       " 'parent',\n",
       " 'parentGenerator',\n",
       " 'parents',\n",
       " 'parse_only',\n",
       " 'parserClass',\n",
       " 'parser_class',\n",
       " 'popTag',\n",
       " 'prefix',\n",
       " 'preserve_whitespace_tag_stack',\n",
       " 'preserve_whitespace_tags',\n",
       " 'prettify',\n",
       " 'previous',\n",
       " 'previousGenerator',\n",
       " 'previousSibling',\n",
       " 'previousSiblingGenerator',\n",
       " 'previous_element',\n",
       " 'previous_elements',\n",
       " 'previous_sibling',\n",
       " 'previous_siblings',\n",
       " 'pushTag',\n",
       " 'quoted_colon',\n",
       " 'recursiveChildGenerator',\n",
       " 'renderContents',\n",
       " 'replaceWith',\n",
       " 'replaceWithChildren',\n",
       " 'replace_with',\n",
       " 'replace_with_children',\n",
       " 'reset',\n",
       " 'select',\n",
       " 'select_one',\n",
       " 'setup',\n",
       " 'string',\n",
       " 'strings',\n",
       " 'stripped_strings',\n",
       " 'tagStack',\n",
       " 'tag_name_re',\n",
       " 'text',\n",
       " 'unwrap',\n",
       " 'wrap']"
      ]
     },
     "execution_count": 46,
     "metadata": {},
     "output_type": "execute_result"
    }
   ],
   "source": [
    "dir(soup)"
   ]
  },
  {
   "cell_type": "code",
   "execution_count": 14,
   "metadata": {},
   "outputs": [
    {
     "name": "stdout",
     "output_type": "stream",
     "text": [
      "<class 'bs4.element.Doctype'>\n",
      "<class 'bs4.element.NavigableString'>\n",
      "<class 'bs4.element.Tag'>\n"
     ]
    }
   ],
   "source": [
    "for el in soup:\n",
    "    print(type(el))"
   ]
  },
  {
   "cell_type": "code",
   "execution_count": 15,
   "metadata": {},
   "outputs": [
    {
     "data": {
      "text/plain": [
       "<title>SS.COM Dzīvokļi - Rīga - Teika, Cenas - Sludinājumi</title>"
      ]
     },
     "execution_count": 15,
     "metadata": {},
     "output_type": "execute_result"
    }
   ],
   "source": [
    "soup.title"
   ]
  },
  {
   "cell_type": "code",
   "execution_count": 16,
   "metadata": {},
   "outputs": [
    {
     "data": {
      "text/plain": [
       "<head>\n",
       "<title>SS.COM Dzīvokļi - Rīga - Teika, Cenas - Sludinājumi</title>\n",
       "<meta content=\"text/html; charset=utf-8\" http-equiv=\"Content-Type\"/>\n",
       "<meta content=\"user-scalable=1, width=device-width, initial-scale=1.0\" name=\"viewport\">\n",
       "<meta content=\"Sludinājumi teika rīga dzīvokļi nekustamais īpašums cenas paša sirdī slēgta lielisks pārdošanā pārdod pērk izīrē īrē maina\" name=\"keywords\"/>\n",
       "<meta content=\"Sludinājumi. Dzīvokļi - Rīga - Teika, Cenas, tirdzniecība, Foto, Attēli\" name=\"description\"/>\n",
       "<meta content=\"LG=lv; expires=Sun, 07 Jul 2019 10:18:53 GMT; path=/; domain=www.ss.com\" http-equiv=\"Set-Cookie\"/><link href=\"https://m.ss.com/lv/real-estate/flats/riga/teika/\" media=\"only screen and (max-width: 640px)\" rel=\"alternate\"/>\n",
       "<meta content=\"no\" http-equiv=\"imagetoolbar\"/>\n",
       "<base href=\"https://www.ss.com/\"/>\n",
       "<link href=\"https://i.ss.com/w_inc/style.css?v=193\" rel=\"stylesheet\">\n",
       "<style>html{overflow-y:scroll;}.page_bg{background-image:url('https://i.ss.com/img/head/classifieds.jpg?v=1' );background-repeat:no-repeat;}@media screen and (min-width:1280px){.page_bg{background-image:url('https://i.ss.com/img/head/classifieds-1280.jpg?v=1' );}}\n",
       ".l50{width:50px;}.l130{width:130px;}.l35{width:35px;}.l23{width:23px;}.l85{width:85px;}.l100{width:100px;}@media screen and (min-width:1280px){.l50{width:calc(50px*1.25);}.l130{width:calc(130px*1.25);}.l35{width:calc(35px*1.25);}.l23{width:calc(23px*1.25);}.l85{width:calc(85px*1.25);}.l100{width:calc(100px*1.25);}}</style>\n",
       "<link href=\"/favicon.ico?v=1\" rel=\"shortcut icon\" type=\"image/x-icon\"/>\n",
       "<link href=\"/img/m/ss-com-57x57.png\" rel=\"apple-touch-icon\" sizes=\"57x57\"/>\n",
       "<link href=\"/img/m/ss-com-72x72.png\" rel=\"apple-touch-icon\" sizes=\"72x72\"/>\n",
       "<link href=\"/img/m/ss-com-114x114.png\" rel=\"apple-touch-icon\" sizes=\"114x114\"/>\n",
       "<link href=\"https://www.ss.com/lv/real-estate/flats/riga/teika/\" hreflang=\"lv\" rel=\"alternate\"/><link href=\"https://www.ss.com/ru/real-estate/flats/riga/teika/\" hreflang=\"ru\" rel=\"alternate\"/>\n",
       "<script src=\"https://i.ss.com/w_inc/js/main.lv.ss.js?v=494\" type=\"text/javascript\"></script>\n",
       "<script async=\"\" src=\"https://i.ss.com/w_inc/adsbygoogle.js?v=494\"></script>\n",
       "<script type=\"text/javascript\">\n",
       "<!--\n",
       "LINK_MAIN_HOST = \"https://www.ss.com\";var REGION = \"\";SS_Lang = \"2\";get_page_zoom();\n",
       "if(window._setCookie){_setCookie(\"LG\",\"lv\",365,\"www.ss.com\");};\n",
       "-->\n",
       "</script>\n",
       "</link></meta></head>"
      ]
     },
     "execution_count": 16,
     "metadata": {},
     "output_type": "execute_result"
    }
   ],
   "source": [
    "soup.head"
   ]
  },
  {
   "cell_type": "code",
   "execution_count": 17,
   "metadata": {},
   "outputs": [
    {
     "data": {
      "text/plain": [
       "10"
      ]
     },
     "execution_count": 17,
     "metadata": {},
     "output_type": "execute_result"
    }
   ],
   "source": [
    "len(soup.body)"
   ]
  },
  {
   "cell_type": "code",
   "execution_count": 18,
   "metadata": {},
   "outputs": [
    {
     "data": {
      "text/plain": [
       "bs4.element.Tag"
      ]
     },
     "execution_count": 18,
     "metadata": {},
     "output_type": "execute_result"
    }
   ],
   "source": [
    "type(soup.body)"
   ]
  },
  {
   "cell_type": "code",
   "execution_count": 19,
   "metadata": {},
   "outputs": [
    {
     "data": {
      "text/plain": [
       "['HTML_FORMATTERS',\n",
       " 'XML_FORMATTERS',\n",
       " '__bool__',\n",
       " '__call__',\n",
       " '__class__',\n",
       " '__contains__',\n",
       " '__copy__',\n",
       " '__delattr__',\n",
       " '__delitem__',\n",
       " '__dict__',\n",
       " '__dir__',\n",
       " '__doc__',\n",
       " '__eq__',\n",
       " '__format__',\n",
       " '__ge__',\n",
       " '__getattr__',\n",
       " '__getattribute__',\n",
       " '__getitem__',\n",
       " '__gt__',\n",
       " '__hash__',\n",
       " '__init__',\n",
       " '__init_subclass__',\n",
       " '__iter__',\n",
       " '__le__',\n",
       " '__len__',\n",
       " '__lt__',\n",
       " '__module__',\n",
       " '__ne__',\n",
       " '__new__',\n",
       " '__reduce__',\n",
       " '__reduce_ex__',\n",
       " '__repr__',\n",
       " '__setattr__',\n",
       " '__setitem__',\n",
       " '__sizeof__',\n",
       " '__str__',\n",
       " '__subclasshook__',\n",
       " '__unicode__',\n",
       " '__weakref__',\n",
       " '_all_strings',\n",
       " '_attr_value_as_string',\n",
       " '_attribute_checker',\n",
       " '_find_all',\n",
       " '_find_one',\n",
       " '_formatter_for_name',\n",
       " '_is_xml',\n",
       " '_lastRecursiveChild',\n",
       " '_last_descendant',\n",
       " '_select_debug',\n",
       " '_selector_combinators',\n",
       " '_should_pretty_print',\n",
       " '_tag_name_matches_and',\n",
       " 'append',\n",
       " 'attribselect_re',\n",
       " 'attrs',\n",
       " 'can_be_empty_element',\n",
       " 'childGenerator',\n",
       " 'children',\n",
       " 'clear',\n",
       " 'contents',\n",
       " 'decode',\n",
       " 'decode_contents',\n",
       " 'decompose',\n",
       " 'descendants',\n",
       " 'encode',\n",
       " 'encode_contents',\n",
       " 'extract',\n",
       " 'fetchNextSiblings',\n",
       " 'fetchParents',\n",
       " 'fetchPrevious',\n",
       " 'fetchPreviousSiblings',\n",
       " 'find',\n",
       " 'findAll',\n",
       " 'findAllNext',\n",
       " 'findAllPrevious',\n",
       " 'findChild',\n",
       " 'findChildren',\n",
       " 'findNext',\n",
       " 'findNextSibling',\n",
       " 'findNextSiblings',\n",
       " 'findParent',\n",
       " 'findParents',\n",
       " 'findPrevious',\n",
       " 'findPreviousSibling',\n",
       " 'findPreviousSiblings',\n",
       " 'find_all',\n",
       " 'find_all_next',\n",
       " 'find_all_previous',\n",
       " 'find_next',\n",
       " 'find_next_sibling',\n",
       " 'find_next_siblings',\n",
       " 'find_parent',\n",
       " 'find_parents',\n",
       " 'find_previous',\n",
       " 'find_previous_sibling',\n",
       " 'find_previous_siblings',\n",
       " 'format_string',\n",
       " 'get',\n",
       " 'getText',\n",
       " 'get_attribute_list',\n",
       " 'get_text',\n",
       " 'has_attr',\n",
       " 'has_key',\n",
       " 'hidden',\n",
       " 'index',\n",
       " 'insert',\n",
       " 'insert_after',\n",
       " 'insert_before',\n",
       " 'isSelfClosing',\n",
       " 'is_empty_element',\n",
       " 'known_xml',\n",
       " 'name',\n",
       " 'namespace',\n",
       " 'next',\n",
       " 'nextGenerator',\n",
       " 'nextSibling',\n",
       " 'nextSiblingGenerator',\n",
       " 'next_element',\n",
       " 'next_elements',\n",
       " 'next_sibling',\n",
       " 'next_siblings',\n",
       " 'parent',\n",
       " 'parentGenerator',\n",
       " 'parents',\n",
       " 'parserClass',\n",
       " 'parser_class',\n",
       " 'prefix',\n",
       " 'preserve_whitespace_tags',\n",
       " 'prettify',\n",
       " 'previous',\n",
       " 'previousGenerator',\n",
       " 'previousSibling',\n",
       " 'previousSiblingGenerator',\n",
       " 'previous_element',\n",
       " 'previous_elements',\n",
       " 'previous_sibling',\n",
       " 'previous_siblings',\n",
       " 'quoted_colon',\n",
       " 'recursiveChildGenerator',\n",
       " 'renderContents',\n",
       " 'replaceWith',\n",
       " 'replaceWithChildren',\n",
       " 'replace_with',\n",
       " 'replace_with_children',\n",
       " 'select',\n",
       " 'select_one',\n",
       " 'setup',\n",
       " 'string',\n",
       " 'strings',\n",
       " 'stripped_strings',\n",
       " 'tag_name_re',\n",
       " 'text',\n",
       " 'unwrap',\n",
       " 'wrap']"
      ]
     },
     "execution_count": 19,
     "metadata": {},
     "output_type": "execute_result"
    }
   ],
   "source": [
    "dir(soup.body)"
   ]
  },
  {
   "cell_type": "code",
   "execution_count": 48,
   "metadata": {},
   "outputs": [
    {
     "data": {
      "text/plain": [
       "{'border': '0',\n",
       " 'cellpadding': '0',\n",
       " 'cellspacing': '0',\n",
       " 'id': 'page_main',\n",
       " 'width': '100%'}"
      ]
     },
     "execution_count": 48,
     "metadata": {},
     "output_type": "execute_result"
    }
   ],
   "source": [
    "mytable = soup.body.find(id=\"page_main\")\n",
    "mytable.attrs"
   ]
  },
  {
   "cell_type": "code",
   "execution_count": 21,
   "metadata": {},
   "outputs": [
    {
     "data": {
      "text/plain": [
       "1"
      ]
     },
     "execution_count": 21,
     "metadata": {},
     "output_type": "execute_result"
    }
   ],
   "source": [
    "len(mytable)"
   ]
  },
  {
   "cell_type": "code",
   "execution_count": 22,
   "metadata": {
    "scrolled": false
   },
   "outputs": [
    {
     "name": "stdout",
     "output_type": "stream",
     "text": [
      "<table border=\"0\" cellpadding=\"0\" cellspacing=\"0\" id=\"page_main\" width=\"100%\"><tr><td valign=\"top\"><div class=\"top_head\"><div style=\"float:left;padding-top:2px;\"><h2 class=\"headtitle\"><a href=\"/lv/real-estate/flats/\" title=\"Sludinājumi Dzīvokļi\">Dzīvokļi</a> / <a href=\"/lv/real-estate/flats/riga/\" title=\"Sludinājumi Rīga\">Rīga</a> / Teika</h2></div><div style=\"float:right;\"><select id=\"today_cnt_sl\" onchange=\"go(this.value+'');\"><option selected=\"\" value=\"/lv/real-estate/flats/riga/teika/\">Visi sludinājumi</option><option value=\"/lv/real-estate/flats/riga/teika/today/\">Šodien - 1</option><option value=\"/lv/real-estate/flats/riga/teika/today-2/\">Par 2 dienām - 19</option><option value=\"/lv/real-estate/flats/riga/teika/today-5/\">Par 5 dienām - 48</option></select></div></div><form action=\"/lv/real-estate/flats/riga/teika/filter/\" id=\"filter_frm\" method=\"post\" name=\"filter_frm\">\n",
      "<table bgcolor=\"#EEEEEE\" border=\"0\" cellpadding=\"1\" cellspacing=\"0\" id=\"filter_tbl\" style=\"margin-top:5px;\" width=\"100%\">\n",
      "<tr><td style=\"padding-bottom:3px;\"><table border=\"0\" cellpadding=\"1\" cellspacing=\"0\"><tr><td class=\"filter_name\" nowrap=\"\" valign=\"bottom\">Cena:<br/><span id=\"foptfld_8\"><input class=\"filter_txt l50\" id=\"f_o_8_min\" name=\"topt[8][min]\" type=\"text\" value=\"\"/>-<input class=\"filter_txt l50\" id=\"f_o_8_max\" name=\"topt[8][max]\" type=\"text\" value=\"\"/></span> </td><td class=\"filter_name\" nowrap=\"\" valign=\"bottom\">Istabas:<br/><span id=\"foptfld_1\"><select class=\"filter_sel l50\" id=\"f_o_1\" name=\"topt[1][min]\" onchange=\"this.form.submit();\"><option value=\"\"></option><option value=\"1\">1</option><option value=\"2\">2</option><option value=\"3\">3</option><option value=\"4\">4</option><option value=\"5\">5</option><option value=\"6\">6</option><option value=\"Citi\">Citi</option></select>-<select class=\"filter_sell50\" id=\"f_o_1\" name=\"topt[1][max]\" onchange=\"this.form.submit();\"><option value=\"\"></option><option value=\"1\">1</option><option value=\"2\">2</option><option value=\"3\">3</option><option value=\"4\">4</option><option value=\"5\">5</option><option value=\"6\">6</option><option value=\"Citi\">Citi</option></select></span> </td><td class=\"filter_name\" nowrap=\"\" valign=\"bottom\">Platība:<br/><span id=\"foptfld_3\"><input class=\"filter_txt l35\" id=\"f_o_3_min\" maxlength=\"4\" name=\"topt[3][min]\" type=\"text\" value=\"\"/>-<input class=\"filter_txt l35\" id=\"f_o_3_max\" maxlength=\"4\" name=\"topt[3][max]\" type=\"text\" value=\"\"/></span> </td><td class=\"filter_name\" nowrap=\"\" valign=\"bottom\">Stāvs:<br/><span id=\"foptfld_4\"><input class=\"filter_txt l23\" id=\"f_o_4_min\" maxlength=\"4\" name=\"topt[4][min]\" type=\"text\" value=\"\"/>-<input class=\"filter_txt l23\" id=\"f_o_4_max\" maxlength=\"4\" name=\"topt[4][max]\" type=\"text\" value=\"\"/></span> </td><td class=\"filter_name\" nowrap=\"\" valign=\"bottom\">Sērija:<br/><span id=\"foptfld_6\"><select class=\"filter_sel l85\" id=\"f_o_6\" name=\"opt[6]\" onchange=\"this.form.submit();\"><option value=\"\"></option><option value=\"67\">103.</option><option value=\"69\">119.</option><option value=\"76\">Hrušč.</option><option value=\"72\">LT proj.</option><option value=\"74\">M. ģim.</option><option value=\"79\">P. kara</option><option value=\"77\">Priv. m.</option><option value=\"3616\">Renov.</option><option value=\"78\">Specpr.</option><option value=\"75\">Staļina</option><option value=\"3596\">Jaun.</option></select></span> </td></tr></table></td><td align=\"right\" style=\"padding-top:14px;\" width=\"100%\"><input class=\"b s12\" style=\"padding-top:1px;padding-bottom:2px;\" type=\"submit\" value=\"Meklēt\"/></td></tr></table><div class=\"filter_second_line_dv\"><span class=\"filter_opt_dv\">Režīms:<br/><noindex><select class=\"filter_sel w95\" onchange=\"go(this[this.selectedIndex].value);\" title=\"Izvēlieties sludinājumu apskatīšanas veidu\">\n",
      "<option selected=\"\" value=\"/lv/real-estate/flats/riga/teika/\">Saraksts</option>\n",
      "<option value=\"/lv/real-estate/flats/riga/teika/photo/\">Albums</option>\n",
      "<option value=\"/lv/real-estate/flats/riga/teika/fDgQeF4S.html\">Karte</option>\n",
      "</select></noindex>\n",
      "</span>\n",
      "<span class=\"filter_opt_dv\">Darījuma veids:<br/><select class=\"filter_sel l100\" name=\"sid\" onchange=\"go(this[this.selectedIndex].value);\"><option value=\"/lv/real-estate/flats/riga/teika/\">Visi</option><option value=\"/lv/real-estate/flats/riga/teika/sell/\">Pārdod</option><option value=\"/lv/real-estate/flats/riga/teika/buy/\">Pērk</option><option value=\"/lv/real-estate/flats/riga/teika/hand_over/\">Izīrē</option><option value=\"/lv/real-estate/flats/riga/teika/remove/\">Īrē</option><option value=\"/lv/real-estate/flats/riga/teika/change/\">Maina</option></select></span>\n",
      "<span class=\"filter_opt_dv\">Rajons:<br/>\n",
      "<select class=\"filter_sel\" onchange=\"go( this[this.selectedIndex].value );\" style=\"min-width:54px;max-width:200px;\">\n",
      "<option value=\"/lv/real-estate/flats/riga/all/\">Visi</option>\n",
      "<option value=\"/lv/real-estate/flats/riga/centre/\">Centrs</option><option value=\"/lv/real-estate/flats/riga/agenskalns/\">Āgenskalns</option><option value=\"/lv/real-estate/flats/riga/aplokciems/\">Aplokciems</option><option value=\"/lv/real-estate/flats/riga/beberbeki/\">Beberbeķi</option><option value=\"/lv/real-estate/flats/riga/bergi/\">Berģi</option><option value=\"/lv/real-estate/flats/riga/biekensala/\">Bieķēnsala</option><option value=\"/lv/real-estate/flats/riga/bierini/\">Bieriņi</option><option value=\"/lv/real-estate/flats/riga/bolderaya/\">Bolderāja</option><option value=\"/lv/real-estate/flats/riga/bukulti/\">Bukulti</option><option value=\"/lv/real-estate/flats/riga/chiekurkalns/\">Čiekurkalns</option><option value=\"/lv/real-estate/flats/riga/darzciems/\">Dārzciems</option><option value=\"/lv/real-estate/flats/riga/daugavgriva/\">Daugavgrīva</option><option value=\"/lv/real-estate/flats/riga/dreilini/\">Dreiliņi</option><option value=\"/lv/real-estate/flats/riga/dzeguzhkalns/\">Dzegužkalns (Dzirciems)</option><option value=\"/lv/real-estate/flats/riga/ilguciems/\">Iļģuciems</option><option value=\"/lv/real-estate/flats/riga/imanta/\">Imanta</option><option value=\"/lv/real-estate/flats/riga/jaunciems/\">Jaunciems</option><option value=\"/lv/real-estate/flats/riga/jaunmilgravis/\">Jaunmīlgrāvis</option><option value=\"/lv/real-estate/flats/riga/yugla/\">Jugla</option><option value=\"/lv/real-estate/flats/riga/katlakalns/\">Katlakalns</option><option value=\"/lv/real-estate/flats/riga/kengarags/\">Ķengarags</option><option value=\"/lv/real-estate/flats/riga/kiburga/\">Ķiburga</option><option value=\"/lv/real-estate/flats/riga/kipsala/\">Ķīpsala</option><option value=\"/lv/real-estate/flats/riga/kleisti/\">Kleisti</option><option value=\"/lv/real-estate/flats/riga/kliversala/\">Klīversala</option><option value=\"/lv/real-estate/flats/riga/krasta-st-area/\">Krasta r-ns</option><option value=\"/lv/real-estate/flats/riga/kremeri/\">Krēmeri</option><option value=\"/lv/real-estate/flats/riga/kundzinsala/\">Kundziņsala</option><option value=\"/lv/real-estate/flats/riga/lucavsala/\">Lucavsala</option><option value=\"/lv/real-estate/flats/riga/mangali/\">Mangaļi</option><option value=\"/lv/real-estate/flats/riga/mangalsala/\">Mangaļsala</option><option value=\"/lv/real-estate/flats/riga/maskavas-priekshpilseta/\">Maskavas priekšpilsēta</option><option value=\"/lv/real-estate/flats/riga/mezhapark/\">Mežaparks</option><option value=\"/lv/real-estate/flats/riga/mezhciems/\">Mežciems</option><option value=\"/lv/real-estate/flats/riga/ozolciems/\">Ozolciems</option><option value=\"/lv/real-estate/flats/riga/plyavnieki/\">Pļavnieki</option><option value=\"/lv/real-estate/flats/riga/purvciems/\">Purvciems</option><option value=\"/lv/real-estate/flats/riga/shampeteris-pleskodale/\">Šampēteris-Pleskodāle</option><option value=\"/lv/real-estate/flats/riga/sarkandaugava/\">Sarkandaugava</option><option value=\"/lv/real-estate/flats/riga/shkirotava/\">Šķirotava</option><option value=\"/lv/real-estate/flats/riga/stacija-tirgus/\">Stacija-Tirgus</option><option selected=\"\" value=\"/lv/real-estate/flats/riga/teika/\">Teika</option><option value=\"/lv/real-estate/flats/riga/tornjakalns/\">Torņakalns</option><option value=\"/lv/real-estate/flats/riga/trisciems/\">Trīsciems</option><option value=\"/lv/real-estate/flats/riga/vecaki/\">Vecāķi</option><option value=\"/lv/real-estate/flats/riga/vecdaugava/\">Vecdaugava</option><option value=\"/lv/real-estate/flats/riga/vecmilgravis/\">Vecmīlgrāvis</option><option value=\"/lv/real-estate/flats/riga/vecriga/\">Vecrīga</option><option value=\"/lv/real-estate/flats/riga/voleri/\">Voleri</option><option value=\"/lv/real-estate/flats/riga/zakusala/\">Zaķusala</option><option value=\"/lv/real-estate/flats/riga/zasulauks/\">Zasulauks</option><option value=\"/lv/real-estate/flats/riga/ziepniekkalns/\">Ziepniekkalns</option><option value=\"/lv/real-estate/flats/riga/zolitude/\">Zolitūde</option><option value=\"/lv/real-estate/flats/riga/vef/\">VEF</option><option value=\"/lv/real-estate/flats/riga/other/\">Cits</option>\n",
      "</select></span>\n",
      "<span class=\"filter_opt_dv\" style=\"padding-right:5px;\">Iela:<br/><select class=\"filter_sel l130\" id=\"f_o_11\" name=\"opt[11]\" onchange=\"this.form.submit();\"><option value=\"\"></option><option value=\"3809\">Āraišu</option><option value=\"3865\">Bajāru</option><option value=\"3911\">Bērzaunes</option><option value=\"3915\">Bērzpils</option><option value=\"3928\">Biķernieku</option><option value=\"3948\">Brīvības gatve</option><option value=\"3952\">Brīvības iela</option><option value=\"3973\">Burtnieku</option><option value=\"4149\">Dzērbenes</option><option value=\"5724\">Ieriķu</option><option value=\"5725\">Kastrānes</option><option value=\"4646\">Laimdotas</option><option value=\"4662\">Launkalnes</option><option value=\"4966\">Palmu</option><option value=\"4999\">Piebalgas</option><option value=\"5048\">Pudiķa</option><option value=\"5727\">Raunas</option><option value=\"5118\">Ropažu</option><option value=\"5316\">Struktoru</option><option value=\"5351\">Tālivalža</option><option value=\"5730\">Ūnijas</option><option value=\"5729\">Vairoga</option><option value=\"5478\">Vāveres</option><option value=\"5525\">Vidrižu</option><option value=\"5576\">Zālīša</option><option value=\"5597\">Zemgaļu</option></select></span></div>\n",
      "<table align=\"center\" border=\"0\" cellpadding=\"2\" cellspacing=\"0\" width=\"100%\">\n",
      "<tr id=\"head_line\">\n",
      "<td class=\"msg_column\" colspan=\"3\" width=\"70%\">\n",
      "<span style=\"float:left;\"> Sludinājumi\r\n",
      "</span>\n",
      "<span align=\"right\" class=\"msg_column\" style=\"float:right;text-align:right;padding-right:3px;\">\n",
      "<noindex>\n",
      "<a class=\"a19\" href=\"/lv/real-estate/flats/riga/teika/fDgSeF4S.html\" rel=\"nofollow\">datums</a></noindex></span>\n",
      "</td>\n",
      "<td class=\"msg_column_td\" nowrap=\"\"><noindex><a class=\"a18\" href=\"/lv/real-estate/flats/riga/teika/fDgSeF4SFDwT.html\" rel=\"nofollow\" title=\"\">Iela</a></noindex></td><td class=\"msg_column_td\" nowrap=\"\"><noindex><a class=\"a18\" href=\"/lv/real-estate/flats/riga/teika/fDgSeF4SelM=.html\" rel=\"nofollow\" title=\"\">Ist.</a></noindex></td><td class=\"msg_column_td\" nowrap=\"\"><noindex><a class=\"a18\" href=\"/lv/real-estate/flats/riga/teika/fDgSeF4QelM=.html\" rel=\"nofollow\" title=\"\">m2</a></noindex></td><td class=\"msg_column_td\" nowrap=\"\"><noindex><a class=\"a18\" href=\"/lv/real-estate/flats/riga/teika/fDgSeF4XelM=.html\" rel=\"nofollow\" title=\"\">Stāvs</a></noindex></td><td class=\"msg_column_td\" nowrap=\"\"><noindex><a class=\"a18\" href=\"/lv/real-estate/flats/riga/teika/fDgSeF4VelM=.html\" rel=\"nofollow\" title=\"\">Sērija</a></noindex></td><td background=\"https://i.ss.com/img/pl.gif\" class=\"msg_column\" nowrap=\"\" style=\"border-left:1px #FFFFFF solid;\"><noindex><a class=\"a18\" href=\"/lv/real-estate/flats/riga/teika/fDgSeF4bRDwT.html\" rel=\"nofollow\">Cena, m2</a></noindex></td><td class=\"msg_column_td\" nowrap=\"\"><noindex><a class=\"a18\" href=\"/lv/real-estate/flats/riga/teika/fDgSeF4belM=.html\" rel=\"nofollow\" title=\"\">Cena</a></noindex></td></tr><tr id=\"tr_44335500\"><td class=\"msga2 pp0\"><input id=\"c44335500\" name=\"mid[]\" type=\"checkbox\" value=\"44335500_1105_0\"/></td><td class=\"msga2\"><a href=\"/msg/lv/real-estate/flats/riga/teika/cgnhc.html\" id=\"im44335500\"><img alt=\"\" class=\"isfoto foto_list\" src=\"https://i.ss.com/gallery/2/308/76888/15377415.th2.jpg\"/></a></td><td class=\"msg2\"><div class=\"d1\"><a class=\"am\" data=\"aGolN0UlQTglN0YlODUlQjBjJTgyJUE0JTdGJTg3bGYlN0QlQUMlN0UlODNkYyU4NCVBQg==|42MtNP\" href=\"/msg/lv/real-estate/flats/riga/teika/cgnhc.html\" id=\"dm_44335500\">Mājīgs, mēbelēts dzīvoklis ar zemiem komunālajiem maksājumiem. \r",
      "</a></div></td><td c=\"1\" class=\"msga2-o pp6\" nowrap=\"\">Bērzpils 7</td><td c=\"1\" class=\"msga2-o pp6\" nowrap=\"\">1</td><td c=\"1\" class=\"msga2-o pp6\" nowrap=\"\">30</td><td c=\"1\" class=\"msga2-o pp6\" nowrap=\"\">4/5</td><td c=\"1\" class=\"msga2-o pp6\" nowrap=\"\">Hrušč.</td><td c=\"1\" class=\"msga2-o pp6\" nowrap=\"\">967 €</td><td c=\"1\" class=\"msga2-o pp6\" nowrap=\"\">29,000  €</td></tr>\n",
      "<tr id=\"tr_44333885\"><td class=\"msga2 pp0\"><input id=\"c44333885\" name=\"mid[]\" type=\"checkbox\" value=\"44333885_1105_0\"/></td><td class=\"msga2\"><a href=\"/msg/lv/real-estate/flats/riga/teika/cnbhj.html\" id=\"im44333885\"><img alt=\"\" class=\"isfoto foto_list\" src=\"https://i.ss.com/gallery/2/240/59862/11972299.th2.jpg\"/></a></td><td class=\"msg2\"><div class=\"d1\"><a class=\"am\" data=\"aSU4NyVBMSVBNiU4QSU4QyVERmklODclQTAlQTglODQlOEQlOTNpJTg1JUE1JUE0JThBJThEJTk2cSU4Nw==|8RnpSTc\" href=\"/msg/lv/real-estate/flats/riga/teika/cnbhj.html\" id=\"dm_44333885\"><b>Tikko pēc kapitāla eiroremonta, un ar visu nepieciešamu premium </b></a></div></td><td c=\"1\" class=\"msga2-o pp6\" nowrap=\"\"><b>Zālīša 1</b></td><td c=\"1\" class=\"msga2-o pp6\" nowrap=\"\"><b>1</b></td><td c=\"1\" class=\"msga2-o pp6\" nowrap=\"\"><b>33</b></td><td c=\"1\" class=\"msga2-o pp6\" nowrap=\"\"><b>3/5</b></td><td c=\"1\" class=\"msga2-o pp6\" nowrap=\"\"><b>103.</b></td><td c=\"1\" class=\"msga2-o pp6\" nowrap=\"\"><b>10</b> €</td><td c=\"1\" class=\"msga2-o pp6\" nowrap=\"\"><b>330</b>  €/mēn.</td></tr>\n",
      "<tr id=\"tr_44330691\"><td class=\"msga2 pp0\"><input id=\"c44330691\" name=\"mid[]\" type=\"checkbox\" value=\"44330691_1105_0\"/></td><td class=\"msga2\"><a href=\"/msg/lv/real-estate/flats/riga/teika/djxgi.html\" id=\"im44330691\"><img alt=\"\" class=\"isfoto foto_list\" src=\"https://i.ss.com/gallery/3/420/104874/20974782.th2.jpg\"/></a></td><td class=\"msg2\"><div class=\"d1\"><a class=\"am\" data=\"aSVBQSVBQyVBQW8lOTglQjN2JTdCaCVCMiVBQyVCMG4lOUFnJTdDJTdFaiVCMCVBQSVBQ2Y=|8yyy6b7EF\" href=\"/msg/lv/real-estate/flats/riga/teika/djxgi.html\" id=\"dm_44330691\">Место - вне конкуренции. центр \"старой\" Тейки. Напротив Teikas V</a></div></td><td c=\"1\" class=\"msga2-o pp6\" nowrap=\"\">Āraišu 2</td><td c=\"1\" class=\"msga2-o pp6\" nowrap=\"\">3</td><td c=\"1\" class=\"msga2-o pp6\" nowrap=\"\">80</td><td c=\"1\" class=\"msga2-o pp6\" nowrap=\"\">2/2</td><td c=\"1\" class=\"msga2-o pp6\" nowrap=\"\">Priv. m.</td><td c=\"1\" class=\"msga2-o pp6\" nowrap=\"\">1,088 €</td><td c=\"1\" class=\"msga2-o pp6\" nowrap=\"\">87,000  €</td></tr>\n",
      "<tr id=\"tr_44331871\"><td class=\"msga2 pp0\"><input id=\"c44331871\" name=\"mid[]\" type=\"checkbox\" value=\"44331871_1105_0\"/></td><td class=\"msga2\"><a href=\"/msg/lv/real-estate/flats/riga/teika/dchph.html\" id=\"im44331871\"><img alt=\"\" class=\"isfoto foto_list\" src=\"https://i.ss.com/gallery/3/420/104894/20978644.th2.jpg\"/></a></td><td class=\"msg2\"><div class=\"d1\"><a class=\"am\" data=\"ZSU4MSVBNyU4NGslQUZkaSU3QyVBOSU4MGhsY2slN0YlQUElODNlbGZk|4KsM333\" href=\"/msg/lv/real-estate/flats/riga/teika/dchph.html\" id=\"dm_44331871\"><b>Tiek izīrēts 2-istabu dzīvoklis, ar izolētām istabām ķieģeļu, sp</b></a></div></td><td c=\"1\" class=\"msga2-o pp6\" nowrap=\"\"><b>Ūnijas 28</b></td><td c=\"1\" class=\"msga2-o pp6\" nowrap=\"\"><b>2</b></td><td c=\"1\" class=\"msga2-o pp6\" nowrap=\"\"><b>50</b></td><td c=\"1\" class=\"msga2-o pp6\" nowrap=\"\"><b>3/5</b></td><td c=\"1\" class=\"msga2-o pp6\" nowrap=\"\"><b>Specpr.</b></td><td c=\"1\" class=\"msga2-o pp6\" nowrap=\"\"><b>6</b> €</td><td c=\"1\" class=\"msga2-o pp6\" nowrap=\"\"><b>300</b>  €/mēn.</td></tr>\n",
      "<tr id=\"tr_44330105\"><td class=\"msga2 pp0\"><input id=\"c44330105\" name=\"mid[]\" type=\"checkbox\" value=\"44330105_1105_0\"/></td><td class=\"msga2\"><a href=\"/msg/lv/real-estate/flats/riga/teika/annpm.html\" id=\"im44330105\"><img alt=\"\" class=\"isfoto foto_list\" src=\"https://i.ss.com/gallery/3/420/104865/20972829.th2.jpg\"/></a></td><td class=\"msg2\"><div class=\"d1\"><a class=\"am\" data=\"eSU3RCU3QyU3RSVBOSU4QSU5MiVFMSU5NyU3RCU3RSU3QiU4MiVBNiU5MCU5MSU5RSU5RCU3QyU4MSU4MCU3Qg==|HKKKsXYef\" href=\"/msg/lv/real-estate/flats/riga/teika/annpm.html\" id=\"dm_44330105\"><b>Īpašnieks izīrē. saulains, gaišs, daļēji Mēbelēts(Ikea), Necaurs</b></a></div></td><td c=\"1\" class=\"msga2-o pp6\" nowrap=\"\"><b>Piebalgas 4</b></td><td c=\"1\" class=\"msga2-o pp6\" nowrap=\"\"><b>2</b></td><td c=\"1\" class=\"msga2-o pp6\" nowrap=\"\"><b>45</b></td><td c=\"1\" class=\"msga2-o pp6\" nowrap=\"\"><b>5/5</b></td><td c=\"1\" class=\"msga2-o pp6\" nowrap=\"\"><b>Renov.</b></td><td c=\"1\" class=\"msga2-o pp6\" nowrap=\"\"><b>6.67</b> €</td><td c=\"1\" class=\"msga2-o pp6\" nowrap=\"\"><b>300</b>  €/mēn.</td></tr>\n",
      "<tr id=\"tr_43941864\"><td class=\"msga2 pp0\"><input id=\"c43941864\" name=\"mid[]\" type=\"checkbox\" value=\"43941864_1105_0\"/></td><td class=\"msga2\"><a href=\"/msg/lv/real-estate/flats/riga/teika/kmggx.html\" id=\"im43941864\"><img alt=\"\" class=\"isfoto foto_list\" src=\"https://i.ss.com/gallery/2/395/98631/19726085.th2.jpg\"/></a></td><td class=\"msg2\"><div class=\"d1\"><a class=\"am\" data=\"JThFeSU5NyVBMiVBN2slRDQlODklOUFxJThBJTgwJTlBJUE5JUE1aCU4RSU4QiU5Q3ElOEN4|YHgrs2XXeA\" href=\"/msg/lv/real-estate/flats/riga/teika/kmggx.html\" id=\"dm_43941864\">Unikāls dzīvokļu projekts izvietots slēgtā, zaļā teritorijā ar d</a></div></td><td c=\"1\" class=\"msga2-o pp6\" nowrap=\"\">Vairoga 32</td><td c=\"1\" class=\"msga2-o pp6\" nowrap=\"\">4</td><td c=\"1\" class=\"msga2-o pp6\" nowrap=\"\">57</td><td c=\"1\" class=\"msga2-o pp6\" nowrap=\"\">1/3</td><td c=\"1\" class=\"msga2-o pp6\" nowrap=\"\">Renov.</td><td c=\"1\" class=\"msga2-o pp6\" nowrap=\"\">1,949 €</td><td c=\"1\" class=\"msga2-o pp6\" nowrap=\"\">111,110  €</td></tr>\n",
      "<tr id=\"tr_43941782\"><td class=\"msga2 pp0\"><input id=\"c43941782\" name=\"mid[]\" type=\"checkbox\" value=\"43941782_1105_0\"/></td><td class=\"msga2\"><a href=\"/msg/lv/real-estate/flats/riga/teika/cbchm.html\" id=\"im43941782\"><img alt=\"\" class=\"isfoto foto_list\" src=\"https://i.ss.com/gallery/2/395/98623/19724552.th2.jpg\"/></a></td><td class=\"msg2\"><div class=\"d1\"><a class=\"am\" data=\"JTg1JTkyZiU5OHglQUUlQ0NlJTlDJTk3JTgxJTk5aSU5RnYlQUIlODZnJTlFJTk3JTgzJTkx|Pa6hDuP4gg\" href=\"/msg/lv/real-estate/flats/riga/teika/cbchm.html\" id=\"dm_43941782\">Unikāls dzīvokļu projekts izvietots slēgtā, zaļā teritorijā ar d</a></div></td><td c=\"1\" class=\"msga2-o pp6\" nowrap=\"\">Vairoga 32</td><td c=\"1\" class=\"msga2-o pp6\" nowrap=\"\">3</td><td c=\"1\" class=\"msga2-o pp6\" nowrap=\"\">52</td><td c=\"1\" class=\"msga2-o pp6\" nowrap=\"\">3/4</td><td c=\"1\" class=\"msga2-o pp6\" nowrap=\"\">Renov.</td><td c=\"1\" class=\"msga2-o pp6\" nowrap=\"\">1,923 €</td><td c=\"1\" class=\"msga2-o pp6\" nowrap=\"\">100,000  €</td></tr>\n",
      "<tr id=\"tr_43941681\"><td class=\"msga2 pp0\"><input id=\"c43941681\" name=\"mid[]\" type=\"checkbox\" value=\"43941681_1105_0\"/></td><td class=\"msga2\"><a href=\"/msg/lv/real-estate/flats/riga/teika/bgmbg.html\" id=\"im43941681\"><img alt=\"\" class=\"isfoto foto_list\" src=\"https://i.ss.com/gallery/2/395/98621/19724128.th2.jpg\"/></a></td><td class=\"msg2\"><div class=\"d1\"><a class=\"am\" data=\"JUE3JTg2JTg1YiU5OXolRTIlQTMlODklODUlQTMlOEQlODhpJTk3dyU5QyVBNSU4QiU4NSVBNSU4NQ==|rUU2eAfrTU\" href=\"/msg/lv/real-estate/flats/riga/teika/bgmbg.html\" id=\"dm_43941681\">Unikāls dzīvokļu projekts izvietots slēgtā, zaļā teritorijā ar d</a></div></td><td c=\"1\" class=\"msga2-o pp6\" nowrap=\"\">Vairoga 32</td><td c=\"1\" class=\"msga2-o pp6\" nowrap=\"\">2</td><td c=\"1\" class=\"msga2-o pp6\" nowrap=\"\">28</td><td c=\"1\" class=\"msga2-o pp6\" nowrap=\"\">1/3</td><td c=\"1\" class=\"msga2-o pp6\" nowrap=\"\">Renov.</td><td c=\"1\" class=\"msga2-o pp6\" nowrap=\"\">1,982 €</td><td c=\"1\" class=\"msga2-o pp6\" nowrap=\"\">55,500  €</td></tr>\n",
      "<tr id=\"tr_44027422\"><td class=\"msga2 pp0\"><input id=\"c44027422\" name=\"mid[]\" type=\"checkbox\" value=\"44027422_1105_0\"/></td><td class=\"msga2\"><a href=\"/msg/lv/real-estate/flats/riga/teika/eojgh.html\" id=\"im44027422\"><img alt=\"\" class=\"isfoto foto_list\" src=\"https://i.ss.com/gallery/2/397/99119/19823717.th2.jpg\"/></a></td><td class=\"msg2\"><div class=\"d1\"><a class=\"am\" data=\"JUEyZyU5MSU5MiU5NiVBNCVDMSU4MSVBMmYlOTIlOUElOTUlQTJ3JTg2JUEzaSU5OCU5MiU5NSU5Qg==|m6abbkEP\" href=\"/msg/lv/real-estate/flats/riga/teika/eojgh.html\" id=\"dm_44027422\">Уникальный проект с детской площадкой и парковкой на закрытой зе</a></div></td><td c=\"1\" class=\"msga2-o pp6\" nowrap=\"\">Vairoga 32</td><td c=\"1\" class=\"msga2-o pp6\" nowrap=\"\">3</td><td c=\"1\" class=\"msga2-o pp6\" nowrap=\"\">42</td><td c=\"1\" class=\"msga2-o pp6\" nowrap=\"\">3/3</td><td c=\"1\" class=\"msga2-o pp6\" nowrap=\"\">Renov.</td><td c=\"1\" class=\"msga2-o pp6\" nowrap=\"\">2,000 €</td><td c=\"1\" class=\"msga2-o pp6\" nowrap=\"\">84,000  €</td></tr>\n",
      "<tr id=\"tr_44329507\"><td class=\"msga2 pp0\"><input id=\"c44329507\" name=\"mid[]\" type=\"checkbox\" value=\"44329507_1105_0\"/></td><td class=\"msga2\"><a href=\"/msg/lv/real-estate/flats/riga/teika/ghopn.html\" id=\"im44329507\"><img alt=\"\" class=\"isfoto foto_list\" src=\"https://i.ss.com/gallery/2/365/91090/18217862.th2.jpg\"/></a></td><td class=\"msg2\"><div class=\"d1\"><a class=\"am\" data=\"JTg0enZ6dSU3RSVGMCU4QSU4M3J0d3olODMlQUMlOTElODB1JTdCdCU3QyU4NQ==|NBBCCMtY\" href=\"/msg/lv/real-estate/flats/riga/teika/ghopn.html\" id=\"dm_44329507\"><b>Īpašniece izīrē mājīgu, vienas istabas studio tipa dzīvokli (15 </b></a></div></td><td c=\"1\" class=\"msga2-o pp6\" nowrap=\"\"><b>Struktoru 13</b></td><td c=\"1\" class=\"msga2-o pp6\" nowrap=\"\"><b>1</b></td><td c=\"1\" class=\"msga2-o pp6\" nowrap=\"\"><b>15</b></td><td c=\"1\" class=\"msga2-o pp6\" nowrap=\"\"><b>3/4</b></td><td c=\"1\" class=\"msga2-o pp6\" nowrap=\"\"><b>Staļina</b></td><td c=\"1\" class=\"msga2-o pp6\" nowrap=\"\"><b>14</b> €</td><td c=\"1\" class=\"msga2-o pp6\" nowrap=\"\"><b>210</b>  €/mēn.</td></tr>\n",
      "<tr id=\"tr_44013166\"><td class=\"msga2 pp0\"><input id=\"c44013166\" name=\"mid[]\" type=\"checkbox\" value=\"44013166_1105_0\"/></td><td class=\"msga2\"><a href=\"/msg/lv/real-estate/flats/riga/teika/eicjk.html\" id=\"im44013166\"><img alt=\"\" class=\"isfoto foto_list\" src=\"https://i.ss.com/gallery/2/399/99678/19935515.th2.jpg\"/></a></td><td class=\"msg2\"><div class=\"d1\"><a class=\"am\" data=\"eGglOEYlOEYlQjAlOTd3JUE2JTg4JThDdmMlODklOEZmJTlDeCVBNSU4OSU4QnU=|C3XY4fBsXX\" href=\"/msg/lv/real-estate/flats/riga/teika/eicjk.html\" id=\"dm_44013166\"><b>Pārdod pilnībā labiekārtotu dzīvokli projektā ''Jaunā Teika''. \r",
      "</b></a></div></td><td c=\"1\" class=\"msga2-o pp6\" nowrap=\"\"><b>Ropažu 10</b></td><td c=\"1\" class=\"msga2-o pp6\" nowrap=\"\"><b>2</b></td><td c=\"1\" class=\"msga2-o pp6\" nowrap=\"\"><b>44</b></td><td c=\"1\" class=\"msga2-o pp6\" nowrap=\"\"><b>13/16</b></td><td c=\"1\" class=\"msga2-o pp6\" nowrap=\"\"><b>Jaun.</b></td><td c=\"1\" class=\"msga2-o pp6\" nowrap=\"\"><b>2,205</b> €</td><td c=\"1\" class=\"msga2-o pp6\" nowrap=\"\"><b>97,000</b>  €</td></tr>\n",
      "<tr id=\"tr_44327684\"><td class=\"msga2 pp0\"><input id=\"c44327684\" name=\"mid[]\" type=\"checkbox\" value=\"44327684_1105_0\"/></td><td class=\"msga2\"><a href=\"/msg/lv/real-estate/flats/riga/teika/agced.html\" id=\"im44327684\"><img alt=\"\" class=\"isfoto foto_list\" src=\"https://i.ss.com/gallery/3/420/104826/20965074.th2.jpg\"/></a></td><td class=\"msg2\"><div class=\"d1\"><a class=\"am\" data=\"JTdGaiU4QmMlOTYlOTclQzR5ZiU4NWMlOUQlOTl4JTdDZSU4RGMlOUElOUR5JTdC|H1U2eeH\" href=\"/msg/lv/real-estate/flats/riga/teika/agced.html\" id=\"dm_44327684\">Piedāvājam iegādāties jauku, saulainu vienistabas dzīvokli privā</a></div></td><td c=\"1\" class=\"msga2-o pp6\" nowrap=\"\">Zālīša 3</td><td c=\"1\" class=\"msga2-o pp6\" nowrap=\"\">1</td><td c=\"1\" class=\"msga2-o pp6\" nowrap=\"\">35</td><td c=\"1\" class=\"msga2-o pp6\" nowrap=\"\">2/5</td><td c=\"1\" class=\"msga2-o pp6\" nowrap=\"\">103.</td><td c=\"1\" class=\"msga2-o pp6\" nowrap=\"\">1,200 €</td><td c=\"1\" class=\"msga2-o pp6\" nowrap=\"\">42,000  €</td></tr>\n",
      "<tr id=\"tr_42290877\"><td class=\"msga2 pp0\"><input id=\"c42290877\" name=\"mid[]\" type=\"checkbox\" value=\"42290877_1105_0\"/></td><td class=\"msga2\"><a href=\"/msg/lv/real-estate/flats/riga/teika/apiin.html\" id=\"im42290877\"><img alt=\"\" class=\"isfoto foto_list\" src=\"https://i.ss.com/img/buy/homes.lv.gif\"/></a></td><td class=\"msg2\"><div class=\"d1\"><a class=\"am\" data=\"aCU5RCVBQXJzYyVGNWIlOTklQTRyemUlQTllJTk4JUFDcndpJUFBZA==|1dtAB1y\" href=\"/msg/lv/real-estate/flats/riga/teika/apiin.html\" id=\"dm_42290877\"><b>Šobrīd aktīvi meklējam savu klientu interesēs divu līdz četru (2</b></a></div></td><td c=\"1\" class=\"msga2-o pp6\" nowrap=\"\"><b>Ieriķu 29</b></td><td c=\"1\" class=\"msga2-o pp6\" nowrap=\"\"><b>4</b></td><td c=\"1\" class=\"msga2-o pp6\" nowrap=\"\"><b>78</b></td><td c=\"1\" class=\"msga2-o pp6\" nowrap=\"\"><b>-</b></td><td c=\"1\" class=\"msga2-o pp6\" nowrap=\"\"><b>-</b></td><td c=\"1\" class=\"msga2-o pp6\" nowrap=\"\"><b>-</b></td><td c=\"1\" class=\"msga2-o pp6\" nowrap=\"\"><b>pērku</b> </td></tr>\n",
      "<tr id=\"tr_40516589\"><td class=\"msga2 pp0\"><input id=\"c40516589\" name=\"mid[]\" type=\"checkbox\" value=\"40516589_1105_0\"/></td><td class=\"msga2\"><a href=\"/msg/lv/real-estate/flats/riga/teika/bngnf.html\" id=\"im40516589\"><img alt=\"\" class=\"isfoto foto_list\" src=\"https://i.ss.com/gallery/2/299/74565/14912821.th2.jpg\"/></a></td><td class=\"msg2\"><div class=\"d1\"><a class=\"am\" data=\"JTlGJUE0aiU5NCU4QWMlQ0MlOTklQTBkJTk0JTkxZSU4MCU5QyU5RmwlOTQlOEVpJTgxJTlC|hk4cY1P\" href=\"/msg/lv/real-estate/flats/riga/teika/bngnf.html\" id=\"dm_40516589\">Piedāvājam iegādāties jauku, kvalitatīvi remontētu\r\n",
      "divistabu dz</a></div></td><td c=\"1\" class=\"msga2-o pp6\" nowrap=\"\">Laimdotas 57</td><td c=\"1\" class=\"msga2-o pp6\" nowrap=\"\">2</td><td c=\"1\" class=\"msga2-o pp6\" nowrap=\"\">42</td><td c=\"1\" class=\"msga2-o pp6\" nowrap=\"\">4/5</td><td c=\"1\" class=\"msga2-o pp6\" nowrap=\"\">Hrušč.</td><td c=\"1\" class=\"msga2-o pp6\" nowrap=\"\">1,524 €</td><td c=\"1\" class=\"msga2-o pp6\" nowrap=\"\">64,000  €</td></tr>\n",
      "<tr id=\"tr_44325963\"><td class=\"msga2 pp0\"><input id=\"c44325963\" name=\"mid[]\" type=\"checkbox\" value=\"44325963_1105_0\"/></td><td class=\"msga2\"><a href=\"/msg/lv/real-estate/flats/riga/teika/cocme.html\" id=\"im44325963\"><img alt=\"\" class=\"isfoto foto_list\" src=\"https://i.ss.com/gallery/3/420/104797/20959257.th2.jpg\"/></a></td><td class=\"msg2\"><div class=\"d1\"><a class=\"am\" data=\"JTk5JThBJUFEJTgzJTg3JUYwJTk0JThBJUFCJTdEJTg5JUFDJTlCJTg4JUFCJTg0JTg0JUFDJTk0JThEJUIwJTgy|cUxMRt\" href=\"/msg/lv/real-estate/flats/riga/teika/cocme.html\" id=\"dm_44325963\">Pārdodu dzīvokli divstāvu mājā, ar izolētām istabām. Junkers gāz</a></div></td><td c=\"1\" class=\"msga2-o pp6\" nowrap=\"\">Ropažu 2</td><td c=\"1\" class=\"msga2-o pp6\" nowrap=\"\">2</td><td c=\"1\" class=\"msga2-o pp6\" nowrap=\"\">50</td><td c=\"1\" class=\"msga2-o pp6\" nowrap=\"\">2/2</td><td c=\"1\" class=\"msga2-o pp6\" nowrap=\"\">P. kara</td><td c=\"1\" class=\"msga2-o pp6\" nowrap=\"\">1,260 €</td><td c=\"1\" class=\"msga2-o pp6\" nowrap=\"\">63,000  €</td></tr>\n",
      "<tr id=\"tr_44325925\"><td class=\"msga2 pp0\"><input id=\"c44325925\" name=\"mid[]\" type=\"checkbox\" value=\"44325925_1105_0\"/></td><td class=\"msga2\"><a href=\"/msg/lv/real-estate/flats/riga/teika/aiddk.html\" id=\"im44325925\"><img alt=\"\" class=\"isfoto foto_list\" src=\"https://i.ss.com/gallery/3/420/104796/20959181.th2.jpg\"/></a></td><td class=\"msg2\"><div class=\"d1\"><a class=\"am\" data=\"JTlDJTk5JTlBaCU4RCU4QiVGMSU5OSU5RCU5NW4lOEMlODUlQUIlQTElOTklOURqJTkyJTg0JUFFJTlF|hhe6YTu\" href=\"/msg/lv/real-estate/flats/riga/teika/aiddk.html\" id=\"dm_44325925\"><b>Saimnieks izīrē mēbelētu divistabu dzīvokli ilgtermiņā. Ir balko</b></a></div></td><td c=\"1\" class=\"msga2-o pp6\" nowrap=\"\"><b>Biķernieku 79</b></td><td c=\"1\" class=\"msga2-o pp6\" nowrap=\"\"><b>2</b></td><td c=\"1\" class=\"msga2-o pp6\" nowrap=\"\"><b>46</b></td><td c=\"1\" class=\"msga2-o pp6\" nowrap=\"\"><b>3/5</b></td><td c=\"1\" class=\"msga2-o pp6\" nowrap=\"\"><b>Hrušč.</b></td><td c=\"1\" class=\"msga2-o pp6\" nowrap=\"\"><b>5.98</b> €</td><td c=\"1\" class=\"msga2-o pp6\" nowrap=\"\"><b>275</b>  €/mēn.</td></tr>\n",
      "<tr id=\"tr_43746668\"><td class=\"msga2 pp0\"><input id=\"c43746668\" name=\"mid[]\" type=\"checkbox\" value=\"43746668_1105_0\"/></td><td class=\"msga2\"><a href=\"/msg/lv/real-estate/flats/riga/teika/aeffk.html\" id=\"im43746668\"><img alt=\"\" class=\"isfoto foto_list\" src=\"https://i.ss.com/gallery/2/399/99708/19941430.th2.jpg\"/></a></td><td class=\"msg2\"><div class=\"d1\"><a class=\"am\" data=\"JUE5JTdGJTdGJTlEJTk0JTlEJUUxJTk5biU5MiVBMyU4M3olOUMlOUElOUQlOUElOUNxJTlBJUFBJTgx|rKFgdheh9b\" href=\"/msg/lv/real-estate/flats/riga/teika/aeffk.html\" id=\"dm_43746668\">Редкое предложение. \r\n",
      "Просторная и светлая 3-х комнатная квартир</a></div></td><td c=\"1\" class=\"msga2-o pp6\" nowrap=\"\">Brīvības 241</td><td c=\"1\" class=\"msga2-o pp6\" nowrap=\"\">3</td><td c=\"1\" class=\"msga2-o pp6\" nowrap=\"\">70</td><td c=\"1\" class=\"msga2-o pp6\" nowrap=\"\">5/5</td><td c=\"1\" class=\"msga2-o pp6\" nowrap=\"\">Specpr.</td><td c=\"1\" class=\"msga2-o pp6\" nowrap=\"\">999 €</td><td c=\"1\" class=\"msga2-o pp6\" nowrap=\"\">69,950  €</td></tr>\n",
      "<tr id=\"tr_44324922\"><td class=\"msga2 pp0\"><input id=\"c44324922\" name=\"mid[]\" type=\"checkbox\" value=\"44324922_1105_0\"/></td><td class=\"msga2\"><a href=\"/msg/lv/real-estate/flats/riga/teika/dlxex.html\" id=\"im44324922\"><img alt=\"\" class=\"isfoto foto_list\" src=\"https://i.ss.com/gallery/3/420/104780/20955806.th2.jpg\"/></a></td><td class=\"msg2\"><div class=\"d1\"><a class=\"am\" data=\"JUE2JUE3JTk2JTlGeml4JUI1dSVBQSVBNiU5RSVBM3Jxd292JUFEJUE4JTk2JUEweA==|uufmB8C9D\" href=\"/msg/lv/real-estate/flats/riga/teika/dlxex.html\" id=\"dm_44324922\"><b>Firma steidzami vēlas īrēt divistabu dzīvokli Teikā vai Čiekurka</b></a></div></td><td c=\"1\" class=\"msga2-o pp6\" nowrap=\"\"><b>-</b></td><td c=\"1\" class=\"msga2-o pp6\" nowrap=\"\"><b>2</b></td><td c=\"1\" class=\"msga2-o pp6\" nowrap=\"\"><b>30</b></td><td c=\"1\" class=\"msga2-o pp6\" nowrap=\"\"><b>-</b></td><td c=\"1\" class=\"msga2-o pp6\" nowrap=\"\"><b>-</b></td><td c=\"1\" class=\"msga2-o pp6\" nowrap=\"\"><b>-</b></td><td c=\"1\" class=\"msga2-o pp6\" nowrap=\"\"><b>vēlos<br/>īret</b> </td></tr>\n",
      "<tr id=\"tr_41533888\"><td class=\"msga2 pp0\"><input id=\"c41533888\" name=\"mid[]\" type=\"checkbox\" value=\"41533888_1105_0\"/></td><td class=\"msga2\"><a href=\"/msg/lv/real-estate/flats/riga/teika/fefcp.html\" id=\"im41533888\"><img alt=\"\" class=\"isfoto foto_list\" src=\"https://i.ss.com/gallery/2/306/76272/15254301.th2.jpg\"/></a></td><td class=\"msg2\"><div class=\"d1\"><a class=\"am\" data=\"a3klN0YlOEElODklOTYlQjV4JTgyJTgzJThBJTk5cXklODMlODklOEUlOTRreSU4MSU4OQ==|9GMSYb\" href=\"/msg/lv/real-estate/flats/riga/teika/fefcp.html\" id=\"dm_41533888\">Pārdošanā lielisks 2-istabu dzīvoklis paša Teika sirdī. Slēgta k</a></div></td><td c=\"1\" class=\"msga2-o pp6\" nowrap=\"\">Brīvības 326</td><td c=\"1\" class=\"msga2-o pp6\" nowrap=\"\">2</td><td c=\"1\" class=\"msga2-o pp6\" nowrap=\"\">68</td><td c=\"1\" class=\"msga2-o pp6\" nowrap=\"\">3/5</td><td c=\"1\" class=\"msga2-o pp6\" nowrap=\"\">Staļina</td><td c=\"1\" class=\"msga2-o pp6\" nowrap=\"\">1,000 €</td><td c=\"1\" class=\"msga2-o pp6\" nowrap=\"\">68,000  €</td></tr>\n",
      "<tr id=\"tr_33484245\"><td class=\"msga2 pp0\"><input id=\"c33484245\" name=\"mid[]\" type=\"checkbox\" value=\"33484245_1105_0\"/></td><td class=\"msga2\"><a href=\"/msg/lv/real-estate/flats/riga/teika/aejno.html\" id=\"im33484245\"><img alt=\"\" class=\"isfoto foto_list\" src=\"https://i.ss.com/img/buy/homes.lv.gif\"/></a></td><td class=\"msg2\"><div class=\"d1\"><a class=\"am\" data=\"JTkwJUFDJTdEJTg3JTdFJUMxJTg5JUE5eSU4Mnl1JTkwJUFDJTgxJTg1eXklOEUlQUIlN0UlN0U=|XtHNHE\" href=\"/msg/lv/real-estate/flats/riga/teika/aejno.html\" id=\"dm_33484245\"><b>За наличные деньги - \r\n",
      "\r\n",
      "покупаем - 1 - 1.5 - 2 - 3 - 4 - ком. к</b></a></div></td><td c=\"1\" class=\"msga2-o pp6\" nowrap=\"\"><b>- 777</b></td><td c=\"1\" class=\"msga2-o pp6\" nowrap=\"\"><b>2</b></td><td c=\"1\" class=\"msga2-o pp6\" nowrap=\"\"><b>-</b></td><td c=\"1\" class=\"msga2-o pp6\" nowrap=\"\"><b>12/9</b></td><td c=\"1\" class=\"msga2-o pp6\" nowrap=\"\"><b>-</b></td><td c=\"1\" class=\"msga2-o pp6\" nowrap=\"\"><b>-</b></td><td c=\"1\" class=\"msga2-o pp6\" nowrap=\"\"><b>pērku</b> </td></tr>\n",
      "<tr id=\"tr_43777986\"><td class=\"msga2 pp0\"><input id=\"c43777986\" name=\"mid[]\" type=\"checkbox\" value=\"43777986_1105_0\"/></td><td class=\"msga2\"><a href=\"/msg/lv/real-estate/flats/riga/teika/bbhfjc.html\" id=\"im43777986\"><img alt=\"\" class=\"isfoto foto_list\" src=\"https://i.ss.com/gallery/2/386/96288/19257542.th2.jpg\"/></a></td><td class=\"msg2\"><div class=\"d1\"><a class=\"am\" data=\"bSU5OWUlODYlODMlOEElRjFnJTk3ZSU4QiU3RiU4QSVBRGclOTdoJThDJTdGJTg1JUFCaA==|6b3TNTu\" href=\"/msg/lv/real-estate/flats/riga/teika/bbhfjc.html\" id=\"dm_43777986\">Piedāvājam mājīgu divistabu mansarda dzīvoklīti. \r\n",
      "Īpašums atrod</a></div></td><td c=\"1\" class=\"msga2-o pp6\" nowrap=\"\">Ropažu 91</td><td c=\"1\" class=\"msga2-o pp6\" nowrap=\"\">2</td><td c=\"1\" class=\"msga2-o pp6\" nowrap=\"\">37</td><td c=\"1\" class=\"msga2-o pp6\" nowrap=\"\">2/2</td><td c=\"1\" class=\"msga2-o pp6\" nowrap=\"\">P. kara</td><td c=\"1\" class=\"msga2-o pp6\" nowrap=\"\">500 €</td><td c=\"1\" class=\"msga2-o pp6\" nowrap=\"\">18,500  €</td></tr>\n",
      "<tr id=\"tr_44321849\"><td class=\"msga2 pp0\"><input id=\"c44321849\" name=\"mid[]\" type=\"checkbox\" value=\"44321849_1105_0\"/></td><td class=\"msga2\"><a href=\"/msg/lv/real-estate/flats/riga/teika/ddhnk.html\" id=\"im44321849\"><img alt=\"\" class=\"isfoto foto_list\" src=\"https://i.ss.com/gallery/3/419/104730/20945946.th2.jpg\"/></a></td><td class=\"msg2\"><div class=\"d1\"><a class=\"am\" data=\"eSU5QmklOTJkJTg5JUNBdCU5RGklOTNqJThCJTgydyVBMW4lOUJpJTgzJTg3eQ==|Ch9b3SN\" href=\"/msg/lv/real-estate/flats/riga/teika/ddhnk.html\" id=\"dm_44321849\"><b>Namīpašnieks izīrē dzīvokli pēc remonta. Vietējā gāzes apkure.</b></a></div></td><td c=\"1\" class=\"msga2-o pp6\" nowrap=\"\"><b>Pudiķa 13</b></td><td c=\"1\" class=\"msga2-o pp6\" nowrap=\"\"><b>1</b></td><td c=\"1\" class=\"msga2-o pp6\" nowrap=\"\"><b>25</b></td><td c=\"1\" class=\"msga2-o pp6\" nowrap=\"\"><b>3/3</b></td><td c=\"1\" class=\"msga2-o pp6\" nowrap=\"\"><b>Priv. m.</b></td><td c=\"1\" class=\"msga2-o pp6\" nowrap=\"\"><b>10</b> €</td><td c=\"1\" class=\"msga2-o pp6\" nowrap=\"\"><b>250</b>  €/mēn.</td></tr>\n",
      "<tr id=\"tr_44319735\"><td class=\"msga2 pp0\"><input id=\"c44319735\" name=\"mid[]\" type=\"checkbox\" value=\"44319735_1105_0\"/></td><td class=\"msga2\"><a href=\"/msg/lv/real-estate/flats/riga/teika/bmicp.html\" id=\"im44319735\"><img alt=\"\" class=\"isfoto foto_list\" src=\"https://i.ss.com/gallery/3/419/104697/20939292.th2.jpg\"/></a></td><td class=\"msg2\"><div class=\"d1\"><a class=\"am\" data=\"bnBqaWVjJUY0aGxkaWxlJUE4a2tsaWlpJUE5ag==|774841x\" href=\"/msg/lv/real-estate/flats/riga/teika/bmicp.html\" id=\"dm_44319735\">Piedāvājam iegādāties gaišu, plašu dzīvokli Teikā, labā vietā Br</a></div></td><td c=\"1\" class=\"msga2-o pp6\" nowrap=\"\">Brīvības 358</td><td c=\"1\" class=\"msga2-o pp6\" nowrap=\"\">3</td><td c=\"1\" class=\"msga2-o pp6\" nowrap=\"\">72</td><td c=\"1\" class=\"msga2-o pp6\" nowrap=\"\">1/4</td><td c=\"1\" class=\"msga2-o pp6\" nowrap=\"\">Staļina</td><td c=\"1\" class=\"msga2-o pp6\" nowrap=\"\">1,318 €</td><td c=\"1\" class=\"msga2-o pp6\" nowrap=\"\">94,900  €</td></tr>\n",
      "<tr id=\"tr_44314988\"><td class=\"msga2 pp0\"><input id=\"c44314988\" name=\"mid[]\" type=\"checkbox\" value=\"44314988_1105_0\"/></td><td class=\"msga2\"><a href=\"/msg/lv/real-estate/flats/riga/teika/gdxic.html\" id=\"im44314988\"><img alt=\"\" class=\"isfoto foto_list\" src=\"https://i.ss.com/gallery/3/419/104621/20924149.th2.jpg\"/></a></td><td class=\"msg2\"><div class=\"d1\"><a class=\"am\" data=\"JTlBJUE1JTdFJUFDZiVERXIlQTAlQTIlOTYlQTAlODUlQjBqJTk0diU5RiVBOCU5QiVBOSU4NQ==|dpMy3bAkr\" href=\"/msg/lv/real-estate/flats/riga/teika/gdxic.html\" id=\"dm_44314988\">Dzīvoklis labā tehniskā un vizuālā stāvoklī, neprasa steidzamus </a></div></td><td c=\"1\" class=\"msga2-o pp6\" nowrap=\"\">Ropažu 122 k-5</td><td c=\"1\" class=\"msga2-o pp6\" nowrap=\"\">1</td><td c=\"1\" class=\"msga2-o pp6\" nowrap=\"\">37</td><td c=\"1\" class=\"msga2-o pp6\" nowrap=\"\">1/2</td><td c=\"1\" class=\"msga2-o pp6\" nowrap=\"\">Staļina</td><td c=\"1\" class=\"msga2-o pp6\" nowrap=\"\">1,078 €</td><td c=\"1\" class=\"msga2-o pp6\" nowrap=\"\">39,900  €</td></tr>\n",
      "<tr id=\"tr_44318701\"><td class=\"msga2 pp0\"><input id=\"c44318701\" name=\"mid[]\" type=\"checkbox\" value=\"44318701_1105_0\"/></td><td class=\"msga2\"><a href=\"/msg/lv/real-estate/flats/riga/teika/ahkpe.html\" id=\"im44318701\"><img alt=\"\" class=\"isfoto foto_list\" src=\"https://i.ss.com/gallery/3/419/104681/20936019.th2.jpg\"/></a></td><td class=\"msg2\"><div class=\"d1\"><a class=\"am\" data=\"JUFCJTkyJTg4bXUlQTIlRjUlOTMlOERpcSVBMSVCMiU5NSU4OWhyJUEwJUFCJTk3JTkwanI=|ybX6Ak\" href=\"/msg/lv/real-estate/flats/riga/teika/ahkpe.html\" id=\"dm_44318701\"><b>Netālu no Alfas, izīrē īpašnieks</b></a></div></td><td c=\"1\" class=\"msga2-o pp6\" nowrap=\"\"><b>Brīvības 334</b></td><td c=\"1\" class=\"msga2-o pp6\" nowrap=\"\"><b>2</b></td><td c=\"1\" class=\"msga2-o pp6\" nowrap=\"\"><b>45</b></td><td c=\"1\" class=\"msga2-o pp6\" nowrap=\"\"><b>1/5</b></td><td c=\"1\" class=\"msga2-o pp6\" nowrap=\"\"><b>119.</b></td><td c=\"1\" class=\"msga2-o pp6\" nowrap=\"\"><b>6.67</b> €</td><td c=\"1\" class=\"msga2-o pp6\" nowrap=\"\"><b>300</b>  €/mēn.</td></tr>\n",
      "<tr id=\"tr_42757345\"><td class=\"msga2 pp0\"><input id=\"c42757345\" name=\"mid[]\" type=\"checkbox\" value=\"42757345_1105_0\"/></td><td class=\"msga2\"><a href=\"/msg/lv/real-estate/flats/riga/teika/cpojk.html\" id=\"im42757345\"><img alt=\"\" class=\"isfoto foto_list\" src=\"https://i.ss.com/gallery/2/328/81988/16397568.th2.jpg\"/></a></td><td class=\"msg2\"><div class=\"d1\"><a class=\"am\" data=\"JTdEZ2UlQTUlODglQzd4eCU5RXlvaSVBNSU4MCU4MXl3JTlFJTdFams=|H74sPKGCn\" href=\"/msg/lv/real-estate/flats/riga/teika/cpojk.html\" id=\"dm_42757345\">Продаётся квартира. Квартира в середине дома. Очень тёплая, солн</a></div></td><td c=\"1\" class=\"msga2-o pp6\" nowrap=\"\">Burtnieku 33</td><td c=\"1\" class=\"msga2-o pp6\" nowrap=\"\">1</td><td c=\"1\" class=\"msga2-o pp6\" nowrap=\"\">18</td><td c=\"1\" class=\"msga2-o pp6\" nowrap=\"\">3/5</td><td c=\"1\" class=\"msga2-o pp6\" nowrap=\"\">M. ģim.</td><td c=\"1\" class=\"msga2-o pp6\" nowrap=\"\">944 €</td><td c=\"1\" class=\"msga2-o pp6\" nowrap=\"\">17,000  €</td></tr>\n",
      "<tr id=\"tr_44317872\"><td class=\"msga2 pp0\"><input id=\"c44317872\" name=\"mid[]\" type=\"checkbox\" value=\"44317872_1105_0\"/></td><td class=\"msga2\"><a href=\"/msg/lv/real-estate/flats/riga/teika/cfllx.html\" id=\"im44317872\"><img alt=\"\" class=\"isfoto foto_list\" src=\"https://i.ss.com/gallery/3/419/104668/20933473.th2.jpg\"/></a></td><td class=\"msg2\"><div class=\"d1\"><a class=\"am\" data=\"ZGQlQUYlQUUlQUIlQTUlQTglQ0MlQTNoZSVBRCVBRSVBQSVBNiVBQiU4NSVBNWVoJUFEJUFEJUIyJUE5|33zuzurPr\" href=\"/msg/lv/real-estate/flats/riga/teika/cfllx.html\" id=\"dm_44317872\"><b>Izīrē divistabas dzīvokli- izolētas istabas ar balkonu.</b></a></div></td><td c=\"1\" class=\"msga2-o pp6\" nowrap=\"\"><b>Biķernieku 35A</b></td><td c=\"1\" class=\"msga2-o pp6\" nowrap=\"\"><b>2</b></td><td c=\"1\" class=\"msga2-o pp6\" nowrap=\"\"><b>60</b></td><td c=\"1\" class=\"msga2-o pp6\" nowrap=\"\"><b>5/5</b></td><td c=\"1\" class=\"msga2-o pp6\" nowrap=\"\"><b>LT proj.</b></td><td c=\"1\" class=\"msga2-o pp6\" nowrap=\"\"><b>4.92</b> €</td><td c=\"1\" class=\"msga2-o pp6\" nowrap=\"\"><b>295</b>  €/mēn.</td></tr>\n",
      "<tr id=\"tr_44134979\"><td class=\"msga2 pp0\"><input id=\"c44134979\" name=\"mid[]\" type=\"checkbox\" value=\"44134979_1105_0\"/></td><td class=\"msga2\"><a href=\"/msg/lv/real-estate/flats/riga/teika/bfpoc.html\" id=\"im44134979\"><img alt=\"\" class=\"isfoto foto_list\" src=\"https://i.ss.com/gallery/3/407/101677/20335250.th2.jpg\"/></a></td><td class=\"msg2\"><div class=\"d1\"><a class=\"am\" data=\"JUE5YyVBNSVBRCVDNCU5RSVBOWMlQTMlQUQlN0MlQTUlQUNpJUE3JUE4JTdFJUExJUE4bA==|t3ruHm\" href=\"/msg/lv/real-estate/flats/riga/teika/bfpoc.html\" id=\"dm_44134979\">Tikko pēc remonta. Dzīvoklis absolūti perfektā stāvoklī, jo nevi</a></div></td><td c=\"1\" class=\"msga2-o pp6\" nowrap=\"\">Brīvības 262</td><td c=\"1\" class=\"msga2-o pp6\" nowrap=\"\">2</td><td c=\"1\" class=\"msga2-o pp6\" nowrap=\"\">47</td><td c=\"1\" class=\"msga2-o pp6\" nowrap=\"\">2/4</td><td c=\"1\" class=\"msga2-o pp6\" nowrap=\"\">P. kara</td><td c=\"1\" class=\"msga2-o pp6\" nowrap=\"\">1,596 €</td><td c=\"1\" class=\"msga2-o pp6\" nowrap=\"\">75,000  €</td></tr>\n",
      "<tr id=\"tr_43097922\"><td class=\"msga2 pp0\"><input id=\"c43097922\" name=\"mid[]\" type=\"checkbox\" value=\"43097922_1105_0\"/></td><td class=\"msga2\"><a href=\"/msg/lv/real-estate/flats/riga/teika/cihcl.html\" id=\"im43097922\"><img alt=\"\" class=\"isfoto foto_list\" src=\"https://i.ss.com/gallery/2/347/86543/17308461.th2.jpg\"/></a></td><td class=\"msg2\"><div class=\"d1\"><a class=\"am\" data=\"JTg3JThDZyU4RSVBOCVBRSU4NSU4OWUlODclQThrJThEJThEbSU4RSVCMWglOEElODRs|TT5Ux2\" href=\"/msg/lv/real-estate/flats/riga/teika/cihcl.html\" id=\"dm_43097922\">Совершенно эксклюзивный вариант. Трехэтажный довоенный особняк н</a></div></td><td c=\"1\" class=\"msga2-o pp6\" nowrap=\"\">Bērzaunes 3</td><td c=\"1\" class=\"msga2-o pp6\" nowrap=\"\">4</td><td c=\"1\" class=\"msga2-o pp6\" nowrap=\"\">93</td><td c=\"1\" class=\"msga2-o pp6\" nowrap=\"\">2/3</td><td c=\"1\" class=\"msga2-o pp6\" nowrap=\"\">P. kara</td><td c=\"1\" class=\"msga2-o pp6\" nowrap=\"\">1,237 €</td><td c=\"1\" class=\"msga2-o pp6\" nowrap=\"\">115,000  €</td></tr>\n",
      "<tr id=\"tr_44259778\"><td class=\"msga2 pp0\"><input id=\"c44259778\" name=\"mid[]\" type=\"checkbox\" value=\"44259778_1105_0\"/></td><td class=\"msga2\"><a href=\"/msg/lv/real-estate/flats/riga/teika/eeoil.html\" id=\"im44259778\"><img alt=\"\" class=\"isfoto foto_list\" src=\"https://i.ss.com/gallery/3/416/103758/20751475.th2.jpg\"/></a></td><td class=\"msg2\"><div class=\"d1\"><a class=\"am\" data=\"JThBJTk2JUE1JTg0JUEwJUE3JTgyJUFFJThBJTlCJTlEJTgxJUEwJUFCJTgyaSU4QiU5QyVBNSU4MyU5RCVBOSU4OA==|YfmKmsR2\" href=\"/msg/lv/real-estate/flats/riga/teika/eeoil.html\" id=\"dm_44259778\">Īpašnieks pārdod remontējamu 1 istabas dzīvokli ļoti labā vietā,</a></div></td><td c=\"1\" class=\"msga2-o pp6\" nowrap=\"\">Biķernieku 47</td><td c=\"1\" class=\"msga2-o pp6\" nowrap=\"\">1</td><td c=\"1\" class=\"msga2-o pp6\" nowrap=\"\">29</td><td c=\"1\" class=\"msga2-o pp6\" nowrap=\"\">1/2</td><td c=\"1\" class=\"msga2-o pp6\" nowrap=\"\">P. kara</td><td c=\"1\" class=\"msga2-o pp6\" nowrap=\"\">517 €</td><td c=\"1\" class=\"msga2-o pp6\" nowrap=\"\">15,000  €</td></tr>\n",
      "<tr id=\"tr_bnr_712\" style=\"display:none;\"><td align=\"center\" colspan=\"12\">\n",
      "<div align=\"center\" id=\"div_bnr_712\"></div>\n",
      "<script>load_script_async(\"/w_inc/reklama.728.php?0||1105||\"+escape(document.referrer));</script>\n",
      "</td></tr>\n",
      "</table>\n",
      "<br/><table border=\"0\" cellpasdding=\"0\" cellspacing=\"0\" width=\"100%\"><tr><td nowrap=\"\" width=\"24\"></td><td><div align=\"center\" class=\"td2\" nowrap=\"\"><a class=\"navi\" href=\"/lv/real-estate/flats/riga/teika/page5.html\" name=\"nav_id\" rel=\"prev\"><img border=\"0\" height=\"5\" src=\"https://i.ss.com/img/s_left.png\" style=\"padding-bottom:2px;\" width=\"9\"/> Iepriekšējie</a>    <button class=\"navia\" onclick=\"return false;\">1</button> <a class=\"navi\" href=\"/lv/real-estate/flats/riga/teika/page2.html\" name=\"nav_id\" rel=\"next\">2</a> <a class=\"navi\" href=\"/lv/real-estate/flats/riga/teika/page3.html\" name=\"nav_id\" rel=\"next\">3</a> <a class=\"navi\" href=\"/lv/real-estate/flats/riga/teika/page4.html\" name=\"nav_id\" rel=\"next\">4</a> <a class=\"navi\" href=\"/lv/real-estate/flats/riga/teika/page5.html\" name=\"nav_id\" rel=\"next\">5</a>    <a class=\"navi\" href=\"/lv/real-estate/flats/riga/teika/page2.html\" name=\"nav_id\" rel=\"next\">Nākamie <img border=\"0\" height=\"5\" src=\"https://i.ss.com/img/s_right.png\" style=\"padding-bottom:2px;\" width=\"9\"/></a></div><br/></td><td nowrap=\"\" valign=\"top\" width=\"24\"><script>if(document.documentElement &&document.documentElement.clientHeight &&document.documentElement.offsetHeight && ( document.documentElement.offsetHeight-document.documentElement.clientHeight )>30){D.write( '<img src=\"https://i.ss.com/img/up.png\" width=24 height=24 border=0 onclick=\"window.scrollTo(0,0);return false;\" style=\"opacity:0.3;cursor:pointer;position:absolute;\" onmouseover=\"this.style.opacity=1;\" onmouseout=\"this.style.opacity=0.3;\" title=\"Uz sākumu\">'); }</script></td></tr></table>\n",
      "<table border=\"0\" cellpadding=\"2\" cellspacing=\"0\" width=\"100%\"><tr>\n",
      "<td class=\"td7\" nowrap=\"\" title=\"Parādīt izvēlētos sludinājumus\" width=\"40%\"><noindex><a class=\"td15\" href=\"/lv/show-selected/fDgReF4S.html\" id=\"show_selected_a\" onclick=\"if( !check_selected_msg( 'Izvēlieties sludinājumus.' ) ){event.returnValue=false;return false;}\" rel=\"nofollow\">Parādīt izvēlētos sludinājumus</a></noindex> <span class=\"td15\" id=\"sel_cnt_obj\"></span></td>\n",
      "<td align=\"center\" rowspan=\"4\" valign=\"center\" width=\"20%\"><input class=\"b\" onclick=\"go('/lv/real-estate/flats/riga/teika/new/' );\" type=\"button\" value=\"Izvietot sludinājumu\"/></td>\n",
      "<td align=\"right\" class=\"td7\" width=\"40%\"> </td>\n",
      "</tr>\n",
      "<tr><td class=\"td7\"><noindex><a class=\"a9a\" href=\"javascript:;\" id=\"a_fav_sel\" onclick=\"af(-1,'lv')\" rel=\"nofollow\" style=\"display:none;\">Pievienot izvēlētos Memo</a></noindex></td></tr>\n",
      "<tr><td class=\"td7\" valign=\"top\"><a class=\"a9a\" href=\"javascript:;\" id=\"clear_selected_a\" onclick=\"dsl(2);return false;\" style=\"display:none;\">Notīrīt atzīmētos</a></td></tr>\n",
      "</table><br/>\n",
      "<br/></form><script src=\"/w_inc/set.cookie.php?a=1&amp;lg=2\" type=\"text/javascript\"></script>\n",
      "<iframe frameborder=\"0\" height=\"0\" id=\"ss_mframe\" name=\"ss_mframe\" style=\"display:none\" width=\"0\"></iframe></td></tr></table>\n"
     ]
    }
   ],
   "source": [
    "print(mytable)"
   ]
  },
  {
   "cell_type": "code",
   "execution_count": 24,
   "metadata": {},
   "outputs": [
    {
     "data": {
      "text/plain": [
       "39"
      ]
     },
     "execution_count": 24,
     "metadata": {},
     "output_type": "execute_result"
    }
   ],
   "source": [
    "myrows = mytable.find_all('tr')\n",
    "len(myrows)"
   ]
  },
  {
   "cell_type": "code",
   "execution_count": 25,
   "metadata": {},
   "outputs": [
    {
     "name": "stdout",
     "output_type": "stream",
     "text": [
      "[<tr><td valign=\"top\"><div class=\"top_head\"><div style=\"float:left;padding-top:2px;\"><h2 class=\"headtitle\"><a href=\"/lv/real-estate/flats/\" title=\"Sludinājumi Dzīvokļi\">Dzīvokļi</a> / <a href=\"/lv/real-estate/flats/riga/\" title=\"Sludinājumi Rīga\">Rīga</a> / Teika</h2></div><div style=\"float:right;\"><select id=\"today_cnt_sl\" onchange=\"go(this.value+'');\"><option selected=\"\" value=\"/lv/real-estate/flats/riga/teika/\">Visi sludinājumi</option><option value=\"/lv/real-estate/flats/riga/teika/today/\">Šodien - 1</option><option value=\"/lv/real-estate/flats/riga/teika/today-2/\">Par 2 dienām - 19</option><option value=\"/lv/real-estate/flats/riga/teika/today-5/\">Par 5 dienām - 48</option></select></div></div><form action=\"/lv/real-estate/flats/riga/teika/filter/\" id=\"filter_frm\" method=\"post\" name=\"filter_frm\">\n",
      "<table bgcolor=\"#EEEEEE\" border=\"0\" cellpadding=\"1\" cellspacing=\"0\" id=\"filter_tbl\" style=\"margin-top:5px;\" width=\"100%\">\n",
      "<tr><td style=\"padding-bottom:3px;\"><table border=\"0\" cellpadding=\"1\" cellspacing=\"0\"><tr><td class=\"filter_name\" nowrap=\"\" valign=\"bottom\">Cena:<br/><span id=\"foptfld_8\"><input class=\"filter_txt l50\" id=\"f_o_8_min\" name=\"topt[8][min]\" type=\"text\" value=\"\"/>-<input class=\"filter_txt l50\" id=\"f_o_8_max\" name=\"topt[8][max]\" type=\"text\" value=\"\"/></span> </td><td class=\"filter_name\" nowrap=\"\" valign=\"bottom\">Istabas:<br/><span id=\"foptfld_1\"><select class=\"filter_sel l50\" id=\"f_o_1\" name=\"topt[1][min]\" onchange=\"this.form.submit();\"><option value=\"\"></option><option value=\"1\">1</option><option value=\"2\">2</option><option value=\"3\">3</option><option value=\"4\">4</option><option value=\"5\">5</option><option value=\"6\">6</option><option value=\"Citi\">Citi</option></select>-<select class=\"filter_sell50\" id=\"f_o_1\" name=\"topt[1][max]\" onchange=\"this.form.submit();\"><option value=\"\"></option><option value=\"1\">1</option><option value=\"2\">2</option><option value=\"3\">3</option><option value=\"4\">4</option><option value=\"5\">5</option><option value=\"6\">6</option><option value=\"Citi\">Citi</option></select></span> </td><td class=\"filter_name\" nowrap=\"\" valign=\"bottom\">Platība:<br/><span id=\"foptfld_3\"><input class=\"filter_txt l35\" id=\"f_o_3_min\" maxlength=\"4\" name=\"topt[3][min]\" type=\"text\" value=\"\"/>-<input class=\"filter_txt l35\" id=\"f_o_3_max\" maxlength=\"4\" name=\"topt[3][max]\" type=\"text\" value=\"\"/></span> </td><td class=\"filter_name\" nowrap=\"\" valign=\"bottom\">Stāvs:<br/><span id=\"foptfld_4\"><input class=\"filter_txt l23\" id=\"f_o_4_min\" maxlength=\"4\" name=\"topt[4][min]\" type=\"text\" value=\"\"/>-<input class=\"filter_txt l23\" id=\"f_o_4_max\" maxlength=\"4\" name=\"topt[4][max]\" type=\"text\" value=\"\"/></span> </td><td class=\"filter_name\" nowrap=\"\" valign=\"bottom\">Sērija:<br/><span id=\"foptfld_6\"><select class=\"filter_sel l85\" id=\"f_o_6\" name=\"opt[6]\" onchange=\"this.form.submit();\"><option value=\"\"></option><option value=\"67\">103.</option><option value=\"69\">119.</option><option value=\"76\">Hrušč.</option><option value=\"72\">LT proj.</option><option value=\"74\">M. ģim.</option><option value=\"79\">P. kara</option><option value=\"77\">Priv. m.</option><option value=\"3616\">Renov.</option><option value=\"78\">Specpr.</option><option value=\"75\">Staļina</option><option value=\"3596\">Jaun.</option></select></span> </td></tr></table></td><td align=\"right\" style=\"padding-top:14px;\" width=\"100%\"><input class=\"b s12\" style=\"padding-top:1px;padding-bottom:2px;\" type=\"submit\" value=\"Meklēt\"/></td></tr></table><div class=\"filter_second_line_dv\"><span class=\"filter_opt_dv\">Režīms:<br/><noindex><select class=\"filter_sel w95\" onchange=\"go(this[this.selectedIndex].value);\" title=\"Izvēlieties sludinājumu apskatīšanas veidu\">\n",
      "<option selected=\"\" value=\"/lv/real-estate/flats/riga/teika/\">Saraksts</option>\n",
      "<option value=\"/lv/real-estate/flats/riga/teika/photo/\">Albums</option>\n",
      "<option value=\"/lv/real-estate/flats/riga/teika/fDgQeF4S.html\">Karte</option>\n",
      "</select></noindex>\n",
      "</span>\n",
      "<span class=\"filter_opt_dv\">Darījuma veids:<br/><select class=\"filter_sel l100\" name=\"sid\" onchange=\"go(this[this.selectedIndex].value);\"><option value=\"/lv/real-estate/flats/riga/teika/\">Visi</option><option value=\"/lv/real-estate/flats/riga/teika/sell/\">Pārdod</option><option value=\"/lv/real-estate/flats/riga/teika/buy/\">Pērk</option><option value=\"/lv/real-estate/flats/riga/teika/hand_over/\">Izīrē</option><option value=\"/lv/real-estate/flats/riga/teika/remove/\">Īrē</option><option value=\"/lv/real-estate/flats/riga/teika/change/\">Maina</option></select></span>\n",
      "<span class=\"filter_opt_dv\">Rajons:<br/>\n",
      "<select class=\"filter_sel\" onchange=\"go( this[this.selectedIndex].value );\" style=\"min-width:54px;max-width:200px;\">\n",
      "<option value=\"/lv/real-estate/flats/riga/all/\">Visi</option>\n",
      "<option value=\"/lv/real-estate/flats/riga/centre/\">Centrs</option><option value=\"/lv/real-estate/flats/riga/agenskalns/\">Āgenskalns</option><option value=\"/lv/real-estate/flats/riga/aplokciems/\">Aplokciems</option><option value=\"/lv/real-estate/flats/riga/beberbeki/\">Beberbeķi</option><option value=\"/lv/real-estate/flats/riga/bergi/\">Berģi</option><option value=\"/lv/real-estate/flats/riga/biekensala/\">Bieķēnsala</option><option value=\"/lv/real-estate/flats/riga/bierini/\">Bieriņi</option><option value=\"/lv/real-estate/flats/riga/bolderaya/\">Bolderāja</option><option value=\"/lv/real-estate/flats/riga/bukulti/\">Bukulti</option><option value=\"/lv/real-estate/flats/riga/chiekurkalns/\">Čiekurkalns</option><option value=\"/lv/real-estate/flats/riga/darzciems/\">Dārzciems</option><option value=\"/lv/real-estate/flats/riga/daugavgriva/\">Daugavgrīva</option><option value=\"/lv/real-estate/flats/riga/dreilini/\">Dreiliņi</option><option value=\"/lv/real-estate/flats/riga/dzeguzhkalns/\">Dzegužkalns (Dzirciems)</option><option value=\"/lv/real-estate/flats/riga/ilguciems/\">Iļģuciems</option><option value=\"/lv/real-estate/flats/riga/imanta/\">Imanta</option><option value=\"/lv/real-estate/flats/riga/jaunciems/\">Jaunciems</option><option value=\"/lv/real-estate/flats/riga/jaunmilgravis/\">Jaunmīlgrāvis</option><option value=\"/lv/real-estate/flats/riga/yugla/\">Jugla</option><option value=\"/lv/real-estate/flats/riga/katlakalns/\">Katlakalns</option><option value=\"/lv/real-estate/flats/riga/kengarags/\">Ķengarags</option><option value=\"/lv/real-estate/flats/riga/kiburga/\">Ķiburga</option><option value=\"/lv/real-estate/flats/riga/kipsala/\">Ķīpsala</option><option value=\"/lv/real-estate/flats/riga/kleisti/\">Kleisti</option><option value=\"/lv/real-estate/flats/riga/kliversala/\">Klīversala</option><option value=\"/lv/real-estate/flats/riga/krasta-st-area/\">Krasta r-ns</option><option value=\"/lv/real-estate/flats/riga/kremeri/\">Krēmeri</option><option value=\"/lv/real-estate/flats/riga/kundzinsala/\">Kundziņsala</option><option value=\"/lv/real-estate/flats/riga/lucavsala/\">Lucavsala</option><option value=\"/lv/real-estate/flats/riga/mangali/\">Mangaļi</option><option value=\"/lv/real-estate/flats/riga/mangalsala/\">Mangaļsala</option><option value=\"/lv/real-estate/flats/riga/maskavas-priekshpilseta/\">Maskavas priekšpilsēta</option><option value=\"/lv/real-estate/flats/riga/mezhapark/\">Mežaparks</option><option value=\"/lv/real-estate/flats/riga/mezhciems/\">Mežciems</option><option value=\"/lv/real-estate/flats/riga/ozolciems/\">Ozolciems</option><option value=\"/lv/real-estate/flats/riga/plyavnieki/\">Pļavnieki</option><option value=\"/lv/real-estate/flats/riga/purvciems/\">Purvciems</option><option value=\"/lv/real-estate/flats/riga/shampeteris-pleskodale/\">Šampēteris-Pleskodāle</option><option value=\"/lv/real-estate/flats/riga/sarkandaugava/\">Sarkandaugava</option><option value=\"/lv/real-estate/flats/riga/shkirotava/\">Šķirotava</option><option value=\"/lv/real-estate/flats/riga/stacija-tirgus/\">Stacija-Tirgus</option><option selected=\"\" value=\"/lv/real-estate/flats/riga/teika/\">Teika</option><option value=\"/lv/real-estate/flats/riga/tornjakalns/\">Torņakalns</option><option value=\"/lv/real-estate/flats/riga/trisciems/\">Trīsciems</option><option value=\"/lv/real-estate/flats/riga/vecaki/\">Vecāķi</option><option value=\"/lv/real-estate/flats/riga/vecdaugava/\">Vecdaugava</option><option value=\"/lv/real-estate/flats/riga/vecmilgravis/\">Vecmīlgrāvis</option><option value=\"/lv/real-estate/flats/riga/vecriga/\">Vecrīga</option><option value=\"/lv/real-estate/flats/riga/voleri/\">Voleri</option><option value=\"/lv/real-estate/flats/riga/zakusala/\">Zaķusala</option><option value=\"/lv/real-estate/flats/riga/zasulauks/\">Zasulauks</option><option value=\"/lv/real-estate/flats/riga/ziepniekkalns/\">Ziepniekkalns</option><option value=\"/lv/real-estate/flats/riga/zolitude/\">Zolitūde</option><option value=\"/lv/real-estate/flats/riga/vef/\">VEF</option><option value=\"/lv/real-estate/flats/riga/other/\">Cits</option>\n",
      "</select></span>\n",
      "<span class=\"filter_opt_dv\" style=\"padding-right:5px;\">Iela:<br/><select class=\"filter_sel l130\" id=\"f_o_11\" name=\"opt[11]\" onchange=\"this.form.submit();\"><option value=\"\"></option><option value=\"3809\">Āraišu</option><option value=\"3865\">Bajāru</option><option value=\"3911\">Bērzaunes</option><option value=\"3915\">Bērzpils</option><option value=\"3928\">Biķernieku</option><option value=\"3948\">Brīvības gatve</option><option value=\"3952\">Brīvības iela</option><option value=\"3973\">Burtnieku</option><option value=\"4149\">Dzērbenes</option><option value=\"5724\">Ieriķu</option><option value=\"5725\">Kastrānes</option><option value=\"4646\">Laimdotas</option><option value=\"4662\">Launkalnes</option><option value=\"4966\">Palmu</option><option value=\"4999\">Piebalgas</option><option value=\"5048\">Pudiķa</option><option value=\"5727\">Raunas</option><option value=\"5118\">Ropažu</option><option value=\"5316\">Struktoru</option><option value=\"5351\">Tālivalža</option><option value=\"5730\">Ūnijas</option><option value=\"5729\">Vairoga</option><option value=\"5478\">Vāveres</option><option value=\"5525\">Vidrižu</option><option value=\"5576\">Zālīša</option><option value=\"5597\">Zemgaļu</option></select></span></div>\n",
      "<table align=\"center\" border=\"0\" cellpadding=\"2\" cellspacing=\"0\" width=\"100%\">\n",
      "<tr id=\"head_line\">\n",
      "<td class=\"msg_column\" colspan=\"3\" width=\"70%\">\n",
      "<span style=\"float:left;\"> Sludinājumi\r\n",
      "</span>\n",
      "<span align=\"right\" class=\"msg_column\" style=\"float:right;text-align:right;padding-right:3px;\">\n",
      "<noindex>\n",
      "<a class=\"a19\" href=\"/lv/real-estate/flats/riga/teika/fDgSeF4S.html\" rel=\"nofollow\">datums</a></noindex></span>\n",
      "</td>\n",
      "<td class=\"msg_column_td\" nowrap=\"\"><noindex><a class=\"a18\" href=\"/lv/real-estate/flats/riga/teika/fDgSeF4SFDwT.html\" rel=\"nofollow\" title=\"\">Iela</a></noindex></td><td class=\"msg_column_td\" nowrap=\"\"><noindex><a class=\"a18\" href=\"/lv/real-estate/flats/riga/teika/fDgSeF4SelM=.html\" rel=\"nofollow\" title=\"\">Ist.</a></noindex></td><td class=\"msg_column_td\" nowrap=\"\"><noindex><a class=\"a18\" href=\"/lv/real-estate/flats/riga/teika/fDgSeF4QelM=.html\" rel=\"nofollow\" title=\"\">m2</a></noindex></td><td class=\"msg_column_td\" nowrap=\"\"><noindex><a class=\"a18\" href=\"/lv/real-estate/flats/riga/teika/fDgSeF4XelM=.html\" rel=\"nofollow\" title=\"\">Stāvs</a></noindex></td><td class=\"msg_column_td\" nowrap=\"\"><noindex><a class=\"a18\" href=\"/lv/real-estate/flats/riga/teika/fDgSeF4VelM=.html\" rel=\"nofollow\" title=\"\">Sērija</a></noindex></td><td background=\"https://i.ss.com/img/pl.gif\" class=\"msg_column\" nowrap=\"\" style=\"border-left:1px #FFFFFF solid;\"><noindex><a class=\"a18\" href=\"/lv/real-estate/flats/riga/teika/fDgSeF4bRDwT.html\" rel=\"nofollow\">Cena, m2</a></noindex></td><td class=\"msg_column_td\" nowrap=\"\"><noindex><a class=\"a18\" href=\"/lv/real-estate/flats/riga/teika/fDgSeF4belM=.html\" rel=\"nofollow\" title=\"\">Cena</a></noindex></td></tr><tr id=\"tr_44335500\"><td class=\"msga2 pp0\"><input id=\"c44335500\" name=\"mid[]\" type=\"checkbox\" value=\"44335500_1105_0\"/></td><td class=\"msga2\"><a href=\"/msg/lv/real-estate/flats/riga/teika/cgnhc.html\" id=\"im44335500\"><img alt=\"\" class=\"isfoto foto_list\" src=\"https://i.ss.com/gallery/2/308/76888/15377415.th2.jpg\"/></a></td><td class=\"msg2\"><div class=\"d1\"><a class=\"am\" data=\"aGolN0UlQTglN0YlODUlQjBjJTgyJUE0JTdGJTg3bGYlN0QlQUMlN0UlODNkYyU4NCVBQg==|42MtNP\" href=\"/msg/lv/real-estate/flats/riga/teika/cgnhc.html\" id=\"dm_44335500\">Mājīgs, mēbelēts dzīvoklis ar zemiem komunālajiem maksājumiem. \r",
      "</a></div></td><td c=\"1\" class=\"msga2-o pp6\" nowrap=\"\">Bērzpils 7</td><td c=\"1\" class=\"msga2-o pp6\" nowrap=\"\">1</td><td c=\"1\" class=\"msga2-o pp6\" nowrap=\"\">30</td><td c=\"1\" class=\"msga2-o pp6\" nowrap=\"\">4/5</td><td c=\"1\" class=\"msga2-o pp6\" nowrap=\"\">Hrušč.</td><td c=\"1\" class=\"msga2-o pp6\" nowrap=\"\">967 €</td><td c=\"1\" class=\"msga2-o pp6\" nowrap=\"\">29,000  €</td></tr>\n",
      "<tr id=\"tr_44333885\"><td class=\"msga2 pp0\"><input id=\"c44333885\" name=\"mid[]\" type=\"checkbox\" value=\"44333885_1105_0\"/></td><td class=\"msga2\"><a href=\"/msg/lv/real-estate/flats/riga/teika/cnbhj.html\" id=\"im44333885\"><img alt=\"\" class=\"isfoto foto_list\" src=\"https://i.ss.com/gallery/2/240/59862/11972299.th2.jpg\"/></a></td><td class=\"msg2\"><div class=\"d1\"><a class=\"am\" data=\"aSU4NyVBMSVBNiU4QSU4QyVERmklODclQTAlQTglODQlOEQlOTNpJTg1JUE1JUE0JThBJThEJTk2cSU4Nw==|8RnpSTc\" href=\"/msg/lv/real-estate/flats/riga/teika/cnbhj.html\" id=\"dm_44333885\"><b>Tikko pēc kapitāla eiroremonta, un ar visu nepieciešamu premium </b></a></div></td><td c=\"1\" class=\"msga2-o pp6\" nowrap=\"\"><b>Zālīša 1</b></td><td c=\"1\" class=\"msga2-o pp6\" nowrap=\"\"><b>1</b></td><td c=\"1\" class=\"msga2-o pp6\" nowrap=\"\"><b>33</b></td><td c=\"1\" class=\"msga2-o pp6\" nowrap=\"\"><b>3/5</b></td><td c=\"1\" class=\"msga2-o pp6\" nowrap=\"\"><b>103.</b></td><td c=\"1\" class=\"msga2-o pp6\" nowrap=\"\"><b>10</b> €</td><td c=\"1\" class=\"msga2-o pp6\" nowrap=\"\"><b>330</b>  €/mēn.</td></tr>\n",
      "<tr id=\"tr_44330691\"><td class=\"msga2 pp0\"><input id=\"c44330691\" name=\"mid[]\" type=\"checkbox\" value=\"44330691_1105_0\"/></td><td class=\"msga2\"><a href=\"/msg/lv/real-estate/flats/riga/teika/djxgi.html\" id=\"im44330691\"><img alt=\"\" class=\"isfoto foto_list\" src=\"https://i.ss.com/gallery/3/420/104874/20974782.th2.jpg\"/></a></td><td class=\"msg2\"><div class=\"d1\"><a class=\"am\" data=\"aSVBQSVBQyVBQW8lOTglQjN2JTdCaCVCMiVBQyVCMG4lOUFnJTdDJTdFaiVCMCVBQSVBQ2Y=|8yyy6b7EF\" href=\"/msg/lv/real-estate/flats/riga/teika/djxgi.html\" id=\"dm_44330691\">Место - вне конкуренции. центр \"старой\" Тейки. Напротив Teikas V</a></div></td><td c=\"1\" class=\"msga2-o pp6\" nowrap=\"\">Āraišu 2</td><td c=\"1\" class=\"msga2-o pp6\" nowrap=\"\">3</td><td c=\"1\" class=\"msga2-o pp6\" nowrap=\"\">80</td><td c=\"1\" class=\"msga2-o pp6\" nowrap=\"\">2/2</td><td c=\"1\" class=\"msga2-o pp6\" nowrap=\"\">Priv. m.</td><td c=\"1\" class=\"msga2-o pp6\" nowrap=\"\">1,088 €</td><td c=\"1\" class=\"msga2-o pp6\" nowrap=\"\">87,000  €</td></tr>\n",
      "<tr id=\"tr_44331871\"><td class=\"msga2 pp0\"><input id=\"c44331871\" name=\"mid[]\" type=\"checkbox\" value=\"44331871_1105_0\"/></td><td class=\"msga2\"><a href=\"/msg/lv/real-estate/flats/riga/teika/dchph.html\" id=\"im44331871\"><img alt=\"\" class=\"isfoto foto_list\" src=\"https://i.ss.com/gallery/3/420/104894/20978644.th2.jpg\"/></a></td><td class=\"msg2\"><div class=\"d1\"><a class=\"am\" data=\"ZSU4MSVBNyU4NGslQUZkaSU3QyVBOSU4MGhsY2slN0YlQUElODNlbGZk|4KsM333\" href=\"/msg/lv/real-estate/flats/riga/teika/dchph.html\" id=\"dm_44331871\"><b>Tiek izīrēts 2-istabu dzīvoklis, ar izolētām istabām ķieģeļu, sp</b></a></div></td><td c=\"1\" class=\"msga2-o pp6\" nowrap=\"\"><b>Ūnijas 28</b></td><td c=\"1\" class=\"msga2-o pp6\" nowrap=\"\"><b>2</b></td><td c=\"1\" class=\"msga2-o pp6\" nowrap=\"\"><b>50</b></td><td c=\"1\" class=\"msga2-o pp6\" nowrap=\"\"><b>3/5</b></td><td c=\"1\" class=\"msga2-o pp6\" nowrap=\"\"><b>Specpr.</b></td><td c=\"1\" class=\"msga2-o pp6\" nowrap=\"\"><b>6</b> €</td><td c=\"1\" class=\"msga2-o pp6\" nowrap=\"\"><b>300</b>  €/mēn.</td></tr>\n",
      "<tr id=\"tr_44330105\"><td class=\"msga2 pp0\"><input id=\"c44330105\" name=\"mid[]\" type=\"checkbox\" value=\"44330105_1105_0\"/></td><td class=\"msga2\"><a href=\"/msg/lv/real-estate/flats/riga/teika/annpm.html\" id=\"im44330105\"><img alt=\"\" class=\"isfoto foto_list\" src=\"https://i.ss.com/gallery/3/420/104865/20972829.th2.jpg\"/></a></td><td class=\"msg2\"><div class=\"d1\"><a class=\"am\" data=\"eSU3RCU3QyU3RSVBOSU4QSU5MiVFMSU5NyU3RCU3RSU3QiU4MiVBNiU5MCU5MSU5RSU5RCU3QyU4MSU4MCU3Qg==|HKKKsXYef\" href=\"/msg/lv/real-estate/flats/riga/teika/annpm.html\" id=\"dm_44330105\"><b>Īpašnieks izīrē. saulains, gaišs, daļēji Mēbelēts(Ikea), Necaurs</b></a></div></td><td c=\"1\" class=\"msga2-o pp6\" nowrap=\"\"><b>Piebalgas 4</b></td><td c=\"1\" class=\"msga2-o pp6\" nowrap=\"\"><b>2</b></td><td c=\"1\" class=\"msga2-o pp6\" nowrap=\"\"><b>45</b></td><td c=\"1\" class=\"msga2-o pp6\" nowrap=\"\"><b>5/5</b></td><td c=\"1\" class=\"msga2-o pp6\" nowrap=\"\"><b>Renov.</b></td><td c=\"1\" class=\"msga2-o pp6\" nowrap=\"\"><b>6.67</b> €</td><td c=\"1\" class=\"msga2-o pp6\" nowrap=\"\"><b>300</b>  €/mēn.</td></tr>\n",
      "<tr id=\"tr_43941864\"><td class=\"msga2 pp0\"><input id=\"c43941864\" name=\"mid[]\" type=\"checkbox\" value=\"43941864_1105_0\"/></td><td class=\"msga2\"><a href=\"/msg/lv/real-estate/flats/riga/teika/kmggx.html\" id=\"im43941864\"><img alt=\"\" class=\"isfoto foto_list\" src=\"https://i.ss.com/gallery/2/395/98631/19726085.th2.jpg\"/></a></td><td class=\"msg2\"><div class=\"d1\"><a class=\"am\" data=\"JThFeSU5NyVBMiVBN2slRDQlODklOUFxJThBJTgwJTlBJUE5JUE1aCU4RSU4QiU5Q3ElOEN4|YHgrs2XXeA\" href=\"/msg/lv/real-estate/flats/riga/teika/kmggx.html\" id=\"dm_43941864\">Unikāls dzīvokļu projekts izvietots slēgtā, zaļā teritorijā ar d</a></div></td><td c=\"1\" class=\"msga2-o pp6\" nowrap=\"\">Vairoga 32</td><td c=\"1\" class=\"msga2-o pp6\" nowrap=\"\">4</td><td c=\"1\" class=\"msga2-o pp6\" nowrap=\"\">57</td><td c=\"1\" class=\"msga2-o pp6\" nowrap=\"\">1/3</td><td c=\"1\" class=\"msga2-o pp6\" nowrap=\"\">Renov.</td><td c=\"1\" class=\"msga2-o pp6\" nowrap=\"\">1,949 €</td><td c=\"1\" class=\"msga2-o pp6\" nowrap=\"\">111,110  €</td></tr>\n",
      "<tr id=\"tr_43941782\"><td class=\"msga2 pp0\"><input id=\"c43941782\" name=\"mid[]\" type=\"checkbox\" value=\"43941782_1105_0\"/></td><td class=\"msga2\"><a href=\"/msg/lv/real-estate/flats/riga/teika/cbchm.html\" id=\"im43941782\"><img alt=\"\" class=\"isfoto foto_list\" src=\"https://i.ss.com/gallery/2/395/98623/19724552.th2.jpg\"/></a></td><td class=\"msg2\"><div class=\"d1\"><a class=\"am\" data=\"JTg1JTkyZiU5OHglQUUlQ0NlJTlDJTk3JTgxJTk5aSU5RnYlQUIlODZnJTlFJTk3JTgzJTkx|Pa6hDuP4gg\" href=\"/msg/lv/real-estate/flats/riga/teika/cbchm.html\" id=\"dm_43941782\">Unikāls dzīvokļu projekts izvietots slēgtā, zaļā teritorijā ar d</a></div></td><td c=\"1\" class=\"msga2-o pp6\" nowrap=\"\">Vairoga 32</td><td c=\"1\" class=\"msga2-o pp6\" nowrap=\"\">3</td><td c=\"1\" class=\"msga2-o pp6\" nowrap=\"\">52</td><td c=\"1\" class=\"msga2-o pp6\" nowrap=\"\">3/4</td><td c=\"1\" class=\"msga2-o pp6\" nowrap=\"\">Renov.</td><td c=\"1\" class=\"msga2-o pp6\" nowrap=\"\">1,923 €</td><td c=\"1\" class=\"msga2-o pp6\" nowrap=\"\">100,000  €</td></tr>\n",
      "<tr id=\"tr_43941681\"><td class=\"msga2 pp0\"><input id=\"c43941681\" name=\"mid[]\" type=\"checkbox\" value=\"43941681_1105_0\"/></td><td class=\"msga2\"><a href=\"/msg/lv/real-estate/flats/riga/teika/bgmbg.html\" id=\"im43941681\"><img alt=\"\" class=\"isfoto foto_list\" src=\"https://i.ss.com/gallery/2/395/98621/19724128.th2.jpg\"/></a></td><td class=\"msg2\"><div class=\"d1\"><a class=\"am\" data=\"JUE3JTg2JTg1YiU5OXolRTIlQTMlODklODUlQTMlOEQlODhpJTk3dyU5QyVBNSU4QiU4NSVBNSU4NQ==|rUU2eAfrTU\" href=\"/msg/lv/real-estate/flats/riga/teika/bgmbg.html\" id=\"dm_43941681\">Unikāls dzīvokļu projekts izvietots slēgtā, zaļā teritorijā ar d</a></div></td><td c=\"1\" class=\"msga2-o pp6\" nowrap=\"\">Vairoga 32</td><td c=\"1\" class=\"msga2-o pp6\" nowrap=\"\">2</td><td c=\"1\" class=\"msga2-o pp6\" nowrap=\"\">28</td><td c=\"1\" class=\"msga2-o pp6\" nowrap=\"\">1/3</td><td c=\"1\" class=\"msga2-o pp6\" nowrap=\"\">Renov.</td><td c=\"1\" class=\"msga2-o pp6\" nowrap=\"\">1,982 €</td><td c=\"1\" class=\"msga2-o pp6\" nowrap=\"\">55,500  €</td></tr>\n",
      "<tr id=\"tr_44027422\"><td class=\"msga2 pp0\"><input id=\"c44027422\" name=\"mid[]\" type=\"checkbox\" value=\"44027422_1105_0\"/></td><td class=\"msga2\"><a href=\"/msg/lv/real-estate/flats/riga/teika/eojgh.html\" id=\"im44027422\"><img alt=\"\" class=\"isfoto foto_list\" src=\"https://i.ss.com/gallery/2/397/99119/19823717.th2.jpg\"/></a></td><td class=\"msg2\"><div class=\"d1\"><a class=\"am\" data=\"JUEyZyU5MSU5MiU5NiVBNCVDMSU4MSVBMmYlOTIlOUElOTUlQTJ3JTg2JUEzaSU5OCU5MiU5NSU5Qg==|m6abbkEP\" href=\"/msg/lv/real-estate/flats/riga/teika/eojgh.html\" id=\"dm_44027422\">Уникальный проект с детской площадкой и парковкой на закрытой зе</a></div></td><td c=\"1\" class=\"msga2-o pp6\" nowrap=\"\">Vairoga 32</td><td c=\"1\" class=\"msga2-o pp6\" nowrap=\"\">3</td><td c=\"1\" class=\"msga2-o pp6\" nowrap=\"\">42</td><td c=\"1\" class=\"msga2-o pp6\" nowrap=\"\">3/3</td><td c=\"1\" class=\"msga2-o pp6\" nowrap=\"\">Renov.</td><td c=\"1\" class=\"msga2-o pp6\" nowrap=\"\">2,000 €</td><td c=\"1\" class=\"msga2-o pp6\" nowrap=\"\">84,000  €</td></tr>\n",
      "<tr id=\"tr_44329507\"><td class=\"msga2 pp0\"><input id=\"c44329507\" name=\"mid[]\" type=\"checkbox\" value=\"44329507_1105_0\"/></td><td class=\"msga2\"><a href=\"/msg/lv/real-estate/flats/riga/teika/ghopn.html\" id=\"im44329507\"><img alt=\"\" class=\"isfoto foto_list\" src=\"https://i.ss.com/gallery/2/365/91090/18217862.th2.jpg\"/></a></td><td class=\"msg2\"><div class=\"d1\"><a class=\"am\" data=\"JTg0enZ6dSU3RSVGMCU4QSU4M3J0d3olODMlQUMlOTElODB1JTdCdCU3QyU4NQ==|NBBCCMtY\" href=\"/msg/lv/real-estate/flats/riga/teika/ghopn.html\" id=\"dm_44329507\"><b>Īpašniece izīrē mājīgu, vienas istabas studio tipa dzīvokli (15 </b></a></div></td><td c=\"1\" class=\"msga2-o pp6\" nowrap=\"\"><b>Struktoru 13</b></td><td c=\"1\" class=\"msga2-o pp6\" nowrap=\"\"><b>1</b></td><td c=\"1\" class=\"msga2-o pp6\" nowrap=\"\"><b>15</b></td><td c=\"1\" class=\"msga2-o pp6\" nowrap=\"\"><b>3/4</b></td><td c=\"1\" class=\"msga2-o pp6\" nowrap=\"\"><b>Staļina</b></td><td c=\"1\" class=\"msga2-o pp6\" nowrap=\"\"><b>14</b> €</td><td c=\"1\" class=\"msga2-o pp6\" nowrap=\"\"><b>210</b>  €/mēn.</td></tr>\n",
      "<tr id=\"tr_44013166\"><td class=\"msga2 pp0\"><input id=\"c44013166\" name=\"mid[]\" type=\"checkbox\" value=\"44013166_1105_0\"/></td><td class=\"msga2\"><a href=\"/msg/lv/real-estate/flats/riga/teika/eicjk.html\" id=\"im44013166\"><img alt=\"\" class=\"isfoto foto_list\" src=\"https://i.ss.com/gallery/2/399/99678/19935515.th2.jpg\"/></a></td><td class=\"msg2\"><div class=\"d1\"><a class=\"am\" data=\"eGglOEYlOEYlQjAlOTd3JUE2JTg4JThDdmMlODklOEZmJTlDeCVBNSU4OSU4QnU=|C3XY4fBsXX\" href=\"/msg/lv/real-estate/flats/riga/teika/eicjk.html\" id=\"dm_44013166\"><b>Pārdod pilnībā labiekārtotu dzīvokli projektā ''Jaunā Teika''. \r",
      "</b></a></div></td><td c=\"1\" class=\"msga2-o pp6\" nowrap=\"\"><b>Ropažu 10</b></td><td c=\"1\" class=\"msga2-o pp6\" nowrap=\"\"><b>2</b></td><td c=\"1\" class=\"msga2-o pp6\" nowrap=\"\"><b>44</b></td><td c=\"1\" class=\"msga2-o pp6\" nowrap=\"\"><b>13/16</b></td><td c=\"1\" class=\"msga2-o pp6\" nowrap=\"\"><b>Jaun.</b></td><td c=\"1\" class=\"msga2-o pp6\" nowrap=\"\"><b>2,205</b> €</td><td c=\"1\" class=\"msga2-o pp6\" nowrap=\"\"><b>97,000</b>  €</td></tr>\n",
      "<tr id=\"tr_44327684\"><td class=\"msga2 pp0\"><input id=\"c44327684\" name=\"mid[]\" type=\"checkbox\" value=\"44327684_1105_0\"/></td><td class=\"msga2\"><a href=\"/msg/lv/real-estate/flats/riga/teika/agced.html\" id=\"im44327684\"><img alt=\"\" class=\"isfoto foto_list\" src=\"https://i.ss.com/gallery/3/420/104826/20965074.th2.jpg\"/></a></td><td class=\"msg2\"><div class=\"d1\"><a class=\"am\" data=\"JTdGaiU4QmMlOTYlOTclQzR5ZiU4NWMlOUQlOTl4JTdDZSU4RGMlOUElOUR5JTdC|H1U2eeH\" href=\"/msg/lv/real-estate/flats/riga/teika/agced.html\" id=\"dm_44327684\">Piedāvājam iegādāties jauku, saulainu vienistabas dzīvokli privā</a></div></td><td c=\"1\" class=\"msga2-o pp6\" nowrap=\"\">Zālīša 3</td><td c=\"1\" class=\"msga2-o pp6\" nowrap=\"\">1</td><td c=\"1\" class=\"msga2-o pp6\" nowrap=\"\">35</td><td c=\"1\" class=\"msga2-o pp6\" nowrap=\"\">2/5</td><td c=\"1\" class=\"msga2-o pp6\" nowrap=\"\">103.</td><td c=\"1\" class=\"msga2-o pp6\" nowrap=\"\">1,200 €</td><td c=\"1\" class=\"msga2-o pp6\" nowrap=\"\">42,000  €</td></tr>\n",
      "<tr id=\"tr_42290877\"><td class=\"msga2 pp0\"><input id=\"c42290877\" name=\"mid[]\" type=\"checkbox\" value=\"42290877_1105_0\"/></td><td class=\"msga2\"><a href=\"/msg/lv/real-estate/flats/riga/teika/apiin.html\" id=\"im42290877\"><img alt=\"\" class=\"isfoto foto_list\" src=\"https://i.ss.com/img/buy/homes.lv.gif\"/></a></td><td class=\"msg2\"><div class=\"d1\"><a class=\"am\" data=\"aCU5RCVBQXJzYyVGNWIlOTklQTRyemUlQTllJTk4JUFDcndpJUFBZA==|1dtAB1y\" href=\"/msg/lv/real-estate/flats/riga/teika/apiin.html\" id=\"dm_42290877\"><b>Šobrīd aktīvi meklējam savu klientu interesēs divu līdz četru (2</b></a></div></td><td c=\"1\" class=\"msga2-o pp6\" nowrap=\"\"><b>Ieriķu 29</b></td><td c=\"1\" class=\"msga2-o pp6\" nowrap=\"\"><b>4</b></td><td c=\"1\" class=\"msga2-o pp6\" nowrap=\"\"><b>78</b></td><td c=\"1\" class=\"msga2-o pp6\" nowrap=\"\"><b>-</b></td><td c=\"1\" class=\"msga2-o pp6\" nowrap=\"\"><b>-</b></td><td c=\"1\" class=\"msga2-o pp6\" nowrap=\"\"><b>-</b></td><td c=\"1\" class=\"msga2-o pp6\" nowrap=\"\"><b>pērku</b> </td></tr>\n",
      "<tr id=\"tr_40516589\"><td class=\"msga2 pp0\"><input id=\"c40516589\" name=\"mid[]\" type=\"checkbox\" value=\"40516589_1105_0\"/></td><td class=\"msga2\"><a href=\"/msg/lv/real-estate/flats/riga/teika/bngnf.html\" id=\"im40516589\"><img alt=\"\" class=\"isfoto foto_list\" src=\"https://i.ss.com/gallery/2/299/74565/14912821.th2.jpg\"/></a></td><td class=\"msg2\"><div class=\"d1\"><a class=\"am\" data=\"JTlGJUE0aiU5NCU4QWMlQ0MlOTklQTBkJTk0JTkxZSU4MCU5QyU5RmwlOTQlOEVpJTgxJTlC|hk4cY1P\" href=\"/msg/lv/real-estate/flats/riga/teika/bngnf.html\" id=\"dm_40516589\">Piedāvājam iegādāties jauku, kvalitatīvi remontētu\r\n",
      "divistabu dz</a></div></td><td c=\"1\" class=\"msga2-o pp6\" nowrap=\"\">Laimdotas 57</td><td c=\"1\" class=\"msga2-o pp6\" nowrap=\"\">2</td><td c=\"1\" class=\"msga2-o pp6\" nowrap=\"\">42</td><td c=\"1\" class=\"msga2-o pp6\" nowrap=\"\">4/5</td><td c=\"1\" class=\"msga2-o pp6\" nowrap=\"\">Hrušč.</td><td c=\"1\" class=\"msga2-o pp6\" nowrap=\"\">1,524 €</td><td c=\"1\" class=\"msga2-o pp6\" nowrap=\"\">64,000  €</td></tr>\n",
      "<tr id=\"tr_44325963\"><td class=\"msga2 pp0\"><input id=\"c44325963\" name=\"mid[]\" type=\"checkbox\" value=\"44325963_1105_0\"/></td><td class=\"msga2\"><a href=\"/msg/lv/real-estate/flats/riga/teika/cocme.html\" id=\"im44325963\"><img alt=\"\" class=\"isfoto foto_list\" src=\"https://i.ss.com/gallery/3/420/104797/20959257.th2.jpg\"/></a></td><td class=\"msg2\"><div class=\"d1\"><a class=\"am\" data=\"JTk5JThBJUFEJTgzJTg3JUYwJTk0JThBJUFCJTdEJTg5JUFDJTlCJTg4JUFCJTg0JTg0JUFDJTk0JThEJUIwJTgy|cUxMRt\" href=\"/msg/lv/real-estate/flats/riga/teika/cocme.html\" id=\"dm_44325963\">Pārdodu dzīvokli divstāvu mājā, ar izolētām istabām. Junkers gāz</a></div></td><td c=\"1\" class=\"msga2-o pp6\" nowrap=\"\">Ropažu 2</td><td c=\"1\" class=\"msga2-o pp6\" nowrap=\"\">2</td><td c=\"1\" class=\"msga2-o pp6\" nowrap=\"\">50</td><td c=\"1\" class=\"msga2-o pp6\" nowrap=\"\">2/2</td><td c=\"1\" class=\"msga2-o pp6\" nowrap=\"\">P. kara</td><td c=\"1\" class=\"msga2-o pp6\" nowrap=\"\">1,260 €</td><td c=\"1\" class=\"msga2-o pp6\" nowrap=\"\">63,000  €</td></tr>\n",
      "<tr id=\"tr_44325925\"><td class=\"msga2 pp0\"><input id=\"c44325925\" name=\"mid[]\" type=\"checkbox\" value=\"44325925_1105_0\"/></td><td class=\"msga2\"><a href=\"/msg/lv/real-estate/flats/riga/teika/aiddk.html\" id=\"im44325925\"><img alt=\"\" class=\"isfoto foto_list\" src=\"https://i.ss.com/gallery/3/420/104796/20959181.th2.jpg\"/></a></td><td class=\"msg2\"><div class=\"d1\"><a class=\"am\" data=\"JTlDJTk5JTlBaCU4RCU4QiVGMSU5OSU5RCU5NW4lOEMlODUlQUIlQTElOTklOURqJTkyJTg0JUFFJTlF|hhe6YTu\" href=\"/msg/lv/real-estate/flats/riga/teika/aiddk.html\" id=\"dm_44325925\"><b>Saimnieks izīrē mēbelētu divistabu dzīvokli ilgtermiņā. Ir balko</b></a></div></td><td c=\"1\" class=\"msga2-o pp6\" nowrap=\"\"><b>Biķernieku 79</b></td><td c=\"1\" class=\"msga2-o pp6\" nowrap=\"\"><b>2</b></td><td c=\"1\" class=\"msga2-o pp6\" nowrap=\"\"><b>46</b></td><td c=\"1\" class=\"msga2-o pp6\" nowrap=\"\"><b>3/5</b></td><td c=\"1\" class=\"msga2-o pp6\" nowrap=\"\"><b>Hrušč.</b></td><td c=\"1\" class=\"msga2-o pp6\" nowrap=\"\"><b>5.98</b> €</td><td c=\"1\" class=\"msga2-o pp6\" nowrap=\"\"><b>275</b>  €/mēn.</td></tr>\n",
      "<tr id=\"tr_43746668\"><td class=\"msga2 pp0\"><input id=\"c43746668\" name=\"mid[]\" type=\"checkbox\" value=\"43746668_1105_0\"/></td><td class=\"msga2\"><a href=\"/msg/lv/real-estate/flats/riga/teika/aeffk.html\" id=\"im43746668\"><img alt=\"\" class=\"isfoto foto_list\" src=\"https://i.ss.com/gallery/2/399/99708/19941430.th2.jpg\"/></a></td><td class=\"msg2\"><div class=\"d1\"><a class=\"am\" data=\"JUE5JTdGJTdGJTlEJTk0JTlEJUUxJTk5biU5MiVBMyU4M3olOUMlOUElOUQlOUElOUNxJTlBJUFBJTgx|rKFgdheh9b\" href=\"/msg/lv/real-estate/flats/riga/teika/aeffk.html\" id=\"dm_43746668\">Редкое предложение. \r\n",
      "Просторная и светлая 3-х комнатная квартир</a></div></td><td c=\"1\" class=\"msga2-o pp6\" nowrap=\"\">Brīvības 241</td><td c=\"1\" class=\"msga2-o pp6\" nowrap=\"\">3</td><td c=\"1\" class=\"msga2-o pp6\" nowrap=\"\">70</td><td c=\"1\" class=\"msga2-o pp6\" nowrap=\"\">5/5</td><td c=\"1\" class=\"msga2-o pp6\" nowrap=\"\">Specpr.</td><td c=\"1\" class=\"msga2-o pp6\" nowrap=\"\">999 €</td><td c=\"1\" class=\"msga2-o pp6\" nowrap=\"\">69,950  €</td></tr>\n",
      "<tr id=\"tr_44324922\"><td class=\"msga2 pp0\"><input id=\"c44324922\" name=\"mid[]\" type=\"checkbox\" value=\"44324922_1105_0\"/></td><td class=\"msga2\"><a href=\"/msg/lv/real-estate/flats/riga/teika/dlxex.html\" id=\"im44324922\"><img alt=\"\" class=\"isfoto foto_list\" src=\"https://i.ss.com/gallery/3/420/104780/20955806.th2.jpg\"/></a></td><td class=\"msg2\"><div class=\"d1\"><a class=\"am\" data=\"JUE2JUE3JTk2JTlGeml4JUI1dSVBQSVBNiU5RSVBM3Jxd292JUFEJUE4JTk2JUEweA==|uufmB8C9D\" href=\"/msg/lv/real-estate/flats/riga/teika/dlxex.html\" id=\"dm_44324922\"><b>Firma steidzami vēlas īrēt divistabu dzīvokli Teikā vai Čiekurka</b></a></div></td><td c=\"1\" class=\"msga2-o pp6\" nowrap=\"\"><b>-</b></td><td c=\"1\" class=\"msga2-o pp6\" nowrap=\"\"><b>2</b></td><td c=\"1\" class=\"msga2-o pp6\" nowrap=\"\"><b>30</b></td><td c=\"1\" class=\"msga2-o pp6\" nowrap=\"\"><b>-</b></td><td c=\"1\" class=\"msga2-o pp6\" nowrap=\"\"><b>-</b></td><td c=\"1\" class=\"msga2-o pp6\" nowrap=\"\"><b>-</b></td><td c=\"1\" class=\"msga2-o pp6\" nowrap=\"\"><b>vēlos<br/>īret</b> </td></tr>\n",
      "<tr id=\"tr_41533888\"><td class=\"msga2 pp0\"><input id=\"c41533888\" name=\"mid[]\" type=\"checkbox\" value=\"41533888_1105_0\"/></td><td class=\"msga2\"><a href=\"/msg/lv/real-estate/flats/riga/teika/fefcp.html\" id=\"im41533888\"><img alt=\"\" class=\"isfoto foto_list\" src=\"https://i.ss.com/gallery/2/306/76272/15254301.th2.jpg\"/></a></td><td class=\"msg2\"><div class=\"d1\"><a class=\"am\" data=\"a3klN0YlOEElODklOTYlQjV4JTgyJTgzJThBJTk5cXklODMlODklOEUlOTRreSU4MSU4OQ==|9GMSYb\" href=\"/msg/lv/real-estate/flats/riga/teika/fefcp.html\" id=\"dm_41533888\">Pārdošanā lielisks 2-istabu dzīvoklis paša Teika sirdī. Slēgta k</a></div></td><td c=\"1\" class=\"msga2-o pp6\" nowrap=\"\">Brīvības 326</td><td c=\"1\" class=\"msga2-o pp6\" nowrap=\"\">2</td><td c=\"1\" class=\"msga2-o pp6\" nowrap=\"\">68</td><td c=\"1\" class=\"msga2-o pp6\" nowrap=\"\">3/5</td><td c=\"1\" class=\"msga2-o pp6\" nowrap=\"\">Staļina</td><td c=\"1\" class=\"msga2-o pp6\" nowrap=\"\">1,000 €</td><td c=\"1\" class=\"msga2-o pp6\" nowrap=\"\">68,000  €</td></tr>\n",
      "<tr id=\"tr_33484245\"><td class=\"msga2 pp0\"><input id=\"c33484245\" name=\"mid[]\" type=\"checkbox\" value=\"33484245_1105_0\"/></td><td class=\"msga2\"><a href=\"/msg/lv/real-estate/flats/riga/teika/aejno.html\" id=\"im33484245\"><img alt=\"\" class=\"isfoto foto_list\" src=\"https://i.ss.com/img/buy/homes.lv.gif\"/></a></td><td class=\"msg2\"><div class=\"d1\"><a class=\"am\" data=\"JTkwJUFDJTdEJTg3JTdFJUMxJTg5JUE5eSU4Mnl1JTkwJUFDJTgxJTg1eXklOEUlQUIlN0UlN0U=|XtHNHE\" href=\"/msg/lv/real-estate/flats/riga/teika/aejno.html\" id=\"dm_33484245\"><b>За наличные деньги - \r\n",
      "\r\n",
      "покупаем - 1 - 1.5 - 2 - 3 - 4 - ком. к</b></a></div></td><td c=\"1\" class=\"msga2-o pp6\" nowrap=\"\"><b>- 777</b></td><td c=\"1\" class=\"msga2-o pp6\" nowrap=\"\"><b>2</b></td><td c=\"1\" class=\"msga2-o pp6\" nowrap=\"\"><b>-</b></td><td c=\"1\" class=\"msga2-o pp6\" nowrap=\"\"><b>12/9</b></td><td c=\"1\" class=\"msga2-o pp6\" nowrap=\"\"><b>-</b></td><td c=\"1\" class=\"msga2-o pp6\" nowrap=\"\"><b>-</b></td><td c=\"1\" class=\"msga2-o pp6\" nowrap=\"\"><b>pērku</b> </td></tr>\n",
      "<tr id=\"tr_43777986\"><td class=\"msga2 pp0\"><input id=\"c43777986\" name=\"mid[]\" type=\"checkbox\" value=\"43777986_1105_0\"/></td><td class=\"msga2\"><a href=\"/msg/lv/real-estate/flats/riga/teika/bbhfjc.html\" id=\"im43777986\"><img alt=\"\" class=\"isfoto foto_list\" src=\"https://i.ss.com/gallery/2/386/96288/19257542.th2.jpg\"/></a></td><td class=\"msg2\"><div class=\"d1\"><a class=\"am\" data=\"bSU5OWUlODYlODMlOEElRjFnJTk3ZSU4QiU3RiU4QSVBRGclOTdoJThDJTdGJTg1JUFCaA==|6b3TNTu\" href=\"/msg/lv/real-estate/flats/riga/teika/bbhfjc.html\" id=\"dm_43777986\">Piedāvājam mājīgu divistabu mansarda dzīvoklīti. \r\n",
      "Īpašums atrod</a></div></td><td c=\"1\" class=\"msga2-o pp6\" nowrap=\"\">Ropažu 91</td><td c=\"1\" class=\"msga2-o pp6\" nowrap=\"\">2</td><td c=\"1\" class=\"msga2-o pp6\" nowrap=\"\">37</td><td c=\"1\" class=\"msga2-o pp6\" nowrap=\"\">2/2</td><td c=\"1\" class=\"msga2-o pp6\" nowrap=\"\">P. kara</td><td c=\"1\" class=\"msga2-o pp6\" nowrap=\"\">500 €</td><td c=\"1\" class=\"msga2-o pp6\" nowrap=\"\">18,500  €</td></tr>\n",
      "<tr id=\"tr_44321849\"><td class=\"msga2 pp0\"><input id=\"c44321849\" name=\"mid[]\" type=\"checkbox\" value=\"44321849_1105_0\"/></td><td class=\"msga2\"><a href=\"/msg/lv/real-estate/flats/riga/teika/ddhnk.html\" id=\"im44321849\"><img alt=\"\" class=\"isfoto foto_list\" src=\"https://i.ss.com/gallery/3/419/104730/20945946.th2.jpg\"/></a></td><td class=\"msg2\"><div class=\"d1\"><a class=\"am\" data=\"eSU5QmklOTJkJTg5JUNBdCU5RGklOTNqJThCJTgydyVBMW4lOUJpJTgzJTg3eQ==|Ch9b3SN\" href=\"/msg/lv/real-estate/flats/riga/teika/ddhnk.html\" id=\"dm_44321849\"><b>Namīpašnieks izīrē dzīvokli pēc remonta. Vietējā gāzes apkure.</b></a></div></td><td c=\"1\" class=\"msga2-o pp6\" nowrap=\"\"><b>Pudiķa 13</b></td><td c=\"1\" class=\"msga2-o pp6\" nowrap=\"\"><b>1</b></td><td c=\"1\" class=\"msga2-o pp6\" nowrap=\"\"><b>25</b></td><td c=\"1\" class=\"msga2-o pp6\" nowrap=\"\"><b>3/3</b></td><td c=\"1\" class=\"msga2-o pp6\" nowrap=\"\"><b>Priv. m.</b></td><td c=\"1\" class=\"msga2-o pp6\" nowrap=\"\"><b>10</b> €</td><td c=\"1\" class=\"msga2-o pp6\" nowrap=\"\"><b>250</b>  €/mēn.</td></tr>\n",
      "<tr id=\"tr_44319735\"><td class=\"msga2 pp0\"><input id=\"c44319735\" name=\"mid[]\" type=\"checkbox\" value=\"44319735_1105_0\"/></td><td class=\"msga2\"><a href=\"/msg/lv/real-estate/flats/riga/teika/bmicp.html\" id=\"im44319735\"><img alt=\"\" class=\"isfoto foto_list\" src=\"https://i.ss.com/gallery/3/419/104697/20939292.th2.jpg\"/></a></td><td class=\"msg2\"><div class=\"d1\"><a class=\"am\" data=\"bnBqaWVjJUY0aGxkaWxlJUE4a2tsaWlpJUE5ag==|774841x\" href=\"/msg/lv/real-estate/flats/riga/teika/bmicp.html\" id=\"dm_44319735\">Piedāvājam iegādāties gaišu, plašu dzīvokli Teikā, labā vietā Br</a></div></td><td c=\"1\" class=\"msga2-o pp6\" nowrap=\"\">Brīvības 358</td><td c=\"1\" class=\"msga2-o pp6\" nowrap=\"\">3</td><td c=\"1\" class=\"msga2-o pp6\" nowrap=\"\">72</td><td c=\"1\" class=\"msga2-o pp6\" nowrap=\"\">1/4</td><td c=\"1\" class=\"msga2-o pp6\" nowrap=\"\">Staļina</td><td c=\"1\" class=\"msga2-o pp6\" nowrap=\"\">1,318 €</td><td c=\"1\" class=\"msga2-o pp6\" nowrap=\"\">94,900  €</td></tr>\n",
      "<tr id=\"tr_44314988\"><td class=\"msga2 pp0\"><input id=\"c44314988\" name=\"mid[]\" type=\"checkbox\" value=\"44314988_1105_0\"/></td><td class=\"msga2\"><a href=\"/msg/lv/real-estate/flats/riga/teika/gdxic.html\" id=\"im44314988\"><img alt=\"\" class=\"isfoto foto_list\" src=\"https://i.ss.com/gallery/3/419/104621/20924149.th2.jpg\"/></a></td><td class=\"msg2\"><div class=\"d1\"><a class=\"am\" data=\"JTlBJUE1JTdFJUFDZiVERXIlQTAlQTIlOTYlQTAlODUlQjBqJTk0diU5RiVBOCU5QiVBOSU4NQ==|dpMy3bAkr\" href=\"/msg/lv/real-estate/flats/riga/teika/gdxic.html\" id=\"dm_44314988\">Dzīvoklis labā tehniskā un vizuālā stāvoklī, neprasa steidzamus </a></div></td><td c=\"1\" class=\"msga2-o pp6\" nowrap=\"\">Ropažu 122 k-5</td><td c=\"1\" class=\"msga2-o pp6\" nowrap=\"\">1</td><td c=\"1\" class=\"msga2-o pp6\" nowrap=\"\">37</td><td c=\"1\" class=\"msga2-o pp6\" nowrap=\"\">1/2</td><td c=\"1\" class=\"msga2-o pp6\" nowrap=\"\">Staļina</td><td c=\"1\" class=\"msga2-o pp6\" nowrap=\"\">1,078 €</td><td c=\"1\" class=\"msga2-o pp6\" nowrap=\"\">39,900  €</td></tr>\n",
      "<tr id=\"tr_44318701\"><td class=\"msga2 pp0\"><input id=\"c44318701\" name=\"mid[]\" type=\"checkbox\" value=\"44318701_1105_0\"/></td><td class=\"msga2\"><a href=\"/msg/lv/real-estate/flats/riga/teika/ahkpe.html\" id=\"im44318701\"><img alt=\"\" class=\"isfoto foto_list\" src=\"https://i.ss.com/gallery/3/419/104681/20936019.th2.jpg\"/></a></td><td class=\"msg2\"><div class=\"d1\"><a class=\"am\" data=\"JUFCJTkyJTg4bXUlQTIlRjUlOTMlOERpcSVBMSVCMiU5NSU4OWhyJUEwJUFCJTk3JTkwanI=|ybX6Ak\" href=\"/msg/lv/real-estate/flats/riga/teika/ahkpe.html\" id=\"dm_44318701\"><b>Netālu no Alfas, izīrē īpašnieks</b></a></div></td><td c=\"1\" class=\"msga2-o pp6\" nowrap=\"\"><b>Brīvības 334</b></td><td c=\"1\" class=\"msga2-o pp6\" nowrap=\"\"><b>2</b></td><td c=\"1\" class=\"msga2-o pp6\" nowrap=\"\"><b>45</b></td><td c=\"1\" class=\"msga2-o pp6\" nowrap=\"\"><b>1/5</b></td><td c=\"1\" class=\"msga2-o pp6\" nowrap=\"\"><b>119.</b></td><td c=\"1\" class=\"msga2-o pp6\" nowrap=\"\"><b>6.67</b> €</td><td c=\"1\" class=\"msga2-o pp6\" nowrap=\"\"><b>300</b>  €/mēn.</td></tr>\n",
      "<tr id=\"tr_42757345\"><td class=\"msga2 pp0\"><input id=\"c42757345\" name=\"mid[]\" type=\"checkbox\" value=\"42757345_1105_0\"/></td><td class=\"msga2\"><a href=\"/msg/lv/real-estate/flats/riga/teika/cpojk.html\" id=\"im42757345\"><img alt=\"\" class=\"isfoto foto_list\" src=\"https://i.ss.com/gallery/2/328/81988/16397568.th2.jpg\"/></a></td><td class=\"msg2\"><div class=\"d1\"><a class=\"am\" data=\"JTdEZ2UlQTUlODglQzd4eCU5RXlvaSVBNSU4MCU4MXl3JTlFJTdFams=|H74sPKGCn\" href=\"/msg/lv/real-estate/flats/riga/teika/cpojk.html\" id=\"dm_42757345\">Продаётся квартира. Квартира в середине дома. Очень тёплая, солн</a></div></td><td c=\"1\" class=\"msga2-o pp6\" nowrap=\"\">Burtnieku 33</td><td c=\"1\" class=\"msga2-o pp6\" nowrap=\"\">1</td><td c=\"1\" class=\"msga2-o pp6\" nowrap=\"\">18</td><td c=\"1\" class=\"msga2-o pp6\" nowrap=\"\">3/5</td><td c=\"1\" class=\"msga2-o pp6\" nowrap=\"\">M. ģim.</td><td c=\"1\" class=\"msga2-o pp6\" nowrap=\"\">944 €</td><td c=\"1\" class=\"msga2-o pp6\" nowrap=\"\">17,000  €</td></tr>\n",
      "<tr id=\"tr_44317872\"><td class=\"msga2 pp0\"><input id=\"c44317872\" name=\"mid[]\" type=\"checkbox\" value=\"44317872_1105_0\"/></td><td class=\"msga2\"><a href=\"/msg/lv/real-estate/flats/riga/teika/cfllx.html\" id=\"im44317872\"><img alt=\"\" class=\"isfoto foto_list\" src=\"https://i.ss.com/gallery/3/419/104668/20933473.th2.jpg\"/></a></td><td class=\"msg2\"><div class=\"d1\"><a class=\"am\" data=\"ZGQlQUYlQUUlQUIlQTUlQTglQ0MlQTNoZSVBRCVBRSVBQSVBNiVBQiU4NSVBNWVoJUFEJUFEJUIyJUE5|33zuzurPr\" href=\"/msg/lv/real-estate/flats/riga/teika/cfllx.html\" id=\"dm_44317872\"><b>Izīrē divistabas dzīvokli- izolētas istabas ar balkonu.</b></a></div></td><td c=\"1\" class=\"msga2-o pp6\" nowrap=\"\"><b>Biķernieku 35A</b></td><td c=\"1\" class=\"msga2-o pp6\" nowrap=\"\"><b>2</b></td><td c=\"1\" class=\"msga2-o pp6\" nowrap=\"\"><b>60</b></td><td c=\"1\" class=\"msga2-o pp6\" nowrap=\"\"><b>5/5</b></td><td c=\"1\" class=\"msga2-o pp6\" nowrap=\"\"><b>LT proj.</b></td><td c=\"1\" class=\"msga2-o pp6\" nowrap=\"\"><b>4.92</b> €</td><td c=\"1\" class=\"msga2-o pp6\" nowrap=\"\"><b>295</b>  €/mēn.</td></tr>\n",
      "<tr id=\"tr_44134979\"><td class=\"msga2 pp0\"><input id=\"c44134979\" name=\"mid[]\" type=\"checkbox\" value=\"44134979_1105_0\"/></td><td class=\"msga2\"><a href=\"/msg/lv/real-estate/flats/riga/teika/bfpoc.html\" id=\"im44134979\"><img alt=\"\" class=\"isfoto foto_list\" src=\"https://i.ss.com/gallery/3/407/101677/20335250.th2.jpg\"/></a></td><td class=\"msg2\"><div class=\"d1\"><a class=\"am\" data=\"JUE5YyVBNSVBRCVDNCU5RSVBOWMlQTMlQUQlN0MlQTUlQUNpJUE3JUE4JTdFJUExJUE4bA==|t3ruHm\" href=\"/msg/lv/real-estate/flats/riga/teika/bfpoc.html\" id=\"dm_44134979\">Tikko pēc remonta. Dzīvoklis absolūti perfektā stāvoklī, jo nevi</a></div></td><td c=\"1\" class=\"msga2-o pp6\" nowrap=\"\">Brīvības 262</td><td c=\"1\" class=\"msga2-o pp6\" nowrap=\"\">2</td><td c=\"1\" class=\"msga2-o pp6\" nowrap=\"\">47</td><td c=\"1\" class=\"msga2-o pp6\" nowrap=\"\">2/4</td><td c=\"1\" class=\"msga2-o pp6\" nowrap=\"\">P. kara</td><td c=\"1\" class=\"msga2-o pp6\" nowrap=\"\">1,596 €</td><td c=\"1\" class=\"msga2-o pp6\" nowrap=\"\">75,000  €</td></tr>\n",
      "<tr id=\"tr_43097922\"><td class=\"msga2 pp0\"><input id=\"c43097922\" name=\"mid[]\" type=\"checkbox\" value=\"43097922_1105_0\"/></td><td class=\"msga2\"><a href=\"/msg/lv/real-estate/flats/riga/teika/cihcl.html\" id=\"im43097922\"><img alt=\"\" class=\"isfoto foto_list\" src=\"https://i.ss.com/gallery/2/347/86543/17308461.th2.jpg\"/></a></td><td class=\"msg2\"><div class=\"d1\"><a class=\"am\" data=\"JTg3JThDZyU4RSVBOCVBRSU4NSU4OWUlODclQThrJThEJThEbSU4RSVCMWglOEElODRs|TT5Ux2\" href=\"/msg/lv/real-estate/flats/riga/teika/cihcl.html\" id=\"dm_43097922\">Совершенно эксклюзивный вариант. Трехэтажный довоенный особняк н</a></div></td><td c=\"1\" class=\"msga2-o pp6\" nowrap=\"\">Bērzaunes 3</td><td c=\"1\" class=\"msga2-o pp6\" nowrap=\"\">4</td><td c=\"1\" class=\"msga2-o pp6\" nowrap=\"\">93</td><td c=\"1\" class=\"msga2-o pp6\" nowrap=\"\">2/3</td><td c=\"1\" class=\"msga2-o pp6\" nowrap=\"\">P. kara</td><td c=\"1\" class=\"msga2-o pp6\" nowrap=\"\">1,237 €</td><td c=\"1\" class=\"msga2-o pp6\" nowrap=\"\">115,000  €</td></tr>\n",
      "<tr id=\"tr_44259778\"><td class=\"msga2 pp0\"><input id=\"c44259778\" name=\"mid[]\" type=\"checkbox\" value=\"44259778_1105_0\"/></td><td class=\"msga2\"><a href=\"/msg/lv/real-estate/flats/riga/teika/eeoil.html\" id=\"im44259778\"><img alt=\"\" class=\"isfoto foto_list\" src=\"https://i.ss.com/gallery/3/416/103758/20751475.th2.jpg\"/></a></td><td class=\"msg2\"><div class=\"d1\"><a class=\"am\" data=\"JThBJTk2JUE1JTg0JUEwJUE3JTgyJUFFJThBJTlCJTlEJTgxJUEwJUFCJTgyaSU4QiU5QyVBNSU4MyU5RCVBOSU4OA==|YfmKmsR2\" href=\"/msg/lv/real-estate/flats/riga/teika/eeoil.html\" id=\"dm_44259778\">Īpašnieks pārdod remontējamu 1 istabas dzīvokli ļoti labā vietā,</a></div></td><td c=\"1\" class=\"msga2-o pp6\" nowrap=\"\">Biķernieku 47</td><td c=\"1\" class=\"msga2-o pp6\" nowrap=\"\">1</td><td c=\"1\" class=\"msga2-o pp6\" nowrap=\"\">29</td><td c=\"1\" class=\"msga2-o pp6\" nowrap=\"\">1/2</td><td c=\"1\" class=\"msga2-o pp6\" nowrap=\"\">P. kara</td><td c=\"1\" class=\"msga2-o pp6\" nowrap=\"\">517 €</td><td c=\"1\" class=\"msga2-o pp6\" nowrap=\"\">15,000  €</td></tr>\n",
      "<tr id=\"tr_bnr_712\" style=\"display:none;\"><td align=\"center\" colspan=\"12\">\n",
      "<div align=\"center\" id=\"div_bnr_712\"></div>\n",
      "<script>load_script_async(\"/w_inc/reklama.728.php?0||1105||\"+escape(document.referrer));</script>\n",
      "</td></tr>\n",
      "</table>\n",
      "<br/><table border=\"0\" cellpasdding=\"0\" cellspacing=\"0\" width=\"100%\"><tr><td nowrap=\"\" width=\"24\"></td><td><div align=\"center\" class=\"td2\" nowrap=\"\"><a class=\"navi\" href=\"/lv/real-estate/flats/riga/teika/page5.html\" name=\"nav_id\" rel=\"prev\"><img border=\"0\" height=\"5\" src=\"https://i.ss.com/img/s_left.png\" style=\"padding-bottom:2px;\" width=\"9\"/> Iepriekšējie</a>    <button class=\"navia\" onclick=\"return false;\">1</button> <a class=\"navi\" href=\"/lv/real-estate/flats/riga/teika/page2.html\" name=\"nav_id\" rel=\"next\">2</a> <a class=\"navi\" href=\"/lv/real-estate/flats/riga/teika/page3.html\" name=\"nav_id\" rel=\"next\">3</a> <a class=\"navi\" href=\"/lv/real-estate/flats/riga/teika/page4.html\" name=\"nav_id\" rel=\"next\">4</a> <a class=\"navi\" href=\"/lv/real-estate/flats/riga/teika/page5.html\" name=\"nav_id\" rel=\"next\">5</a>    <a class=\"navi\" href=\"/lv/real-estate/flats/riga/teika/page2.html\" name=\"nav_id\" rel=\"next\">Nākamie <img border=\"0\" height=\"5\" src=\"https://i.ss.com/img/s_right.png\" style=\"padding-bottom:2px;\" width=\"9\"/></a></div><br/></td><td nowrap=\"\" valign=\"top\" width=\"24\"><script>if(document.documentElement &&document.documentElement.clientHeight &&document.documentElement.offsetHeight && ( document.documentElement.offsetHeight-document.documentElement.clientHeight )>30){D.write( '<img src=\"https://i.ss.com/img/up.png\" width=24 height=24 border=0 onclick=\"window.scrollTo(0,0);return false;\" style=\"opacity:0.3;cursor:pointer;position:absolute;\" onmouseover=\"this.style.opacity=1;\" onmouseout=\"this.style.opacity=0.3;\" title=\"Uz sākumu\">'); }</script></td></tr></table>\n",
      "<table border=\"0\" cellpadding=\"2\" cellspacing=\"0\" width=\"100%\"><tr>\n",
      "<td class=\"td7\" nowrap=\"\" title=\"Parādīt izvēlētos sludinājumus\" width=\"40%\"><noindex><a class=\"td15\" href=\"/lv/show-selected/fDgReF4S.html\" id=\"show_selected_a\" onclick=\"if( !check_selected_msg( 'Izvēlieties sludinājumus.' ) ){event.returnValue=false;return false;}\" rel=\"nofollow\">Parādīt izvēlētos sludinājumus</a></noindex> <span class=\"td15\" id=\"sel_cnt_obj\"></span></td>\n",
      "<td align=\"center\" rowspan=\"4\" valign=\"center\" width=\"20%\"><input class=\"b\" onclick=\"go('/lv/real-estate/flats/riga/teika/new/' );\" type=\"button\" value=\"Izvietot sludinājumu\"/></td>\n",
      "<td align=\"right\" class=\"td7\" width=\"40%\"> </td>\n",
      "</tr>\n",
      "<tr><td class=\"td7\"><noindex><a class=\"a9a\" href=\"javascript:;\" id=\"a_fav_sel\" onclick=\"af(-1,'lv')\" rel=\"nofollow\" style=\"display:none;\">Pievienot izvēlētos Memo</a></noindex></td></tr>\n",
      "<tr><td class=\"td7\" valign=\"top\"><a class=\"a9a\" href=\"javascript:;\" id=\"clear_selected_a\" onclick=\"dsl(2);return false;\" style=\"display:none;\">Notīrīt atzīmētos</a></td></tr>\n",
      "</table><br/>\n",
      "<br/></form><script src=\"/w_inc/set.cookie.php?a=1&amp;lg=2\" type=\"text/javascript\"></script>\n",
      "<iframe frameborder=\"0\" height=\"0\" id=\"ss_mframe\" name=\"ss_mframe\" style=\"display:none\" width=\"0\"></iframe></td></tr>, <tr><td style=\"padding-bottom:3px;\"><table border=\"0\" cellpadding=\"1\" cellspacing=\"0\"><tr><td class=\"filter_name\" nowrap=\"\" valign=\"bottom\">Cena:<br/><span id=\"foptfld_8\"><input class=\"filter_txt l50\" id=\"f_o_8_min\" name=\"topt[8][min]\" type=\"text\" value=\"\"/>-<input class=\"filter_txt l50\" id=\"f_o_8_max\" name=\"topt[8][max]\" type=\"text\" value=\"\"/></span> </td><td class=\"filter_name\" nowrap=\"\" valign=\"bottom\">Istabas:<br/><span id=\"foptfld_1\"><select class=\"filter_sel l50\" id=\"f_o_1\" name=\"topt[1][min]\" onchange=\"this.form.submit();\"><option value=\"\"></option><option value=\"1\">1</option><option value=\"2\">2</option><option value=\"3\">3</option><option value=\"4\">4</option><option value=\"5\">5</option><option value=\"6\">6</option><option value=\"Citi\">Citi</option></select>-<select class=\"filter_sell50\" id=\"f_o_1\" name=\"topt[1][max]\" onchange=\"this.form.submit();\"><option value=\"\"></option><option value=\"1\">1</option><option value=\"2\">2</option><option value=\"3\">3</option><option value=\"4\">4</option><option value=\"5\">5</option><option value=\"6\">6</option><option value=\"Citi\">Citi</option></select></span> </td><td class=\"filter_name\" nowrap=\"\" valign=\"bottom\">Platība:<br/><span id=\"foptfld_3\"><input class=\"filter_txt l35\" id=\"f_o_3_min\" maxlength=\"4\" name=\"topt[3][min]\" type=\"text\" value=\"\"/>-<input class=\"filter_txt l35\" id=\"f_o_3_max\" maxlength=\"4\" name=\"topt[3][max]\" type=\"text\" value=\"\"/></span> </td><td class=\"filter_name\" nowrap=\"\" valign=\"bottom\">Stāvs:<br/><span id=\"foptfld_4\"><input class=\"filter_txt l23\" id=\"f_o_4_min\" maxlength=\"4\" name=\"topt[4][min]\" type=\"text\" value=\"\"/>-<input class=\"filter_txt l23\" id=\"f_o_4_max\" maxlength=\"4\" name=\"topt[4][max]\" type=\"text\" value=\"\"/></span> </td><td class=\"filter_name\" nowrap=\"\" valign=\"bottom\">Sērija:<br/><span id=\"foptfld_6\"><select class=\"filter_sel l85\" id=\"f_o_6\" name=\"opt[6]\" onchange=\"this.form.submit();\"><option value=\"\"></option><option value=\"67\">103.</option><option value=\"69\">119.</option><option value=\"76\">Hrušč.</option><option value=\"72\">LT proj.</option><option value=\"74\">M. ģim.</option><option value=\"79\">P. kara</option><option value=\"77\">Priv. m.</option><option value=\"3616\">Renov.</option><option value=\"78\">Specpr.</option><option value=\"75\">Staļina</option><option value=\"3596\">Jaun.</option></select></span> </td></tr></table></td><td align=\"right\" style=\"padding-top:14px;\" width=\"100%\"><input class=\"b s12\" style=\"padding-top:1px;padding-bottom:2px;\" type=\"submit\" value=\"Meklēt\"/></td></tr>, <tr><td class=\"filter_name\" nowrap=\"\" valign=\"bottom\">Cena:<br/><span id=\"foptfld_8\"><input class=\"filter_txt l50\" id=\"f_o_8_min\" name=\"topt[8][min]\" type=\"text\" value=\"\"/>-<input class=\"filter_txt l50\" id=\"f_o_8_max\" name=\"topt[8][max]\" type=\"text\" value=\"\"/></span> </td><td class=\"filter_name\" nowrap=\"\" valign=\"bottom\">Istabas:<br/><span id=\"foptfld_1\"><select class=\"filter_sel l50\" id=\"f_o_1\" name=\"topt[1][min]\" onchange=\"this.form.submit();\"><option value=\"\"></option><option value=\"1\">1</option><option value=\"2\">2</option><option value=\"3\">3</option><option value=\"4\">4</option><option value=\"5\">5</option><option value=\"6\">6</option><option value=\"Citi\">Citi</option></select>-<select class=\"filter_sell50\" id=\"f_o_1\" name=\"topt[1][max]\" onchange=\"this.form.submit();\"><option value=\"\"></option><option value=\"1\">1</option><option value=\"2\">2</option><option value=\"3\">3</option><option value=\"4\">4</option><option value=\"5\">5</option><option value=\"6\">6</option><option value=\"Citi\">Citi</option></select></span> </td><td class=\"filter_name\" nowrap=\"\" valign=\"bottom\">Platība:<br/><span id=\"foptfld_3\"><input class=\"filter_txt l35\" id=\"f_o_3_min\" maxlength=\"4\" name=\"topt[3][min]\" type=\"text\" value=\"\"/>-<input class=\"filter_txt l35\" id=\"f_o_3_max\" maxlength=\"4\" name=\"topt[3][max]\" type=\"text\" value=\"\"/></span> </td><td class=\"filter_name\" nowrap=\"\" valign=\"bottom\">Stāvs:<br/><span id=\"foptfld_4\"><input class=\"filter_txt l23\" id=\"f_o_4_min\" maxlength=\"4\" name=\"topt[4][min]\" type=\"text\" value=\"\"/>-<input class=\"filter_txt l23\" id=\"f_o_4_max\" maxlength=\"4\" name=\"topt[4][max]\" type=\"text\" value=\"\"/></span> </td><td class=\"filter_name\" nowrap=\"\" valign=\"bottom\">Sērija:<br/><span id=\"foptfld_6\"><select class=\"filter_sel l85\" id=\"f_o_6\" name=\"opt[6]\" onchange=\"this.form.submit();\"><option value=\"\"></option><option value=\"67\">103.</option><option value=\"69\">119.</option><option value=\"76\">Hrušč.</option><option value=\"72\">LT proj.</option><option value=\"74\">M. ģim.</option><option value=\"79\">P. kara</option><option value=\"77\">Priv. m.</option><option value=\"3616\">Renov.</option><option value=\"78\">Specpr.</option><option value=\"75\">Staļina</option><option value=\"3596\">Jaun.</option></select></span> </td></tr>, <tr id=\"head_line\">\n",
      "<td class=\"msg_column\" colspan=\"3\" width=\"70%\">\n",
      "<span style=\"float:left;\"> Sludinājumi\r\n",
      "</span>\n",
      "<span align=\"right\" class=\"msg_column\" style=\"float:right;text-align:right;padding-right:3px;\">\n",
      "<noindex>\n",
      "<a class=\"a19\" href=\"/lv/real-estate/flats/riga/teika/fDgSeF4S.html\" rel=\"nofollow\">datums</a></noindex></span>\n",
      "</td>\n",
      "<td class=\"msg_column_td\" nowrap=\"\"><noindex><a class=\"a18\" href=\"/lv/real-estate/flats/riga/teika/fDgSeF4SFDwT.html\" rel=\"nofollow\" title=\"\">Iela</a></noindex></td><td class=\"msg_column_td\" nowrap=\"\"><noindex><a class=\"a18\" href=\"/lv/real-estate/flats/riga/teika/fDgSeF4SelM=.html\" rel=\"nofollow\" title=\"\">Ist.</a></noindex></td><td class=\"msg_column_td\" nowrap=\"\"><noindex><a class=\"a18\" href=\"/lv/real-estate/flats/riga/teika/fDgSeF4QelM=.html\" rel=\"nofollow\" title=\"\">m2</a></noindex></td><td class=\"msg_column_td\" nowrap=\"\"><noindex><a class=\"a18\" href=\"/lv/real-estate/flats/riga/teika/fDgSeF4XelM=.html\" rel=\"nofollow\" title=\"\">Stāvs</a></noindex></td><td class=\"msg_column_td\" nowrap=\"\"><noindex><a class=\"a18\" href=\"/lv/real-estate/flats/riga/teika/fDgSeF4VelM=.html\" rel=\"nofollow\" title=\"\">Sērija</a></noindex></td><td background=\"https://i.ss.com/img/pl.gif\" class=\"msg_column\" nowrap=\"\" style=\"border-left:1px #FFFFFF solid;\"><noindex><a class=\"a18\" href=\"/lv/real-estate/flats/riga/teika/fDgSeF4bRDwT.html\" rel=\"nofollow\">Cena, m2</a></noindex></td><td class=\"msg_column_td\" nowrap=\"\"><noindex><a class=\"a18\" href=\"/lv/real-estate/flats/riga/teika/fDgSeF4belM=.html\" rel=\"nofollow\" title=\"\">Cena</a></noindex></td></tr>, <tr id=\"tr_44335500\"><td class=\"msga2 pp0\"><input id=\"c44335500\" name=\"mid[]\" type=\"checkbox\" value=\"44335500_1105_0\"/></td><td class=\"msga2\"><a href=\"/msg/lv/real-estate/flats/riga/teika/cgnhc.html\" id=\"im44335500\"><img alt=\"\" class=\"isfoto foto_list\" src=\"https://i.ss.com/gallery/2/308/76888/15377415.th2.jpg\"/></a></td><td class=\"msg2\"><div class=\"d1\"><a class=\"am\" data=\"aGolN0UlQTglN0YlODUlQjBjJTgyJUE0JTdGJTg3bGYlN0QlQUMlN0UlODNkYyU4NCVBQg==|42MtNP\" href=\"/msg/lv/real-estate/flats/riga/teika/cgnhc.html\" id=\"dm_44335500\">Mājīgs, mēbelēts dzīvoklis ar zemiem komunālajiem maksājumiem. \r",
      "</a></div></td><td c=\"1\" class=\"msga2-o pp6\" nowrap=\"\">Bērzpils 7</td><td c=\"1\" class=\"msga2-o pp6\" nowrap=\"\">1</td><td c=\"1\" class=\"msga2-o pp6\" nowrap=\"\">30</td><td c=\"1\" class=\"msga2-o pp6\" nowrap=\"\">4/5</td><td c=\"1\" class=\"msga2-o pp6\" nowrap=\"\">Hrušč.</td><td c=\"1\" class=\"msga2-o pp6\" nowrap=\"\">967 €</td><td c=\"1\" class=\"msga2-o pp6\" nowrap=\"\">29,000  €</td></tr>, <tr id=\"tr_44333885\"><td class=\"msga2 pp0\"><input id=\"c44333885\" name=\"mid[]\" type=\"checkbox\" value=\"44333885_1105_0\"/></td><td class=\"msga2\"><a href=\"/msg/lv/real-estate/flats/riga/teika/cnbhj.html\" id=\"im44333885\"><img alt=\"\" class=\"isfoto foto_list\" src=\"https://i.ss.com/gallery/2/240/59862/11972299.th2.jpg\"/></a></td><td class=\"msg2\"><div class=\"d1\"><a class=\"am\" data=\"aSU4NyVBMSVBNiU4QSU4QyVERmklODclQTAlQTglODQlOEQlOTNpJTg1JUE1JUE0JThBJThEJTk2cSU4Nw==|8RnpSTc\" href=\"/msg/lv/real-estate/flats/riga/teika/cnbhj.html\" id=\"dm_44333885\"><b>Tikko pēc kapitāla eiroremonta, un ar visu nepieciešamu premium </b></a></div></td><td c=\"1\" class=\"msga2-o pp6\" nowrap=\"\"><b>Zālīša 1</b></td><td c=\"1\" class=\"msga2-o pp6\" nowrap=\"\"><b>1</b></td><td c=\"1\" class=\"msga2-o pp6\" nowrap=\"\"><b>33</b></td><td c=\"1\" class=\"msga2-o pp6\" nowrap=\"\"><b>3/5</b></td><td c=\"1\" class=\"msga2-o pp6\" nowrap=\"\"><b>103.</b></td><td c=\"1\" class=\"msga2-o pp6\" nowrap=\"\"><b>10</b> €</td><td c=\"1\" class=\"msga2-o pp6\" nowrap=\"\"><b>330</b>  €/mēn.</td></tr>, <tr id=\"tr_44330691\"><td class=\"msga2 pp0\"><input id=\"c44330691\" name=\"mid[]\" type=\"checkbox\" value=\"44330691_1105_0\"/></td><td class=\"msga2\"><a href=\"/msg/lv/real-estate/flats/riga/teika/djxgi.html\" id=\"im44330691\"><img alt=\"\" class=\"isfoto foto_list\" src=\"https://i.ss.com/gallery/3/420/104874/20974782.th2.jpg\"/></a></td><td class=\"msg2\"><div class=\"d1\"><a class=\"am\" data=\"aSVBQSVBQyVBQW8lOTglQjN2JTdCaCVCMiVBQyVCMG4lOUFnJTdDJTdFaiVCMCVBQSVBQ2Y=|8yyy6b7EF\" href=\"/msg/lv/real-estate/flats/riga/teika/djxgi.html\" id=\"dm_44330691\">Место - вне конкуренции. центр \"старой\" Тейки. Напротив Teikas V</a></div></td><td c=\"1\" class=\"msga2-o pp6\" nowrap=\"\">Āraišu 2</td><td c=\"1\" class=\"msga2-o pp6\" nowrap=\"\">3</td><td c=\"1\" class=\"msga2-o pp6\" nowrap=\"\">80</td><td c=\"1\" class=\"msga2-o pp6\" nowrap=\"\">2/2</td><td c=\"1\" class=\"msga2-o pp6\" nowrap=\"\">Priv. m.</td><td c=\"1\" class=\"msga2-o pp6\" nowrap=\"\">1,088 €</td><td c=\"1\" class=\"msga2-o pp6\" nowrap=\"\">87,000  €</td></tr>, <tr id=\"tr_44331871\"><td class=\"msga2 pp0\"><input id=\"c44331871\" name=\"mid[]\" type=\"checkbox\" value=\"44331871_1105_0\"/></td><td class=\"msga2\"><a href=\"/msg/lv/real-estate/flats/riga/teika/dchph.html\" id=\"im44331871\"><img alt=\"\" class=\"isfoto foto_list\" src=\"https://i.ss.com/gallery/3/420/104894/20978644.th2.jpg\"/></a></td><td class=\"msg2\"><div class=\"d1\"><a class=\"am\" data=\"ZSU4MSVBNyU4NGslQUZkaSU3QyVBOSU4MGhsY2slN0YlQUElODNlbGZk|4KsM333\" href=\"/msg/lv/real-estate/flats/riga/teika/dchph.html\" id=\"dm_44331871\"><b>Tiek izīrēts 2-istabu dzīvoklis, ar izolētām istabām ķieģeļu, sp</b></a></div></td><td c=\"1\" class=\"msga2-o pp6\" nowrap=\"\"><b>Ūnijas 28</b></td><td c=\"1\" class=\"msga2-o pp6\" nowrap=\"\"><b>2</b></td><td c=\"1\" class=\"msga2-o pp6\" nowrap=\"\"><b>50</b></td><td c=\"1\" class=\"msga2-o pp6\" nowrap=\"\"><b>3/5</b></td><td c=\"1\" class=\"msga2-o pp6\" nowrap=\"\"><b>Specpr.</b></td><td c=\"1\" class=\"msga2-o pp6\" nowrap=\"\"><b>6</b> €</td><td c=\"1\" class=\"msga2-o pp6\" nowrap=\"\"><b>300</b>  €/mēn.</td></tr>, <tr id=\"tr_44330105\"><td class=\"msga2 pp0\"><input id=\"c44330105\" name=\"mid[]\" type=\"checkbox\" value=\"44330105_1105_0\"/></td><td class=\"msga2\"><a href=\"/msg/lv/real-estate/flats/riga/teika/annpm.html\" id=\"im44330105\"><img alt=\"\" class=\"isfoto foto_list\" src=\"https://i.ss.com/gallery/3/420/104865/20972829.th2.jpg\"/></a></td><td class=\"msg2\"><div class=\"d1\"><a class=\"am\" data=\"eSU3RCU3QyU3RSVBOSU4QSU5MiVFMSU5NyU3RCU3RSU3QiU4MiVBNiU5MCU5MSU5RSU5RCU3QyU4MSU4MCU3Qg==|HKKKsXYef\" href=\"/msg/lv/real-estate/flats/riga/teika/annpm.html\" id=\"dm_44330105\"><b>Īpašnieks izīrē. saulains, gaišs, daļēji Mēbelēts(Ikea), Necaurs</b></a></div></td><td c=\"1\" class=\"msga2-o pp6\" nowrap=\"\"><b>Piebalgas 4</b></td><td c=\"1\" class=\"msga2-o pp6\" nowrap=\"\"><b>2</b></td><td c=\"1\" class=\"msga2-o pp6\" nowrap=\"\"><b>45</b></td><td c=\"1\" class=\"msga2-o pp6\" nowrap=\"\"><b>5/5</b></td><td c=\"1\" class=\"msga2-o pp6\" nowrap=\"\"><b>Renov.</b></td><td c=\"1\" class=\"msga2-o pp6\" nowrap=\"\"><b>6.67</b> €</td><td c=\"1\" class=\"msga2-o pp6\" nowrap=\"\"><b>300</b>  €/mēn.</td></tr>, <tr id=\"tr_43941864\"><td class=\"msga2 pp0\"><input id=\"c43941864\" name=\"mid[]\" type=\"checkbox\" value=\"43941864_1105_0\"/></td><td class=\"msga2\"><a href=\"/msg/lv/real-estate/flats/riga/teika/kmggx.html\" id=\"im43941864\"><img alt=\"\" class=\"isfoto foto_list\" src=\"https://i.ss.com/gallery/2/395/98631/19726085.th2.jpg\"/></a></td><td class=\"msg2\"><div class=\"d1\"><a class=\"am\" data=\"JThFeSU5NyVBMiVBN2slRDQlODklOUFxJThBJTgwJTlBJUE5JUE1aCU4RSU4QiU5Q3ElOEN4|YHgrs2XXeA\" href=\"/msg/lv/real-estate/flats/riga/teika/kmggx.html\" id=\"dm_43941864\">Unikāls dzīvokļu projekts izvietots slēgtā, zaļā teritorijā ar d</a></div></td><td c=\"1\" class=\"msga2-o pp6\" nowrap=\"\">Vairoga 32</td><td c=\"1\" class=\"msga2-o pp6\" nowrap=\"\">4</td><td c=\"1\" class=\"msga2-o pp6\" nowrap=\"\">57</td><td c=\"1\" class=\"msga2-o pp6\" nowrap=\"\">1/3</td><td c=\"1\" class=\"msga2-o pp6\" nowrap=\"\">Renov.</td><td c=\"1\" class=\"msga2-o pp6\" nowrap=\"\">1,949 €</td><td c=\"1\" class=\"msga2-o pp6\" nowrap=\"\">111,110  €</td></tr>, <tr id=\"tr_43941782\"><td class=\"msga2 pp0\"><input id=\"c43941782\" name=\"mid[]\" type=\"checkbox\" value=\"43941782_1105_0\"/></td><td class=\"msga2\"><a href=\"/msg/lv/real-estate/flats/riga/teika/cbchm.html\" id=\"im43941782\"><img alt=\"\" class=\"isfoto foto_list\" src=\"https://i.ss.com/gallery/2/395/98623/19724552.th2.jpg\"/></a></td><td class=\"msg2\"><div class=\"d1\"><a class=\"am\" data=\"JTg1JTkyZiU5OHglQUUlQ0NlJTlDJTk3JTgxJTk5aSU5RnYlQUIlODZnJTlFJTk3JTgzJTkx|Pa6hDuP4gg\" href=\"/msg/lv/real-estate/flats/riga/teika/cbchm.html\" id=\"dm_43941782\">Unikāls dzīvokļu projekts izvietots slēgtā, zaļā teritorijā ar d</a></div></td><td c=\"1\" class=\"msga2-o pp6\" nowrap=\"\">Vairoga 32</td><td c=\"1\" class=\"msga2-o pp6\" nowrap=\"\">3</td><td c=\"1\" class=\"msga2-o pp6\" nowrap=\"\">52</td><td c=\"1\" class=\"msga2-o pp6\" nowrap=\"\">3/4</td><td c=\"1\" class=\"msga2-o pp6\" nowrap=\"\">Renov.</td><td c=\"1\" class=\"msga2-o pp6\" nowrap=\"\">1,923 €</td><td c=\"1\" class=\"msga2-o pp6\" nowrap=\"\">100,000  €</td></tr>, <tr id=\"tr_43941681\"><td class=\"msga2 pp0\"><input id=\"c43941681\" name=\"mid[]\" type=\"checkbox\" value=\"43941681_1105_0\"/></td><td class=\"msga2\"><a href=\"/msg/lv/real-estate/flats/riga/teika/bgmbg.html\" id=\"im43941681\"><img alt=\"\" class=\"isfoto foto_list\" src=\"https://i.ss.com/gallery/2/395/98621/19724128.th2.jpg\"/></a></td><td class=\"msg2\"><div class=\"d1\"><a class=\"am\" data=\"JUE3JTg2JTg1YiU5OXolRTIlQTMlODklODUlQTMlOEQlODhpJTk3dyU5QyVBNSU4QiU4NSVBNSU4NQ==|rUU2eAfrTU\" href=\"/msg/lv/real-estate/flats/riga/teika/bgmbg.html\" id=\"dm_43941681\">Unikāls dzīvokļu projekts izvietots slēgtā, zaļā teritorijā ar d</a></div></td><td c=\"1\" class=\"msga2-o pp6\" nowrap=\"\">Vairoga 32</td><td c=\"1\" class=\"msga2-o pp6\" nowrap=\"\">2</td><td c=\"1\" class=\"msga2-o pp6\" nowrap=\"\">28</td><td c=\"1\" class=\"msga2-o pp6\" nowrap=\"\">1/3</td><td c=\"1\" class=\"msga2-o pp6\" nowrap=\"\">Renov.</td><td c=\"1\" class=\"msga2-o pp6\" nowrap=\"\">1,982 €</td><td c=\"1\" class=\"msga2-o pp6\" nowrap=\"\">55,500  €</td></tr>, <tr id=\"tr_44027422\"><td class=\"msga2 pp0\"><input id=\"c44027422\" name=\"mid[]\" type=\"checkbox\" value=\"44027422_1105_0\"/></td><td class=\"msga2\"><a href=\"/msg/lv/real-estate/flats/riga/teika/eojgh.html\" id=\"im44027422\"><img alt=\"\" class=\"isfoto foto_list\" src=\"https://i.ss.com/gallery/2/397/99119/19823717.th2.jpg\"/></a></td><td class=\"msg2\"><div class=\"d1\"><a class=\"am\" data=\"JUEyZyU5MSU5MiU5NiVBNCVDMSU4MSVBMmYlOTIlOUElOTUlQTJ3JTg2JUEzaSU5OCU5MiU5NSU5Qg==|m6abbkEP\" href=\"/msg/lv/real-estate/flats/riga/teika/eojgh.html\" id=\"dm_44027422\">Уникальный проект с детской площадкой и парковкой на закрытой зе</a></div></td><td c=\"1\" class=\"msga2-o pp6\" nowrap=\"\">Vairoga 32</td><td c=\"1\" class=\"msga2-o pp6\" nowrap=\"\">3</td><td c=\"1\" class=\"msga2-o pp6\" nowrap=\"\">42</td><td c=\"1\" class=\"msga2-o pp6\" nowrap=\"\">3/3</td><td c=\"1\" class=\"msga2-o pp6\" nowrap=\"\">Renov.</td><td c=\"1\" class=\"msga2-o pp6\" nowrap=\"\">2,000 €</td><td c=\"1\" class=\"msga2-o pp6\" nowrap=\"\">84,000  €</td></tr>, <tr id=\"tr_44329507\"><td class=\"msga2 pp0\"><input id=\"c44329507\" name=\"mid[]\" type=\"checkbox\" value=\"44329507_1105_0\"/></td><td class=\"msga2\"><a href=\"/msg/lv/real-estate/flats/riga/teika/ghopn.html\" id=\"im44329507\"><img alt=\"\" class=\"isfoto foto_list\" src=\"https://i.ss.com/gallery/2/365/91090/18217862.th2.jpg\"/></a></td><td class=\"msg2\"><div class=\"d1\"><a class=\"am\" data=\"JTg0enZ6dSU3RSVGMCU4QSU4M3J0d3olODMlQUMlOTElODB1JTdCdCU3QyU4NQ==|NBBCCMtY\" href=\"/msg/lv/real-estate/flats/riga/teika/ghopn.html\" id=\"dm_44329507\"><b>Īpašniece izīrē mājīgu, vienas istabas studio tipa dzīvokli (15 </b></a></div></td><td c=\"1\" class=\"msga2-o pp6\" nowrap=\"\"><b>Struktoru 13</b></td><td c=\"1\" class=\"msga2-o pp6\" nowrap=\"\"><b>1</b></td><td c=\"1\" class=\"msga2-o pp6\" nowrap=\"\"><b>15</b></td><td c=\"1\" class=\"msga2-o pp6\" nowrap=\"\"><b>3/4</b></td><td c=\"1\" class=\"msga2-o pp6\" nowrap=\"\"><b>Staļina</b></td><td c=\"1\" class=\"msga2-o pp6\" nowrap=\"\"><b>14</b> €</td><td c=\"1\" class=\"msga2-o pp6\" nowrap=\"\"><b>210</b>  €/mēn.</td></tr>, <tr id=\"tr_44013166\"><td class=\"msga2 pp0\"><input id=\"c44013166\" name=\"mid[]\" type=\"checkbox\" value=\"44013166_1105_0\"/></td><td class=\"msga2\"><a href=\"/msg/lv/real-estate/flats/riga/teika/eicjk.html\" id=\"im44013166\"><img alt=\"\" class=\"isfoto foto_list\" src=\"https://i.ss.com/gallery/2/399/99678/19935515.th2.jpg\"/></a></td><td class=\"msg2\"><div class=\"d1\"><a class=\"am\" data=\"eGglOEYlOEYlQjAlOTd3JUE2JTg4JThDdmMlODklOEZmJTlDeCVBNSU4OSU4QnU=|C3XY4fBsXX\" href=\"/msg/lv/real-estate/flats/riga/teika/eicjk.html\" id=\"dm_44013166\"><b>Pārdod pilnībā labiekārtotu dzīvokli projektā ''Jaunā Teika''. \r",
      "</b></a></div></td><td c=\"1\" class=\"msga2-o pp6\" nowrap=\"\"><b>Ropažu 10</b></td><td c=\"1\" class=\"msga2-o pp6\" nowrap=\"\"><b>2</b></td><td c=\"1\" class=\"msga2-o pp6\" nowrap=\"\"><b>44</b></td><td c=\"1\" class=\"msga2-o pp6\" nowrap=\"\"><b>13/16</b></td><td c=\"1\" class=\"msga2-o pp6\" nowrap=\"\"><b>Jaun.</b></td><td c=\"1\" class=\"msga2-o pp6\" nowrap=\"\"><b>2,205</b> €</td><td c=\"1\" class=\"msga2-o pp6\" nowrap=\"\"><b>97,000</b>  €</td></tr>, <tr id=\"tr_44327684\"><td class=\"msga2 pp0\"><input id=\"c44327684\" name=\"mid[]\" type=\"checkbox\" value=\"44327684_1105_0\"/></td><td class=\"msga2\"><a href=\"/msg/lv/real-estate/flats/riga/teika/agced.html\" id=\"im44327684\"><img alt=\"\" class=\"isfoto foto_list\" src=\"https://i.ss.com/gallery/3/420/104826/20965074.th2.jpg\"/></a></td><td class=\"msg2\"><div class=\"d1\"><a class=\"am\" data=\"JTdGaiU4QmMlOTYlOTclQzR5ZiU4NWMlOUQlOTl4JTdDZSU4RGMlOUElOUR5JTdC|H1U2eeH\" href=\"/msg/lv/real-estate/flats/riga/teika/agced.html\" id=\"dm_44327684\">Piedāvājam iegādāties jauku, saulainu vienistabas dzīvokli privā</a></div></td><td c=\"1\" class=\"msga2-o pp6\" nowrap=\"\">Zālīša 3</td><td c=\"1\" class=\"msga2-o pp6\" nowrap=\"\">1</td><td c=\"1\" class=\"msga2-o pp6\" nowrap=\"\">35</td><td c=\"1\" class=\"msga2-o pp6\" nowrap=\"\">2/5</td><td c=\"1\" class=\"msga2-o pp6\" nowrap=\"\">103.</td><td c=\"1\" class=\"msga2-o pp6\" nowrap=\"\">1,200 €</td><td c=\"1\" class=\"msga2-o pp6\" nowrap=\"\">42,000  €</td></tr>, <tr id=\"tr_42290877\"><td class=\"msga2 pp0\"><input id=\"c42290877\" name=\"mid[]\" type=\"checkbox\" value=\"42290877_1105_0\"/></td><td class=\"msga2\"><a href=\"/msg/lv/real-estate/flats/riga/teika/apiin.html\" id=\"im42290877\"><img alt=\"\" class=\"isfoto foto_list\" src=\"https://i.ss.com/img/buy/homes.lv.gif\"/></a></td><td class=\"msg2\"><div class=\"d1\"><a class=\"am\" data=\"aCU5RCVBQXJzYyVGNWIlOTklQTRyemUlQTllJTk4JUFDcndpJUFBZA==|1dtAB1y\" href=\"/msg/lv/real-estate/flats/riga/teika/apiin.html\" id=\"dm_42290877\"><b>Šobrīd aktīvi meklējam savu klientu interesēs divu līdz četru (2</b></a></div></td><td c=\"1\" class=\"msga2-o pp6\" nowrap=\"\"><b>Ieriķu 29</b></td><td c=\"1\" class=\"msga2-o pp6\" nowrap=\"\"><b>4</b></td><td c=\"1\" class=\"msga2-o pp6\" nowrap=\"\"><b>78</b></td><td c=\"1\" class=\"msga2-o pp6\" nowrap=\"\"><b>-</b></td><td c=\"1\" class=\"msga2-o pp6\" nowrap=\"\"><b>-</b></td><td c=\"1\" class=\"msga2-o pp6\" nowrap=\"\"><b>-</b></td><td c=\"1\" class=\"msga2-o pp6\" nowrap=\"\"><b>pērku</b> </td></tr>, <tr id=\"tr_40516589\"><td class=\"msga2 pp0\"><input id=\"c40516589\" name=\"mid[]\" type=\"checkbox\" value=\"40516589_1105_0\"/></td><td class=\"msga2\"><a href=\"/msg/lv/real-estate/flats/riga/teika/bngnf.html\" id=\"im40516589\"><img alt=\"\" class=\"isfoto foto_list\" src=\"https://i.ss.com/gallery/2/299/74565/14912821.th2.jpg\"/></a></td><td class=\"msg2\"><div class=\"d1\"><a class=\"am\" data=\"JTlGJUE0aiU5NCU4QWMlQ0MlOTklQTBkJTk0JTkxZSU4MCU5QyU5RmwlOTQlOEVpJTgxJTlC|hk4cY1P\" href=\"/msg/lv/real-estate/flats/riga/teika/bngnf.html\" id=\"dm_40516589\">Piedāvājam iegādāties jauku, kvalitatīvi remontētu\r\n",
      "divistabu dz</a></div></td><td c=\"1\" class=\"msga2-o pp6\" nowrap=\"\">Laimdotas 57</td><td c=\"1\" class=\"msga2-o pp6\" nowrap=\"\">2</td><td c=\"1\" class=\"msga2-o pp6\" nowrap=\"\">42</td><td c=\"1\" class=\"msga2-o pp6\" nowrap=\"\">4/5</td><td c=\"1\" class=\"msga2-o pp6\" nowrap=\"\">Hrušč.</td><td c=\"1\" class=\"msga2-o pp6\" nowrap=\"\">1,524 €</td><td c=\"1\" class=\"msga2-o pp6\" nowrap=\"\">64,000  €</td></tr>, <tr id=\"tr_44325963\"><td class=\"msga2 pp0\"><input id=\"c44325963\" name=\"mid[]\" type=\"checkbox\" value=\"44325963_1105_0\"/></td><td class=\"msga2\"><a href=\"/msg/lv/real-estate/flats/riga/teika/cocme.html\" id=\"im44325963\"><img alt=\"\" class=\"isfoto foto_list\" src=\"https://i.ss.com/gallery/3/420/104797/20959257.th2.jpg\"/></a></td><td class=\"msg2\"><div class=\"d1\"><a class=\"am\" data=\"JTk5JThBJUFEJTgzJTg3JUYwJTk0JThBJUFCJTdEJTg5JUFDJTlCJTg4JUFCJTg0JTg0JUFDJTk0JThEJUIwJTgy|cUxMRt\" href=\"/msg/lv/real-estate/flats/riga/teika/cocme.html\" id=\"dm_44325963\">Pārdodu dzīvokli divstāvu mājā, ar izolētām istabām. Junkers gāz</a></div></td><td c=\"1\" class=\"msga2-o pp6\" nowrap=\"\">Ropažu 2</td><td c=\"1\" class=\"msga2-o pp6\" nowrap=\"\">2</td><td c=\"1\" class=\"msga2-o pp6\" nowrap=\"\">50</td><td c=\"1\" class=\"msga2-o pp6\" nowrap=\"\">2/2</td><td c=\"1\" class=\"msga2-o pp6\" nowrap=\"\">P. kara</td><td c=\"1\" class=\"msga2-o pp6\" nowrap=\"\">1,260 €</td><td c=\"1\" class=\"msga2-o pp6\" nowrap=\"\">63,000  €</td></tr>, <tr id=\"tr_44325925\"><td class=\"msga2 pp0\"><input id=\"c44325925\" name=\"mid[]\" type=\"checkbox\" value=\"44325925_1105_0\"/></td><td class=\"msga2\"><a href=\"/msg/lv/real-estate/flats/riga/teika/aiddk.html\" id=\"im44325925\"><img alt=\"\" class=\"isfoto foto_list\" src=\"https://i.ss.com/gallery/3/420/104796/20959181.th2.jpg\"/></a></td><td class=\"msg2\"><div class=\"d1\"><a class=\"am\" data=\"JTlDJTk5JTlBaCU4RCU4QiVGMSU5OSU5RCU5NW4lOEMlODUlQUIlQTElOTklOURqJTkyJTg0JUFFJTlF|hhe6YTu\" href=\"/msg/lv/real-estate/flats/riga/teika/aiddk.html\" id=\"dm_44325925\"><b>Saimnieks izīrē mēbelētu divistabu dzīvokli ilgtermiņā. Ir balko</b></a></div></td><td c=\"1\" class=\"msga2-o pp6\" nowrap=\"\"><b>Biķernieku 79</b></td><td c=\"1\" class=\"msga2-o pp6\" nowrap=\"\"><b>2</b></td><td c=\"1\" class=\"msga2-o pp6\" nowrap=\"\"><b>46</b></td><td c=\"1\" class=\"msga2-o pp6\" nowrap=\"\"><b>3/5</b></td><td c=\"1\" class=\"msga2-o pp6\" nowrap=\"\"><b>Hrušč.</b></td><td c=\"1\" class=\"msga2-o pp6\" nowrap=\"\"><b>5.98</b> €</td><td c=\"1\" class=\"msga2-o pp6\" nowrap=\"\"><b>275</b>  €/mēn.</td></tr>, <tr id=\"tr_43746668\"><td class=\"msga2 pp0\"><input id=\"c43746668\" name=\"mid[]\" type=\"checkbox\" value=\"43746668_1105_0\"/></td><td class=\"msga2\"><a href=\"/msg/lv/real-estate/flats/riga/teika/aeffk.html\" id=\"im43746668\"><img alt=\"\" class=\"isfoto foto_list\" src=\"https://i.ss.com/gallery/2/399/99708/19941430.th2.jpg\"/></a></td><td class=\"msg2\"><div class=\"d1\"><a class=\"am\" data=\"JUE5JTdGJTdGJTlEJTk0JTlEJUUxJTk5biU5MiVBMyU4M3olOUMlOUElOUQlOUElOUNxJTlBJUFBJTgx|rKFgdheh9b\" href=\"/msg/lv/real-estate/flats/riga/teika/aeffk.html\" id=\"dm_43746668\">Редкое предложение. \r\n",
      "Просторная и светлая 3-х комнатная квартир</a></div></td><td c=\"1\" class=\"msga2-o pp6\" nowrap=\"\">Brīvības 241</td><td c=\"1\" class=\"msga2-o pp6\" nowrap=\"\">3</td><td c=\"1\" class=\"msga2-o pp6\" nowrap=\"\">70</td><td c=\"1\" class=\"msga2-o pp6\" nowrap=\"\">5/5</td><td c=\"1\" class=\"msga2-o pp6\" nowrap=\"\">Specpr.</td><td c=\"1\" class=\"msga2-o pp6\" nowrap=\"\">999 €</td><td c=\"1\" class=\"msga2-o pp6\" nowrap=\"\">69,950  €</td></tr>, <tr id=\"tr_44324922\"><td class=\"msga2 pp0\"><input id=\"c44324922\" name=\"mid[]\" type=\"checkbox\" value=\"44324922_1105_0\"/></td><td class=\"msga2\"><a href=\"/msg/lv/real-estate/flats/riga/teika/dlxex.html\" id=\"im44324922\"><img alt=\"\" class=\"isfoto foto_list\" src=\"https://i.ss.com/gallery/3/420/104780/20955806.th2.jpg\"/></a></td><td class=\"msg2\"><div class=\"d1\"><a class=\"am\" data=\"JUE2JUE3JTk2JTlGeml4JUI1dSVBQSVBNiU5RSVBM3Jxd292JUFEJUE4JTk2JUEweA==|uufmB8C9D\" href=\"/msg/lv/real-estate/flats/riga/teika/dlxex.html\" id=\"dm_44324922\"><b>Firma steidzami vēlas īrēt divistabu dzīvokli Teikā vai Čiekurka</b></a></div></td><td c=\"1\" class=\"msga2-o pp6\" nowrap=\"\"><b>-</b></td><td c=\"1\" class=\"msga2-o pp6\" nowrap=\"\"><b>2</b></td><td c=\"1\" class=\"msga2-o pp6\" nowrap=\"\"><b>30</b></td><td c=\"1\" class=\"msga2-o pp6\" nowrap=\"\"><b>-</b></td><td c=\"1\" class=\"msga2-o pp6\" nowrap=\"\"><b>-</b></td><td c=\"1\" class=\"msga2-o pp6\" nowrap=\"\"><b>-</b></td><td c=\"1\" class=\"msga2-o pp6\" nowrap=\"\"><b>vēlos<br/>īret</b> </td></tr>, <tr id=\"tr_41533888\"><td class=\"msga2 pp0\"><input id=\"c41533888\" name=\"mid[]\" type=\"checkbox\" value=\"41533888_1105_0\"/></td><td class=\"msga2\"><a href=\"/msg/lv/real-estate/flats/riga/teika/fefcp.html\" id=\"im41533888\"><img alt=\"\" class=\"isfoto foto_list\" src=\"https://i.ss.com/gallery/2/306/76272/15254301.th2.jpg\"/></a></td><td class=\"msg2\"><div class=\"d1\"><a class=\"am\" data=\"a3klN0YlOEElODklOTYlQjV4JTgyJTgzJThBJTk5cXklODMlODklOEUlOTRreSU4MSU4OQ==|9GMSYb\" href=\"/msg/lv/real-estate/flats/riga/teika/fefcp.html\" id=\"dm_41533888\">Pārdošanā lielisks 2-istabu dzīvoklis paša Teika sirdī. Slēgta k</a></div></td><td c=\"1\" class=\"msga2-o pp6\" nowrap=\"\">Brīvības 326</td><td c=\"1\" class=\"msga2-o pp6\" nowrap=\"\">2</td><td c=\"1\" class=\"msga2-o pp6\" nowrap=\"\">68</td><td c=\"1\" class=\"msga2-o pp6\" nowrap=\"\">3/5</td><td c=\"1\" class=\"msga2-o pp6\" nowrap=\"\">Staļina</td><td c=\"1\" class=\"msga2-o pp6\" nowrap=\"\">1,000 €</td><td c=\"1\" class=\"msga2-o pp6\" nowrap=\"\">68,000  €</td></tr>, <tr id=\"tr_33484245\"><td class=\"msga2 pp0\"><input id=\"c33484245\" name=\"mid[]\" type=\"checkbox\" value=\"33484245_1105_0\"/></td><td class=\"msga2\"><a href=\"/msg/lv/real-estate/flats/riga/teika/aejno.html\" id=\"im33484245\"><img alt=\"\" class=\"isfoto foto_list\" src=\"https://i.ss.com/img/buy/homes.lv.gif\"/></a></td><td class=\"msg2\"><div class=\"d1\"><a class=\"am\" data=\"JTkwJUFDJTdEJTg3JTdFJUMxJTg5JUE5eSU4Mnl1JTkwJUFDJTgxJTg1eXklOEUlQUIlN0UlN0U=|XtHNHE\" href=\"/msg/lv/real-estate/flats/riga/teika/aejno.html\" id=\"dm_33484245\"><b>За наличные деньги - \r\n",
      "\r\n",
      "покупаем - 1 - 1.5 - 2 - 3 - 4 - ком. к</b></a></div></td><td c=\"1\" class=\"msga2-o pp6\" nowrap=\"\"><b>- 777</b></td><td c=\"1\" class=\"msga2-o pp6\" nowrap=\"\"><b>2</b></td><td c=\"1\" class=\"msga2-o pp6\" nowrap=\"\"><b>-</b></td><td c=\"1\" class=\"msga2-o pp6\" nowrap=\"\"><b>12/9</b></td><td c=\"1\" class=\"msga2-o pp6\" nowrap=\"\"><b>-</b></td><td c=\"1\" class=\"msga2-o pp6\" nowrap=\"\"><b>-</b></td><td c=\"1\" class=\"msga2-o pp6\" nowrap=\"\"><b>pērku</b> </td></tr>, <tr id=\"tr_43777986\"><td class=\"msga2 pp0\"><input id=\"c43777986\" name=\"mid[]\" type=\"checkbox\" value=\"43777986_1105_0\"/></td><td class=\"msga2\"><a href=\"/msg/lv/real-estate/flats/riga/teika/bbhfjc.html\" id=\"im43777986\"><img alt=\"\" class=\"isfoto foto_list\" src=\"https://i.ss.com/gallery/2/386/96288/19257542.th2.jpg\"/></a></td><td class=\"msg2\"><div class=\"d1\"><a class=\"am\" data=\"bSU5OWUlODYlODMlOEElRjFnJTk3ZSU4QiU3RiU4QSVBRGclOTdoJThDJTdGJTg1JUFCaA==|6b3TNTu\" href=\"/msg/lv/real-estate/flats/riga/teika/bbhfjc.html\" id=\"dm_43777986\">Piedāvājam mājīgu divistabu mansarda dzīvoklīti. \r\n",
      "Īpašums atrod</a></div></td><td c=\"1\" class=\"msga2-o pp6\" nowrap=\"\">Ropažu 91</td><td c=\"1\" class=\"msga2-o pp6\" nowrap=\"\">2</td><td c=\"1\" class=\"msga2-o pp6\" nowrap=\"\">37</td><td c=\"1\" class=\"msga2-o pp6\" nowrap=\"\">2/2</td><td c=\"1\" class=\"msga2-o pp6\" nowrap=\"\">P. kara</td><td c=\"1\" class=\"msga2-o pp6\" nowrap=\"\">500 €</td><td c=\"1\" class=\"msga2-o pp6\" nowrap=\"\">18,500  €</td></tr>, <tr id=\"tr_44321849\"><td class=\"msga2 pp0\"><input id=\"c44321849\" name=\"mid[]\" type=\"checkbox\" value=\"44321849_1105_0\"/></td><td class=\"msga2\"><a href=\"/msg/lv/real-estate/flats/riga/teika/ddhnk.html\" id=\"im44321849\"><img alt=\"\" class=\"isfoto foto_list\" src=\"https://i.ss.com/gallery/3/419/104730/20945946.th2.jpg\"/></a></td><td class=\"msg2\"><div class=\"d1\"><a class=\"am\" data=\"eSU5QmklOTJkJTg5JUNBdCU5RGklOTNqJThCJTgydyVBMW4lOUJpJTgzJTg3eQ==|Ch9b3SN\" href=\"/msg/lv/real-estate/flats/riga/teika/ddhnk.html\" id=\"dm_44321849\"><b>Namīpašnieks izīrē dzīvokli pēc remonta. Vietējā gāzes apkure.</b></a></div></td><td c=\"1\" class=\"msga2-o pp6\" nowrap=\"\"><b>Pudiķa 13</b></td><td c=\"1\" class=\"msga2-o pp6\" nowrap=\"\"><b>1</b></td><td c=\"1\" class=\"msga2-o pp6\" nowrap=\"\"><b>25</b></td><td c=\"1\" class=\"msga2-o pp6\" nowrap=\"\"><b>3/3</b></td><td c=\"1\" class=\"msga2-o pp6\" nowrap=\"\"><b>Priv. m.</b></td><td c=\"1\" class=\"msga2-o pp6\" nowrap=\"\"><b>10</b> €</td><td c=\"1\" class=\"msga2-o pp6\" nowrap=\"\"><b>250</b>  €/mēn.</td></tr>, <tr id=\"tr_44319735\"><td class=\"msga2 pp0\"><input id=\"c44319735\" name=\"mid[]\" type=\"checkbox\" value=\"44319735_1105_0\"/></td><td class=\"msga2\"><a href=\"/msg/lv/real-estate/flats/riga/teika/bmicp.html\" id=\"im44319735\"><img alt=\"\" class=\"isfoto foto_list\" src=\"https://i.ss.com/gallery/3/419/104697/20939292.th2.jpg\"/></a></td><td class=\"msg2\"><div class=\"d1\"><a class=\"am\" data=\"bnBqaWVjJUY0aGxkaWxlJUE4a2tsaWlpJUE5ag==|774841x\" href=\"/msg/lv/real-estate/flats/riga/teika/bmicp.html\" id=\"dm_44319735\">Piedāvājam iegādāties gaišu, plašu dzīvokli Teikā, labā vietā Br</a></div></td><td c=\"1\" class=\"msga2-o pp6\" nowrap=\"\">Brīvības 358</td><td c=\"1\" class=\"msga2-o pp6\" nowrap=\"\">3</td><td c=\"1\" class=\"msga2-o pp6\" nowrap=\"\">72</td><td c=\"1\" class=\"msga2-o pp6\" nowrap=\"\">1/4</td><td c=\"1\" class=\"msga2-o pp6\" nowrap=\"\">Staļina</td><td c=\"1\" class=\"msga2-o pp6\" nowrap=\"\">1,318 €</td><td c=\"1\" class=\"msga2-o pp6\" nowrap=\"\">94,900  €</td></tr>, <tr id=\"tr_44314988\"><td class=\"msga2 pp0\"><input id=\"c44314988\" name=\"mid[]\" type=\"checkbox\" value=\"44314988_1105_0\"/></td><td class=\"msga2\"><a href=\"/msg/lv/real-estate/flats/riga/teika/gdxic.html\" id=\"im44314988\"><img alt=\"\" class=\"isfoto foto_list\" src=\"https://i.ss.com/gallery/3/419/104621/20924149.th2.jpg\"/></a></td><td class=\"msg2\"><div class=\"d1\"><a class=\"am\" data=\"JTlBJUE1JTdFJUFDZiVERXIlQTAlQTIlOTYlQTAlODUlQjBqJTk0diU5RiVBOCU5QiVBOSU4NQ==|dpMy3bAkr\" href=\"/msg/lv/real-estate/flats/riga/teika/gdxic.html\" id=\"dm_44314988\">Dzīvoklis labā tehniskā un vizuālā stāvoklī, neprasa steidzamus </a></div></td><td c=\"1\" class=\"msga2-o pp6\" nowrap=\"\">Ropažu 122 k-5</td><td c=\"1\" class=\"msga2-o pp6\" nowrap=\"\">1</td><td c=\"1\" class=\"msga2-o pp6\" nowrap=\"\">37</td><td c=\"1\" class=\"msga2-o pp6\" nowrap=\"\">1/2</td><td c=\"1\" class=\"msga2-o pp6\" nowrap=\"\">Staļina</td><td c=\"1\" class=\"msga2-o pp6\" nowrap=\"\">1,078 €</td><td c=\"1\" class=\"msga2-o pp6\" nowrap=\"\">39,900  €</td></tr>, <tr id=\"tr_44318701\"><td class=\"msga2 pp0\"><input id=\"c44318701\" name=\"mid[]\" type=\"checkbox\" value=\"44318701_1105_0\"/></td><td class=\"msga2\"><a href=\"/msg/lv/real-estate/flats/riga/teika/ahkpe.html\" id=\"im44318701\"><img alt=\"\" class=\"isfoto foto_list\" src=\"https://i.ss.com/gallery/3/419/104681/20936019.th2.jpg\"/></a></td><td class=\"msg2\"><div class=\"d1\"><a class=\"am\" data=\"JUFCJTkyJTg4bXUlQTIlRjUlOTMlOERpcSVBMSVCMiU5NSU4OWhyJUEwJUFCJTk3JTkwanI=|ybX6Ak\" href=\"/msg/lv/real-estate/flats/riga/teika/ahkpe.html\" id=\"dm_44318701\"><b>Netālu no Alfas, izīrē īpašnieks</b></a></div></td><td c=\"1\" class=\"msga2-o pp6\" nowrap=\"\"><b>Brīvības 334</b></td><td c=\"1\" class=\"msga2-o pp6\" nowrap=\"\"><b>2</b></td><td c=\"1\" class=\"msga2-o pp6\" nowrap=\"\"><b>45</b></td><td c=\"1\" class=\"msga2-o pp6\" nowrap=\"\"><b>1/5</b></td><td c=\"1\" class=\"msga2-o pp6\" nowrap=\"\"><b>119.</b></td><td c=\"1\" class=\"msga2-o pp6\" nowrap=\"\"><b>6.67</b> €</td><td c=\"1\" class=\"msga2-o pp6\" nowrap=\"\"><b>300</b>  €/mēn.</td></tr>, <tr id=\"tr_42757345\"><td class=\"msga2 pp0\"><input id=\"c42757345\" name=\"mid[]\" type=\"checkbox\" value=\"42757345_1105_0\"/></td><td class=\"msga2\"><a href=\"/msg/lv/real-estate/flats/riga/teika/cpojk.html\" id=\"im42757345\"><img alt=\"\" class=\"isfoto foto_list\" src=\"https://i.ss.com/gallery/2/328/81988/16397568.th2.jpg\"/></a></td><td class=\"msg2\"><div class=\"d1\"><a class=\"am\" data=\"JTdEZ2UlQTUlODglQzd4eCU5RXlvaSVBNSU4MCU4MXl3JTlFJTdFams=|H74sPKGCn\" href=\"/msg/lv/real-estate/flats/riga/teika/cpojk.html\" id=\"dm_42757345\">Продаётся квартира. Квартира в середине дома. Очень тёплая, солн</a></div></td><td c=\"1\" class=\"msga2-o pp6\" nowrap=\"\">Burtnieku 33</td><td c=\"1\" class=\"msga2-o pp6\" nowrap=\"\">1</td><td c=\"1\" class=\"msga2-o pp6\" nowrap=\"\">18</td><td c=\"1\" class=\"msga2-o pp6\" nowrap=\"\">3/5</td><td c=\"1\" class=\"msga2-o pp6\" nowrap=\"\">M. ģim.</td><td c=\"1\" class=\"msga2-o pp6\" nowrap=\"\">944 €</td><td c=\"1\" class=\"msga2-o pp6\" nowrap=\"\">17,000  €</td></tr>, <tr id=\"tr_44317872\"><td class=\"msga2 pp0\"><input id=\"c44317872\" name=\"mid[]\" type=\"checkbox\" value=\"44317872_1105_0\"/></td><td class=\"msga2\"><a href=\"/msg/lv/real-estate/flats/riga/teika/cfllx.html\" id=\"im44317872\"><img alt=\"\" class=\"isfoto foto_list\" src=\"https://i.ss.com/gallery/3/419/104668/20933473.th2.jpg\"/></a></td><td class=\"msg2\"><div class=\"d1\"><a class=\"am\" data=\"ZGQlQUYlQUUlQUIlQTUlQTglQ0MlQTNoZSVBRCVBRSVBQSVBNiVBQiU4NSVBNWVoJUFEJUFEJUIyJUE5|33zuzurPr\" href=\"/msg/lv/real-estate/flats/riga/teika/cfllx.html\" id=\"dm_44317872\"><b>Izīrē divistabas dzīvokli- izolētas istabas ar balkonu.</b></a></div></td><td c=\"1\" class=\"msga2-o pp6\" nowrap=\"\"><b>Biķernieku 35A</b></td><td c=\"1\" class=\"msga2-o pp6\" nowrap=\"\"><b>2</b></td><td c=\"1\" class=\"msga2-o pp6\" nowrap=\"\"><b>60</b></td><td c=\"1\" class=\"msga2-o pp6\" nowrap=\"\"><b>5/5</b></td><td c=\"1\" class=\"msga2-o pp6\" nowrap=\"\"><b>LT proj.</b></td><td c=\"1\" class=\"msga2-o pp6\" nowrap=\"\"><b>4.92</b> €</td><td c=\"1\" class=\"msga2-o pp6\" nowrap=\"\"><b>295</b>  €/mēn.</td></tr>, <tr id=\"tr_44134979\"><td class=\"msga2 pp0\"><input id=\"c44134979\" name=\"mid[]\" type=\"checkbox\" value=\"44134979_1105_0\"/></td><td class=\"msga2\"><a href=\"/msg/lv/real-estate/flats/riga/teika/bfpoc.html\" id=\"im44134979\"><img alt=\"\" class=\"isfoto foto_list\" src=\"https://i.ss.com/gallery/3/407/101677/20335250.th2.jpg\"/></a></td><td class=\"msg2\"><div class=\"d1\"><a class=\"am\" data=\"JUE5YyVBNSVBRCVDNCU5RSVBOWMlQTMlQUQlN0MlQTUlQUNpJUE3JUE4JTdFJUExJUE4bA==|t3ruHm\" href=\"/msg/lv/real-estate/flats/riga/teika/bfpoc.html\" id=\"dm_44134979\">Tikko pēc remonta. Dzīvoklis absolūti perfektā stāvoklī, jo nevi</a></div></td><td c=\"1\" class=\"msga2-o pp6\" nowrap=\"\">Brīvības 262</td><td c=\"1\" class=\"msga2-o pp6\" nowrap=\"\">2</td><td c=\"1\" class=\"msga2-o pp6\" nowrap=\"\">47</td><td c=\"1\" class=\"msga2-o pp6\" nowrap=\"\">2/4</td><td c=\"1\" class=\"msga2-o pp6\" nowrap=\"\">P. kara</td><td c=\"1\" class=\"msga2-o pp6\" nowrap=\"\">1,596 €</td><td c=\"1\" class=\"msga2-o pp6\" nowrap=\"\">75,000  €</td></tr>, <tr id=\"tr_43097922\"><td class=\"msga2 pp0\"><input id=\"c43097922\" name=\"mid[]\" type=\"checkbox\" value=\"43097922_1105_0\"/></td><td class=\"msga2\"><a href=\"/msg/lv/real-estate/flats/riga/teika/cihcl.html\" id=\"im43097922\"><img alt=\"\" class=\"isfoto foto_list\" src=\"https://i.ss.com/gallery/2/347/86543/17308461.th2.jpg\"/></a></td><td class=\"msg2\"><div class=\"d1\"><a class=\"am\" data=\"JTg3JThDZyU4RSVBOCVBRSU4NSU4OWUlODclQThrJThEJThEbSU4RSVCMWglOEElODRs|TT5Ux2\" href=\"/msg/lv/real-estate/flats/riga/teika/cihcl.html\" id=\"dm_43097922\">Совершенно эксклюзивный вариант. Трехэтажный довоенный особняк н</a></div></td><td c=\"1\" class=\"msga2-o pp6\" nowrap=\"\">Bērzaunes 3</td><td c=\"1\" class=\"msga2-o pp6\" nowrap=\"\">4</td><td c=\"1\" class=\"msga2-o pp6\" nowrap=\"\">93</td><td c=\"1\" class=\"msga2-o pp6\" nowrap=\"\">2/3</td><td c=\"1\" class=\"msga2-o pp6\" nowrap=\"\">P. kara</td><td c=\"1\" class=\"msga2-o pp6\" nowrap=\"\">1,237 €</td><td c=\"1\" class=\"msga2-o pp6\" nowrap=\"\">115,000  €</td></tr>, <tr id=\"tr_44259778\"><td class=\"msga2 pp0\"><input id=\"c44259778\" name=\"mid[]\" type=\"checkbox\" value=\"44259778_1105_0\"/></td><td class=\"msga2\"><a href=\"/msg/lv/real-estate/flats/riga/teika/eeoil.html\" id=\"im44259778\"><img alt=\"\" class=\"isfoto foto_list\" src=\"https://i.ss.com/gallery/3/416/103758/20751475.th2.jpg\"/></a></td><td class=\"msg2\"><div class=\"d1\"><a class=\"am\" data=\"JThBJTk2JUE1JTg0JUEwJUE3JTgyJUFFJThBJTlCJTlEJTgxJUEwJUFCJTgyaSU4QiU5QyVBNSU4MyU5RCVBOSU4OA==|YfmKmsR2\" href=\"/msg/lv/real-estate/flats/riga/teika/eeoil.html\" id=\"dm_44259778\">Īpašnieks pārdod remontējamu 1 istabas dzīvokli ļoti labā vietā,</a></div></td><td c=\"1\" class=\"msga2-o pp6\" nowrap=\"\">Biķernieku 47</td><td c=\"1\" class=\"msga2-o pp6\" nowrap=\"\">1</td><td c=\"1\" class=\"msga2-o pp6\" nowrap=\"\">29</td><td c=\"1\" class=\"msga2-o pp6\" nowrap=\"\">1/2</td><td c=\"1\" class=\"msga2-o pp6\" nowrap=\"\">P. kara</td><td c=\"1\" class=\"msga2-o pp6\" nowrap=\"\">517 €</td><td c=\"1\" class=\"msga2-o pp6\" nowrap=\"\">15,000  €</td></tr>, <tr id=\"tr_bnr_712\" style=\"display:none;\"><td align=\"center\" colspan=\"12\">\n",
      "<div align=\"center\" id=\"div_bnr_712\"></div>\n",
      "<script>load_script_async(\"/w_inc/reklama.728.php?0||1105||\"+escape(document.referrer));</script>\n",
      "</td></tr>, <tr><td nowrap=\"\" width=\"24\"></td><td><div align=\"center\" class=\"td2\" nowrap=\"\"><a class=\"navi\" href=\"/lv/real-estate/flats/riga/teika/page5.html\" name=\"nav_id\" rel=\"prev\"><img border=\"0\" height=\"5\" src=\"https://i.ss.com/img/s_left.png\" style=\"padding-bottom:2px;\" width=\"9\"/> Iepriekšējie</a>    <button class=\"navia\" onclick=\"return false;\">1</button> <a class=\"navi\" href=\"/lv/real-estate/flats/riga/teika/page2.html\" name=\"nav_id\" rel=\"next\">2</a> <a class=\"navi\" href=\"/lv/real-estate/flats/riga/teika/page3.html\" name=\"nav_id\" rel=\"next\">3</a> <a class=\"navi\" href=\"/lv/real-estate/flats/riga/teika/page4.html\" name=\"nav_id\" rel=\"next\">4</a> <a class=\"navi\" href=\"/lv/real-estate/flats/riga/teika/page5.html\" name=\"nav_id\" rel=\"next\">5</a>    <a class=\"navi\" href=\"/lv/real-estate/flats/riga/teika/page2.html\" name=\"nav_id\" rel=\"next\">Nākamie <img border=\"0\" height=\"5\" src=\"https://i.ss.com/img/s_right.png\" style=\"padding-bottom:2px;\" width=\"9\"/></a></div><br/></td><td nowrap=\"\" valign=\"top\" width=\"24\"><script>if(document.documentElement &&document.documentElement.clientHeight &&document.documentElement.offsetHeight && ( document.documentElement.offsetHeight-document.documentElement.clientHeight )>30){D.write( '<img src=\"https://i.ss.com/img/up.png\" width=24 height=24 border=0 onclick=\"window.scrollTo(0,0);return false;\" style=\"opacity:0.3;cursor:pointer;position:absolute;\" onmouseover=\"this.style.opacity=1;\" onmouseout=\"this.style.opacity=0.3;\" title=\"Uz sākumu\">'); }</script></td></tr>, <tr>\n",
      "<td class=\"td7\" nowrap=\"\" title=\"Parādīt izvēlētos sludinājumus\" width=\"40%\"><noindex><a class=\"td15\" href=\"/lv/show-selected/fDgReF4S.html\" id=\"show_selected_a\" onclick=\"if( !check_selected_msg( 'Izvēlieties sludinājumus.' ) ){event.returnValue=false;return false;}\" rel=\"nofollow\">Parādīt izvēlētos sludinājumus</a></noindex> <span class=\"td15\" id=\"sel_cnt_obj\"></span></td>\n",
      "<td align=\"center\" rowspan=\"4\" valign=\"center\" width=\"20%\"><input class=\"b\" onclick=\"go('/lv/real-estate/flats/riga/teika/new/' );\" type=\"button\" value=\"Izvietot sludinājumu\"/></td>\n",
      "<td align=\"right\" class=\"td7\" width=\"40%\"> </td>\n",
      "</tr>, <tr><td class=\"td7\"><noindex><a class=\"a9a\" href=\"javascript:;\" id=\"a_fav_sel\" onclick=\"af(-1,'lv')\" rel=\"nofollow\" style=\"display:none;\">Pievienot izvēlētos Memo</a></noindex></td></tr>, <tr><td class=\"td7\" valign=\"top\"><a class=\"a9a\" href=\"javascript:;\" id=\"clear_selected_a\" onclick=\"dsl(2);return false;\" style=\"display:none;\">Notīrīt atzīmētos</a></td></tr>]\n"
     ]
    }
   ],
   "source": [
    "print(myrows)"
   ]
  },
  {
   "cell_type": "code",
   "execution_count": 26,
   "metadata": {},
   "outputs": [
    {
     "name": "stdout",
     "output_type": "stream",
     "text": [
      "<tr id=\"tr_44335500\"><td class=\"msga2 pp0\"><input id=\"c44335500\" name=\"mid[]\" type=\"checkbox\" value=\"44335500_1105_0\"/></td><td class=\"msga2\"><a href=\"/msg/lv/real-estate/flats/riga/teika/cgnhc.html\" id=\"im44335500\"><img alt=\"\" class=\"isfoto foto_list\" src=\"https://i.ss.com/gallery/2/308/76888/15377415.th2.jpg\"/></a></td><td class=\"msg2\"><div class=\"d1\"><a class=\"am\" data=\"aGolN0UlQTglN0YlODUlQjBjJTgyJUE0JTdGJTg3bGYlN0QlQUMlN0UlODNkYyU4NCVBQg==|42MtNP\" href=\"/msg/lv/real-estate/flats/riga/teika/cgnhc.html\" id=\"dm_44335500\">Mājīgs, mēbelēts dzīvoklis ar zemiem komunālajiem maksājumiem. \r",
      "</a></div></td><td c=\"1\" class=\"msga2-o pp6\" nowrap=\"\">Bērzpils 7</td><td c=\"1\" class=\"msga2-o pp6\" nowrap=\"\">1</td><td c=\"1\" class=\"msga2-o pp6\" nowrap=\"\">30</td><td c=\"1\" class=\"msga2-o pp6\" nowrap=\"\">4/5</td><td c=\"1\" class=\"msga2-o pp6\" nowrap=\"\">Hrušč.</td><td c=\"1\" class=\"msga2-o pp6\" nowrap=\"\">967 €</td><td c=\"1\" class=\"msga2-o pp6\" nowrap=\"\">29,000  €</td></tr>\n"
     ]
    }
   ],
   "source": [
    "print(myrows[4])"
   ]
  },
  {
   "cell_type": "code",
   "execution_count": 49,
   "metadata": {},
   "outputs": [
    {
     "data": {
      "text/plain": [
       "{'id': 'tr_44335500'}"
      ]
     },
     "execution_count": 49,
     "metadata": {},
     "output_type": "execute_result"
    }
   ],
   "source": [
    "myrows[4].attrs"
   ]
  },
  {
   "cell_type": "code",
   "execution_count": null,
   "metadata": {},
   "outputs": [],
   "source": [
    "myrows[4].prop"
   ]
  },
  {
   "cell_type": "code",
   "execution_count": 28,
   "metadata": {},
   "outputs": [
    {
     "name": "stdout",
     "output_type": "stream",
     "text": [
      "\n",
      "\n",
      "Mājīgs, mēbelēts dzīvoklis ar zemiem komunālajiem maksājumiem. \r\n",
      "Bērzpils 7\n",
      "1\n",
      "30\n",
      "4/5\n",
      "Hrušč.\n",
      "967 €\n",
      "29,000  €\n"
     ]
    }
   ],
   "source": [
    "for el in myrows[4]:\n",
    "    print(el.text)"
   ]
  },
  {
   "cell_type": "code",
   "execution_count": 51,
   "metadata": {},
   "outputs": [],
   "source": [
    "r4children = myrows[4].children"
   ]
  },
  {
   "cell_type": "code",
   "execution_count": 52,
   "metadata": {
    "scrolled": true
   },
   "outputs": [],
   "source": [
    "chkbox=(list(r4children))[0]"
   ]
  },
  {
   "cell_type": "code",
   "execution_count": 53,
   "metadata": {},
   "outputs": [
    {
     "data": {
      "text/plain": [
       "{'class': ['msga2', 'pp0']}"
      ]
     },
     "execution_count": 53,
     "metadata": {},
     "output_type": "execute_result"
    }
   ],
   "source": [
    "chkbox.attrs"
   ]
  },
  {
   "cell_type": "code",
   "execution_count": 31,
   "metadata": {},
   "outputs": [
    {
     "name": "stdout",
     "output_type": "stream",
     "text": [
      "\n",
      "\n",
      "Mājīgs, mēbelēts dzīvoklis ar zemiem komunālajiem maksājumiem. \r\n",
      "Bērzpils 7\n",
      "1\n",
      "30\n",
      "4/5\n",
      "Hrušč.\n",
      "967 €\n",
      "29,000  €\n"
     ]
    }
   ],
   "source": [
    "for el in r4children:\n",
    "    print(el.text)"
   ]
  },
  {
   "cell_type": "code",
   "execution_count": 42,
   "metadata": {},
   "outputs": [
    {
     "data": {
      "text/plain": [
       "<td valign=\"top\"><div class=\"top_head\"><div style=\"float:left;padding-top:2px;\"><h2 class=\"headtitle\"><a href=\"/lv/real-estate/flats/\" title=\"Sludinājumi Dzīvokļi\">Dzīvokļi</a> / <a href=\"/lv/real-estate/flats/riga/\" title=\"Sludinājumi Rīga\">Rīga</a> / Teika</h2></div><div style=\"float:right;\"><select id=\"today_cnt_sl\" onchange=\"go(this.value+'');\"><option selected=\"\" value=\"/lv/real-estate/flats/riga/teika/\">Visi sludinājumi</option><option value=\"/lv/real-estate/flats/riga/teika/today/\">Šodien - 1</option><option value=\"/lv/real-estate/flats/riga/teika/today-2/\">Par 2 dienām - 19</option><option value=\"/lv/real-estate/flats/riga/teika/today-5/\">Par 5 dienām - 48</option></select></div></div><form action=\"/lv/real-estate/flats/riga/teika/filter/\" id=\"filter_frm\" method=\"post\" name=\"filter_frm\">\n",
       "<table bgcolor=\"#EEEEEE\" border=\"0\" cellpadding=\"1\" cellspacing=\"0\" id=\"filter_tbl\" style=\"margin-top:5px;\" width=\"100%\">\n",
       "<tr><td style=\"padding-bottom:3px;\"><table border=\"0\" cellpadding=\"1\" cellspacing=\"0\"><tr><td class=\"filter_name\" nowrap=\"\" valign=\"bottom\">Cena:<br/><span id=\"foptfld_8\"><input class=\"filter_txt l50\" id=\"f_o_8_min\" name=\"topt[8][min]\" type=\"text\" value=\"\"/>-<input class=\"filter_txt l50\" id=\"f_o_8_max\" name=\"topt[8][max]\" type=\"text\" value=\"\"/></span> </td><td class=\"filter_name\" nowrap=\"\" valign=\"bottom\">Istabas:<br/><span id=\"foptfld_1\"><select class=\"filter_sel l50\" id=\"f_o_1\" name=\"topt[1][min]\" onchange=\"this.form.submit();\"><option value=\"\"></option><option value=\"1\">1</option><option value=\"2\">2</option><option value=\"3\">3</option><option value=\"4\">4</option><option value=\"5\">5</option><option value=\"6\">6</option><option value=\"Citi\">Citi</option></select>-<select class=\"filter_sell50\" id=\"f_o_1\" name=\"topt[1][max]\" onchange=\"this.form.submit();\"><option value=\"\"></option><option value=\"1\">1</option><option value=\"2\">2</option><option value=\"3\">3</option><option value=\"4\">4</option><option value=\"5\">5</option><option value=\"6\">6</option><option value=\"Citi\">Citi</option></select></span> </td><td class=\"filter_name\" nowrap=\"\" valign=\"bottom\">Platība:<br/><span id=\"foptfld_3\"><input class=\"filter_txt l35\" id=\"f_o_3_min\" maxlength=\"4\" name=\"topt[3][min]\" type=\"text\" value=\"\"/>-<input class=\"filter_txt l35\" id=\"f_o_3_max\" maxlength=\"4\" name=\"topt[3][max]\" type=\"text\" value=\"\"/></span> </td><td class=\"filter_name\" nowrap=\"\" valign=\"bottom\">Stāvs:<br/><span id=\"foptfld_4\"><input class=\"filter_txt l23\" id=\"f_o_4_min\" maxlength=\"4\" name=\"topt[4][min]\" type=\"text\" value=\"\"/>-<input class=\"filter_txt l23\" id=\"f_o_4_max\" maxlength=\"4\" name=\"topt[4][max]\" type=\"text\" value=\"\"/></span> </td><td class=\"filter_name\" nowrap=\"\" valign=\"bottom\">Sērija:<br/><span id=\"foptfld_6\"><select class=\"filter_sel l85\" id=\"f_o_6\" name=\"opt[6]\" onchange=\"this.form.submit();\"><option value=\"\"></option><option value=\"67\">103.</option><option value=\"69\">119.</option><option value=\"76\">Hrušč.</option><option value=\"72\">LT proj.</option><option value=\"74\">M. ģim.</option><option value=\"79\">P. kara</option><option value=\"77\">Priv. m.</option><option value=\"3616\">Renov.</option><option value=\"78\">Specpr.</option><option value=\"75\">Staļina</option><option value=\"3596\">Jaun.</option></select></span> </td></tr></table></td><td align=\"right\" style=\"padding-top:14px;\" width=\"100%\"><input class=\"b s12\" style=\"padding-top:1px;padding-bottom:2px;\" type=\"submit\" value=\"Meklēt\"/></td></tr></table><div class=\"filter_second_line_dv\"><span class=\"filter_opt_dv\">Režīms:<br/><noindex><select class=\"filter_sel w95\" onchange=\"go(this[this.selectedIndex].value);\" title=\"Izvēlieties sludinājumu apskatīšanas veidu\">\n",
       "<option selected=\"\" value=\"/lv/real-estate/flats/riga/teika/\">Saraksts</option>\n",
       "<option value=\"/lv/real-estate/flats/riga/teika/photo/\">Albums</option>\n",
       "<option value=\"/lv/real-estate/flats/riga/teika/fDgQeF4S.html\">Karte</option>\n",
       "</select></noindex>\n",
       "</span>\n",
       "<span class=\"filter_opt_dv\">Darījuma veids:<br/><select class=\"filter_sel l100\" name=\"sid\" onchange=\"go(this[this.selectedIndex].value);\"><option value=\"/lv/real-estate/flats/riga/teika/\">Visi</option><option value=\"/lv/real-estate/flats/riga/teika/sell/\">Pārdod</option><option value=\"/lv/real-estate/flats/riga/teika/buy/\">Pērk</option><option value=\"/lv/real-estate/flats/riga/teika/hand_over/\">Izīrē</option><option value=\"/lv/real-estate/flats/riga/teika/remove/\">Īrē</option><option value=\"/lv/real-estate/flats/riga/teika/change/\">Maina</option></select></span>\n",
       "<span class=\"filter_opt_dv\">Rajons:<br/>\n",
       "<select class=\"filter_sel\" onchange=\"go( this[this.selectedIndex].value );\" style=\"min-width:54px;max-width:200px;\">\n",
       "<option value=\"/lv/real-estate/flats/riga/all/\">Visi</option>\n",
       "<option value=\"/lv/real-estate/flats/riga/centre/\">Centrs</option><option value=\"/lv/real-estate/flats/riga/agenskalns/\">Āgenskalns</option><option value=\"/lv/real-estate/flats/riga/aplokciems/\">Aplokciems</option><option value=\"/lv/real-estate/flats/riga/beberbeki/\">Beberbeķi</option><option value=\"/lv/real-estate/flats/riga/bergi/\">Berģi</option><option value=\"/lv/real-estate/flats/riga/biekensala/\">Bieķēnsala</option><option value=\"/lv/real-estate/flats/riga/bierini/\">Bieriņi</option><option value=\"/lv/real-estate/flats/riga/bolderaya/\">Bolderāja</option><option value=\"/lv/real-estate/flats/riga/bukulti/\">Bukulti</option><option value=\"/lv/real-estate/flats/riga/chiekurkalns/\">Čiekurkalns</option><option value=\"/lv/real-estate/flats/riga/darzciems/\">Dārzciems</option><option value=\"/lv/real-estate/flats/riga/daugavgriva/\">Daugavgrīva</option><option value=\"/lv/real-estate/flats/riga/dreilini/\">Dreiliņi</option><option value=\"/lv/real-estate/flats/riga/dzeguzhkalns/\">Dzegužkalns (Dzirciems)</option><option value=\"/lv/real-estate/flats/riga/ilguciems/\">Iļģuciems</option><option value=\"/lv/real-estate/flats/riga/imanta/\">Imanta</option><option value=\"/lv/real-estate/flats/riga/jaunciems/\">Jaunciems</option><option value=\"/lv/real-estate/flats/riga/jaunmilgravis/\">Jaunmīlgrāvis</option><option value=\"/lv/real-estate/flats/riga/yugla/\">Jugla</option><option value=\"/lv/real-estate/flats/riga/katlakalns/\">Katlakalns</option><option value=\"/lv/real-estate/flats/riga/kengarags/\">Ķengarags</option><option value=\"/lv/real-estate/flats/riga/kiburga/\">Ķiburga</option><option value=\"/lv/real-estate/flats/riga/kipsala/\">Ķīpsala</option><option value=\"/lv/real-estate/flats/riga/kleisti/\">Kleisti</option><option value=\"/lv/real-estate/flats/riga/kliversala/\">Klīversala</option><option value=\"/lv/real-estate/flats/riga/krasta-st-area/\">Krasta r-ns</option><option value=\"/lv/real-estate/flats/riga/kremeri/\">Krēmeri</option><option value=\"/lv/real-estate/flats/riga/kundzinsala/\">Kundziņsala</option><option value=\"/lv/real-estate/flats/riga/lucavsala/\">Lucavsala</option><option value=\"/lv/real-estate/flats/riga/mangali/\">Mangaļi</option><option value=\"/lv/real-estate/flats/riga/mangalsala/\">Mangaļsala</option><option value=\"/lv/real-estate/flats/riga/maskavas-priekshpilseta/\">Maskavas priekšpilsēta</option><option value=\"/lv/real-estate/flats/riga/mezhapark/\">Mežaparks</option><option value=\"/lv/real-estate/flats/riga/mezhciems/\">Mežciems</option><option value=\"/lv/real-estate/flats/riga/ozolciems/\">Ozolciems</option><option value=\"/lv/real-estate/flats/riga/plyavnieki/\">Pļavnieki</option><option value=\"/lv/real-estate/flats/riga/purvciems/\">Purvciems</option><option value=\"/lv/real-estate/flats/riga/shampeteris-pleskodale/\">Šampēteris-Pleskodāle</option><option value=\"/lv/real-estate/flats/riga/sarkandaugava/\">Sarkandaugava</option><option value=\"/lv/real-estate/flats/riga/shkirotava/\">Šķirotava</option><option value=\"/lv/real-estate/flats/riga/stacija-tirgus/\">Stacija-Tirgus</option><option selected=\"\" value=\"/lv/real-estate/flats/riga/teika/\">Teika</option><option value=\"/lv/real-estate/flats/riga/tornjakalns/\">Torņakalns</option><option value=\"/lv/real-estate/flats/riga/trisciems/\">Trīsciems</option><option value=\"/lv/real-estate/flats/riga/vecaki/\">Vecāķi</option><option value=\"/lv/real-estate/flats/riga/vecdaugava/\">Vecdaugava</option><option value=\"/lv/real-estate/flats/riga/vecmilgravis/\">Vecmīlgrāvis</option><option value=\"/lv/real-estate/flats/riga/vecriga/\">Vecrīga</option><option value=\"/lv/real-estate/flats/riga/voleri/\">Voleri</option><option value=\"/lv/real-estate/flats/riga/zakusala/\">Zaķusala</option><option value=\"/lv/real-estate/flats/riga/zasulauks/\">Zasulauks</option><option value=\"/lv/real-estate/flats/riga/ziepniekkalns/\">Ziepniekkalns</option><option value=\"/lv/real-estate/flats/riga/zolitude/\">Zolitūde</option><option value=\"/lv/real-estate/flats/riga/vef/\">VEF</option><option value=\"/lv/real-estate/flats/riga/other/\">Cits</option>\n",
       "</select></span>\n",
       "<span class=\"filter_opt_dv\" style=\"padding-right:5px;\">Iela:<br/><select class=\"filter_sel l130\" id=\"f_o_11\" name=\"opt[11]\" onchange=\"this.form.submit();\"><option value=\"\"></option><option value=\"3809\">Āraišu</option><option value=\"3865\">Bajāru</option><option value=\"3911\">Bērzaunes</option><option value=\"3915\">Bērzpils</option><option value=\"3928\">Biķernieku</option><option value=\"3948\">Brīvības gatve</option><option value=\"3952\">Brīvības iela</option><option value=\"3973\">Burtnieku</option><option value=\"4149\">Dzērbenes</option><option value=\"5724\">Ieriķu</option><option value=\"5725\">Kastrānes</option><option value=\"4646\">Laimdotas</option><option value=\"4662\">Launkalnes</option><option value=\"4966\">Palmu</option><option value=\"4999\">Piebalgas</option><option value=\"5048\">Pudiķa</option><option value=\"5727\">Raunas</option><option value=\"5118\">Ropažu</option><option value=\"5316\">Struktoru</option><option value=\"5351\">Tālivalža</option><option value=\"5730\">Ūnijas</option><option value=\"5729\">Vairoga</option><option value=\"5478\">Vāveres</option><option value=\"5525\">Vidrižu</option><option value=\"5576\">Zālīša</option><option value=\"5597\">Zemgaļu</option></select></span></div>\n",
       "<table align=\"center\" border=\"0\" cellpadding=\"2\" cellspacing=\"0\" width=\"100%\">\n",
       "<tr id=\"head_line\">\n",
       "<td class=\"msg_column\" colspan=\"3\" width=\"70%\">\n",
       "<span style=\"float:left;\"> Sludinājumi\n",
       "</span>\n",
       "<span align=\"right\" class=\"msg_column\" style=\"float:right;text-align:right;padding-right:3px;\">\n",
       "<noindex>\n",
       "<a class=\"a19\" href=\"/lv/real-estate/flats/riga/teika/fDgSeF4S.html\" rel=\"nofollow\">datums</a></noindex></span>\n",
       "</td>\n",
       "<td class=\"msg_column_td\" nowrap=\"\"><noindex><a class=\"a18\" href=\"/lv/real-estate/flats/riga/teika/fDgSeF4SFDwT.html\" rel=\"nofollow\" title=\"\">Iela</a></noindex></td><td class=\"msg_column_td\" nowrap=\"\"><noindex><a class=\"a18\" href=\"/lv/real-estate/flats/riga/teika/fDgSeF4SelM=.html\" rel=\"nofollow\" title=\"\">Ist.</a></noindex></td><td class=\"msg_column_td\" nowrap=\"\"><noindex><a class=\"a18\" href=\"/lv/real-estate/flats/riga/teika/fDgSeF4QelM=.html\" rel=\"nofollow\" title=\"\">m2</a></noindex></td><td class=\"msg_column_td\" nowrap=\"\"><noindex><a class=\"a18\" href=\"/lv/real-estate/flats/riga/teika/fDgSeF4XelM=.html\" rel=\"nofollow\" title=\"\">Stāvs</a></noindex></td><td class=\"msg_column_td\" nowrap=\"\"><noindex><a class=\"a18\" href=\"/lv/real-estate/flats/riga/teika/fDgSeF4VelM=.html\" rel=\"nofollow\" title=\"\">Sērija</a></noindex></td><td background=\"https://i.ss.com/img/pl.gif\" class=\"msg_column\" nowrap=\"\" style=\"border-left:1px #FFFFFF solid;\"><noindex><a class=\"a18\" href=\"/lv/real-estate/flats/riga/teika/fDgSeF4bRDwT.html\" rel=\"nofollow\">Cena, m2</a></noindex></td><td class=\"msg_column_td\" nowrap=\"\"><noindex><a class=\"a18\" href=\"/lv/real-estate/flats/riga/teika/fDgSeF4belM=.html\" rel=\"nofollow\" title=\"\">Cena</a></noindex></td></tr><tr id=\"tr_44335500\"><td class=\"msga2 pp0\"><input id=\"c44335500\" name=\"mid[]\" type=\"checkbox\" value=\"44335500_1105_0\"/></td><td class=\"msga2\"><a href=\"/msg/lv/real-estate/flats/riga/teika/cgnhc.html\" id=\"im44335500\"><img alt=\"\" class=\"isfoto foto_list\" src=\"https://i.ss.com/gallery/2/308/76888/15377415.th2.jpg\"/></a></td><td class=\"msg2\"><div class=\"d1\"><a class=\"am\" data=\"aGolN0UlQTglN0YlODUlQjBjJTgyJUE0JTdGJTg3bGYlN0QlQUMlN0UlODNkYyU4NCVBQg==|42MtNP\" href=\"/msg/lv/real-estate/flats/riga/teika/cgnhc.html\" id=\"dm_44335500\">Mājīgs, mēbelēts dzīvoklis ar zemiem komunālajiem maksājumiem. \n",
       "</a></div></td><td c=\"1\" class=\"msga2-o pp6\" nowrap=\"\">Bērzpils 7</td><td c=\"1\" class=\"msga2-o pp6\" nowrap=\"\">1</td><td c=\"1\" class=\"msga2-o pp6\" nowrap=\"\">30</td><td c=\"1\" class=\"msga2-o pp6\" nowrap=\"\">4/5</td><td c=\"1\" class=\"msga2-o pp6\" nowrap=\"\">Hrušč.</td><td c=\"1\" class=\"msga2-o pp6\" nowrap=\"\">967 €</td><td c=\"1\" class=\"msga2-o pp6\" nowrap=\"\">29,000  €</td></tr>\n",
       "<tr id=\"tr_44333885\"><td class=\"msga2 pp0\"><input id=\"c44333885\" name=\"mid[]\" type=\"checkbox\" value=\"44333885_1105_0\"/></td><td class=\"msga2\"><a href=\"/msg/lv/real-estate/flats/riga/teika/cnbhj.html\" id=\"im44333885\"><img alt=\"\" class=\"isfoto foto_list\" src=\"https://i.ss.com/gallery/2/240/59862/11972299.th2.jpg\"/></a></td><td class=\"msg2\"><div class=\"d1\"><a class=\"am\" data=\"aSU4NyVBMSVBNiU4QSU4QyVERmklODclQTAlQTglODQlOEQlOTNpJTg1JUE1JUE0JThBJThEJTk2cSU4Nw==|8RnpSTc\" href=\"/msg/lv/real-estate/flats/riga/teika/cnbhj.html\" id=\"dm_44333885\"><b>Tikko pēc kapitāla eiroremonta, un ar visu nepieciešamu premium </b></a></div></td><td c=\"1\" class=\"msga2-o pp6\" nowrap=\"\"><b>Zālīša 1</b></td><td c=\"1\" class=\"msga2-o pp6\" nowrap=\"\"><b>1</b></td><td c=\"1\" class=\"msga2-o pp6\" nowrap=\"\"><b>33</b></td><td c=\"1\" class=\"msga2-o pp6\" nowrap=\"\"><b>3/5</b></td><td c=\"1\" class=\"msga2-o pp6\" nowrap=\"\"><b>103.</b></td><td c=\"1\" class=\"msga2-o pp6\" nowrap=\"\"><b>10</b> €</td><td c=\"1\" class=\"msga2-o pp6\" nowrap=\"\"><b>330</b>  €/mēn.</td></tr>\n",
       "<tr id=\"tr_44330691\"><td class=\"msga2 pp0\"><input id=\"c44330691\" name=\"mid[]\" type=\"checkbox\" value=\"44330691_1105_0\"/></td><td class=\"msga2\"><a href=\"/msg/lv/real-estate/flats/riga/teika/djxgi.html\" id=\"im44330691\"><img alt=\"\" class=\"isfoto foto_list\" src=\"https://i.ss.com/gallery/3/420/104874/20974782.th2.jpg\"/></a></td><td class=\"msg2\"><div class=\"d1\"><a class=\"am\" data=\"aSVBQSVBQyVBQW8lOTglQjN2JTdCaCVCMiVBQyVCMG4lOUFnJTdDJTdFaiVCMCVBQSVBQ2Y=|8yyy6b7EF\" href=\"/msg/lv/real-estate/flats/riga/teika/djxgi.html\" id=\"dm_44330691\">Место - вне конкуренции. центр \"старой\" Тейки. Напротив Teikas V</a></div></td><td c=\"1\" class=\"msga2-o pp6\" nowrap=\"\">Āraišu 2</td><td c=\"1\" class=\"msga2-o pp6\" nowrap=\"\">3</td><td c=\"1\" class=\"msga2-o pp6\" nowrap=\"\">80</td><td c=\"1\" class=\"msga2-o pp6\" nowrap=\"\">2/2</td><td c=\"1\" class=\"msga2-o pp6\" nowrap=\"\">Priv. m.</td><td c=\"1\" class=\"msga2-o pp6\" nowrap=\"\">1,088 €</td><td c=\"1\" class=\"msga2-o pp6\" nowrap=\"\">87,000  €</td></tr>\n",
       "<tr id=\"tr_44331871\"><td class=\"msga2 pp0\"><input id=\"c44331871\" name=\"mid[]\" type=\"checkbox\" value=\"44331871_1105_0\"/></td><td class=\"msga2\"><a href=\"/msg/lv/real-estate/flats/riga/teika/dchph.html\" id=\"im44331871\"><img alt=\"\" class=\"isfoto foto_list\" src=\"https://i.ss.com/gallery/3/420/104894/20978644.th2.jpg\"/></a></td><td class=\"msg2\"><div class=\"d1\"><a class=\"am\" data=\"ZSU4MSVBNyU4NGslQUZkaSU3QyVBOSU4MGhsY2slN0YlQUElODNlbGZk|4KsM333\" href=\"/msg/lv/real-estate/flats/riga/teika/dchph.html\" id=\"dm_44331871\"><b>Tiek izīrēts 2-istabu dzīvoklis, ar izolētām istabām ķieģeļu, sp</b></a></div></td><td c=\"1\" class=\"msga2-o pp6\" nowrap=\"\"><b>Ūnijas 28</b></td><td c=\"1\" class=\"msga2-o pp6\" nowrap=\"\"><b>2</b></td><td c=\"1\" class=\"msga2-o pp6\" nowrap=\"\"><b>50</b></td><td c=\"1\" class=\"msga2-o pp6\" nowrap=\"\"><b>3/5</b></td><td c=\"1\" class=\"msga2-o pp6\" nowrap=\"\"><b>Specpr.</b></td><td c=\"1\" class=\"msga2-o pp6\" nowrap=\"\"><b>6</b> €</td><td c=\"1\" class=\"msga2-o pp6\" nowrap=\"\"><b>300</b>  €/mēn.</td></tr>\n",
       "<tr id=\"tr_44330105\"><td class=\"msga2 pp0\"><input id=\"c44330105\" name=\"mid[]\" type=\"checkbox\" value=\"44330105_1105_0\"/></td><td class=\"msga2\"><a href=\"/msg/lv/real-estate/flats/riga/teika/annpm.html\" id=\"im44330105\"><img alt=\"\" class=\"isfoto foto_list\" src=\"https://i.ss.com/gallery/3/420/104865/20972829.th2.jpg\"/></a></td><td class=\"msg2\"><div class=\"d1\"><a class=\"am\" data=\"eSU3RCU3QyU3RSVBOSU4QSU5MiVFMSU5NyU3RCU3RSU3QiU4MiVBNiU5MCU5MSU5RSU5RCU3QyU4MSU4MCU3Qg==|HKKKsXYef\" href=\"/msg/lv/real-estate/flats/riga/teika/annpm.html\" id=\"dm_44330105\"><b>Īpašnieks izīrē. saulains, gaišs, daļēji Mēbelēts(Ikea), Necaurs</b></a></div></td><td c=\"1\" class=\"msga2-o pp6\" nowrap=\"\"><b>Piebalgas 4</b></td><td c=\"1\" class=\"msga2-o pp6\" nowrap=\"\"><b>2</b></td><td c=\"1\" class=\"msga2-o pp6\" nowrap=\"\"><b>45</b></td><td c=\"1\" class=\"msga2-o pp6\" nowrap=\"\"><b>5/5</b></td><td c=\"1\" class=\"msga2-o pp6\" nowrap=\"\"><b>Renov.</b></td><td c=\"1\" class=\"msga2-o pp6\" nowrap=\"\"><b>6.67</b> €</td><td c=\"1\" class=\"msga2-o pp6\" nowrap=\"\"><b>300</b>  €/mēn.</td></tr>\n",
       "<tr id=\"tr_43941864\"><td class=\"msga2 pp0\"><input id=\"c43941864\" name=\"mid[]\" type=\"checkbox\" value=\"43941864_1105_0\"/></td><td class=\"msga2\"><a href=\"/msg/lv/real-estate/flats/riga/teika/kmggx.html\" id=\"im43941864\"><img alt=\"\" class=\"isfoto foto_list\" src=\"https://i.ss.com/gallery/2/395/98631/19726085.th2.jpg\"/></a></td><td class=\"msg2\"><div class=\"d1\"><a class=\"am\" data=\"JThFeSU5NyVBMiVBN2slRDQlODklOUFxJThBJTgwJTlBJUE5JUE1aCU4RSU4QiU5Q3ElOEN4|YHgrs2XXeA\" href=\"/msg/lv/real-estate/flats/riga/teika/kmggx.html\" id=\"dm_43941864\">Unikāls dzīvokļu projekts izvietots slēgtā, zaļā teritorijā ar d</a></div></td><td c=\"1\" class=\"msga2-o pp6\" nowrap=\"\">Vairoga 32</td><td c=\"1\" class=\"msga2-o pp6\" nowrap=\"\">4</td><td c=\"1\" class=\"msga2-o pp6\" nowrap=\"\">57</td><td c=\"1\" class=\"msga2-o pp6\" nowrap=\"\">1/3</td><td c=\"1\" class=\"msga2-o pp6\" nowrap=\"\">Renov.</td><td c=\"1\" class=\"msga2-o pp6\" nowrap=\"\">1,949 €</td><td c=\"1\" class=\"msga2-o pp6\" nowrap=\"\">111,110  €</td></tr>\n",
       "<tr id=\"tr_43941782\"><td class=\"msga2 pp0\"><input id=\"c43941782\" name=\"mid[]\" type=\"checkbox\" value=\"43941782_1105_0\"/></td><td class=\"msga2\"><a href=\"/msg/lv/real-estate/flats/riga/teika/cbchm.html\" id=\"im43941782\"><img alt=\"\" class=\"isfoto foto_list\" src=\"https://i.ss.com/gallery/2/395/98623/19724552.th2.jpg\"/></a></td><td class=\"msg2\"><div class=\"d1\"><a class=\"am\" data=\"JTg1JTkyZiU5OHglQUUlQ0NlJTlDJTk3JTgxJTk5aSU5RnYlQUIlODZnJTlFJTk3JTgzJTkx|Pa6hDuP4gg\" href=\"/msg/lv/real-estate/flats/riga/teika/cbchm.html\" id=\"dm_43941782\">Unikāls dzīvokļu projekts izvietots slēgtā, zaļā teritorijā ar d</a></div></td><td c=\"1\" class=\"msga2-o pp6\" nowrap=\"\">Vairoga 32</td><td c=\"1\" class=\"msga2-o pp6\" nowrap=\"\">3</td><td c=\"1\" class=\"msga2-o pp6\" nowrap=\"\">52</td><td c=\"1\" class=\"msga2-o pp6\" nowrap=\"\">3/4</td><td c=\"1\" class=\"msga2-o pp6\" nowrap=\"\">Renov.</td><td c=\"1\" class=\"msga2-o pp6\" nowrap=\"\">1,923 €</td><td c=\"1\" class=\"msga2-o pp6\" nowrap=\"\">100,000  €</td></tr>\n",
       "<tr id=\"tr_43941681\"><td class=\"msga2 pp0\"><input id=\"c43941681\" name=\"mid[]\" type=\"checkbox\" value=\"43941681_1105_0\"/></td><td class=\"msga2\"><a href=\"/msg/lv/real-estate/flats/riga/teika/bgmbg.html\" id=\"im43941681\"><img alt=\"\" class=\"isfoto foto_list\" src=\"https://i.ss.com/gallery/2/395/98621/19724128.th2.jpg\"/></a></td><td class=\"msg2\"><div class=\"d1\"><a class=\"am\" data=\"JUE3JTg2JTg1YiU5OXolRTIlQTMlODklODUlQTMlOEQlODhpJTk3dyU5QyVBNSU4QiU4NSVBNSU4NQ==|rUU2eAfrTU\" href=\"/msg/lv/real-estate/flats/riga/teika/bgmbg.html\" id=\"dm_43941681\">Unikāls dzīvokļu projekts izvietots slēgtā, zaļā teritorijā ar d</a></div></td><td c=\"1\" class=\"msga2-o pp6\" nowrap=\"\">Vairoga 32</td><td c=\"1\" class=\"msga2-o pp6\" nowrap=\"\">2</td><td c=\"1\" class=\"msga2-o pp6\" nowrap=\"\">28</td><td c=\"1\" class=\"msga2-o pp6\" nowrap=\"\">1/3</td><td c=\"1\" class=\"msga2-o pp6\" nowrap=\"\">Renov.</td><td c=\"1\" class=\"msga2-o pp6\" nowrap=\"\">1,982 €</td><td c=\"1\" class=\"msga2-o pp6\" nowrap=\"\">55,500  €</td></tr>\n",
       "<tr id=\"tr_44027422\"><td class=\"msga2 pp0\"><input id=\"c44027422\" name=\"mid[]\" type=\"checkbox\" value=\"44027422_1105_0\"/></td><td class=\"msga2\"><a href=\"/msg/lv/real-estate/flats/riga/teika/eojgh.html\" id=\"im44027422\"><img alt=\"\" class=\"isfoto foto_list\" src=\"https://i.ss.com/gallery/2/397/99119/19823717.th2.jpg\"/></a></td><td class=\"msg2\"><div class=\"d1\"><a class=\"am\" data=\"JUEyZyU5MSU5MiU5NiVBNCVDMSU4MSVBMmYlOTIlOUElOTUlQTJ3JTg2JUEzaSU5OCU5MiU5NSU5Qg==|m6abbkEP\" href=\"/msg/lv/real-estate/flats/riga/teika/eojgh.html\" id=\"dm_44027422\">Уникальный проект с детской площадкой и парковкой на закрытой зе</a></div></td><td c=\"1\" class=\"msga2-o pp6\" nowrap=\"\">Vairoga 32</td><td c=\"1\" class=\"msga2-o pp6\" nowrap=\"\">3</td><td c=\"1\" class=\"msga2-o pp6\" nowrap=\"\">42</td><td c=\"1\" class=\"msga2-o pp6\" nowrap=\"\">3/3</td><td c=\"1\" class=\"msga2-o pp6\" nowrap=\"\">Renov.</td><td c=\"1\" class=\"msga2-o pp6\" nowrap=\"\">2,000 €</td><td c=\"1\" class=\"msga2-o pp6\" nowrap=\"\">84,000  €</td></tr>\n",
       "<tr id=\"tr_44329507\"><td class=\"msga2 pp0\"><input id=\"c44329507\" name=\"mid[]\" type=\"checkbox\" value=\"44329507_1105_0\"/></td><td class=\"msga2\"><a href=\"/msg/lv/real-estate/flats/riga/teika/ghopn.html\" id=\"im44329507\"><img alt=\"\" class=\"isfoto foto_list\" src=\"https://i.ss.com/gallery/2/365/91090/18217862.th2.jpg\"/></a></td><td class=\"msg2\"><div class=\"d1\"><a class=\"am\" data=\"JTg0enZ6dSU3RSVGMCU4QSU4M3J0d3olODMlQUMlOTElODB1JTdCdCU3QyU4NQ==|NBBCCMtY\" href=\"/msg/lv/real-estate/flats/riga/teika/ghopn.html\" id=\"dm_44329507\"><b>Īpašniece izīrē mājīgu, vienas istabas studio tipa dzīvokli (15 </b></a></div></td><td c=\"1\" class=\"msga2-o pp6\" nowrap=\"\"><b>Struktoru 13</b></td><td c=\"1\" class=\"msga2-o pp6\" nowrap=\"\"><b>1</b></td><td c=\"1\" class=\"msga2-o pp6\" nowrap=\"\"><b>15</b></td><td c=\"1\" class=\"msga2-o pp6\" nowrap=\"\"><b>3/4</b></td><td c=\"1\" class=\"msga2-o pp6\" nowrap=\"\"><b>Staļina</b></td><td c=\"1\" class=\"msga2-o pp6\" nowrap=\"\"><b>14</b> €</td><td c=\"1\" class=\"msga2-o pp6\" nowrap=\"\"><b>210</b>  €/mēn.</td></tr>\n",
       "<tr id=\"tr_44013166\"><td class=\"msga2 pp0\"><input id=\"c44013166\" name=\"mid[]\" type=\"checkbox\" value=\"44013166_1105_0\"/></td><td class=\"msga2\"><a href=\"/msg/lv/real-estate/flats/riga/teika/eicjk.html\" id=\"im44013166\"><img alt=\"\" class=\"isfoto foto_list\" src=\"https://i.ss.com/gallery/2/399/99678/19935515.th2.jpg\"/></a></td><td class=\"msg2\"><div class=\"d1\"><a class=\"am\" data=\"eGglOEYlOEYlQjAlOTd3JUE2JTg4JThDdmMlODklOEZmJTlDeCVBNSU4OSU4QnU=|C3XY4fBsXX\" href=\"/msg/lv/real-estate/flats/riga/teika/eicjk.html\" id=\"dm_44013166\"><b>Pārdod pilnībā labiekārtotu dzīvokli projektā ''Jaunā Teika''. \n",
       "</b></a></div></td><td c=\"1\" class=\"msga2-o pp6\" nowrap=\"\"><b>Ropažu 10</b></td><td c=\"1\" class=\"msga2-o pp6\" nowrap=\"\"><b>2</b></td><td c=\"1\" class=\"msga2-o pp6\" nowrap=\"\"><b>44</b></td><td c=\"1\" class=\"msga2-o pp6\" nowrap=\"\"><b>13/16</b></td><td c=\"1\" class=\"msga2-o pp6\" nowrap=\"\"><b>Jaun.</b></td><td c=\"1\" class=\"msga2-o pp6\" nowrap=\"\"><b>2,205</b> €</td><td c=\"1\" class=\"msga2-o pp6\" nowrap=\"\"><b>97,000</b>  €</td></tr>\n",
       "<tr id=\"tr_44327684\"><td class=\"msga2 pp0\"><input id=\"c44327684\" name=\"mid[]\" type=\"checkbox\" value=\"44327684_1105_0\"/></td><td class=\"msga2\"><a href=\"/msg/lv/real-estate/flats/riga/teika/agced.html\" id=\"im44327684\"><img alt=\"\" class=\"isfoto foto_list\" src=\"https://i.ss.com/gallery/3/420/104826/20965074.th2.jpg\"/></a></td><td class=\"msg2\"><div class=\"d1\"><a class=\"am\" data=\"JTdGaiU4QmMlOTYlOTclQzR5ZiU4NWMlOUQlOTl4JTdDZSU4RGMlOUElOUR5JTdC|H1U2eeH\" href=\"/msg/lv/real-estate/flats/riga/teika/agced.html\" id=\"dm_44327684\">Piedāvājam iegādāties jauku, saulainu vienistabas dzīvokli privā</a></div></td><td c=\"1\" class=\"msga2-o pp6\" nowrap=\"\">Zālīša 3</td><td c=\"1\" class=\"msga2-o pp6\" nowrap=\"\">1</td><td c=\"1\" class=\"msga2-o pp6\" nowrap=\"\">35</td><td c=\"1\" class=\"msga2-o pp6\" nowrap=\"\">2/5</td><td c=\"1\" class=\"msga2-o pp6\" nowrap=\"\">103.</td><td c=\"1\" class=\"msga2-o pp6\" nowrap=\"\">1,200 €</td><td c=\"1\" class=\"msga2-o pp6\" nowrap=\"\">42,000  €</td></tr>\n",
       "<tr id=\"tr_42290877\"><td class=\"msga2 pp0\"><input id=\"c42290877\" name=\"mid[]\" type=\"checkbox\" value=\"42290877_1105_0\"/></td><td class=\"msga2\"><a href=\"/msg/lv/real-estate/flats/riga/teika/apiin.html\" id=\"im42290877\"><img alt=\"\" class=\"isfoto foto_list\" src=\"https://i.ss.com/img/buy/homes.lv.gif\"/></a></td><td class=\"msg2\"><div class=\"d1\"><a class=\"am\" data=\"aCU5RCVBQXJzYyVGNWIlOTklQTRyemUlQTllJTk4JUFDcndpJUFBZA==|1dtAB1y\" href=\"/msg/lv/real-estate/flats/riga/teika/apiin.html\" id=\"dm_42290877\"><b>Šobrīd aktīvi meklējam savu klientu interesēs divu līdz četru (2</b></a></div></td><td c=\"1\" class=\"msga2-o pp6\" nowrap=\"\"><b>Ieriķu 29</b></td><td c=\"1\" class=\"msga2-o pp6\" nowrap=\"\"><b>4</b></td><td c=\"1\" class=\"msga2-o pp6\" nowrap=\"\"><b>78</b></td><td c=\"1\" class=\"msga2-o pp6\" nowrap=\"\"><b>-</b></td><td c=\"1\" class=\"msga2-o pp6\" nowrap=\"\"><b>-</b></td><td c=\"1\" class=\"msga2-o pp6\" nowrap=\"\"><b>-</b></td><td c=\"1\" class=\"msga2-o pp6\" nowrap=\"\"><b>pērku</b> </td></tr>\n",
       "<tr id=\"tr_40516589\"><td class=\"msga2 pp0\"><input id=\"c40516589\" name=\"mid[]\" type=\"checkbox\" value=\"40516589_1105_0\"/></td><td class=\"msga2\"><a href=\"/msg/lv/real-estate/flats/riga/teika/bngnf.html\" id=\"im40516589\"><img alt=\"\" class=\"isfoto foto_list\" src=\"https://i.ss.com/gallery/2/299/74565/14912821.th2.jpg\"/></a></td><td class=\"msg2\"><div class=\"d1\"><a class=\"am\" data=\"JTlGJUE0aiU5NCU4QWMlQ0MlOTklQTBkJTk0JTkxZSU4MCU5QyU5RmwlOTQlOEVpJTgxJTlC|hk4cY1P\" href=\"/msg/lv/real-estate/flats/riga/teika/bngnf.html\" id=\"dm_40516589\">Piedāvājam iegādāties jauku, kvalitatīvi remontētu\n",
       "divistabu dz</a></div></td><td c=\"1\" class=\"msga2-o pp6\" nowrap=\"\">Laimdotas 57</td><td c=\"1\" class=\"msga2-o pp6\" nowrap=\"\">2</td><td c=\"1\" class=\"msga2-o pp6\" nowrap=\"\">42</td><td c=\"1\" class=\"msga2-o pp6\" nowrap=\"\">4/5</td><td c=\"1\" class=\"msga2-o pp6\" nowrap=\"\">Hrušč.</td><td c=\"1\" class=\"msga2-o pp6\" nowrap=\"\">1,524 €</td><td c=\"1\" class=\"msga2-o pp6\" nowrap=\"\">64,000  €</td></tr>\n",
       "<tr id=\"tr_44325963\"><td class=\"msga2 pp0\"><input id=\"c44325963\" name=\"mid[]\" type=\"checkbox\" value=\"44325963_1105_0\"/></td><td class=\"msga2\"><a href=\"/msg/lv/real-estate/flats/riga/teika/cocme.html\" id=\"im44325963\"><img alt=\"\" class=\"isfoto foto_list\" src=\"https://i.ss.com/gallery/3/420/104797/20959257.th2.jpg\"/></a></td><td class=\"msg2\"><div class=\"d1\"><a class=\"am\" data=\"JTk5JThBJUFEJTgzJTg3JUYwJTk0JThBJUFCJTdEJTg5JUFDJTlCJTg4JUFCJTg0JTg0JUFDJTk0JThEJUIwJTgy|cUxMRt\" href=\"/msg/lv/real-estate/flats/riga/teika/cocme.html\" id=\"dm_44325963\">Pārdodu dzīvokli divstāvu mājā, ar izolētām istabām. Junkers gāz</a></div></td><td c=\"1\" class=\"msga2-o pp6\" nowrap=\"\">Ropažu 2</td><td c=\"1\" class=\"msga2-o pp6\" nowrap=\"\">2</td><td c=\"1\" class=\"msga2-o pp6\" nowrap=\"\">50</td><td c=\"1\" class=\"msga2-o pp6\" nowrap=\"\">2/2</td><td c=\"1\" class=\"msga2-o pp6\" nowrap=\"\">P. kara</td><td c=\"1\" class=\"msga2-o pp6\" nowrap=\"\">1,260 €</td><td c=\"1\" class=\"msga2-o pp6\" nowrap=\"\">63,000  €</td></tr>\n",
       "<tr id=\"tr_44325925\"><td class=\"msga2 pp0\"><input id=\"c44325925\" name=\"mid[]\" type=\"checkbox\" value=\"44325925_1105_0\"/></td><td class=\"msga2\"><a href=\"/msg/lv/real-estate/flats/riga/teika/aiddk.html\" id=\"im44325925\"><img alt=\"\" class=\"isfoto foto_list\" src=\"https://i.ss.com/gallery/3/420/104796/20959181.th2.jpg\"/></a></td><td class=\"msg2\"><div class=\"d1\"><a class=\"am\" data=\"JTlDJTk5JTlBaCU4RCU4QiVGMSU5OSU5RCU5NW4lOEMlODUlQUIlQTElOTklOURqJTkyJTg0JUFFJTlF|hhe6YTu\" href=\"/msg/lv/real-estate/flats/riga/teika/aiddk.html\" id=\"dm_44325925\"><b>Saimnieks izīrē mēbelētu divistabu dzīvokli ilgtermiņā. Ir balko</b></a></div></td><td c=\"1\" class=\"msga2-o pp6\" nowrap=\"\"><b>Biķernieku 79</b></td><td c=\"1\" class=\"msga2-o pp6\" nowrap=\"\"><b>2</b></td><td c=\"1\" class=\"msga2-o pp6\" nowrap=\"\"><b>46</b></td><td c=\"1\" class=\"msga2-o pp6\" nowrap=\"\"><b>3/5</b></td><td c=\"1\" class=\"msga2-o pp6\" nowrap=\"\"><b>Hrušč.</b></td><td c=\"1\" class=\"msga2-o pp6\" nowrap=\"\"><b>5.98</b> €</td><td c=\"1\" class=\"msga2-o pp6\" nowrap=\"\"><b>275</b>  €/mēn.</td></tr>\n",
       "<tr id=\"tr_43746668\"><td class=\"msga2 pp0\"><input id=\"c43746668\" name=\"mid[]\" type=\"checkbox\" value=\"43746668_1105_0\"/></td><td class=\"msga2\"><a href=\"/msg/lv/real-estate/flats/riga/teika/aeffk.html\" id=\"im43746668\"><img alt=\"\" class=\"isfoto foto_list\" src=\"https://i.ss.com/gallery/2/399/99708/19941430.th2.jpg\"/></a></td><td class=\"msg2\"><div class=\"d1\"><a class=\"am\" data=\"JUE5JTdGJTdGJTlEJTk0JTlEJUUxJTk5biU5MiVBMyU4M3olOUMlOUElOUQlOUElOUNxJTlBJUFBJTgx|rKFgdheh9b\" href=\"/msg/lv/real-estate/flats/riga/teika/aeffk.html\" id=\"dm_43746668\">Редкое предложение. \n",
       "Просторная и светлая 3-х комнатная квартир</a></div></td><td c=\"1\" class=\"msga2-o pp6\" nowrap=\"\">Brīvības 241</td><td c=\"1\" class=\"msga2-o pp6\" nowrap=\"\">3</td><td c=\"1\" class=\"msga2-o pp6\" nowrap=\"\">70</td><td c=\"1\" class=\"msga2-o pp6\" nowrap=\"\">5/5</td><td c=\"1\" class=\"msga2-o pp6\" nowrap=\"\">Specpr.</td><td c=\"1\" class=\"msga2-o pp6\" nowrap=\"\">999 €</td><td c=\"1\" class=\"msga2-o pp6\" nowrap=\"\">69,950  €</td></tr>\n",
       "<tr id=\"tr_44324922\"><td class=\"msga2 pp0\"><input id=\"c44324922\" name=\"mid[]\" type=\"checkbox\" value=\"44324922_1105_0\"/></td><td class=\"msga2\"><a href=\"/msg/lv/real-estate/flats/riga/teika/dlxex.html\" id=\"im44324922\"><img alt=\"\" class=\"isfoto foto_list\" src=\"https://i.ss.com/gallery/3/420/104780/20955806.th2.jpg\"/></a></td><td class=\"msg2\"><div class=\"d1\"><a class=\"am\" data=\"JUE2JUE3JTk2JTlGeml4JUI1dSVBQSVBNiU5RSVBM3Jxd292JUFEJUE4JTk2JUEweA==|uufmB8C9D\" href=\"/msg/lv/real-estate/flats/riga/teika/dlxex.html\" id=\"dm_44324922\"><b>Firma steidzami vēlas īrēt divistabu dzīvokli Teikā vai Čiekurka</b></a></div></td><td c=\"1\" class=\"msga2-o pp6\" nowrap=\"\"><b>-</b></td><td c=\"1\" class=\"msga2-o pp6\" nowrap=\"\"><b>2</b></td><td c=\"1\" class=\"msga2-o pp6\" nowrap=\"\"><b>30</b></td><td c=\"1\" class=\"msga2-o pp6\" nowrap=\"\"><b>-</b></td><td c=\"1\" class=\"msga2-o pp6\" nowrap=\"\"><b>-</b></td><td c=\"1\" class=\"msga2-o pp6\" nowrap=\"\"><b>-</b></td><td c=\"1\" class=\"msga2-o pp6\" nowrap=\"\"><b>vēlos<br/>īret</b> </td></tr>\n",
       "<tr id=\"tr_41533888\"><td class=\"msga2 pp0\"><input id=\"c41533888\" name=\"mid[]\" type=\"checkbox\" value=\"41533888_1105_0\"/></td><td class=\"msga2\"><a href=\"/msg/lv/real-estate/flats/riga/teika/fefcp.html\" id=\"im41533888\"><img alt=\"\" class=\"isfoto foto_list\" src=\"https://i.ss.com/gallery/2/306/76272/15254301.th2.jpg\"/></a></td><td class=\"msg2\"><div class=\"d1\"><a class=\"am\" data=\"a3klN0YlOEElODklOTYlQjV4JTgyJTgzJThBJTk5cXklODMlODklOEUlOTRreSU4MSU4OQ==|9GMSYb\" href=\"/msg/lv/real-estate/flats/riga/teika/fefcp.html\" id=\"dm_41533888\">Pārdošanā lielisks 2-istabu dzīvoklis paša Teika sirdī. Slēgta k</a></div></td><td c=\"1\" class=\"msga2-o pp6\" nowrap=\"\">Brīvības 326</td><td c=\"1\" class=\"msga2-o pp6\" nowrap=\"\">2</td><td c=\"1\" class=\"msga2-o pp6\" nowrap=\"\">68</td><td c=\"1\" class=\"msga2-o pp6\" nowrap=\"\">3/5</td><td c=\"1\" class=\"msga2-o pp6\" nowrap=\"\">Staļina</td><td c=\"1\" class=\"msga2-o pp6\" nowrap=\"\">1,000 €</td><td c=\"1\" class=\"msga2-o pp6\" nowrap=\"\">68,000  €</td></tr>\n",
       "<tr id=\"tr_33484245\"><td class=\"msga2 pp0\"><input id=\"c33484245\" name=\"mid[]\" type=\"checkbox\" value=\"33484245_1105_0\"/></td><td class=\"msga2\"><a href=\"/msg/lv/real-estate/flats/riga/teika/aejno.html\" id=\"im33484245\"><img alt=\"\" class=\"isfoto foto_list\" src=\"https://i.ss.com/img/buy/homes.lv.gif\"/></a></td><td class=\"msg2\"><div class=\"d1\"><a class=\"am\" data=\"JTkwJUFDJTdEJTg3JTdFJUMxJTg5JUE5eSU4Mnl1JTkwJUFDJTgxJTg1eXklOEUlQUIlN0UlN0U=|XtHNHE\" href=\"/msg/lv/real-estate/flats/riga/teika/aejno.html\" id=\"dm_33484245\"><b>За наличные деньги - \n",
       "\n",
       "покупаем - 1 - 1.5 - 2 - 3 - 4 - ком. к</b></a></div></td><td c=\"1\" class=\"msga2-o pp6\" nowrap=\"\"><b>- 777</b></td><td c=\"1\" class=\"msga2-o pp6\" nowrap=\"\"><b>2</b></td><td c=\"1\" class=\"msga2-o pp6\" nowrap=\"\"><b>-</b></td><td c=\"1\" class=\"msga2-o pp6\" nowrap=\"\"><b>12/9</b></td><td c=\"1\" class=\"msga2-o pp6\" nowrap=\"\"><b>-</b></td><td c=\"1\" class=\"msga2-o pp6\" nowrap=\"\"><b>-</b></td><td c=\"1\" class=\"msga2-o pp6\" nowrap=\"\"><b>pērku</b> </td></tr>\n",
       "<tr id=\"tr_43777986\"><td class=\"msga2 pp0\"><input id=\"c43777986\" name=\"mid[]\" type=\"checkbox\" value=\"43777986_1105_0\"/></td><td class=\"msga2\"><a href=\"/msg/lv/real-estate/flats/riga/teika/bbhfjc.html\" id=\"im43777986\"><img alt=\"\" class=\"isfoto foto_list\" src=\"https://i.ss.com/gallery/2/386/96288/19257542.th2.jpg\"/></a></td><td class=\"msg2\"><div class=\"d1\"><a class=\"am\" data=\"bSU5OWUlODYlODMlOEElRjFnJTk3ZSU4QiU3RiU4QSVBRGclOTdoJThDJTdGJTg1JUFCaA==|6b3TNTu\" href=\"/msg/lv/real-estate/flats/riga/teika/bbhfjc.html\" id=\"dm_43777986\">Piedāvājam mājīgu divistabu mansarda dzīvoklīti. \n",
       "Īpašums atrod</a></div></td><td c=\"1\" class=\"msga2-o pp6\" nowrap=\"\">Ropažu 91</td><td c=\"1\" class=\"msga2-o pp6\" nowrap=\"\">2</td><td c=\"1\" class=\"msga2-o pp6\" nowrap=\"\">37</td><td c=\"1\" class=\"msga2-o pp6\" nowrap=\"\">2/2</td><td c=\"1\" class=\"msga2-o pp6\" nowrap=\"\">P. kara</td><td c=\"1\" class=\"msga2-o pp6\" nowrap=\"\">500 €</td><td c=\"1\" class=\"msga2-o pp6\" nowrap=\"\">18,500  €</td></tr>\n",
       "<tr id=\"tr_44321849\"><td class=\"msga2 pp0\"><input id=\"c44321849\" name=\"mid[]\" type=\"checkbox\" value=\"44321849_1105_0\"/></td><td class=\"msga2\"><a href=\"/msg/lv/real-estate/flats/riga/teika/ddhnk.html\" id=\"im44321849\"><img alt=\"\" class=\"isfoto foto_list\" src=\"https://i.ss.com/gallery/3/419/104730/20945946.th2.jpg\"/></a></td><td class=\"msg2\"><div class=\"d1\"><a class=\"am\" data=\"eSU5QmklOTJkJTg5JUNBdCU5RGklOTNqJThCJTgydyVBMW4lOUJpJTgzJTg3eQ==|Ch9b3SN\" href=\"/msg/lv/real-estate/flats/riga/teika/ddhnk.html\" id=\"dm_44321849\"><b>Namīpašnieks izīrē dzīvokli pēc remonta. Vietējā gāzes apkure.</b></a></div></td><td c=\"1\" class=\"msga2-o pp6\" nowrap=\"\"><b>Pudiķa 13</b></td><td c=\"1\" class=\"msga2-o pp6\" nowrap=\"\"><b>1</b></td><td c=\"1\" class=\"msga2-o pp6\" nowrap=\"\"><b>25</b></td><td c=\"1\" class=\"msga2-o pp6\" nowrap=\"\"><b>3/3</b></td><td c=\"1\" class=\"msga2-o pp6\" nowrap=\"\"><b>Priv. m.</b></td><td c=\"1\" class=\"msga2-o pp6\" nowrap=\"\"><b>10</b> €</td><td c=\"1\" class=\"msga2-o pp6\" nowrap=\"\"><b>250</b>  €/mēn.</td></tr>\n",
       "<tr id=\"tr_44319735\"><td class=\"msga2 pp0\"><input id=\"c44319735\" name=\"mid[]\" type=\"checkbox\" value=\"44319735_1105_0\"/></td><td class=\"msga2\"><a href=\"/msg/lv/real-estate/flats/riga/teika/bmicp.html\" id=\"im44319735\"><img alt=\"\" class=\"isfoto foto_list\" src=\"https://i.ss.com/gallery/3/419/104697/20939292.th2.jpg\"/></a></td><td class=\"msg2\"><div class=\"d1\"><a class=\"am\" data=\"bnBqaWVjJUY0aGxkaWxlJUE4a2tsaWlpJUE5ag==|774841x\" href=\"/msg/lv/real-estate/flats/riga/teika/bmicp.html\" id=\"dm_44319735\">Piedāvājam iegādāties gaišu, plašu dzīvokli Teikā, labā vietā Br</a></div></td><td c=\"1\" class=\"msga2-o pp6\" nowrap=\"\">Brīvības 358</td><td c=\"1\" class=\"msga2-o pp6\" nowrap=\"\">3</td><td c=\"1\" class=\"msga2-o pp6\" nowrap=\"\">72</td><td c=\"1\" class=\"msga2-o pp6\" nowrap=\"\">1/4</td><td c=\"1\" class=\"msga2-o pp6\" nowrap=\"\">Staļina</td><td c=\"1\" class=\"msga2-o pp6\" nowrap=\"\">1,318 €</td><td c=\"1\" class=\"msga2-o pp6\" nowrap=\"\">94,900  €</td></tr>\n",
       "<tr id=\"tr_44314988\"><td class=\"msga2 pp0\"><input id=\"c44314988\" name=\"mid[]\" type=\"checkbox\" value=\"44314988_1105_0\"/></td><td class=\"msga2\"><a href=\"/msg/lv/real-estate/flats/riga/teika/gdxic.html\" id=\"im44314988\"><img alt=\"\" class=\"isfoto foto_list\" src=\"https://i.ss.com/gallery/3/419/104621/20924149.th2.jpg\"/></a></td><td class=\"msg2\"><div class=\"d1\"><a class=\"am\" data=\"JTlBJUE1JTdFJUFDZiVERXIlQTAlQTIlOTYlQTAlODUlQjBqJTk0diU5RiVBOCU5QiVBOSU4NQ==|dpMy3bAkr\" href=\"/msg/lv/real-estate/flats/riga/teika/gdxic.html\" id=\"dm_44314988\">Dzīvoklis labā tehniskā un vizuālā stāvoklī, neprasa steidzamus </a></div></td><td c=\"1\" class=\"msga2-o pp6\" nowrap=\"\">Ropažu 122 k-5</td><td c=\"1\" class=\"msga2-o pp6\" nowrap=\"\">1</td><td c=\"1\" class=\"msga2-o pp6\" nowrap=\"\">37</td><td c=\"1\" class=\"msga2-o pp6\" nowrap=\"\">1/2</td><td c=\"1\" class=\"msga2-o pp6\" nowrap=\"\">Staļina</td><td c=\"1\" class=\"msga2-o pp6\" nowrap=\"\">1,078 €</td><td c=\"1\" class=\"msga2-o pp6\" nowrap=\"\">39,900  €</td></tr>\n",
       "<tr id=\"tr_44318701\"><td class=\"msga2 pp0\"><input id=\"c44318701\" name=\"mid[]\" type=\"checkbox\" value=\"44318701_1105_0\"/></td><td class=\"msga2\"><a href=\"/msg/lv/real-estate/flats/riga/teika/ahkpe.html\" id=\"im44318701\"><img alt=\"\" class=\"isfoto foto_list\" src=\"https://i.ss.com/gallery/3/419/104681/20936019.th2.jpg\"/></a></td><td class=\"msg2\"><div class=\"d1\"><a class=\"am\" data=\"JUFCJTkyJTg4bXUlQTIlRjUlOTMlOERpcSVBMSVCMiU5NSU4OWhyJUEwJUFCJTk3JTkwanI=|ybX6Ak\" href=\"/msg/lv/real-estate/flats/riga/teika/ahkpe.html\" id=\"dm_44318701\"><b>Netālu no Alfas, izīrē īpašnieks</b></a></div></td><td c=\"1\" class=\"msga2-o pp6\" nowrap=\"\"><b>Brīvības 334</b></td><td c=\"1\" class=\"msga2-o pp6\" nowrap=\"\"><b>2</b></td><td c=\"1\" class=\"msga2-o pp6\" nowrap=\"\"><b>45</b></td><td c=\"1\" class=\"msga2-o pp6\" nowrap=\"\"><b>1/5</b></td><td c=\"1\" class=\"msga2-o pp6\" nowrap=\"\"><b>119.</b></td><td c=\"1\" class=\"msga2-o pp6\" nowrap=\"\"><b>6.67</b> €</td><td c=\"1\" class=\"msga2-o pp6\" nowrap=\"\"><b>300</b>  €/mēn.</td></tr>\n",
       "<tr id=\"tr_42757345\"><td class=\"msga2 pp0\"><input id=\"c42757345\" name=\"mid[]\" type=\"checkbox\" value=\"42757345_1105_0\"/></td><td class=\"msga2\"><a href=\"/msg/lv/real-estate/flats/riga/teika/cpojk.html\" id=\"im42757345\"><img alt=\"\" class=\"isfoto foto_list\" src=\"https://i.ss.com/gallery/2/328/81988/16397568.th2.jpg\"/></a></td><td class=\"msg2\"><div class=\"d1\"><a class=\"am\" data=\"JTdEZ2UlQTUlODglQzd4eCU5RXlvaSVBNSU4MCU4MXl3JTlFJTdFams=|H74sPKGCn\" href=\"/msg/lv/real-estate/flats/riga/teika/cpojk.html\" id=\"dm_42757345\">Продаётся квартира. Квартира в середине дома. Очень тёплая, солн</a></div></td><td c=\"1\" class=\"msga2-o pp6\" nowrap=\"\">Burtnieku 33</td><td c=\"1\" class=\"msga2-o pp6\" nowrap=\"\">1</td><td c=\"1\" class=\"msga2-o pp6\" nowrap=\"\">18</td><td c=\"1\" class=\"msga2-o pp6\" nowrap=\"\">3/5</td><td c=\"1\" class=\"msga2-o pp6\" nowrap=\"\">M. ģim.</td><td c=\"1\" class=\"msga2-o pp6\" nowrap=\"\">944 €</td><td c=\"1\" class=\"msga2-o pp6\" nowrap=\"\">17,000  €</td></tr>\n",
       "<tr id=\"tr_44317872\"><td class=\"msga2 pp0\"><input id=\"c44317872\" name=\"mid[]\" type=\"checkbox\" value=\"44317872_1105_0\"/></td><td class=\"msga2\"><a href=\"/msg/lv/real-estate/flats/riga/teika/cfllx.html\" id=\"im44317872\"><img alt=\"\" class=\"isfoto foto_list\" src=\"https://i.ss.com/gallery/3/419/104668/20933473.th2.jpg\"/></a></td><td class=\"msg2\"><div class=\"d1\"><a class=\"am\" data=\"ZGQlQUYlQUUlQUIlQTUlQTglQ0MlQTNoZSVBRCVBRSVBQSVBNiVBQiU4NSVBNWVoJUFEJUFEJUIyJUE5|33zuzurPr\" href=\"/msg/lv/real-estate/flats/riga/teika/cfllx.html\" id=\"dm_44317872\"><b>Izīrē divistabas dzīvokli- izolētas istabas ar balkonu.</b></a></div></td><td c=\"1\" class=\"msga2-o pp6\" nowrap=\"\"><b>Biķernieku 35A</b></td><td c=\"1\" class=\"msga2-o pp6\" nowrap=\"\"><b>2</b></td><td c=\"1\" class=\"msga2-o pp6\" nowrap=\"\"><b>60</b></td><td c=\"1\" class=\"msga2-o pp6\" nowrap=\"\"><b>5/5</b></td><td c=\"1\" class=\"msga2-o pp6\" nowrap=\"\"><b>LT proj.</b></td><td c=\"1\" class=\"msga2-o pp6\" nowrap=\"\"><b>4.92</b> €</td><td c=\"1\" class=\"msga2-o pp6\" nowrap=\"\"><b>295</b>  €/mēn.</td></tr>\n",
       "<tr id=\"tr_44134979\"><td class=\"msga2 pp0\"><input id=\"c44134979\" name=\"mid[]\" type=\"checkbox\" value=\"44134979_1105_0\"/></td><td class=\"msga2\"><a href=\"/msg/lv/real-estate/flats/riga/teika/bfpoc.html\" id=\"im44134979\"><img alt=\"\" class=\"isfoto foto_list\" src=\"https://i.ss.com/gallery/3/407/101677/20335250.th2.jpg\"/></a></td><td class=\"msg2\"><div class=\"d1\"><a class=\"am\" data=\"JUE5YyVBNSVBRCVDNCU5RSVBOWMlQTMlQUQlN0MlQTUlQUNpJUE3JUE4JTdFJUExJUE4bA==|t3ruHm\" href=\"/msg/lv/real-estate/flats/riga/teika/bfpoc.html\" id=\"dm_44134979\">Tikko pēc remonta. Dzīvoklis absolūti perfektā stāvoklī, jo nevi</a></div></td><td c=\"1\" class=\"msga2-o pp6\" nowrap=\"\">Brīvības 262</td><td c=\"1\" class=\"msga2-o pp6\" nowrap=\"\">2</td><td c=\"1\" class=\"msga2-o pp6\" nowrap=\"\">47</td><td c=\"1\" class=\"msga2-o pp6\" nowrap=\"\">2/4</td><td c=\"1\" class=\"msga2-o pp6\" nowrap=\"\">P. kara</td><td c=\"1\" class=\"msga2-o pp6\" nowrap=\"\">1,596 €</td><td c=\"1\" class=\"msga2-o pp6\" nowrap=\"\">75,000  €</td></tr>\n",
       "<tr id=\"tr_43097922\"><td class=\"msga2 pp0\"><input id=\"c43097922\" name=\"mid[]\" type=\"checkbox\" value=\"43097922_1105_0\"/></td><td class=\"msga2\"><a href=\"/msg/lv/real-estate/flats/riga/teika/cihcl.html\" id=\"im43097922\"><img alt=\"\" class=\"isfoto foto_list\" src=\"https://i.ss.com/gallery/2/347/86543/17308461.th2.jpg\"/></a></td><td class=\"msg2\"><div class=\"d1\"><a class=\"am\" data=\"JTg3JThDZyU4RSVBOCVBRSU4NSU4OWUlODclQThrJThEJThEbSU4RSVCMWglOEElODRs|TT5Ux2\" href=\"/msg/lv/real-estate/flats/riga/teika/cihcl.html\" id=\"dm_43097922\">Совершенно эксклюзивный вариант. Трехэтажный довоенный особняк н</a></div></td><td c=\"1\" class=\"msga2-o pp6\" nowrap=\"\">Bērzaunes 3</td><td c=\"1\" class=\"msga2-o pp6\" nowrap=\"\">4</td><td c=\"1\" class=\"msga2-o pp6\" nowrap=\"\">93</td><td c=\"1\" class=\"msga2-o pp6\" nowrap=\"\">2/3</td><td c=\"1\" class=\"msga2-o pp6\" nowrap=\"\">P. kara</td><td c=\"1\" class=\"msga2-o pp6\" nowrap=\"\">1,237 €</td><td c=\"1\" class=\"msga2-o pp6\" nowrap=\"\">115,000  €</td></tr>\n",
       "<tr id=\"tr_44259778\"><td class=\"msga2 pp0\"><input id=\"c44259778\" name=\"mid[]\" type=\"checkbox\" value=\"44259778_1105_0\"/></td><td class=\"msga2\"><a href=\"/msg/lv/real-estate/flats/riga/teika/eeoil.html\" id=\"im44259778\"><img alt=\"\" class=\"isfoto foto_list\" src=\"https://i.ss.com/gallery/3/416/103758/20751475.th2.jpg\"/></a></td><td class=\"msg2\"><div class=\"d1\"><a class=\"am\" data=\"JThBJTk2JUE1JTg0JUEwJUE3JTgyJUFFJThBJTlCJTlEJTgxJUEwJUFCJTgyaSU4QiU5QyVBNSU4MyU5RCVBOSU4OA==|YfmKmsR2\" href=\"/msg/lv/real-estate/flats/riga/teika/eeoil.html\" id=\"dm_44259778\">Īpašnieks pārdod remontējamu 1 istabas dzīvokli ļoti labā vietā,</a></div></td><td c=\"1\" class=\"msga2-o pp6\" nowrap=\"\">Biķernieku 47</td><td c=\"1\" class=\"msga2-o pp6\" nowrap=\"\">1</td><td c=\"1\" class=\"msga2-o pp6\" nowrap=\"\">29</td><td c=\"1\" class=\"msga2-o pp6\" nowrap=\"\">1/2</td><td c=\"1\" class=\"msga2-o pp6\" nowrap=\"\">P. kara</td><td c=\"1\" class=\"msga2-o pp6\" nowrap=\"\">517 €</td><td c=\"1\" class=\"msga2-o pp6\" nowrap=\"\">15,000  €</td></tr>\n",
       "<tr id=\"tr_bnr_712\" style=\"display:none;\"><td align=\"center\" colspan=\"12\">\n",
       "<div align=\"center\" id=\"div_bnr_712\"></div>\n",
       "<script>load_script_async(\"/w_inc/reklama.728.php?0||1105||\"+escape(document.referrer));</script>\n",
       "</td></tr>\n",
       "</table>\n",
       "<br/><table border=\"0\" cellpasdding=\"0\" cellspacing=\"0\" width=\"100%\"><tr><td nowrap=\"\" width=\"24\"></td><td><div align=\"center\" class=\"td2\" nowrap=\"\"><a class=\"navi\" href=\"/lv/real-estate/flats/riga/teika/page5.html\" name=\"nav_id\" rel=\"prev\"><img border=\"0\" height=\"5\" src=\"https://i.ss.com/img/s_left.png\" style=\"padding-bottom:2px;\" width=\"9\"/> Iepriekšējie</a>    <button class=\"navia\" onclick=\"return false;\">1</button> <a class=\"navi\" href=\"/lv/real-estate/flats/riga/teika/page2.html\" name=\"nav_id\" rel=\"next\">2</a> <a class=\"navi\" href=\"/lv/real-estate/flats/riga/teika/page3.html\" name=\"nav_id\" rel=\"next\">3</a> <a class=\"navi\" href=\"/lv/real-estate/flats/riga/teika/page4.html\" name=\"nav_id\" rel=\"next\">4</a> <a class=\"navi\" href=\"/lv/real-estate/flats/riga/teika/page5.html\" name=\"nav_id\" rel=\"next\">5</a>    <a class=\"navi\" href=\"/lv/real-estate/flats/riga/teika/page2.html\" name=\"nav_id\" rel=\"next\">Nākamie <img border=\"0\" height=\"5\" src=\"https://i.ss.com/img/s_right.png\" style=\"padding-bottom:2px;\" width=\"9\"/></a></div><br/></td><td nowrap=\"\" valign=\"top\" width=\"24\"><script>if(document.documentElement &&document.documentElement.clientHeight &&document.documentElement.offsetHeight && ( document.documentElement.offsetHeight-document.documentElement.clientHeight )>30){D.write( '<img src=\"https://i.ss.com/img/up.png\" width=24 height=24 border=0 onclick=\"window.scrollTo(0,0);return false;\" style=\"opacity:0.3;cursor:pointer;position:absolute;\" onmouseover=\"this.style.opacity=1;\" onmouseout=\"this.style.opacity=0.3;\" title=\"Uz sākumu\">'); }</script></td></tr></table>\n",
       "<table border=\"0\" cellpadding=\"2\" cellspacing=\"0\" width=\"100%\"><tr>\n",
       "<td class=\"td7\" nowrap=\"\" title=\"Parādīt izvēlētos sludinājumus\" width=\"40%\"><noindex><a class=\"td15\" href=\"/lv/show-selected/fDgReF4S.html\" id=\"show_selected_a\" onclick=\"if( !check_selected_msg( 'Izvēlieties sludinājumus.' ) ){event.returnValue=false;return false;}\" rel=\"nofollow\">Parādīt izvēlētos sludinājumus</a></noindex> <span class=\"td15\" id=\"sel_cnt_obj\"></span></td>\n",
       "<td align=\"center\" rowspan=\"4\" valign=\"center\" width=\"20%\"><input class=\"b\" onclick=\"go('/lv/real-estate/flats/riga/teika/new/' );\" type=\"button\" value=\"Izvietot sludinājumu\"/></td>\n",
       "<td align=\"right\" class=\"td7\" width=\"40%\"> </td>\n",
       "</tr>\n",
       "<tr><td class=\"td7\"><noindex><a class=\"a9a\" href=\"javascript:;\" id=\"a_fav_sel\" onclick=\"af(-1,'lv')\" rel=\"nofollow\" style=\"display:none;\">Pievienot izvēlētos Memo</a></noindex></td></tr>\n",
       "<tr><td class=\"td7\" valign=\"top\"><a class=\"a9a\" href=\"javascript:;\" id=\"clear_selected_a\" onclick=\"dsl(2);return false;\" style=\"display:none;\">Notīrīt atzīmētos</a></td></tr>\n",
       "</table><br/>\n",
       "<br/></form><script src=\"/w_inc/set.cookie.php?a=1&amp;lg=2\" type=\"text/javascript\"></script>\n",
       "<iframe frameborder=\"0\" height=\"0\" id=\"ss_mframe\" name=\"ss_mframe\" style=\"display:none\" width=\"0\"></iframe></td>"
      ]
     },
     "execution_count": 42,
     "metadata": {},
     "output_type": "execute_result"
    }
   ],
   "source": [
    "myrows[4].parent.parent.parent"
   ]
  },
  {
   "cell_type": "code",
   "execution_count": 55,
   "metadata": {},
   "outputs": [
    {
     "name": "stderr",
     "output_type": "stream",
     "text": [
      "C:\\ProgramData\\Anaconda3\\lib\\site-packages\\urllib3\\connectionpool.py:858: InsecureRequestWarning: Unverified HTTPS request is being made. Adding certificate verification is strongly advised. See: https://urllib3.readthedocs.io/en/latest/advanced-usage.html#ssl-warnings\n",
      "  InsecureRequestWarning)\n"
     ]
    }
   ],
   "source": [
    "r = http.request('GET','https://www.letonika.lv/literatura/Reader.aspx?r=166')"
   ]
  },
  {
   "cell_type": "code",
   "execution_count": 56,
   "metadata": {},
   "outputs": [
    {
     "data": {
      "text/plain": [
       "200"
      ]
     },
     "execution_count": 56,
     "metadata": {},
     "output_type": "execute_result"
    }
   ],
   "source": [
    "r.status"
   ]
  },
  {
   "cell_type": "code",
   "execution_count": 58,
   "metadata": {},
   "outputs": [],
   "source": [
    "vsoup = bs4.BeautifulSoup(r.data, 'lxml')"
   ]
  },
  {
   "cell_type": "code",
   "execution_count": 59,
   "metadata": {},
   "outputs": [
    {
     "data": {
      "text/plain": [
       "<list_iterator at 0x837a198>"
      ]
     },
     "execution_count": 59,
     "metadata": {},
     "output_type": "execute_result"
    }
   ],
   "source": [
    "vsoup.children"
   ]
  },
  {
   "cell_type": "code",
   "execution_count": 60,
   "metadata": {},
   "outputs": [],
   "source": [
    "vbody = vsoup.body"
   ]
  },
  {
   "cell_type": "code",
   "execution_count": 61,
   "metadata": {},
   "outputs": [
    {
     "name": "stdout",
     "output_type": "stream",
     "text": [
      "<body id=\"body\">\n",
      "<div id=\"preloader\">\n",
      "<div id=\"tilde-logo\"></div>\n",
      "<div id=\"bounce-wrapper\">\n",
      "<div id=\"bounce1\"></div>\n",
      "<div id=\"bounce2\"></div>\n",
      "<div id=\"bounce3\"></div>\n",
      "</div>\n",
      "</div>\n",
      "<div id=\"book-wrapper\"></div>\n",
      "</body>\n"
     ]
    }
   ],
   "source": [
    "print(vbody)"
   ]
  },
  {
   "cell_type": "code",
   "execution_count": 64,
   "metadata": {},
   "outputs": [
    {
     "data": {
      "text/plain": [
       "5"
      ]
     },
     "execution_count": 64,
     "metadata": {},
     "output_type": "execute_result"
    }
   ],
   "source": [
    "vchildren = vbody.children\n",
    "len(list(vchildren))"
   ]
  },
  {
   "cell_type": "code",
   "execution_count": 67,
   "metadata": {},
   "outputs": [
    {
     "name": "stdout",
     "output_type": "stream",
     "text": [
      "\n",
      "\n",
      "\n",
      "\n",
      "\n",
      "\n",
      "\n",
      "\n",
      "\n",
      "\n",
      "\n"
     ]
    }
   ],
   "source": [
    "print(vbody.text)"
   ]
  },
  {
   "cell_type": "code",
   "execution_count": 66,
   "metadata": {},
   "outputs": [],
   "source": [
    "for el in vchildren:\n",
    "    print(el.text)"
   ]
  }
 ],
 "metadata": {
  "kernelspec": {
   "display_name": "Python 3",
   "language": "python",
   "name": "python3"
  },
  "language_info": {
   "codemirror_mode": {
    "name": "ipython",
    "version": 3
   },
   "file_extension": ".py",
   "mimetype": "text/x-python",
   "name": "python",
   "nbconvert_exporter": "python",
   "pygments_lexer": "ipython3",
   "version": "3.6.4"
  }
 },
 "nbformat": 4,
 "nbformat_minor": 2
}
