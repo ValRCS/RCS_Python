{
 "cells": [
  {
   "cell_type": "markdown",
   "metadata": {},
   "source": [
    "# RCS Python Desktop Automation with pyautogui\n",
    "\n",
    "### Cross-platform GUI automation for human beings.\n",
    "\n",
    "### PyAutoGUI is a Python module for programmatically controlling the mouse and keyboard"
   ]
  },
  {
   "cell_type": "markdown",
   "metadata": {},
   "source": [
    "http://pyautogui.readthedocs.io/en/latest/\n",
    "\n",
    "http://pyautogui.readthedocs.io/en/latest/cheatsheet.html"
   ]
  },
  {
   "cell_type": "markdown",
   "metadata": {},
   "source": [
    "# Use: when no other tool(API, library) is available!"
   ]
  },
  {
   "cell_type": "code",
   "execution_count": null,
   "metadata": {},
   "outputs": [],
   "source": [
    "pip install pyautogui\n",
    "\n",
    "# on Mac might need other packages\n",
    "\n",
    "# pip should work\n",
    "#pip3 install pyobjc-core\n",
    "\n",
    "#pip3 install pyobjc\n",
    "\n",
    "#pip3 install pyautogui\n",
    "\n",
    "# on Linux\n",
    "# pip3 install python3-xlib\n",
    "\n",
    "# sudo apt-get install scrot\n",
    "\n",
    "# sudo apt-get install python3-tk\n",
    "\n",
    "# sudo apt-get install python3-dev\n",
    "\n",
    "# pip3 install pyautogui\n"
   ]
  },
  {
   "cell_type": "code",
   "execution_count": 1,
   "metadata": {},
   "outputs": [],
   "source": [
    "import pyautogui"
   ]
  },
  {
   "cell_type": "code",
   "execution_count": null,
   "metadata": {},
   "outputs": [],
   "source": [
    "\n",
    "screenWidth, screenHeight = pyautogui.size()\n",
    "currentMouseX, currentMouseY = pyautogui.position()\n",
    "pyautogui.moveTo(300, 350)\n",
    "pyautogui.click()\n",
    "pyautogui.moveRel(None, 200)\n",
    "pyautogui.doubleClick()"
   ]
  },
  {
   "cell_type": "code",
   "execution_count": null,
   "metadata": {},
   "outputs": [],
   "source": [
    "0,0       X increases -->\n",
    "+---------------------------+\n",
    "|                           | Y increases\n",
    "|                           |     |\n",
    "|   1920 x 1080 screen      |     |\n",
    "|                           |     V\n",
    "|                           |\n",
    "|                           |\n",
    "+---------------------------+ 1919, 1079"
   ]
  },
  {
   "cell_type": "code",
   "execution_count": null,
   "metadata": {},
   "outputs": [],
   "source": [
    "pyautogui.moveTo(500, 500, duration=2) # "
   ]
  },
  {
   "cell_type": "code",
   "execution_count": null,
   "metadata": {},
   "outputs": [],
   "source": [
    "import sys\n",
    "print('Press Ctrl-C to quit.')\n",
    "try:\n",
    "    while True:\n",
    "        x, y = pyautogui.position()\n",
    "        positionStr = 'X: ' + str(x).rjust(4) + ' Y: ' + str(y).rjust(4)\n",
    "        print(positionStr, end='')\n",
    "        print('\\b' * len(positionStr), end='', flush=True)\n",
    "except KeyboardInterrupt:\n",
    "    print('\\n')"
   ]
  },
  {
   "cell_type": "code",
   "execution_count": null,
   "metadata": {},
   "outputs": [],
   "source": [
    "import pyautogui\n",
    "pyautogui.PAUSE = 1.5 \n",
    "distance = 200\n",
    "pyautogui.hotkey('alt', 'tab')\n",
    "pyautogui.hotkey('alt', 'tab') # single alt tab doesnt seem to suffice\n",
    "\n",
    "screenWidth, screenHeight = pyautogui.size()\n",
    "pyautogui.moveTo(screenWidth/2, screenHeight/2, duration=3)\n",
    "pyautogui.moveRel(-200, 0, duration=1)\n",
    "pyautogui.PAUSE = 0.1 # 0.1 is default\n",
    "\n",
    "while distance > 0:\n",
    "    pyautogui.dragRel(distance, 0, duration=0.5)   # move right\n",
    "    distance -= 5\n",
    "    pyautogui.dragRel(0, distance, duration=0.5)   # move down\n",
    "    pyautogui.dragRel(-distance, 0, duration=0.5)  # move left\n",
    "    distance -= 5\n",
    "    pyautogui.dragRel(0, -distance, duration=0.5)  # move up"
   ]
  },
  {
   "cell_type": "code",
   "execution_count": null,
   "metadata": {},
   "outputs": [],
   "source": [
    "pyautogui.keyDown('alt')\n",
    "pyautogui.press('tab')\n",
    "pyautogui.keyUp('alt')"
   ]
  },
  {
   "cell_type": "code",
   "execution_count": null,
   "metadata": {},
   "outputs": [],
   "source": [
    "#The hotkey() Function\n",
    "#To make pressing hotkeys or keyboard shortcuts convenient, the hotkey() can be passed several key strings which will be pressed down in order, and then released in reverse order. This code:\n",
    "\n",
    "pyautogui.hotkey('ctrl', 'shift', 'esc')"
   ]
  },
  {
   "cell_type": "code",
   "execution_count": null,
   "metadata": {},
   "outputs": [],
   "source": [
    "# Valid keys \n",
    "#The following are the valid strings to pass to the press(), keyDown(), keyUp(), and hotkey() functions\n",
    "['\\t', '\\n', '\\r', ' ', '!', '\"', '#', '$', '%', '&', \"'\", '(',\n",
    "')', '*', '+', ',', '-', '.', '/', '0', '1', '2', '3', '4', '5', '6', '7',\n",
    "'8', '9', ':', ';', '<', '=', '>', '?', '@', '[', '\\\\', ']', '^', '_', '`',\n",
    "'a', 'b', 'c', 'd', 'e','f', 'g', 'h', 'i', 'j', 'k', 'l', 'm', 'n', 'o',\n",
    "'p', 'q', 'r', 's', 't', 'u', 'v', 'w', 'x', 'y', 'z', '{', '|', '}', '~',\n",
    "'accept', 'add', 'alt', 'altleft', 'altright', 'apps', 'backspace',\n",
    "'browserback', 'browserfavorites', 'browserforward', 'browserhome',\n",
    "'browserrefresh', 'browsersearch', 'browserstop', 'capslock', 'clear',\n",
    "'convert', 'ctrl', 'ctrlleft', 'ctrlright', 'decimal', 'del', 'delete',\n",
    "'divide', 'down', 'end', 'enter', 'esc', 'escape', 'execute', 'f1', 'f10',\n",
    "'f11', 'f12', 'f13', 'f14', 'f15', 'f16', 'f17', 'f18', 'f19', 'f2', 'f20',\n",
    "'f21', 'f22', 'f23', 'f24', 'f3', 'f4', 'f5', 'f6', 'f7', 'f8', 'f9',\n",
    "'final', 'fn', 'hanguel', 'hangul', 'hanja', 'help', 'home', 'insert', 'junja',\n",
    "'kana', 'kanji', 'launchapp1', 'launchapp2', 'launchmail',\n",
    "'launchmediaselect', 'left', 'modechange', 'multiply', 'nexttrack',\n",
    "'nonconvert', 'num0', 'num1', 'num2', 'num3', 'num4', 'num5', 'num6',\n",
    "'num7', 'num8', 'num9', 'numlock', 'pagedown', 'pageup', 'pause', 'pgdn',\n",
    "'pgup', 'playpause', 'prevtrack', 'print', 'printscreen', 'prntscrn',\n",
    "'prtsc', 'prtscr', 'return', 'right', 'scrolllock', 'select', 'separator',\n",
    "'shift', 'shiftleft', 'shiftright', 'sleep', 'space', 'stop', 'subtract', 'tab',\n",
    "'up', 'volumedown', 'volumemute', 'volumeup', 'win', 'winleft', 'winright', 'yen',\n",
    "'command', 'option', 'optionleft', 'optionright']"
   ]
  },
  {
   "cell_type": "code",
   "execution_count": null,
   "metadata": {},
   "outputs": [],
   "source": [
    "pyautogui.typewrite('Hello RCS Python', interval=0.50)  # type with quarter-second pause in between each key\n"
   ]
  },
  {
   "cell_type": "code",
   "execution_count": null,
   "metadata": {},
   "outputs": [],
   "source": [
    "pyautogui.alert('This is an alert box.')"
   ]
  },
  {
   "cell_type": "code",
   "execution_count": null,
   "metadata": {},
   "outputs": [],
   "source": []
  },
  {
   "cell_type": "code",
   "execution_count": null,
   "metadata": {},
   "outputs": [],
   "source": [
    "pyautogui.confirm('Enter option.', buttons=['A', 'B', 'C'])"
   ]
  },
  {
   "cell_type": "code",
   "execution_count": null,
   "metadata": {},
   "outputs": [],
   "source": [
    "pyautogui.prompt('What is your name?')"
   ]
  },
  {
   "cell_type": "code",
   "execution_count": null,
   "metadata": {},
   "outputs": [],
   "source": [
    "pyautogui.password('Enter password (text will be hidden)')"
   ]
  },
  {
   "cell_type": "code",
   "execution_count": null,
   "metadata": {},
   "outputs": [],
   "source": [
    "buttonloc = pyautogui.locateOnScreen('file.png') "
   ]
  },
  {
   "cell_type": "code",
   "execution_count": null,
   "metadata": {},
   "outputs": [],
   "source": [
    "buttonloc"
   ]
  },
  {
   "cell_type": "code",
   "execution_count": null,
   "metadata": {},
   "outputs": [],
   "source": [
    "buttonx, buttony = pyautogui.center(buttonloc)\n",
    "buttonx, buttony"
   ]
  },
  {
   "cell_type": "code",
   "execution_count": null,
   "metadata": {},
   "outputs": [],
   "source": [
    "pyautogui.click(buttonx, buttony)"
   ]
  },
  {
   "cell_type": "markdown",
   "metadata": {},
   "source": [
    "# Screenshot Functions\n",
    "PyAutoGUI can take screenshots, save them to files, and locate images within the screen. "
   ]
  },
  {
   "cell_type": "code",
   "execution_count": 2,
   "metadata": {},
   "outputs": [],
   "source": [
    "im1 = pyautogui.screenshot()\n",
    "im2 = pyautogui.screenshot('my_screenshot.png')"
   ]
  },
  {
   "cell_type": "code",
   "execution_count": null,
   "metadata": {},
   "outputs": [],
   "source": [
    "# screenshot just a region\n",
    "im = pyautogui.screenshot(region=(0,0, 300, 400))"
   ]
  },
  {
   "cell_type": "markdown",
   "metadata": {},
   "source": [
    "# The Locate Functions"
   ]
  },
  {
   "cell_type": "code",
   "execution_count": 14,
   "metadata": {},
   "outputs": [],
   "source": [
    "x, y = pyautogui.locateCenterOnScreen('img/file.png')\n",
    "pyautogui.click(x, y)"
   ]
  },
  {
   "cell_type": "markdown",
   "metadata": {},
   "source": [
    "There are several “locate” functions. They all start looking at the top-left corner of the screen (or image) and look to the right and then down. The arguments can either be a\n",
    "\n",
    "* locateOnScreen(image, grayscale=False) - Returns (left, top, width, height) coordinate of first found instance of the image on the screen. Returns None if not found on the screen.\n",
    "* locateCenterOnScreen(image, grayscale=False) - Returns (x, y) coordinates of the center of the first found instance of the image on the screen. Returns None if not found on the screen.\n",
    "* locateAllOnScreen(image, grayscale=False) - Returns a generator that yields (left, top, width, height) tuples for where the image is found on the screen.\n",
    "* locate(needleImage, haystackImage, grayscale=False) - Returns (left, top, width, height) coordinate of first found instance of needleImage in haystackImage. Returns None if not found on the screen.\n",
    "* locateAll(needleImage, haystackImage, grayscale=False) - Returns a generator that yields (left, top, width, height) tuples for where needleImage is found in haystackImage."
   ]
  },
  {
   "cell_type": "code",
   "execution_count": 7,
   "metadata": {},
   "outputs": [
    {
     "name": "stdout",
     "output_type": "stream",
     "text": [
      "(410, 358, 21, 29)\n"
     ]
    }
   ],
   "source": [
    "for pos in pyautogui.locateAllOnScreen('F.png', grayscale=True): #Grayscale = True speed up but more false matches\n",
    "    print(pos)"
   ]
  },
  {
   "cell_type": "code",
   "execution_count": null,
   "metadata": {},
   "outputs": [],
   "source": []
  },
  {
   "cell_type": "code",
   "execution_count": null,
   "metadata": {},
   "outputs": [],
   "source": [
    "# To speed up locate pass region to search\n",
    "pyautogui.locateOnScreen('someButton.png', region=(0,0, 300, 400))"
   ]
  },
  {
   "cell_type": "code",
   "execution_count": 8,
   "metadata": {},
   "outputs": [
    {
     "data": {
      "text/plain": [
       "(255, 255, 255)"
      ]
     },
     "execution_count": 8,
     "metadata": {},
     "output_type": "execute_result"
    }
   ],
   "source": [
    "# Pixel color\n",
    "pyautogui.pixel(100, 200)"
   ]
  },
  {
   "cell_type": "code",
   "execution_count": 9,
   "metadata": {},
   "outputs": [
    {
     "data": {
      "text/plain": [
       "False"
      ]
     },
     "execution_count": 9,
     "metadata": {},
     "output_type": "execute_result"
    }
   ],
   "source": [
    "#The optional tolerance keyword argument specifies \n",
    "# how much each of the red, green, and blue values can vary while still matching\n",
    "pyautogui.pixelMatchesColor(100, 200, (140, 125, 134), tolerance=10)"
   ]
  },
  {
   "cell_type": "code",
   "execution_count": 10,
   "metadata": {},
   "outputs": [
    {
     "data": {
      "text/plain": [
       "True"
      ]
     },
     "execution_count": 10,
     "metadata": {},
     "output_type": "execute_result"
    }
   ],
   "source": [
    "pyautogui.pixelMatchesColor(100, 200, (250, 251, 254), tolerance=10)"
   ]
  },
  {
   "cell_type": "code",
   "execution_count": null,
   "metadata": {},
   "outputs": [],
   "source": []
  },
  {
   "cell_type": "markdown",
   "metadata": {},
   "source": [
    "# Fail-Safes\n",
    "![Sorcerer's Apprentice](https://upload.wikimedia.org/wikipedia/commons/thumb/0/05/Tovenaarsleerling_S_Barth.png/330px-Tovenaarsleerling_S_Barth.png)"
   ]
  },
  {
   "cell_type": "markdown",
   "metadata": {},
   "source": [
    "As a safety feature, a fail-safe feature is enabled by default.\n",
    "\n",
    "When pyautogui.FAILSAFE = True PyAutoGUI functions will raise a pyautogui.FailSafeException if the mouse cursor is in the upper left corner of the screen. \n",
    "\n",
    "If you lose control and need to stop the current PyAutoGUI function, **keep moving the mouse cursor up and to the left**."
   ]
  },
  {
   "cell_type": "code",
   "execution_count": null,
   "metadata": {},
   "outputs": [],
   "source": [
    "# when you are absolutely sure you area a master not an apprentice and even then this is not advisable...\n",
    "pyautogui.FAILSAFE = False # disables the fail-safe"
   ]
  },
  {
   "cell_type": "markdown",
   "metadata": {},
   "source": [
    "## Pauses"
   ]
  },
  {
   "cell_type": "code",
   "execution_count": null,
   "metadata": {},
   "outputs": [],
   "source": [
    "pyautogui.PAUSE = 2.5 \n",
    "pyautogui.moveTo(300, 300)\n",
    "pyautogui.click()\n",
    "# could change pyautogui.PAUSE value here if you need a different pause\n",
    "pyautogui.moveTo(100, 100)"
   ]
  },
  {
   "cell_type": "code",
   "execution_count": null,
   "metadata": {},
   "outputs": [],
   "source": [
    "pyautogui.PAUSE = 2.5 \n",
    "response = pyautogui.confirm('How many seconds do you want to Pause', buttons=['2', '5', '10'])\n",
    "pyautogui.PAUSE = int(response)\n",
    "pyautogui.alert(f'Pause is currently set to {pyautogui.PAUSE}')\n",
    "pyautogui.alert('Waiting')"
   ]
  },
  {
   "cell_type": "code",
   "execution_count": null,
   "metadata": {},
   "outputs": [],
   "source": [
    "Note: Currently PAUSE is a blocking call(ie your program will not be able to do anything else until pause is complete)\n"
   ]
  },
  {
   "cell_type": "markdown",
   "metadata": {},
   "source": [
    "# PYAUTOGUI pluses and minus\n",
    "\n",
    "## Pluses\n",
    "* simple\n",
    "* cross-platform\n",
    "* it is Python not a rare language which is not useful for anything else, thus gluing stuff is easier\n",
    "\n",
    "## Minuses\n",
    "* no direct ability to select specific window\n",
    "* blocking\n",
    "* gui uses tkinter which is ugly\n",
    "* no other advanced features\n"
   ]
  },
  {
   "cell_type": "markdown",
   "metadata": {},
   "source": [
    "# PYAUTOGUI Alternatives\n",
    "\n",
    "### Windows\n",
    "#### Python\n",
    "* [pywinauto](https://pywinauto.readthedocs.io/en/latest/index.html) - more complicated, more powerful, windows only\n",
    "\n",
    "#### Other\n",
    "\n",
    "* https://autohotkey.com/ - AutoHotkEY very powerful for Windows but very ugly syntax, avoid if possible\n",
    "* https://www.autoitscript.com/site/autoit/ - AutoIt similarly powerful for Windows but again BASIC like syntax\n",
    "* [Powershell](https://docs.microsoft.com/en-us/powershell/scripting/getting-started/getting-started-with-windows-powershell?view=powershell-6) scripts - most powerful but requires learning Powershell\n",
    "    \n",
    "### MacOS\n",
    "* [Applescript](https://developer.apple.com/library/archive/documentation/AppleScript/Conceptual/AppleScriptX/Concepts/ScriptingOnOSX.html#//apple_ref/doc/uid/20000032-BABEBGCF) - powerful, old syntax, a bit depreceated\n",
    "* shell scripts - its own language really\n",
    "\n",
    "### Linux\n",
    "* shell scripts - its own language really\n",
    "* [Murguu mouse clicker](http://www.murguu.com/)\n",
    "    \n",
    "    \n",
    "### [More Alternatives](https://pywinauto.readthedocs.io/en/latest/index.html#some-similar-tools-for-comparison)\n"
   ]
  },
  {
   "cell_type": "code",
   "execution_count": null,
   "metadata": {},
   "outputs": [],
   "source": []
  },
  {
   "cell_type": "code",
   "execution_count": null,
   "metadata": {},
   "outputs": [],
   "source": []
  },
  {
   "cell_type": "code",
   "execution_count": null,
   "metadata": {},
   "outputs": [],
   "source": []
  },
  {
   "cell_type": "code",
   "execution_count": null,
   "metadata": {},
   "outputs": [],
   "source": []
  },
  {
   "cell_type": "code",
   "execution_count": null,
   "metadata": {},
   "outputs": [],
   "source": []
  }
 ],
 "metadata": {
  "kernelspec": {
   "display_name": "Python 3",
   "language": "python",
   "name": "python3"
  },
  "language_info": {
   "codemirror_mode": {
    "name": "ipython",
    "version": 3
   },
   "file_extension": ".py",
   "mimetype": "text/x-python",
   "name": "python",
   "nbconvert_exporter": "python",
   "pygments_lexer": "ipython3",
   "version": "3.6.4"
  }
 },
 "nbformat": 4,
 "nbformat_minor": 2
}
