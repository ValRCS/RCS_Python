{
 "cells": [
  {
   "cell_type": "markdown",
   "metadata": {},
   "source": [
    "# RCS Python Desktop Automation with pyautogui\n",
    "\n",
    "### Cross-platform GUI automation for human beings.\n",
    "\n",
    "### PyAutoGUI is a Python module for programmatically controlling the mouse and keyboard"
   ]
  },
  {
   "cell_type": "markdown",
   "metadata": {},
   "source": [
    "http://pyautogui.readthedocs.io/en/latest/\n",
    "http://pyautogui.readthedocs.io/en/latest/cheatsheet.html"
   ]
  },
  {
   "cell_type": "code",
   "execution_count": null,
   "metadata": {},
   "outputs": [],
   "source": [
    "pip install pyautogui\n",
    "\n",
    "# on Mac might need other packages\n",
    "\n",
    "# pip should work\n",
    "#pip3 install pyobjc-core\n",
    "\n",
    "#pip3 install pyobjc\n",
    "\n",
    "#pip3 install pyautogui\n",
    "\n",
    "# on Linux\n",
    "# pip3 install python3-xlib\n",
    "\n",
    "# sudo apt-get install scrot\n",
    "\n",
    "# sudo apt-get install python3-tk\n",
    "\n",
    "# sudo apt-get install python3-dev\n",
    "\n",
    "# pip3 install pyautogui\n"
   ]
  },
  {
   "cell_type": "code",
   "execution_count": null,
   "metadata": {},
   "outputs": [],
   "source": [
    "import pyautogui"
   ]
  },
  {
   "cell_type": "code",
   "execution_count": 3,
   "metadata": {},
   "outputs": [],
   "source": [
    "\n",
    "screenWidth, screenHeight = pyautogui.size()\n",
    "currentMouseX, currentMouseY = pyautogui.position()\n",
    "pyautogui.moveTo(300, 350)\n",
    "pyautogui.click()\n",
    "pyautogui.moveRel(None, 200)\n",
    "pyautogui.doubleClick()"
   ]
  },
  {
   "cell_type": "code",
   "execution_count": 4,
   "metadata": {},
   "outputs": [],
   "source": [
    "pyautogui.moveTo(500, 500, duration=2) # "
   ]
  },
  {
   "cell_type": "code",
   "execution_count": 6,
   "metadata": {},
   "outputs": [
    {
     "data": {
      "text/plain": [
       "['FAILSAFE',\n",
       " 'FailSafeException',\n",
       " 'KEYBOARD_KEYS',\n",
       " 'KEY_NAMES',\n",
       " 'MINIMUM_DURATION',\n",
       " 'MINIMUM_SLEEP',\n",
       " 'PAUSE',\n",
       " 'Window',\n",
       " '__builtins__',\n",
       " '__cached__',\n",
       " '__doc__',\n",
       " '__file__',\n",
       " '__loader__',\n",
       " '__name__',\n",
       " '__package__',\n",
       " '__path__',\n",
       " '__spec__',\n",
       " '__version__',\n",
       " '_autoPause',\n",
       " '_failSafeCheck',\n",
       " '_mouseMoveDrag',\n",
       " '_pyautogui_win',\n",
       " '_unpackXY',\n",
       " '_window_win',\n",
       " 'absolute_import',\n",
       " 'alert',\n",
       " 'center',\n",
       " 'click',\n",
       " 'collections',\n",
       " 'confirm',\n",
       " 'displayMousePosition',\n",
       " 'division',\n",
       " 'doubleClick',\n",
       " 'dragRel',\n",
       " 'dragTo',\n",
       " 'easeInBack',\n",
       " 'easeInBounce',\n",
       " 'easeInCirc',\n",
       " 'easeInCubic',\n",
       " 'easeInElastic',\n",
       " 'easeInExpo',\n",
       " 'easeInOutBack',\n",
       " 'easeInOutBounce',\n",
       " 'easeInOutCirc',\n",
       " 'easeInOutCubic',\n",
       " 'easeInOutElastic',\n",
       " 'easeInOutExpo',\n",
       " 'easeInOutQuad',\n",
       " 'easeInOutQuart',\n",
       " 'easeInOutQuint',\n",
       " 'easeInOutSine',\n",
       " 'easeInQuad',\n",
       " 'easeInQuart',\n",
       " 'easeInQuint',\n",
       " 'easeInSine',\n",
       " 'easeOutBack',\n",
       " 'easeOutBounce',\n",
       " 'easeOutCirc',\n",
       " 'easeOutCubic',\n",
       " 'easeOutElastic',\n",
       " 'easeOutExpo',\n",
       " 'easeOutQuad',\n",
       " 'easeOutQuart',\n",
       " 'easeOutQuint',\n",
       " 'easeOutSine',\n",
       " 'getPointOnLine',\n",
       " 'getWindow',\n",
       " 'getWindows',\n",
       " 'grab',\n",
       " 'hotkey',\n",
       " 'hscroll',\n",
       " 'isShiftCharacter',\n",
       " 'isValidKey',\n",
       " 'keyDown',\n",
       " 'keyUp',\n",
       " 'linear',\n",
       " 'locate',\n",
       " 'locateAll',\n",
       " 'locateAllOnScreen',\n",
       " 'locateCenterOnScreen',\n",
       " 'locateOnScreen',\n",
       " 'middleClick',\n",
       " 'mouseDown',\n",
       " 'mouseUp',\n",
       " 'moveRel',\n",
       " 'moveTo',\n",
       " 'onScreen',\n",
       " 'password',\n",
       " 'pixel',\n",
       " 'pixelMatchesColor',\n",
       " 'platformModule',\n",
       " 'position',\n",
       " 'press',\n",
       " 'print_function',\n",
       " 'prompt',\n",
       " 'pymsgbox',\n",
       " 'pyscreeze',\n",
       " 'pytweening',\n",
       " 'rightClick',\n",
       " 'screenshot',\n",
       " 'scroll',\n",
       " 'size',\n",
       " 'sys',\n",
       " 'time',\n",
       " 'tripleClick',\n",
       " 'typewrite',\n",
       " 'vscroll']"
      ]
     },
     "execution_count": 6,
     "metadata": {},
     "output_type": "execute_result"
    }
   ],
   "source": [
    "dir(pyautogui)"
   ]
  },
  {
   "cell_type": "code",
   "execution_count": 8,
   "metadata": {},
   "outputs": [],
   "source": [
    "# turns out tweening functions were moved to main pyautogui here: https://github.com/asweigart/pyautogui/blob/master/CHANGES.txt\n",
    "pyautogui.moveTo(500, 500, duration=2, tween=pyautogui.easeInOutQuad) # notice the difference in movement?\n"
   ]
  },
  {
   "cell_type": "code",
   "execution_count": 10,
   "metadata": {},
   "outputs": [],
   "source": [
    "pyautogui.typewrite('Hello world!', interval=0.25)  # type with quarter-second pause in between each key"
   ]
  },
  {
   "cell_type": "code",
   "execution_count": 11,
   "metadata": {},
   "outputs": [
    {
     "data": {
      "text/plain": [
       "'OK'"
      ]
     },
     "execution_count": 11,
     "metadata": {},
     "output_type": "execute_result"
    }
   ],
   "source": [
    "pyautogui.alert('This is an alert box.')"
   ]
  },
  {
   "cell_type": "code",
   "execution_count": 12,
   "metadata": {},
   "outputs": [
    {
     "data": {
      "text/plain": [
       "'A'"
      ]
     },
     "execution_count": 12,
     "metadata": {},
     "output_type": "execute_result"
    }
   ],
   "source": [
    "pyautogui.confirm('Enter option.', buttons=['A', 'B', 'C'])"
   ]
  },
  {
   "cell_type": "code",
   "execution_count": 13,
   "metadata": {},
   "outputs": [
    {
     "data": {
      "text/plain": [
       "'Val'"
      ]
     },
     "execution_count": 13,
     "metadata": {},
     "output_type": "execute_result"
    }
   ],
   "source": [
    "pyautogui.prompt('What is your name?')"
   ]
  },
  {
   "cell_type": "code",
   "execution_count": 14,
   "metadata": {},
   "outputs": [
    {
     "data": {
      "text/plain": [
       "'hunter2'"
      ]
     },
     "execution_count": 14,
     "metadata": {},
     "output_type": "execute_result"
    }
   ],
   "source": [
    "pyautogui.password('Enter password (text will be hidden)')"
   ]
  },
  {
   "cell_type": "code",
   "execution_count": 15,
   "metadata": {},
   "outputs": [],
   "source": [
    "buttonloc = pyautogui.locateOnScreen('file.png') "
   ]
  },
  {
   "cell_type": "code",
   "execution_count": 16,
   "metadata": {},
   "outputs": [
    {
     "data": {
      "text/plain": [
       "(121, 198, 52, 36)"
      ]
     },
     "execution_count": 16,
     "metadata": {},
     "output_type": "execute_result"
    }
   ],
   "source": [
    "buttonloc"
   ]
  },
  {
   "cell_type": "code",
   "execution_count": 18,
   "metadata": {},
   "outputs": [
    {
     "data": {
      "text/plain": [
       "(147, 216)"
      ]
     },
     "execution_count": 18,
     "metadata": {},
     "output_type": "execute_result"
    }
   ],
   "source": [
    "buttonx, buttony = pyautogui.center(buttonloc)\n",
    "buttonx, buttony"
   ]
  },
  {
   "cell_type": "code",
   "execution_count": 19,
   "metadata": {},
   "outputs": [],
   "source": [
    "pyautogui.click(buttonx, buttony)"
   ]
  }
 ],
 "metadata": {
  "kernelspec": {
   "display_name": "Python 3",
   "language": "python",
   "name": "python3"
  },
  "language_info": {
   "codemirror_mode": {
    "name": "ipython",
    "version": 3
   },
   "file_extension": ".py",
   "mimetype": "text/x-python",
   "name": "python",
   "nbconvert_exporter": "python",
   "pygments_lexer": "ipython3",
   "version": "3.6.4"
  }
 },
 "nbformat": 4,
 "nbformat_minor": 2
}
