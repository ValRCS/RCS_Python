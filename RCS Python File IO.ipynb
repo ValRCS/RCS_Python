{
 "cells": [
  {
   "cell_type": "markdown",
   "metadata": {},
   "source": [
    "##  File I/O (Input / Output)"
   ]
  },
  {
   "cell_type": "markdown",
   "metadata": {},
   "source": [
    "## More on String Formatting"
   ]
  },
  {
   "cell_type": "markdown",
   "metadata": {},
   "source": [
    "## How do you convert values to strings? \n",
    "\n",
    "### In Python: pass it to the repr() or str() functions.\n",
    "\n",
    "The str() function is meant to return representations of values which are fairly human-readable, while repr() is meant to generate representations which can be read by the interpreter (or will force a SyntaxError if there is no equivalent syntax). For objects which don’t have a particular representation for human consumption, str() will return the same value as repr(). "
   ]
  },
  {
   "cell_type": "code",
   "execution_count": 1,
   "metadata": {},
   "outputs": [
    {
     "name": "stdout",
     "output_type": "stream",
     "text": [
      "34341235421\n",
      "54\n",
      "54\n"
     ]
    },
    {
     "data": {
      "text/plain": [
       "True"
      ]
     },
     "execution_count": 1,
     "metadata": {},
     "output_type": "execute_result"
    }
   ],
   "source": [
    "print(str(34341235421))\n",
    "print(repr(54))\n",
    "print(str(54))\n",
    "str(54)==repr(54)"
   ]
  },
  {
   "cell_type": "code",
   "execution_count": 1,
   "metadata": {},
   "outputs": [
    {
     "name": "stdout",
     "output_type": "stream",
     "text": [
      "Hello\n",
      "\n",
      "'Hello\\n'\n"
     ]
    },
    {
     "data": {
      "text/plain": [
       "False"
      ]
     },
     "execution_count": 1,
     "metadata": {},
     "output_type": "execute_result"
    }
   ],
   "source": [
    "hi = \"Hello\\n\"\n",
    "hir = repr(hi)\n",
    "print(hi)\n",
    "print(hir)\n",
    "hir==hi"
   ]
  },
  {
   "cell_type": "markdown",
   "metadata": {},
   "source": [
    "### The goal of __repr__ is to be unambiguous: \n",
    "### The goal of __str__ is to be readable\n",
    "\n",
    "## In other words: __repr__ is for developers, __str__ is for customers (end users)"
   ]
  },
  {
   "cell_type": "code",
   "execution_count": 5,
   "metadata": {},
   "outputs": [
    {
     "name": "stdout",
     "output_type": "stream",
     "text": [
      " 1   1 1.000000\n",
      " 2   4 8.000000\n",
      " 3   9 27.000000\n",
      " 4  16 64.000000\n",
      " 5  25 125.000000\n",
      " 6  36 216.000000\n",
      " 7  49 343.000000\n",
      " 8  64 512.000000\n",
      " 9  81 729.000000\n",
      "10 100 1000.000000\n",
      "11 121 1331.000000\n"
     ]
    }
   ],
   "source": [
    "for x in range(1,12):\n",
    "    print(f'{x:2d} {x*x:3d} {x**3:4f}')"
   ]
  },
  {
   "cell_type": "code",
   "execution_count": 2,
   "metadata": {},
   "outputs": [
    {
     "data": {
      "text/plain": [
       "'-003.14'"
      ]
     },
     "execution_count": 2,
     "metadata": {},
     "output_type": "execute_result"
    }
   ],
   "source": [
    "'-3.14'.zfill(7) # pads numeric string on the left with zeros"
   ]
  },
  {
   "cell_type": "code",
   "execution_count": 14,
   "metadata": {},
   "outputs": [
    {
     "name": "stdout",
     "output_type": "stream",
     "text": [
      "Object `` not found.\n"
     ]
    }
   ],
   "source": []
  },
  {
   "cell_type": "markdown",
   "metadata": {},
   "source": [
    "## Jupyter only writing to text file\n",
    "* %%writefile filename.ext\n",
    "\n",
    "Writes in the working directory (first run pwd) "
   ]
  },
  {
   "cell_type": "code",
   "execution_count": 6,
   "metadata": {},
   "outputs": [
    {
     "name": "stdout",
     "output_type": "stream",
     "text": [
      "Writing somefile.txt\n"
     ]
    }
   ],
   "source": [
    "%%writefile somefile.txt\n",
    "Oh my text first line\n",
    "Super easy second line\n",
    "OH and third line is"
   ]
  },
  {
   "cell_type": "code",
   "execution_count": 23,
   "metadata": {},
   "outputs": [
    {
     "data": {
      "text/plain": [
       "'Oh my text first line\\nSuper easy second line\\nOH and third line is'"
      ]
     },
     "execution_count": 23,
     "metadata": {},
     "output_type": "execute_result"
    }
   ],
   "source": [
    "fin = open('somefile.txt')\n",
    "fin.read() # usually not that useful"
   ]
  },
  {
   "cell_type": "code",
   "execution_count": 8,
   "metadata": {},
   "outputs": [
    {
     "data": {
      "text/plain": [
       "''"
      ]
     },
     "execution_count": 8,
     "metadata": {},
     "output_type": "execute_result"
    }
   ],
   "source": [
    "fin.read() # what will happen ?"
   ]
  },
  {
   "cell_type": "code",
   "execution_count": 9,
   "metadata": {},
   "outputs": [
    {
     "data": {
      "text/plain": [
       "'text first line\\nSuper easy second line\\nOH and third line is'"
      ]
     },
     "execution_count": 9,
     "metadata": {},
     "output_type": "execute_result"
    }
   ],
   "source": [
    "fin.seek(6)\n",
    "fin.read()"
   ]
  },
  {
   "cell_type": "code",
   "execution_count": 10,
   "metadata": {},
   "outputs": [
    {
     "data": {
      "text/plain": [
       "['Oh my text first line\\n', 'Super easy second line\\n', 'OH and third line is']"
      ]
     },
     "execution_count": 10,
     "metadata": {},
     "output_type": "execute_result"
    }
   ],
   "source": [
    "fin.seek(0)\n",
    "mylines=fin.readlines()\n",
    "mylines"
   ]
  },
  {
   "cell_type": "code",
   "execution_count": 15,
   "metadata": {},
   "outputs": [
    {
     "name": "stdout",
     "output_type": "stream",
     "text": [
      "Oh my text first line\n",
      "\n",
      "'Oh my text first line\\n'\n"
     ]
    }
   ],
   "source": [
    "print(mylines[0])\n",
    "print(repr(mylines[0]))"
   ]
  },
  {
   "cell_type": "code",
   "execution_count": 11,
   "metadata": {},
   "outputs": [
    {
     "name": "stdout",
     "output_type": "stream",
     "text": [
      "My Line Is:Oh my text first line\n",
      "\n",
      "My Line Is:Super easy second line\n",
      "\n",
      "My Line Is:OH and third line is\n"
     ]
    }
   ],
   "source": [
    "for line in mylines:\n",
    "    print(f'My Line Is:{line}')"
   ]
  },
  {
   "cell_type": "code",
   "execution_count": 12,
   "metadata": {},
   "outputs": [
    {
     "name": "stdout",
     "output_type": "stream",
     "text": [
      "Oh my text first line\n",
      "Super easy second line\n",
      "OH and third line is"
     ]
    }
   ],
   "source": [
    "fin.seek(0)\n",
    "for line in fin:\n",
    "    print(line, end='')"
   ]
  },
  {
   "cell_type": "code",
   "execution_count": 16,
   "metadata": {},
   "outputs": [
    {
     "name": "stdout",
     "output_type": "stream",
     "text": [
      "Oh my text first line\n",
      "\n",
      "Super easy second line\n",
      "\n",
      "OH and third line is\n"
     ]
    }
   ],
   "source": [
    "for line  in mylines:\n",
    "    print(line)"
   ]
  },
  {
   "cell_type": "code",
   "execution_count": 19,
   "metadata": {},
   "outputs": [],
   "source": [
    "#close the file if you .open() it!!\n",
    "fin.close()"
   ]
  },
  {
   "cell_type": "markdown",
   "metadata": {},
   "source": [
    "## Use with open always! \n",
    "\n",
    "* closes automatically!\n",
    "* throws exceptions on errors"
   ]
  },
  {
   "cell_type": "code",
   "execution_count": 20,
   "metadata": {},
   "outputs": [
    {
     "name": "stdout",
     "output_type": "stream",
     "text": [
      "Oh my text first line\n",
      "\n",
      "Super easy second line\n",
      "\n",
      "OH and third line is\n",
      "t line\n",
      "Super easy second line\n",
      "OH and third line is\n",
      "file is closed already here\n"
     ]
    }
   ],
   "source": [
    "with open('somefile.txt') as fin:\n",
    "    for line in fin:\n",
    "        print(line)\n",
    "    fin.seek(15)\n",
    "    print(fin.read())\n",
    "print(\"file is closed already here\")\n",
    "#closes here!\n",
    "#closes automatically!!! "
   ]
  },
  {
   "cell_type": "markdown",
   "metadata": {},
   "source": [
    "## For MacOS and Linux\n",
    "* use pwd to see where you are\n",
    "### myfile = open(\"/Users/MyUserName/SomeFolder/MaybeAnotherFolder/myfile.txt\")"
   ]
  },
  {
   "cell_type": "markdown",
   "metadata": {},
   "source": [
    "## For Windows\n",
    "* use pwd to see where you are\n",
    "### myfile = open(\"C:\\\\Users\\\\MyUserName\\\\SomeFolder\\\\MaybeAnotherFolder\\\\myfile.txt\")"
   ]
  },
  {
   "cell_type": "code",
   "execution_count": 26,
   "metadata": {},
   "outputs": [
    {
     "data": {
      "text/plain": [
       "'C:\\\\Users\\\\vsd\\\\Documents\\\\Github\\\\RCS_Python'"
      ]
     },
     "execution_count": 26,
     "metadata": {},
     "output_type": "execute_result"
    }
   ],
   "source": [
    "pwd"
   ]
  },
  {
   "cell_type": "code",
   "execution_count": 24,
   "metadata": {},
   "outputs": [
    {
     "name": "stdout",
     "output_type": "stream",
     "text": [
      "Oh my text first line\n",
      "Super easy second line\n",
      "OH and third line is\n"
     ]
    }
   ],
   "source": [
    "\n",
    "with open('mytext.txt', mode='r') as fin:\n",
    "    cont = fin.read()\n",
    "print(cont)\n",
    "#?open"
   ]
  },
  {
   "cell_type": "code",
   "execution_count": 30,
   "metadata": {},
   "outputs": [],
   "source": [
    "#mode=w is write only and it deletes OLD file!!\n",
    "with open('numbers.txt', mode='w') as fout:\n",
    "    for n in range(1,10):\n",
    "        fout.write(f'The number is {n*2} \\n')\n",
    "        #fout.write(f'The number is {n}') # diferences between \\n and no \\n\n",
    "        "
   ]
  },
  {
   "cell_type": "code",
   "execution_count": 31,
   "metadata": {},
   "outputs": [
    {
     "name": "stdout",
     "output_type": "stream",
     "text": [
      "['The number is 2 \\n', 'The number is 4 \\n', 'The number is 6 \\n', 'The number is 8 \\n', 'The number is 10 \\n', 'The number is 12 \\n', 'The number is 14 \\n', 'The number is 16 \\n', 'The number is 18 \\n']\n"
     ]
    }
   ],
   "source": [
    "with open('numbers.txt') as fin:\n",
    "    print(fin.readlines())"
   ]
  },
  {
   "cell_type": "code",
   "execution_count": 32,
   "metadata": {},
   "outputs": [
    {
     "name": "stdout",
     "output_type": "stream",
     "text": [
      "The number is 2 \n",
      "The number is 4 \n",
      "The number is 6 \n",
      "The number is 8 \n",
      "The number is 10 \n",
      "The number is 12 \n",
      "The number is 14 \n",
      "The number is 16 \n",
      "The number is 18 \n"
     ]
    }
   ],
   "source": [
    "with open('numbers.txt', mode='r') as fin:\n",
    "    for line in fin:\n",
    "        print(line, end=\"\")"
   ]
  },
  {
   "cell_type": "code",
   "execution_count": 40,
   "metadata": {},
   "outputs": [],
   "source": [
    "with open('numbers.txt', mode='a') as fin:\n",
    "    fin.seek(2)\n",
    "    fin.write(\"This might not be the end\")"
   ]
  },
  {
   "cell_type": "code",
   "execution_count": 41,
   "metadata": {},
   "outputs": [
    {
     "name": "stdout",
     "output_type": "stream",
     "text": [
      "The number is 2 \n",
      "The number is 4 \n",
      "The number is 6 \n",
      "The number is 8 \n",
      "The number is 10 \n",
      "The number is 12 \n",
      "The number is 14 \n",
      "The number is 16 \n",
      "The number is 18 \n",
      "This is the end!This might not be the endThis might not be the end\n"
     ]
    }
   ],
   "source": [
    "with open('numbers.txt') as f:\n",
    "    print(f.read())"
   ]
  },
  {
   "cell_type": "code",
   "execution_count": null,
   "metadata": {},
   "outputs": [],
   "source": [
    "# %load numbers.txt\n",
    "The number is 2 \n",
    "The number is 4 \n",
    "The number is 6 \n",
    "The number is 8 \n",
    "The number is 10 \n",
    "The number is 12 \n",
    "The number is 14 \n",
    "The number is 16 \n",
    "The number is 18 \n",
    "This is the end!"
   ]
  },
  {
   "cell_type": "code",
   "execution_count": 39,
   "metadata": {},
   "outputs": [],
   "source": [
    "# Generally Preferably to read and write separately - VS"
   ]
  },
  {
   "cell_type": "markdown",
   "metadata": {},
   "source": [
    "### Modes:\n",
    "  *  mode='r' - Read Only\n",
    "  * 'w' - Write Only (and will overwrite existing files!!!)\n",
    "  * 'a' - Apend Only (stream is at the end of file!)\n",
    "  * 'r+' - Read and Write\n",
    "  * 'w+' - Write and Read with Overwriting existing/make new files\n",
    "  \n",
    "  From C (fopen)\n",
    "   * ``r+''  Open for reading and writing.  The stream is positioned at the\n",
    "         beginning of the file.\n",
    "         \n",
    "    *   ``w+''  Open for reading and writing.  The file is created if it does not\n",
    "         exist, otherwise it is truncated(**destroyed!**).  The stream is positioned at\n",
    "         the beginning of the file.    "
   ]
  },
  {
   "cell_type": "code",
   "execution_count": null,
   "metadata": {},
   "outputs": [],
   "source": [
    "## Homework\n",
    "## Write function which writes Fizzbuzz 1 to 100 (5,7) to file fizzbuzz.txt\n",
    "## Format example:\n",
    "## 1: 1\n",
    "## 2: 2\n",
    "## 5: Fizz\n",
    "## 6: 6\n",
    "## 7: Buzz\n",
    "#... 35: FizzBuzz"
   ]
  }
 ],
 "metadata": {
  "kernelspec": {
   "display_name": "Python 3",
   "language": "python",
   "name": "python3"
  },
  "language_info": {
   "codemirror_mode": {
    "name": "ipython",
    "version": 3
   },
   "file_extension": ".py",
   "mimetype": "text/x-python",
   "name": "python",
   "nbconvert_exporter": "python",
   "pygments_lexer": "ipython3",
   "version": "3.6.4"
  }
 },
 "nbformat": 4,
 "nbformat_minor": 2
}
