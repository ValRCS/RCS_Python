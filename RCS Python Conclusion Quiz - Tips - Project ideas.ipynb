{
 "cells": [
  {
   "cell_type": "markdown",
   "metadata": {},
   "source": [
    "# RCS Python Conclusion Quiz / Tips / Project ideas"
   ]
  },
  {
   "cell_type": "code",
   "execution_count": null,
   "metadata": {},
   "outputs": [],
   "source": [
    "# Open book quiz / Google is allowed ;)"
   ]
  },
  {
   "cell_type": "markdown",
   "metadata": {},
   "source": [
    "## 1. Write an ordinal function, given a positive number it returns an ordinal version of this number\n",
    "\n",
    "### Refresher on ordinal numbers in English: https://www.mathsisfun.com/numbers/cardinal-ordinal-chart.html"
   ]
  },
  {
   "cell_type": "code",
   "execution_count": 62,
   "metadata": {},
   "outputs": [
    {
     "name": "stdout",
     "output_type": "stream",
     "text": [
      "  1: None\n",
      "  2: None\n",
      "  3: None\n",
      "  4: None\n",
      "  5: None\n",
      "  6: None\n",
      "  7: None\n",
      "  8: None\n",
      "  9: None\n",
      " 10: None\n",
      " 11: None\n",
      " 99: None\n",
      "100: None\n",
      "101: None\n",
      "102: None\n",
      "103: None\n",
      "104: None\n",
      "105: None\n",
      "106: None\n",
      "107: None\n",
      "108: None\n",
      "109: None\n",
      "110: None\n",
      "111: None\n",
      "112: None\n",
      "113: None\n",
      "114: None\n",
      "115: None\n",
      "116: None\n",
      "117: None\n",
      "118: None\n",
      "119: None\n",
      "120: None\n",
      "121: None\n",
      "122: None\n",
      "123: None\n"
     ]
    }
   ],
   "source": [
    "def ordinal(num):\n",
    "    return None # return the correct number here as string\n",
    "# Test\n",
    "for n in list(range(1,12))+list(range(99,124)):\n",
    "    print (f'{n:3}: {ordinal(n)}')\n"
   ]
  },
  {
   "cell_type": "code",
   "execution_count": null,
   "metadata": {},
   "outputs": [],
   "source": []
  },
  {
   "cell_type": "markdown",
   "metadata": {},
   "source": [
    "## 2. Print current date - must work for all dates from now on\n",
    "\n",
    "Expected Format: \n",
    "    \n",
    "**Today's Date is 25th of July, 2018, Wednesday**\n",
    "\n",
    "Hint: https://docs.python.org/3/library/datetime.html is enough, but a bit wordy\n",
    "\n",
    "You are welcome to use other resources including https://docs.python.org/3/library/calendar.html"
   ]
  },
  {
   "cell_type": "code",
   "execution_count": 6,
   "metadata": {},
   "outputs": [],
   "source": [
    "def printcurrentdate():\n",
    "    pass # Replace with your code\n",
    "printcurrentdate()"
   ]
  },
  {
   "cell_type": "markdown",
   "metadata": {},
   "source": [
    "## 3.Modify printcurrentdate into printtime function which allows a single parameter with a default value of 0\n"
   ]
  },
  {
   "cell_type": "code",
   "execution_count": 58,
   "metadata": {},
   "outputs": [],
   "source": [
    "def printtime(delta=0):\n",
    "    pass # Replace with your code\n",
    "printtime(0)\n",
    "printtime(6)\n",
    "printtime(-13)\n",
    "# Date 0 days from now is 25th of July, 2018, Wednesday\n",
    "# Date 6 days from now will be 31st of July, 2018, Tuesday\n",
    "# Date -13 days from now was 12th of July, 2018, Thursday\n",
    "\n"
   ]
  },
  {
   "cell_type": "markdown",
   "metadata": {},
   "source": [
    "##  4. Dessert\n",
    "* print 10 consequitive dates, 1000 days from now\n",
    "* print 10 dates going backwards two days at a time starting with 365 days ago\n"
   ]
  },
  {
   "cell_type": "markdown",
   "metadata": {},
   "source": [
    "## Small project ideas:\n",
    "   * Calculator using the eval() function\n",
    "   * Is a year leap? Do research on how to find that out and implement the math into Python!\n",
    "   * Find out if a number is in the Fibonacci sequence.\n",
    "   * I call this Character Check. Ask for the user to enter a string. Then find the string by checking one letter at a time. For example, for ‘hi’, you will take the first letter and check if it is a, b, c, d, etc until you find the correct one and move on to the second letter.\n",
    "   * Number guessing game\n",
    "   * Hangman\n",
    "   * Something like BruteForce. Give a string or a list of numbers/letters and find all the possible combinations in the most efficient way\n",
    "   * Using the shutil and os modules, make a program that organizes the files in a specified directory.\n",
    "   * Web Scraping using BeautifulSoup. Get news headlines, weather, your location and more!\n",
    "   * Send an email using smtplib. Combine it with the previous program and send the news headlines to your father every day! Put it in a loop to spam emails to your friends!\n",
    "   * Experiment with YouTube_DL and integrate it into a Python program to download videos from various websites.\n",
    "   \n",
    "   \n",
    "  Source: https://www.quora.com/What-are-small-projects-to-build-for-a-beginner-in-Python Stavros Michalovits\n",
    "  \n",
    "  Youtube-dl is fantastic btw: https://rg3.github.io/youtube-dl/\n",
    "  \n",
    " Solve some Project Euler(first 10 should be doable):\n",
    " https://projecteuler.net/archives\n",
    " \n",
    " More ideas in automating the boring stuff with Python: https://automatetheboringstuff.com/#toc\n",
    " \n",
    " \n"
   ]
  }
 ],
 "metadata": {
  "kernelspec": {
   "display_name": "Python 3",
   "language": "python",
   "name": "python3"
  },
  "language_info": {
   "codemirror_mode": {
    "name": "ipython",
    "version": 3
   },
   "file_extension": ".py",
   "mimetype": "text/x-python",
   "name": "python",
   "nbconvert_exporter": "python",
   "pygments_lexer": "ipython3",
   "version": "3.6.4"
  }
 },
 "nbformat": 4,
 "nbformat_minor": 2
}
