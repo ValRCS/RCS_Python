{
 "cells": [
  {
   "cell_type": "code",
   "execution_count": null,
   "metadata": {},
   "outputs": [],
   "source": [
    "txt = \"\"\"Laiks ātrāki steidzas kā vagona rats, Nes sāpes, nes priekus, kā kuram. \n",
    "Man uzklausāt, biedri, man dievīga acs, Man zinību vairāk kā buram. \n",
    "Te pasaulē cilvēku milzīgais bars Ar mūžīgām rūpēm vien kaujas, \n",
    "Caur rūpēm tik retam mirdz laimības stars, Un kapā grimst cerības straujās. \n",
    "Un izrādās galā, ka viss bijis nieks, Ko cerību pilns tu reiz krājis, \n",
    "Ka darbs, ko te strādājis, – muļķīgs un lieks, Viss beidzies un postā tik gājis. Tad atdariet acis un skatāties, rau! \n",
    "Bez rimšanas izkapti trītu Skrien nāve starp dzīvajiem; ķīlu tev nav, Ka nemirsi šodien vai rītu. \n",
    "Vēl diena ir gaiša, vēl ziedoņa laiks, Lai iedzeram, sen jau mums slāpes! \n",
    "Un dzersim, līdz kapsētas dzīvoklis baigs Mums aiztaupīs paģiru sāpes. \n",
    "Lai nedomā cilvēks, ka otrs ir slikts, Ikkatram gods vienāds ir debesīs likts; \n",
    "Tik debesu vara virs pasaules spriež, Gan slavenus dara, gan neslavā sviež. \n",
    "Lai apdomā cilvēks, mums mūža laiks īss, Kas dzīvojot nīdies, lai saderas drīz. \n",
    "Cik daudz nav tādu, kas draudzību lauž Un mierā tik dodas, zem smiltīm kad snauž. \n",
    "Viens otru par muļķi, par nekrietnu sauc, Kas gudris, kas labs, to nezin neviens: Pa tumsību domas un spriedumi brauc, Un gals ir ikkatram tik ievadījiens. Kas zin, vai prātīgāks nava tas vīrs, Kas ierasto mēru pie lietām tik liek: Viss dabā ir sajaukts, nekas tur nav tīrs, Ar paviršu lielumu mērīts viss tiek. Pie zemes mūs mūžīgais smagums sien klāt, Un augstāk mēs tiekam tik stutēdamies: Var tūkstošreiz prātu vēl nogurdināt, Es šaubos, vai pāri par dabu tas ies. Tik muļķi var ticēt; kam prāts ir, tas zin, Ka blēņas ir viss, ko bez domām min. Tik muļķis var mīlēt, jo prātīgais redz, Ka katris tik sevi vien mīlēt mēdz.\n",
    "\"\"\"\n",
    "\n"
   ]
  },
  {
   "cell_type": "code",
   "execution_count": 9,
   "metadata": {},
   "outputs": [],
   "source": [
    "# Generate a dictionary of word frequency\n",
    "mydict = {\"Valdis\":0}\n",
    "#Capitalization is NOT important!\n"
   ]
  },
  {
   "cell_type": "code",
   "execution_count": 11,
   "metadata": {},
   "outputs": [],
   "source": [
    "frequent = \"Valdis\""
   ]
  },
  {
   "cell_type": "code",
   "execution_count": 12,
   "metadata": {},
   "outputs": [
    {
     "data": {
      "text/plain": [
       "0"
      ]
     },
     "execution_count": 12,
     "metadata": {},
     "output_type": "execute_result"
    }
   ],
   "source": [
    "mydict[frequent]"
   ]
  },
  {
   "cell_type": "code",
   "execution_count": null,
   "metadata": {},
   "outputs": [],
   "source": []
  },
  {
   "cell_type": "code",
   "execution_count": 4,
   "metadata": {},
   "outputs": [
    {
     "data": {
      "text/plain": [
       "('VALDIS', 'Valdis', 'valdis')"
      ]
     },
     "execution_count": 4,
     "metadata": {},
     "output_type": "execute_result"
    }
   ],
   "source": [
    "\"valdis\".upper(),\"vaLDis\".title(),\"Valdis\".lower()\n"
   ]
  },
  {
   "cell_type": "code",
   "execution_count": 5,
   "metadata": {},
   "outputs": [
    {
     "data": {
      "text/plain": [
       "'VASUPIS'"
      ]
     },
     "execution_count": 5,
     "metadata": {},
     "output_type": "execute_result"
    }
   ],
   "source": [
    "# use split, replace\n",
    "\"VALDIS\".replace('LD', 'SUP')"
   ]
  }
 ],
 "metadata": {
  "kernelspec": {
   "display_name": "Python 3",
   "language": "python",
   "name": "python3"
  },
  "language_info": {
   "codemirror_mode": {
    "name": "ipython",
    "version": 3
   },
   "file_extension": ".py",
   "mimetype": "text/x-python",
   "name": "python",
   "nbconvert_exporter": "python",
   "pygments_lexer": "ipython3",
   "version": "3.6.4"
  }
 },
 "nbformat": 4,
 "nbformat_minor": 2
}
