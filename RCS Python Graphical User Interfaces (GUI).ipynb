{
 "cells": [
  {
   "cell_type": "markdown",
   "metadata": {},
   "source": [
    "<h1><center>RCS Python Graphical User Interfaces (GUI)</center></h1>"
   ]
  },
  {
   "cell_type": "markdown",
   "metadata": {},
   "source": [
    "## History:\n",
    "    \n",
    "   * Ivan Sutherland's Sketchpad(1962) - https://www.youtube.com/watch?v=USyoT_Ha_bA\n",
    "   * Donald Engalbart - Mother of all Demos (1968) - video chat / mouse\n",
    "   * Xerox Alto 1970s - first computer with built in support for GUI\n",
    "   * 1980s - Apple Lisa, Macintosh, Microsoft Windows, Unix X Windows, Next NextStep\n"
   ]
  },
  {
   "cell_type": "code",
   "execution_count": null,
   "metadata": {},
   "outputs": [],
   "source": []
  },
  {
   "cell_type": "code",
   "execution_count": null,
   "metadata": {},
   "outputs": [],
   "source": [
    "### Challenge: Find a regular computer user  who uses command line regularly, without external advice from IT person"
   ]
  },
  {
   "cell_type": "markdown",
   "metadata": {},
   "source": [
    "## Tkinter the standard Python GUI library\n",
    "http://infohost.nmt.edu/tcc/help/pubs/tkinter/web/index.html"
   ]
  },
  {
   "cell_type": "code",
   "execution_count": 4,
   "metadata": {},
   "outputs": [],
   "source": [
    "import tkinter as tk"
   ]
  },
  {
   "cell_type": "code",
   "execution_count": 1,
   "metadata": {},
   "outputs": [
    {
     "name": "stdout",
     "output_type": "stream",
     "text": [
      "Overwriting tkapp.py\n"
     ]
    }
   ],
   "source": [
    "%%writefile tkapp.py\n",
    "import tkinter as tk\n",
    "class App(tk.Frame):\n",
    "    def __init__(self, master=None):\n",
    "        tk.Frame.__init__(self,master)\n",
    "        self.grid()\n",
    "        self.createWidgets()\n",
    "    \n",
    "    def createWidgets(self):\n",
    "        self.quitButton = tk.Button(self, text='Quit', command=self.quit)\n",
    "        self.quitButton.grid()\n",
    "\n",
    "def main():\n",
    "    app = App()\n",
    "    app.master.title('My First Tkinter App')\n",
    "    app.mainloop()\n",
    "\n",
    "if __name__ == \"__main__\":\n",
    "    print(f'Running Main App')\n",
    "    main()"
   ]
  },
  {
   "cell_type": "code",
   "execution_count": null,
   "metadata": {},
   "outputs": [],
   "source": []
  },
  {
   "cell_type": "code",
   "execution_count": 6,
   "metadata": {},
   "outputs": [],
   "source": [
    "## This would be better suited for running from console or VS Code! Jupyter is not well suited for running external GUI apps\n",
    "main()"
   ]
  },
  {
   "cell_type": "markdown",
   "metadata": {},
   "source": [
    "## GUI definitions\n",
    "\n",
    "* **window** -\n",
    "\n",
    "This term has different meanings in different contexts, but in general it refers to a rectangular area somewhere on your display screen.\n",
    "\n",
    "\n",
    "* **top-level window**\n",
    "\n",
    "A window that exists independently on your screen. It will be decorated with the standard frame and controls for your system's desktop man\n",
    "ager. You can move it around on your desktop. You can generally resize it, although your application can prevent this\n",
    "\n",
    "\n",
    "* **widget**\n",
    "\n",
    "The generic term for any of the building blocks that make up an application in a graphical user interface. Examples of widgets: buttons, radiobuttons, text fields, frames, and text labels.\n",
    "\n",
    "\n",
    "* **frame**\n",
    "\n",
    "In Tkinter, the Frame widget is the basic unit of organization for complex layouts. A frame is a rectangular area that can contain other widgets.\n",
    "\n",
    "\n",
    "* **child, parent**\n",
    "\n",
    "When any widget is created, a parent-child relationship is created. For example, if you place a text label inside a frame, the frame is the parent of the label."
   ]
  },
  {
   "cell_type": "markdown",
   "metadata": {},
   "source": [
    "## Layout managementLater \n",
    "\n",
    "#### How do widgets the building blocks of your app get arranged in a window?\n",
    "\n",
    "\n",
    "Although there are three different “geometry managers” in Tkinter, .grid() geometry manager for pretty much everything is preffered. This manager treats every window or frame as a table—a gridwork of rows and columns.\n",
    "\n",
    "\n",
    "* A cell is the area at the intersection of one row and one column.\n",
    "\n",
    "* The width of each column is the width of the widest cell in that column.\n",
    "\n",
    "* The height of each row is the height of the largest cell in that row.\n",
    "\n",
    "* For widgets that do not fill the entire cell, you can specify what happens to the extra space. You can either leave the extra space outside the widget, or stretch the widget to fit it, in either the horizontal or vertical dimension.\n",
    "\n",
    "* You can combine multiple cells into one larger area, a process called spanning.\n",
    "\n",
    "\n",
    "When you create a widget, it does not appear until you register it with a geometry manager. Hence, construction and placing of a widget is a two-step process that goes something like this:\n",
    "\n",
    "    self.thing = tk.Constructor(parent, ...)\n",
    "    self.thing.grid(...)`\n",
    "    \n",
    "where Constructor is one of the widget classes like Button, Frame, and so on, and parent is the parent widget in which this child widget is being constructed. All widgets have a .grid() method that you can use to tell the geometry manager where to put it."
   ]
  },
  {
   "cell_type": "markdown",
   "metadata": {},
   "source": [
    "1.\tButton\n",
    "The Button widget is used to display buttons in your application.\n",
    "\n",
    "2.\tCanvas\n",
    "The Canvas widget is used to draw shapes, such as lines, ovals, polygons and rectangles, in your application.\n",
    "\n",
    "3.\tCheckbutton\n",
    "The Checkbutton widget is used to display a number of options as checkboxes. The user can select multiple options at a time.\n",
    "\n",
    "4.\tEntry\n",
    "The Entry widget is used to display a single-line text field for accepting values from a user.\n",
    "\n",
    "5.\tFrame\n",
    "The Frame widget is used as a container widget to organize other widgets.\n",
    "\n",
    "6.\tLabel\n",
    "The Label widget is used to provide a single-line caption for other widgets. It can also contain images.\n",
    "\n",
    "7.\tListbox\n",
    "The Listbox widget is used to provide a list of options to a user.\n",
    "\n",
    "8.\tMenubutton\n",
    "The Menubutton widget is used to display menus in your application.\n",
    "\n",
    "9.\tMenu\n",
    "The Menu widget is used to provide various commands to a user. These commands are contained inside Menubutton.\n",
    "\n",
    "10.\tMessage\n",
    "The Message widget is used to display multiline text fields for accepting values from a user.\n",
    "\n",
    "11.\tRadiobutton\n",
    "The Radiobutton widget is used to display a number of options as radio buttons. The user can select only one option at a time.\n",
    "\n",
    "12.\tScale\n",
    "The Scale widget is used to provide a slider widget.\n",
    "\n",
    "13.\tScrollbar\n",
    "The Scrollbar widget is used to add scrolling capability to various widgets, such as list boxes.\n",
    "\n",
    "14.\tText\n",
    "The Text widget is used to display text in multiple lines.\n",
    "\n",
    "15.\tToplevel\n",
    "The Toplevel widget is used to provide a separate window container.\n",
    "\n",
    "16.\tSpinbox\n",
    "The Spinbox widget is a variant of the standard Tkinter Entry widget, which can be used to select from a fixed number of values.\n",
    "\n",
    "17.\tPanedWindow\n",
    "A PanedWindow is a container widget that may contain any number of panes, arranged horizontally or vertically.\n",
    "\n",
    "18.\tLabelFrame\n",
    "A labelframe is a simple container widget. Its primary purpose is to act as a spacer or container for complex window layouts.\n",
    "\n"
   ]
  },
  {
   "cell_type": "code",
   "execution_count": 3,
   "metadata": {},
   "outputs": [
    {
     "name": "stdout",
     "output_type": "stream",
     "text": [
      "Overwriting tkapp.py\n"
     ]
    }
   ],
   "source": [
    "%%writefile tkapp.py\n",
    "import tkinter as tk\n",
    "from tkinter import messagebox\n",
    "\n",
    "class App(tk.Frame):\n",
    "    \n",
    "\n",
    "    def __init__(self, master=None):\n",
    "        self._msgLabel=\"\"\n",
    "        tk.Frame.__init__(self,master)\n",
    "        self.grid()\n",
    "        self.createTopMenu()\n",
    "        self.createWidgets()\n",
    "    \n",
    "    def createTopMenu(self):\n",
    "        top = self.winfo_toplevel()\n",
    "        self.menuBar = tk.Menu(top)\n",
    "        top['menu'] = self.menuBar\n",
    "\n",
    "        self.subMenu = tk.Menu(self.menuBar)\n",
    "        self.menuBar.add_cascade(label='Help', menu=self.subMenu)\n",
    "        self.subMenu.add_command(label='Hello there!', command=self.hello)\n",
    "        self.subMenu.add_command(label='Quit!', command=self.quit)\n",
    "        #You must use the .add_cascade() method for all the items you want on the top menu bar. Calls to .add_checkbutton(), .add_command(), or .add_radiobutton() will be ignored.\n",
    "\n",
    "    \n",
    "    def createWidgets(self):\n",
    "        self.quitButton = tk.Button(self, text='Quit', command=self.quit)\n",
    "        self.quitButton.grid()\n",
    "        self.msgBox = tk.Label(self, text=\"Oh my msgBox\")\n",
    "        self.msgBox.grid(row=1) # need to run grid placement on new line to preserve Label object\n",
    "        #print(type(self.msgBox))\n",
    "\n",
    "\n",
    "    def hello(self):\n",
    "        print('Oh hello there!')\n",
    "        messagebox.showinfo('Msg Title', 'Hello there indeed!')\n",
    "        self._msgLabel=\"Hello Label active\"\n",
    "        self.msgBox['text']='Hello was activated'\n",
    "        print(type(self.msgBox))\n",
    "        #self.msgBox.configure(text='Hello was activated')\n",
    "        \n",
    "\n",
    "def main():\n",
    "    app = App()\n",
    "    app.master.title('My Tkinter App')\n",
    "    app.mainloop()\n",
    "\n",
    "if __name__ == \"__main__\":\n",
    "    print(f'Running Main App')\n",
    "    main()"
   ]
  },
  {
   "cell_type": "markdown",
   "metadata": {},
   "source": [
    "## tkinter minuses\n",
    "\n",
    "* limited widget toolkit\n",
    "* have to do most things by hand(ie place widgets)\n",
    "\n",
    "Some graphical builders do exist but quite limited: https://github.com/alejandroautalan/pygubu\n",
    "\n",
    "Funny, a highschool command made a racer game using tkinter: https://www.reddit.com/r/Python/comments/8mhzzq/we_are_programming_a_game_in_tkinter_70done_and/\n",
    "Not recommended but it can be done!"
   ]
  },
  {
   "cell_type": "markdown",
   "metadata": {},
   "source": [
    "## QT\n",
    "\n",
    "Qt is used for developing graphical user interfaces (GUIs) and multi-platform applications that run on all major desktop platforms and most mobile or embedded platforms.\n",
    "\n",
    "* since 1995, initially by Nokia\n",
    "* open source\n",
    "* wide platform support Linux,Windows,MacOS,ioS,Android,etc"
   ]
  },
  {
   "cell_type": "code",
   "execution_count": null,
   "metadata": {},
   "outputs": [],
   "source": []
  },
  {
   "cell_type": "markdown",
   "metadata": {},
   "source": [
    "## PyQT5 \n",
    "\n",
    "* Python wrapper/bindings for QT\n",
    "\n",
    "* already included in Anaconda\n",
    "* widely used and supported\n",
    "* QTDesigner makes designing UIs quick and painless\n",
    "* - expensive licence if you want to make your program commercial closed source\n",
    "* might be a potential problem with bundling QT in a single file app"
   ]
  },
  {
   "cell_type": "code",
   "execution_count": null,
   "metadata": {},
   "outputs": [],
   "source": [
    "## More on bundling QT https://wiki.python.org/moin/PyQt/Deploying_PyQt_Applications"
   ]
  },
  {
   "cell_type": "code",
   "execution_count": 4,
   "metadata": {},
   "outputs": [
    {
     "name": "stdout",
     "output_type": "stream",
     "text": [
      "Overwriting qt.py\n"
     ]
    }
   ],
   "source": [
    "%%writefile qt.py\n",
    "import sys\n",
    "from PyQt5.QtWidgets import QApplication, QWidget\n",
    "\n",
    "def main():\n",
    "    app = QApplication(sys.argv) #here we use optional command line arguments directly without argparse\n",
    "\n",
    "    w = QWidget()\n",
    "    w.resize(300, 200) # initial size\n",
    "    w.move(100,200) # just move to a specific space on screen\n",
    "    w.setWindowTitle('First QT App')\n",
    "    w.show()\n",
    "\n",
    "    sys.exit(app.exec_())\n",
    "\n",
    "if __name__ == '__main__':\n",
    "    main()\n"
   ]
  },
  {
   "cell_type": "code",
   "execution_count": 5,
   "metadata": {
    "scrolled": true
   },
   "outputs": [
    {
     "name": "stdout",
     "output_type": "stream",
     "text": [
      "Overwriting qtui.py\n"
     ]
    }
   ],
   "source": [
    "%%writefile qtui.py\n",
    "import sys\n",
    "import os\n",
    "from PyQt5.QtWidgets import QApplication, QWidget\n",
    "from PyQt5.QtGui import QIcon\n",
    "from PyQt5 import uic\n",
    "\n",
    "# I created main.ui in QTDesigner found in ProgramData/Anaconda3/Library/bin on Windows\n",
    "uifile = os.path.join(os.getcwd(), 'UI', 'main.ui') \n",
    "print(uifile)\n",
    "form, base = uic.loadUiType(uifile)\n",
    "\n",
    "class Example(base, form):\n",
    "    def __init__(self):\n",
    "        super(base,self).__init__()\n",
    "        self.setupUi(self)\n",
    "        self.actionQuit.triggered.connect(self.actionQuit_slot)\n",
    "        self.radioButton_2.toggled.connect(self.radioButton_2_slot)\n",
    "        self.horizontalSlider.valueChanged.connect(self.valuechange_slot)\n",
    "        #.valueChanged.connect(self.valuechange)\n",
    "\n",
    "    def actionQuit_slot(self):\n",
    "        print('Going to Quit Seriously!')\n",
    "        sys.exit(app.exec_())\n",
    "\n",
    "    def radioButton_2_slot(self): #Notice how it also works when connected Radio Button 1 is toggled!\n",
    "        print('Radio Button Toggled!')\n",
    "\n",
    "    def valuechange_slot(self):\n",
    "        print(f'Slider Value: {self.horizontalSlider.value()}')\n",
    "        self.mysliderLabel.setText(f'Slider Value: {self.horizontalSlider.value()}')\n",
    "\n",
    "\n",
    "if __name__ == '__main__':\n",
    "    print('Starting qtui')\n",
    "    app = QApplication(sys.argv)\n",
    "    mpage = Example()\n",
    "    mpage.show()\n",
    "    sys.exit(app.exec_())\n",
    "\n"
   ]
  },
  {
   "cell_type": "markdown",
   "metadata": {},
   "source": [
    "## More info: http://pyqt.sourceforge.net/Docs/PyQt5/index.html"
   ]
  },
  {
   "cell_type": "markdown",
   "metadata": {},
   "source": [
    "### Serious alternative to PyQT5 is PySides which is supposed to come standard with Python some day.\n",
    "https://wiki.qt.io/Qt_for_Python\n",
    "\n",
    "### Main difference is the licensing: \"Qt for Python will be available under GPL, LGPL and commercial license. \"\n",
    "\n",
    "This means easier bundling of PySides applications in commercial projects."
   ]
  },
  {
   "cell_type": "code",
   "execution_count": null,
   "metadata": {},
   "outputs": [],
   "source": []
  },
  {
   "cell_type": "markdown",
   "metadata": {},
   "source": [
    "# July 2018 Update on PySides\n",
    "http://blog.qt.io/blog/2018/07/17/qt-python-available-pypi/\n",
    "\n",
    "So simple **pip install PySide2** should work"
   ]
  }
 ],
 "metadata": {
  "kernelspec": {
   "display_name": "Python 3",
   "language": "python",
   "name": "python3"
  },
  "language_info": {
   "codemirror_mode": {
    "name": "ipython",
    "version": 3
   },
   "file_extension": ".py",
   "mimetype": "text/x-python",
   "name": "python",
   "nbconvert_exporter": "python",
   "pygments_lexer": "ipython3",
   "version": "3.6.4"
  }
 },
 "nbformat": 4,
 "nbformat_minor": 2
}
