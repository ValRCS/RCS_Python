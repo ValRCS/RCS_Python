{
 "cells": [
  {
   "cell_type": "markdown",
   "metadata": {},
   "source": [
    "## RCS Python Sending E-mail"
   ]
  },
  {
   "cell_type": "code",
   "execution_count": null,
   "metadata": {},
   "outputs": [],
   "source": [
    "##  official way through SMTP from official docs: https://docs.python.org/3/library/email.examples.html"
   ]
  },
  {
   "cell_type": "code",
   "execution_count": null,
   "metadata": {},
   "outputs": [],
   "source": [
    "# Import smtplib for the actual sending function\n",
    "import smtplib\n",
    "\n",
    "# Import the email modules we'll need\n",
    "from email.message import EmailMessage\n",
    "\n",
    "textfile='ourmessage.txt'\n",
    "# Open the plain text file whose name is in textfile for reading.\n",
    "with open(textfile) as fp:\n",
    "    # Create a text/plain message\n",
    "    msg = EmailMessage()\n",
    "    msg.set_content(fp.read())\n",
    "\n",
    "# me == the sender's email address\n",
    "# you == the recipient's email address\n",
    "msg['Subject'] = 'The contents of %s' % textfile\n",
    "msg['From'] = me\n",
    "msg['To'] = you\n",
    "\n",
    "# Send the message via our own SMTP server.\n",
    "s = smtplib.SMTP('localhost')\n",
    "s.send_mess"
   ]
  },
  {
   "cell_type": "code",
   "execution_count": null,
   "metadata": {},
   "outputs": [],
   "source": [
    "# the problem arises with authorisation in that many providers including Google's Gmail are starting to really restrict simple SMTP sending"
   ]
  },
  {
   "cell_type": "code",
   "execution_count": null,
   "metadata": {},
   "outputs": [],
   "source": [
    "import smtplib\n",
    " \n",
    "server = smtplib.SMTP('smtp.gmail.com', 587)\n",
    "server.starttls()\n",
    "server.login(\"youremail@gmail.com\", \"yourpw\")\n",
    " \n",
    "msg = \"Test YOUR MESSAGE!\"\n",
    "server.sendmail(\"youremail@gmail.com\", \"receiver@gmail.com\", msg)\n",
    "server.quit()\n"
   ]
  },
  {
   "cell_type": "code",
   "execution_count": null,
   "metadata": {},
   "outputs": [],
   "source": [
    "## it is a bit more complicated to send a complete email with subject\n"
   ]
  },
  {
   "cell_type": "code",
   "execution_count": null,
   "metadata": {},
   "outputs": [],
   "source": [
    "import smtplib\n",
    "from email.MIMEMultipart import MIMEMultipart\n",
    "from email.MIMEText import MIMEText\n",
    " \n",
    " \n",
    "fromaddr = \"YOUR ADDRESS\"\n",
    "toaddr = \"ADDRESS YOU WANT TO SEND TO\"\n",
    "msg = MIMEMultipart()\n",
    "msg['From'] = fromaddr\n",
    "msg['To'] = toaddr\n",
    "msg['Subject'] = \"SUBJECT OF THE MAIL\"\n",
    " \n",
    "body = \"YOUR MESSAGE HERE\"\n",
    "msg.attach(MIMEText(body, 'plain'))\n",
    " \n",
    "server = smtplib.SMTP('smtp.gmail.com', 587)\n",
    "server.starttls()\n",
    "server.login(fromaddr, \"YOUR PASSWORD\")\n",
    "text = msg.as_string()\n",
    "server.sendmail(fromaddr, toaddr, text)\n",
    "server.quit()"
   ]
  },
  {
   "cell_type": "markdown",
   "metadata": {},
   "source": [
    "## The new recommended way to send Gmail email is with Oauth\n",
    "\n",
    "https://stackoverflow.com/questions/37201250/sending-email-via-gmail-python\n",
    "\n",
    "requires installing google api python client *sigh"
   ]
  },
  {
   "cell_type": "code",
   "execution_count": null,
   "metadata": {},
   "outputs": [],
   "source": [
    "SMTP_SERVER = 'smtp.gmail.com'\n",
    "FROM_EMAIL = 'youremail@gmail.com'\n",
    "FROM_PWD = 'yourpw'"
   ]
  },
  {
   "cell_type": "code",
   "execution_count": null,
   "metadata": {},
   "outputs": [],
   "source": [
    "import smtplib\n",
    "import time\n",
    "import imaplib\n",
    "import email\n",
    "\n",
    "# -------------------------------------------------\n",
    "#\n",
    "# Utility to read email from Gmail Using Python\n",
    "#\n",
    "# ------------------------------------------------\n",
    "\n",
    "def read_email_from_gmail():\n",
    "    try:\n",
    "        mail = imaplib.IMAP4_SSL(SMTP_SERVER)\n",
    "        mail.login(FROM_EMAIL,FROM_PWD)\n",
    "        mail.select('inbox')\n",
    "\n",
    "        type, data = mail.search(None, 'ALL')\n",
    "        \n",
    "        if type != 'OK':\n",
    "            print(\"No messages found!\")\n",
    "            return\n",
    "        mail_ids = data[0]\n",
    "        print(len(mail_ids))\n",
    "        \n",
    "\n",
    "\n",
    "        id_list = mail_ids.split()   \n",
    "        first_email_id = int(id_list[0])\n",
    "        latest_email_id = int(id_list[10])\n",
    "#         latest_email_id = int(id_list[-1])\n",
    "\n",
    "        typ, data = mail.fetch(1, '(RFC822)' )\n",
    "\n",
    "        for response_part in data:\n",
    "            if isinstance(response_part, tuple):\n",
    "                msg = email.message_from_string(response_part[1])\n",
    "                email_subject = msg['subject']\n",
    "                email_from = msg['from']\n",
    "#                 print('From : ' + str(email_from) + '\\n')\n",
    "#                 print('Subject : ' + str(email_subject) + '\\n')\n",
    "\n",
    "#         for i in range(latest_email_id,first_email_id, -1):\n",
    "#             typ, data = mail.fetch(i, '(RFC822)' )\n",
    "\n",
    "#             for response_part in data:\n",
    "#                 if isinstance(response_part, tuple):\n",
    "#                     msg = email.message_from_string(response_part[1])\n",
    "#                     email_subject = msg['subject']\n",
    "#                     email_from = msg['from']\n",
    "#                     print('From : ' + email_from + '\\n')\n",
    "#                     print('Subject : ' + email_subject + '\\n')\n",
    "\n",
    "    except Exception as e:\n",
    "        print(\"failed\")\n",
    "        print(e)\n",
    "        \n",
    "read_email_from_gmail()"
   ]
  },
  {
   "cell_type": "code",
   "execution_count": null,
   "metadata": {},
   "outputs": [],
   "source": []
  },
  {
   "cell_type": "code",
   "execution_count": null,
   "metadata": {},
   "outputs": [],
   "source": [
    "read_email_from_gmail()"
   ]
  },
  {
   "cell_type": "code",
   "execution_count": null,
   "metadata": {},
   "outputs": [],
   "source": [
    "## need to allow for less secure apps access in gmail : https://myaccount.google.com/lesssecureapps"
   ]
  },
  {
   "cell_type": "code",
   "execution_count": null,
   "metadata": {},
   "outputs": [],
   "source": [
    "## The example above really does not work anymore on 2FA Gmails which your main gmails should be anyways.\n",
    "## So you could make a Gmail email just for sending email I suppose but that is not ideal as Google is likely to change the rules again"
   ]
  },
  {
   "cell_type": "code",
   "execution_count": null,
   "metadata": {},
   "outputs": [],
   "source": [
    "## Due to various spam preventions it is often easier to use a 3rd party email provider to send emails\n",
    "# Mailgun is one such provider "
   ]
  },
  {
   "cell_type": "code",
   "execution_count": null,
   "metadata": {},
   "outputs": [],
   "source": [
    "## Free plan has a limit of 10,000 emails a month and only to pre-authorized e-mails\n",
    "## That is ones which we added through Mailgun control panel and authorized then from e-mail link\n",
    "## Perfect for monitoring emails etc"
   ]
  },
  {
   "cell_type": "code",
   "execution_count": null,
   "metadata": {},
   "outputs": [],
   "source": [
    "import requests"
   ]
  },
  {
   "cell_type": "code",
   "execution_count": null,
   "metadata": {},
   "outputs": [],
   "source": [
    "def send_simple_message():\n",
    "    return requests.post(\n",
    "        \"https://api.mailgun.net/v3/YourDomainOrMailgunsSandboxDomain/messages\",\n",
    "        auth=(\"api\", \"UseYourOwnAPI\"),\n",
    "        data={\"from\": \"Excited User <mailgun@YourDomainOrMailgunsSandboxDomain>\",\n",
    "              \"to\": [\"myrealandauthorisedemail@gmail.com\"],\n",
    "              \"subject\": \"Hello through Mailgun\",\n",
    "              \"text\": \"Testing some Python Mailgun awesomness!\"})\n"
   ]
  },
  {
   "cell_type": "code",
   "execution_count": null,
   "metadata": {},
   "outputs": [],
   "source": [
    "res = send_simple_message()"
   ]
  },
  {
   "cell_type": "code",
   "execution_count": null,
   "metadata": {},
   "outputs": [],
   "source": [
    "## much better than old way"
   ]
  }
 ],
 "metadata": {
  "kernelspec": {
   "display_name": "Python 3",
   "language": "python",
   "name": "python3"
  },
  "language_info": {
   "codemirror_mode": {
    "name": "ipython",
    "version": 3
   },
   "file_extension": ".py",
   "mimetype": "text/x-python",
   "name": "python",
   "nbconvert_exporter": "python",
   "pygments_lexer": "ipython3",
   "version": "3.6.4"
  }
 },
 "nbformat": 4,
 "nbformat_minor": 2
}
