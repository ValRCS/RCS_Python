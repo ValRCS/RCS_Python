{
 "cells": [
  {
   "cell_type": "markdown",
   "metadata": {},
   "source": [
    "## Test your List Comprehension Prowess"
   ]
  },
  {
   "cell_type": "code",
   "execution_count": 11,
   "metadata": {},
   "outputs": [],
   "source": [
    "import tests"
   ]
  },
  {
   "cell_type": "code",
   "execution_count": 12,
   "metadata": {},
   "outputs": [
    {
     "name": "stdout",
     "output_type": "stream",
     "text": [
      "New List Problem for a list with 10 elements\n",
      "Use myvar.hint() to get hints, and myvar.check(mynewlist) to check answers\n",
      "First 3 elements [(55, 440), (65, 520), (70, 560)]\n",
      "Last 3 elements [(110, 880), (115, 920), (125, 1000)]\n"
     ]
    }
   ],
   "source": [
    "a = tests.testlists.ListTester()"
   ]
  },
  {
   "cell_type": "code",
   "execution_count": 10,
   "metadata": {},
   "outputs": [
    {
     "name": "stdout",
     "output_type": "stream",
     "text": [
      "New List Problem for a list with 20 elements\n",
      "Use myvar.hint() to get hints, and myvar.check(mynewlist) to check answers\n",
      "First 3 elements [(18, 162), (21, 189), (24, 216)]\n",
      "Last 3 elements [(81, 729), (84, 756), (87, 783)]\n"
     ]
    }
   ],
   "source": [
    "from tests.testlists import ListTester\n",
    "\n",
    "q = ListTester()"
   ]
  },
  {
   "cell_type": "code",
   "execution_count": 15,
   "metadata": {},
   "outputs": [
    {
     "data": {
      "text/plain": [
       "['__class__',\n",
       " '__delattr__',\n",
       " '__dict__',\n",
       " '__dir__',\n",
       " '__doc__',\n",
       " '__eq__',\n",
       " '__format__',\n",
       " '__ge__',\n",
       " '__getattribute__',\n",
       " '__gt__',\n",
       " '__hash__',\n",
       " '__init__',\n",
       " '__init_subclass__',\n",
       " '__le__',\n",
       " '__lt__',\n",
       " '__module__',\n",
       " '__ne__',\n",
       " '__new__',\n",
       " '__reduce__',\n",
       " '__reduce_ex__',\n",
       " '__repr__',\n",
       " '__setattr__',\n",
       " '__sizeof__',\n",
       " '__str__',\n",
       " '__subclasshook__',\n",
       " '__weakref__',\n",
       " '_beg',\n",
       " '_compreh',\n",
       " '_end',\n",
       " '_hintlen',\n",
       " '_list',\n",
       " '_mmod',\n",
       " '_mult',\n",
       " '_printHint',\n",
       " '_regenProb',\n",
       " '_step',\n",
       " 'check',\n",
       " 'guesses',\n",
       " 'hint',\n",
       " 'newProb',\n",
       " 'solved']"
      ]
     },
     "execution_count": 15,
     "metadata": {},
     "output_type": "execute_result"
    }
   ],
   "source": [
    "dir(q)"
   ]
  },
  {
   "cell_type": "code",
   "execution_count": 16,
   "metadata": {},
   "outputs": [
    {
     "data": {
      "text/plain": [
       "'[(x, x*9) for x in range(18,92,3) if x % 5]'"
      ]
     },
     "execution_count": 16,
     "metadata": {},
     "output_type": "execute_result"
    }
   ],
   "source": [
    "q._compreh"
   ]
  },
  {
   "cell_type": "code",
   "execution_count": 14,
   "metadata": {},
   "outputs": [
    {
     "name": "stdout",
     "output_type": "stream",
     "text": [
      "Help on ListTester in module tests.testlists object:\n",
      "\n",
      "class ListTester(builtins.object)\n",
      " |  List comprehensions tester\n",
      " |  Usage:\n",
      " |  create new instance with q = ListTester()\n",
      " |  q.check(mylistanswer) - check your list against answer, must be list\n",
      " |  ie. mylist = [x*2 for x in range(20)]\n",
      " |  q.check(mylist)\n",
      " |  q.hint - get hint of increasing length\n",
      " |  q.newProb - generate new problem\n",
      " |  q.guesses - how many guesses made in current problem\n",
      " |  q.solved - how many problems you've solved in this session\n",
      " |  \n",
      " |  Methods defined here:\n",
      " |  \n",
      " |  __init__(self, maxlist=100, maxstep=5)\n",
      " |      Initialize self.  See help(type(self)) for accurate signature.\n",
      " |  \n",
      " |  check(self, tlist)\n",
      " |  \n",
      " |  hint(self)\n",
      " |  \n",
      " |  newProb(self)\n",
      " |  \n",
      " |  ----------------------------------------------------------------------\n",
      " |  Data descriptors defined here:\n",
      " |  \n",
      " |  __dict__\n",
      " |      dictionary for instance variables (if defined)\n",
      " |  \n",
      " |  __weakref__\n",
      " |      list of weak references to the object (if defined)\n",
      "\n"
     ]
    }
   ],
   "source": [
    "help(q)"
   ]
  },
  {
   "cell_type": "code",
   "execution_count": null,
   "metadata": {},
   "outputs": [],
   "source": []
  },
  {
   "cell_type": "code",
   "execution_count": 8,
   "metadata": {},
   "outputs": [
    {
     "data": {
      "text/plain": [
       "12"
      ]
     },
     "execution_count": 8,
     "metadata": {},
     "output_type": "execute_result"
    }
   ],
   "source": [
    "mylist = [(x, x*6) for x in range(57,71) if x % 6] #enter your list comprehension here\n",
    "len(mylist)"
   ]
  },
  {
   "cell_type": "code",
   "execution_count": 9,
   "metadata": {
    "scrolled": true
   },
   "outputs": [
    {
     "name": "stdout",
     "output_type": "stream",
     "text": [
      "Nicely done in 2 trie(s)! Is your list comprehension similar to ours? [(x, x*6) for x in range(57,71,1) if x % 6]\n",
      "You've solved 1 problem(s) so far. Sweet!\n"
     ]
    }
   ],
   "source": [
    "#check your list here\n",
    "q.check(mylist)\n"
   ]
  },
  {
   "cell_type": "code",
   "execution_count": 7,
   "metadata": {},
   "outputs": [
    {
     "name": "stdout",
     "output_type": "stream",
     "text": [
      "First 6 elements [(57, 342), (58, 348), (59, 354), (61, 366), (62, 372), (63, 378)]\n",
      "Last 6 elements [(64, 384), (65, 390), (67, 402), (68, 408), (69, 414), (70, 420)]\n"
     ]
    }
   ],
   "source": [
    "# grab a new hint here\n",
    "q.hint() "
   ]
  },
  {
   "cell_type": "code",
   "execution_count": null,
   "metadata": {},
   "outputs": [],
   "source": [
    "# grab a new problem here:\n",
    "q.newProb()"
   ]
  },
  {
   "cell_type": "code",
   "execution_count": null,
   "metadata": {},
   "outputs": [],
   "source": [
    "# How many problems you've solved:\n",
    "q.solved\n"
   ]
  }
 ],
 "metadata": {
  "kernelspec": {
   "display_name": "Python 3",
   "language": "python",
   "name": "python3"
  },
  "language_info": {
   "codemirror_mode": {
    "name": "ipython",
    "version": 3
   },
   "file_extension": ".py",
   "mimetype": "text/x-python",
   "name": "python",
   "nbconvert_exporter": "python",
   "pygments_lexer": "ipython3",
   "version": "3.6.4"
  }
 },
 "nbformat": 4,
 "nbformat_minor": 2
}
