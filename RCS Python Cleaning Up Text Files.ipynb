{
 "cells": [
  {
   "cell_type": "markdown",
   "metadata": {},
   "source": [
    "## RCS Python Cleaning Up Text Files"
   ]
  },
  {
   "cell_type": "code",
   "execution_count": 1,
   "metadata": {},
   "outputs": [],
   "source": [
    "import os"
   ]
  },
  {
   "cell_type": "code",
   "execution_count": 2,
   "metadata": {},
   "outputs": [],
   "source": [
    "fname = \"Veidenbaums.txt\""
   ]
  },
  {
   "cell_type": "code",
   "execution_count": 3,
   "metadata": {},
   "outputs": [
    {
     "data": {
      "text/plain": [
       "'C:\\\\Users\\\\vdell\\\\Documents\\\\Github\\\\RCS_Python\\\\resources\\\\Veidenbaums.txt'"
      ]
     },
     "execution_count": 3,
     "metadata": {},
     "output_type": "execute_result"
    }
   ],
   "source": [
    "fpath = os.path.join(os.getcwd(), 'resources', fname)\n",
    "fpath"
   ]
  },
  {
   "cell_type": "code",
   "execution_count": 7,
   "metadata": {},
   "outputs": [
    {
     "data": {
      "text/plain": [
       "'C:\\\\Users\\\\vdell\\\\Documents\\\\Github\\\\RCS_Python\\\\resources\\\\cleaned.txt'"
      ]
     },
     "execution_count": 7,
     "metadata": {},
     "output_type": "execute_result"
    }
   ],
   "source": [
    "newpath = os.path.join(os.getcwd(), 'resources', 'cleaned.txt')\n",
    "newpath"
   ]
  },
  {
   "cell_type": "code",
   "execution_count": 8,
   "metadata": {},
   "outputs": [],
   "source": [
    "badwords = ['***']"
   ]
  },
  {
   "cell_type": "code",
   "execution_count": 11,
   "metadata": {},
   "outputs": [],
   "source": [
    "with open(fpath, encoding='utf-8') as oldfile, open(newpath, 'w', encoding='utf-8') as newfile:\n",
    "    for line in oldfile:\n",
    "        if not any(badword in line for badword in badwords):\n",
    "            newfile.write(line)\n"
   ]
  },
  {
   "cell_type": "code",
   "execution_count": null,
   "metadata": {},
   "outputs": [],
   "source": []
  },
  {
   "cell_type": "code",
   "execution_count": 14,
   "metadata": {},
   "outputs": [],
   "source": []
  },
  {
   "cell_type": "code",
   "execution_count": 77,
   "metadata": {},
   "outputs": [
    {
     "data": {
      "text/plain": [
       "12129"
      ]
     },
     "execution_count": 77,
     "metadata": {},
     "output_type": "execute_result"
    }
   ],
   "source": [
    "with open(newpath, encoding='utf-8') as f:\n",
    "    txt=f.read()\n",
    "len(txt)"
   ]
  },
  {
   "cell_type": "code",
   "execution_count": 78,
   "metadata": {},
   "outputs": [
    {
     "data": {
      "text/plain": [
       "'\\n\\n\\n\\n\\n\\nPēc ideāliem cenšas lielie gari,\\n\\nBet dzīvē ieņemt vietu pirmie\\n\\nTie neiespēj, tos nomāc maizes kari,\\n\\nTos nomāc aizspriedumi sirmie.\\n\\n\\n\\n\\n\\n\\n\\n\\n\\nVirs zemes nav taisnības, dūrei tik spēks,\\n\\nKas varmākām skādi dar, nosaukts tiek grēks.\\n\\nPar tiesnešiem cienīti blēži sēž\\n\\nUn godīgie ādu nost citiem plēš.\\n\\nUn cienīgs tēvs, zaglis, teic sprediķus;\\n\\n\"Tik pacieties, debesīs labāki būs!\"\\n\\nVirs zemes nav laimes, tik zvēru pulks bļauj,\\n\\nViens otram iz mutes tie maizi sev rauj,\\n\\nUn priecīgs ikkatris, kad vēders tik pilns,\\n\\nKad bērni ir veseli, dzīvoklis silts.\\n\\nUn glaimojot salkušie rakstnieki sauc:\\n\\n\"Cik praktiska tauta! Tai cerību daudz.\"\\n\\nJā, cerību gan. Vēl nosirmos laiks,\\n\\nUn redzams būs strādnieku moku pilns vaigs,\\n\\nVēl liekēži slinkos un godīgi krāps,\\n\\nPēc debesu viltības ļaudis vēl slāps,\\n\\nZem kājām vēl varmākas taisnību mīs,\\n\\nPar kaujamiem lopiem vēl cilvēkus dzīs,\\n\\nUn muļķīgas dzejas vēl dzejnieki kals\\n\\nUn vaimanās paši, kad salks un sals.\\n\\n\\n\\n\\n\\n\\n\\n\\n\\nAr šīs zemes varenajiem kopā tu varēji būt\\n\\nUn valdīt, un kārumu baudīt, un līgsmot ik dienas,\\n\\nBet cilvēces bēdas un trūkumus sirds tevim jūt,\\n\\nUn tumsības slogus, un varmāku nastas ikvienas.\\n\\nUn, tēvijas neatzīts, svešumā dodies tu tāļi\\n\\nUn sludini taisnību, māci, ka cilvēki brāļi,\\n\\nKa pasaules mantas mums mierināt nespēj prāta,\\n\\nJa ticības trūkst un mīlestīb\\' sirdīs nav krāta.\\n\\nTu priekus tiem nesi, kas tumsībā, grūtībā smaka,\\n\\nTu vārguļu sagrauztām sirdīm bij\\' dzīvības aka,\\n\\nTu cilvēci sildīji garīgās verdzības salnā,\\n\\nBet atmaksu cilvēce deva tev - Golgatas kalnā.\\n\\n\\n\\n\\n\\n\\n\\n\\n\\nDomāju es domas dziļas,\\n\\nKādēļ laime mani nīd;\\n\\nViss, ko daru, viss man viļas,\\n\\nVisās vietās kājas slīd.\\n\\nCitam nav nekāda darba,\\n\\nNauda kā no gaisa birst.\\n\\nMan ir dzīve sūra, skarba,\\n\\nJābadojas, kamēr mirst.\\n\\nNav pie dvēseles ne graša,\\n\\nPrasi kādam - kas tev dos?\\n\\nLabāk vienreiz nāve aša\\n\\nNekā dzīve nabagos!\\n\\nEzers lejā spīd netāļi:\\n\\nIekšā tur - būs raizēm gals!\\n\\nNu ardievu, bēdu brāļi,\\n\\nNeskanēs vairs mana balss.\\n\\nCeļš vēl garām ved gar krogu,\\n\\nIekšā danco, dzied un smej,\\n\\nUn caur apgaismoto logu\\n\\nRedzu, alu glāzēs lej.\\n\\nVai tad es jau tīri bešā?\\n\\nRoka ātri svārkos ķer -\\n\\nDesmit kapeikas vēl ķešā,\\n\\nTās pirms nāves jānodzer!\\n\\nSteidzos iekšā, vienu glāzi\\n\\nIesviežu, vēl vienu, vēl…\\n\\nUn ar katru alus lāsi\\n\\nPaliek dzīvības man žēl.\\n\\nAtliks miršanu uz rītu,\\n\\nŠodien vēlu staigāt turp.\\n\\nKrodzniek, dosi vēl uz krītu?\\n\\n- Došu. - Duci alu šurp!\\n\\nOtrreiz bija tāda liga:\\n\\nSkaistule man solījās,\\n\\nMūžam būšot uzticīga -\\n\\nDumjš, kas sievām paļaujas!\\n\\nDrīz iz pilsētas švīts nāca\\n\\nGlumi apģērbts, uzķemmēts,\\n\\nLakstoties ap viņu sāca,\\n\\nDāvā rotas - viss tam lēts.\\n\\nDomāju, tā neatļausies,\\n\\nSirdi viņam neatdos,\\n\\nBet it nejauši reiz - klausies -\\n\\nBaznīcā jau uzsauc tos.\\n\\nAsinis man dusmās vārās,\\n\\nUn, kaut sirdi sāpes spiež,\\n\\nBet pēc atriebšanas kāras\\n\\nDūres naža spalu griež.\\n\\nViņam jāmirst! Steigšus gāju,\\n\\nTe man uzsauc draugs: kur nu?\\n\\nIesviedīsim ceļa kāju,\\n\\nNāc man līdz uz kabaku!\\n\\nSviedām, sviedām… rīts jau ausa -\\n\\nAizmirsts viss, kas rūpes dar,\\n\\nKājas, galva knapi klausa,\\n\\nZudušas bij dusmas ar.\\n\\nTādēļ tagad katru reizi\\n\\nIedzeru, kad slikts ir prāts.\\n\\nUn, ja kājas iet ar greizi,\\n\\nTas jau nava grēks nekāds.\\n\\n\\n\\n\\n\\n\\n\\n\\n\\nDaudz prātīgu cilvēku pasaulē dzīvo:\\n\\nTie strādā kā skudras un rūpīgi krāj,\\n\\nTie nolād alu, tie nolād sīvo\\n\\nUn strādā, un krāj, līdz smiltis tos klāj.\\n\\nDaudz godīgu cilvēku pasaulē dzīvo:\\n\\nTie manīgi cita nopelnu slauc,\\n\\nAr manšetēm baltām, ar apkakli stīvo\\n\\nTie pasaules drūzmā kā valdnieki brauc.\\n\\nBet ticīgo muļķu visvairāk ir radīts:\\n\\nTie galviņas nodur un dieviņam tic;\\n\\nTāds rokas laiza, kad sists tiek un badīts,\\n\\nUn dieviņam pateic, kad piekrāpj to cits.\\n\\nUn ārprātīgie ir ceturtā suga, -\\n\\nDiemžēl, ka viņu tik visai nedaudz, -\\n\\nPie sirds kam ķeras šī bēdu luga,\\n\\nKas muļķus pie gaismas, pie brīvības sauc.\\n\\n\\n\\n\\n\\n\\n\\n\\n\\nEj un dzenies tik pēc naudas,\\n\\nKrāp un blēdī, cik tik jaudas,\\n\\nRauj no citiem, rauj, kur dabū,\\n\\nSkaties tik uz savu labu,\\n\\nTomēr strādā apdomīgi\\n\\nStingri, cieti, likumīgi.\\n\\nValdniekiem godu rādi,\\n\\nLai tie būtu vai nu kādi.\\n\\nBagātniekus turi cieņā:\\n\\nLīdzēt var tie ļaunā dienā.\\n\\nTā tu dzīvo tikumīgi,\\n\\nStingri, cieti, likumīgi.\\n\\nBūs tev nauda, būs tev vieta,\\n\\nDzīves grunte droša, cieta;\\n\\nCienīs tevi klanīdamies,\\n\\nStrādās tevim lādēdamies,\\n\\nValdīsi tu likumīgi ,\\n\\nStingri, cieti, tikumīgi.\\n\\nTad tu vari palīgsmoties,\\n\\nLabi sevi pamieloties;\\n\\nPaņemt sievu padevīgu,\\n\\nTuklu dumju paklausīgu;\\n\\nPapriecāties likumīgi,\\n\\nRadīt bērnus tikumīgi.\\n\\n\\n\\n\\n\\n\\n\\n\\n\\nKam velti dārgo laiku tērē\\n\\nUn dzejām papīri tu smērē?\\n\\nSen beidzies dzejas laikmets svēts,\\n\\nPēc maizes tagad cilvēks brēc,\\n\\nJo mūsu prozaiskās dienās\\n\\nNav žēlabainām dzejām cieņas:\\n\\nĒst salkušam tās nevar dot,\\n\\nUn paēdis tās nesaprot.\\n\\nTu raksti romānīšus vieglus\\n\\nUn saprātīgi zobojies,\\n\\nLai plašai publikai ceļ smieklus, -\\n\\nTu redzēsi, kā tad tev ies:\\n\\nBūs slava liela, kaudzēm naudas,\\n\\nUn dzīvi baudīsi, cik jaudas.\\n\\n\\n\\n\\n\\n\\n\\n\\n\\nMums latviešiem, dzejnieku milzīgs bars,\\n\\nNo tiesas tiem dodam šo vārdu,\\n\\nJo viņu dzejās mīt burvības gars:\\n\\nTās miegu mums dāvina gārdu.\\n\\n\\n\\n\\n\\n\\n\\n\\n\\nJa gribi tikt pie labas vietas,\\n\\nTad klanies, lokies, rokas laizi!\\n\\nGan citi sauc tās kauna lietas.\\n\\nPar to nekas, kad nāk tik maize.\\n\\nPie bagātnieku lepniem galdiem\\n\\nTu pazemīgi klātu lieni\\n\\nUn glaimošanas vārdiem saldiem,\\n\\nCik vien ir spējas, katru cieni.\\n\\nBet, dieva dēļ, ar zemākajiem\\n\\nNekad lai kopā neredz tevi!\\n\\nMin labāk kāju virsū vājiem,\\n\\nJo prātīgs gādā tik par sevi.\\n\\nTā drīz tu augstā vietā tiksi,\\n\\nTev slavēs, teiks par lielu garu;\\n\\nTu līdzbiedrus zem kājām liksi,\\n\\nUn katris bīsies tavu varu.\\n\\n\\n\\n\\n\\n\\n\\n\\n\\nNu tu vari palīgsmoties,\\n\\nLabi sevi pamieloties,\\n\\nPaņemt sievu padevīgu,\\n\\nTuklu, dumju, paklausīgu,\\n\\nPapriecāties likumīgi,\\n\\nRadīt bērnus tikumīgi.\\n\\n\\n\\n\\n\\nGudro cik gudrodams, nekāda mērķa nevar atrast dzīvei, visi ideāļi, tuvāk apskatot, izrādās no tārpiem izēsti, un galu galā tev jāpaliek vai nu lopam, kas nekā nedomā cita kā tik par ēšanu, jeb pesimistam.\\n\\n(Vēstule E. Treimanim-Zvārgulim 1890. gada 5. jūlijā)\\n\\n\\n\\n\\n\\n\\n\\n\\n\\nReiz zaļoja jaunība, cerības plauka,\\n\\nTad asins bij karsta, tad gaišs bija laiks\\n\\nUn pasaule visa tik krāšņa tik jauka,\\n\\nUn nākotne spoža kā saules vaigs.\\n\\nLaiks aizgāja, cerības zuda kā dūmi,\\n\\nViss mira, kas agrāk bij daiļš, kas bij svēts,\\n\\nReiz dievīgie tēli tik bāli, tik drūmi,\\n\\nUn dīdzis nekas nav, kas ticībā sēts.\\n\\nUn, tukšām paliekot zinību slāpēm\\n\\nUn beidzoties visam, kas daiļš bij, kas svēts,\\n\\nSirds pildījās nāvīgām asiņu sāpēm,\\n\\nBet pagātne arī jau sāpes sedz.\\n\\nUn tagad es nicinu pasaules lietas,\\n\\nJo redzu, ka viss tikai murgi un nieks.\\n\\nPar laimi, pret nelaimi krūtis ir cietas,\\n\\nMan gluži vienalga, vai bēdas vai prieks.\\n\\n\\n\\n\\n\\n\\n\\n\\n\\nIedzer, brāli! Ātrām kājām\\n\\nMūža dienas projām skrien,\\n\\nNāve sauc uz tumšām mājām,\\n\\nIedzer, kamēr kapā lien.\\n\\nIedzer, brāli! Laiki grūti,\\n\\nDzīves ērkšķi nikni dur.\\n\\nIedzer! Mazāk sāpes jūti,\\n\\nJaunu dzīvi alus bur.\\n\\nIedzer, brāli! Nodzer prātu -\\n\\nPrāts tik bēdu kaudzes ceļ.\\n\\nMuļķis tikai domas krātu,\\n\\nGudrais ellē viņas veļ.\\n\\n\\n\\n\\n\\n\\n\\n\\n\\nGrāmatu kaudzes\\n\\nVelti tu šķirsti,\\n\\nMirušās audzes\\n\\nPētī, līdz mirsti.\\n\\nZinību nieki\\n\\nMuļķus lai baro!\\n\\nPasaules prieki\\n\\nGaišāki staro.\\n\\n\\n\\n\\n\\n\\n\\n\\n\\nKā gulbji balti padebeši iet.\\n\\nTiem vēlētos es līdza tāļu skriet:\\n\\nTur tāļumā, tur ziemas nepazīst,\\n\\nTur rozes mūžam zied un nenovīst.\\n\\nKam veltīgi laimību kāro tu, sirds?\\n\\nMet projām reiz cerības tumšajā kapā;\\n\\nNo saulainām lejām ir mirstīgais šķirsts,\\n\\nTam jādzīvo asaru dūksnājā slapjā,\\n\\nKur dzelži un cirvji bez rimšanas klaudz,\\n\\nPēc maizes, pēc pārtikas vergi kur kauc,\\n\\nNo stiprākā samīts, vājāks kur lūst\\n\\nUn asins un sviedri ik dienas kur plūst.\\n\\n\\n\\n\\n\\n\\n\\n\\n\\nEs domāju, ka pasaulē\\n\\nNav prātīgas it nekas,\\n\\nUn mūsu dzīves nozīme\\n\\nIr tīrās muļķības.\\n\\nBez mērķa cilvēks blandās te,\\n\\nPar gudrām lietām spriedelē,\\n\\nBet galā dumjš ir viss.\\n\\nUn vēders - dievs visaugstākais,\\n\\nIkkatris pats sev tuvākais,\\n\\nTiklīdz kā izsalcis.\\n\\n\\n\\n\\n\\n\\n\\n\\n\\nViss atriebies, apnicis ir, -\\n\\nKo kavējies dzīvajos vēl?\\n\\nLai lode reiz likteni šķir,\\n\\nTev droši pēc nebūs žēl.\\n\\nŠis niecīgais, muļķīgais prieks\\n\\nTev laimes šeit nevar dot;\\n\\nKaut būtu tu valdnieks,\\n\\nIr tas nevar ielīgsmot.\\n\\nBet valdnieks nebūsi tu,\\n\\nBet tiksi zem kājām mīdīts,\\n\\nNo citiem pie malas bīdīts,\\n\\nKam žēlo tad dzīvību?\\n\\nTik dusmas un sāpes tev būs,\\n\\nUn nespēsi mierināt viņas,\\n\\nUn jāiet pēc varmāku ziņas,\\n\\nLīdz dzīvība verdzībā žūs.\\n\\nUn, ka ar tev laimes stars\\n\\nKā aklajai vistai grauds\\n\\nReiz atrastos, - tomēr tavs gars\\n\\nUz nīcību drūmīgi sauc.\\n\\nNav labs it nekas, kam nīkt,\\n\\nKam izputēt nolemts un beigties,\\n\\nTu pasteidzies drīzāki steigties,\\n\\nLai…\\n\\n\"Es laimi nicināju,\\n\\nMan nevajaga tās.\"\\n\\n\\n\\n\\n\\n\\n\\n\\n\\nViss ir joks, par visu smejies,\\n\\nLaid, lai citi raud un vaid,\\n\\nJa ir labi - pakavējies,\\n\\nUn, ja netīk - projām laid.\\n\\nProjām laid uz citām malām,\\n\\nVienā vietā sasmok drīz,\\n\\nVai līdz otram pasauls galam,\\n\\nLīdz sev priekus atradis.\\n\\nJa nav naudas, spārni īsi,\\n\\nGuli tur, kur liktens sien,\\n\\nGaidi nāvi, paradīzi,\\n\\nPaliec vājš un bedrē lien.\\n\\n\\n\\n\\n\\n\\n\\n\\n\\nKuļos es kā pliks pa nātrēm,\\n\\nRaizes moca nakt un dien,\\n\\nUn pa tam līdz vējam ātram\\n\\nDzīves ziedons projām skrien.\\n\\nTumsība, kur vien tik skatās,\\n\\nAukstums visur, kur vien iet.\\n\\nAk, uz visas pasauls platās\\n\\nNav neviens, kam laime zied\\n\\n\\n\\n\\n\\n\\n\\n\\n\\nVai senatnē vien tikai vīri bija,\\n\\nKam liktenis rūpestus nedarīja,\\n\\nKam mierīgs kā Zokratam palika vaigs,\\n\\nLai trakoja vētra, lai skaists bija laiks?\\n\\nVēl tagad ikkatram pār dabu ir vara,\\n\\nKam sirdī ir spožums no mūžības gara.\\n\\n\\n\\n\\n\\n\\n\\n\\n\\nĪsts filozofs nav pesimists,\\n\\nBet dzīvi jautri bauda\\n\\nUn priecājas, cik jauda.\\n\\nVēl mieži laukos kupli briest,\\n\\nVēl netrūkst daiļas skuķes,\\n\\nKam patīk, tas var raizes ciest,\\n\\nEs labāk guļu puķēs.\\n\\n\\n\\n\\n\\n\\n\\n\\nVēl neesmu dubļos tik dziļi es stidzis,\\n\\nVēl spēks man ir atgriezties, labākam būt,\\n\\nIz sirds vēl dievības gaišums nav nīcis,\\n\\nVēl dvēsele augstākas iegribas jūt.\\n\\nIkkatram ir uzdevums grūtības nest:\\n\\nTā dieva prāts, mūs radot, spriedis.\\n\\nNevienam nav atļauts prom dzīvību mest,\\n\\nKaut daudz tas ar dzīvojot raudājis, cietis.\\n\\nMums augstāks mērķis aiz zvaigznēm ir sprausts,\\n\\nKaut šaubās un šaubīsies cilvēka prāts,\\n\\nLai jaunam ar līķa palags tiek austs,\\n\\nLai asarās paliekam skumdināti,\\n\\nBet tomēr mums jātic, ka nekrīt ne mats,\\n\\nKo neredz un nezina dievības acs.\\n\\nMums jādzīvo, jātic, ka nemirstīgs gars,\\n\\nKa ziedēs pēc nāves vēl pavasars.\\n\\nTā raižu un grūtību niknajos karos\\n\\nMums debesu līgsmībā dvēseles staros.\\n\\n\\n\\n\\n\\n\\n\\n\\n\\nVēl desmit divdesmit gadus -\\n\\nUn lugai būs pienācis gals,\\n\\nVai slinkojis būtu vai centies,\\n\\nReiz trūdēt sauc likteņa balss.\\n\\nUn tomēr te dzīvē sapņots\\n\\nPar mūžīgām lietām tiek:\\n\\nPar laimi, par slavu, par godu, -\\n\\nUz kapa grib laurus lai liek.\\n\\nBet lauri un gods, un slava\\n\\nLīdz iznīkst, kā beidzies tu pats.\\n\\nUn tāļāk un atkal tāļāk\\n\\nRit šausmīgais mūžības rats.\\n\\n\\n\\n\\n\\n\\n\\n\\n\\nNost reiz skumjību sviedīšu tumšo,\\n\\nBeigšu pēc nāves reiz ilgoties,\\n\\nIesākšu ticēt, ka mērķis ir dzīvei,\\n\\nGan tad nāks spēks, gan labāki ies.\\n\\nTumšajā zilumā spīguļo zvaigznes,\\n\\nMūžīgā kārtībā kustas to bars.\\n\\nCilvēka likteņa drūmajos viļņos\\n\\nValda bez rimšanas dievības gars.\\n\\nĪss gan izrādās dzīvības sprīdis,\\n\\nTuvu ir kopā šūpulis-kaps.\\n\\nTomēr no svara ir katris brīdis,\\n\\nDzīve ir laba, kad mērķis tai labs.\\n\\nTādēļ projām, skumjība, bēdas,\\n\\nStrādāšu, centīšos, vēl man ir laiks!\\n\\nLabošu pagātnes riebīgās pēdas,\\n\\nLaime nāks atpakaļ, priecīgs būs vaigs!\\n\\n\\n\\n\\n\\n\\n\\n\\n\\nMosties, mosties, reiz, svabadais gars,\\n\\nCelies uz salauzi kalpības spaidus,\\n\\nAtpestī cietējus, klusini vaidus -\\n\\nMosties, brīvības cēlajais gars!\\n\\nTumšos varmākas zemē triec,\\n\\nSvētos bizuļus-garīdzniekus,\\n\\nKuri melš krāpdami debesu niekus.\\n\\nTicības māņus pie malas liec!\\n\\nZemē kungus, kas lepnībā sēž,\\n\\nŠķērdīgi putina miljonu sviedrus,\\n\\nZemē kundzības draugus un biedrus,\\n\\nKas savus brāļus spaida un plēš!\\n\\n\\n\\n\\n\\n\\n\\n\\n\\nKur klusā naktī lakstīgalas dzied,\\n\\nTur klausīties man labprāt tīkas iet,\\n\\nTur bučoties man labprāt tīkas iet,\\n\\nTur bučoties ar daiļām meitenēm\\n\\nUn izrauties iz dzīves ķibelēm.\\n\\nBet vairāk tīk man tur, kur lodes dzied,\\n\\nKur asins kaujā brīvie vergi iet,\\n\\nKur skaņas dziesmas atskan trokšņainas\\n\\nUn peklē gāžas lepnie varmākas!\\n\\n\\n\\n\\n\\n\\n\\n\\n\\nKas staigājot pa košām puķu lejām,\\n\\nTik apskaita, cik siena viņas dos,\\n\\nLai mani nelasa. Pie manām dzejām\\n\\nTik piktu prātu viņš sev iemantos.\\n\\n\\n\\n\\n\\n'"
      ]
     },
     "execution_count": 78,
     "metadata": {},
     "output_type": "execute_result"
    }
   ],
   "source": [
    "txt"
   ]
  },
  {
   "cell_type": "code",
   "execution_count": 52,
   "metadata": {},
   "outputs": [
    {
     "data": {
      "text/plain": [
       "11626"
      ]
     },
     "execution_count": 52,
     "metadata": {},
     "output_type": "execute_result"
    }
   ],
   "source": [
    "badchars = ',;:!?.\"\\'-'\n",
    "for char in badchars:\n",
    "    txt = txt.replace(char, '')\n",
    "len(txt)"
   ]
  },
  {
   "cell_type": "code",
   "execution_count": 53,
   "metadata": {},
   "outputs": [
    {
     "data": {
      "text/plain": [
       "'\\n\\n\\n\\n\\n\\nPēc ideāliem cenšas lielie gari\\n\\nBet dzīvē ieņemt vietu pirmie\\n\\nTie neiespēj tos nomāc maizes kari\\n\\nTos nomāc aizspriedumi sirmie\\n\\n\\n\\n\\n\\n\\n\\n\\n\\nVirs zemes nav taisnības dūrei tik spēks\\n\\nKas varmākām skādi dar nosaukts tiek grēks\\n\\nPar tiesnešiem cienīti blēži sēž\\n\\nUn godīgie ādu nost citiem plēš\\n\\nUn cienīgs tēvs zaglis teic sprediķus\\n\\nTik pacieties debesīs labāki būs\\n\\nVirs zemes nav laimes tik zvēru pulks bļauj\\n\\nViens otram iz mutes tie maizi sev rauj\\n\\nUn priecīgs ikkatris kad vēders tik pilns\\n\\nKad bērni ir veseli dzīvoklis silts\\n\\nUn glaimojot salkušie rakstnieki sauc\\n\\nCik praktiska tauta Tai cerību daudz\\n\\nJā cerību gan Vēl nosirmos laiks\\n\\nUn redzams būs strādnieku moku pilns vaigs\\n\\nVēl liekēži slinkos un godīgi krāps\\n\\nPēc debesu viltības ļaudis vēl slāps\\n\\nZem kājām vēl varmākas taisnību mīs\\n\\nPar kaujamiem lopiem vēl cilvēkus dzīs\\n\\nUn muļķīgas dzejas vēl dzejnieki kals\\n\\nUn vaimanās paši kad salks un sals\\n\\n\\n\\n\\n\\n\\n\\n\\n\\nAr šīs zemes varenajiem kopā tu varēji būt\\n\\nUn valdīt un kārumu baudīt un līgsmot ik dienas\\n\\nBet cilvēces bēdas un trūkumus sirds tevim jūt\\n\\nUn tumsības slogus un varmāku nastas ikvienas\\n\\nUn tēvijas neatzīts svešumā dodies tu tāļi\\n\\nUn sludini taisnību māci ka cilvēki brāļi\\n\\nKa pasaules mantas mums mierināt nespēj prāta\\n\\nJa ticības trūkst un mīlestīb sirdīs nav krāta\\n\\nTu priekus tiem nesi kas tumsībā grūtībā smaka\\n\\nTu vārguļu sagrauztām sirdīm bij dzīvības aka\\n\\nTu cilvēci sildīji garīgās verdzības salnā\\n\\nBet atmaksu cilvēce deva tev  Golgatas kalnā\\n\\n\\n\\n\\n\\n\\n\\n\\n\\nDomāju es domas dziļas\\n\\nKādēļ laime mani nīd\\n\\nViss ko daru viss man viļas\\n\\nVisās vietās kājas slīd\\n\\nCitam nav nekāda darba\\n\\nNauda kā no gaisa birst\\n\\nMan ir dzīve sūra skarba\\n\\nJābadojas kamēr mirst\\n\\nNav pie dvēseles ne graša\\n\\nPrasi kādam  kas tev dos\\n\\nLabāk vienreiz nāve aša\\n\\nNekā dzīve nabagos\\n\\nEzers lejā spīd netāļi\\n\\nIekšā tur  būs raizēm gals\\n\\nNu ardievu bēdu brāļi\\n\\nNeskanēs vairs mana balss\\n\\nCeļš vēl garām ved gar krogu\\n\\nIekšā danco dzied un smej\\n\\nUn caur apgaismoto logu\\n\\nRedzu alu glāzēs lej\\n\\nVai tad es jau tīri bešā\\n\\nRoka ātri svārkos ķer \\n\\nDesmit kapeikas vēl ķešā\\n\\nTās pirms nāves jānodzer\\n\\nSteidzos iekšā vienu glāzi\\n\\nIesviežu vēl vienu vēl…\\n\\nUn ar katru alus lāsi\\n\\nPaliek dzīvības man žēl\\n\\nAtliks miršanu uz rītu\\n\\nŠodien vēlu staigāt turp\\n\\nKrodzniek dosi vēl uz krītu\\n\\n Došu  Duci alu šurp\\n\\nOtrreiz bija tāda liga\\n\\nSkaistule man solījās\\n\\nMūžam būšot uzticīga \\n\\nDumjš kas sievām paļaujas\\n\\nDrīz iz pilsētas švīts nāca\\n\\nGlumi apģērbts uzķemmēts\\n\\nLakstoties ap viņu sāca\\n\\nDāvā rotas  viss tam lēts\\n\\nDomāju tā neatļausies\\n\\nSirdi viņam neatdos\\n\\nBet it nejauši reiz  klausies \\n\\nBaznīcā jau uzsauc tos\\n\\nAsinis man dusmās vārās\\n\\nUn kaut sirdi sāpes spiež\\n\\nBet pēc atriebšanas kāras\\n\\nDūres naža spalu griež\\n\\nViņam jāmirst Steigšus gāju\\n\\nTe man uzsauc draugs kur nu\\n\\nIesviedīsim ceļa kāju\\n\\nNāc man līdz uz kabaku\\n\\nSviedām sviedām… rīts jau ausa \\n\\nAizmirsts viss kas rūpes dar\\n\\nKājas galva knapi klausa\\n\\nZudušas bij dusmas ar\\n\\nTādēļ tagad katru reizi\\n\\nIedzeru kad slikts ir prāts\\n\\nUn ja kājas iet ar greizi\\n\\nTas jau nava grēks nekāds\\n\\n\\n\\n\\n\\n\\n\\n\\n\\nDaudz prātīgu cilvēku pasaulē dzīvo\\n\\nTie strādā kā skudras un rūpīgi krāj\\n\\nTie nolād alu tie nolād sīvo\\n\\nUn strādā un krāj līdz smiltis tos klāj\\n\\nDaudz godīgu cilvēku pasaulē dzīvo\\n\\nTie manīgi cita nopelnu slauc\\n\\nAr manšetēm baltām ar apkakli stīvo\\n\\nTie pasaules drūzmā kā valdnieki brauc\\n\\nBet ticīgo muļķu visvairāk ir radīts\\n\\nTie galviņas nodur un dieviņam tic\\n\\nTāds rokas laiza kad sists tiek un badīts\\n\\nUn dieviņam pateic kad piekrāpj to cits\\n\\nUn ārprātīgie ir ceturtā suga \\n\\nDiemžēl ka viņu tik visai nedaudz \\n\\nPie sirds kam ķeras šī bēdu luga\\n\\nKas muļķus pie gaismas pie brīvības sauc\\n\\n\\n\\n\\n\\n\\n\\n\\n\\nEj un dzenies tik pēc naudas\\n\\nKrāp un blēdī cik tik jaudas\\n\\nRauj no citiem rauj kur dabū\\n\\nSkaties tik uz savu labu\\n\\nTomēr strādā apdomīgi\\n\\nStingri cieti likumīgi\\n\\nValdniekiem godu rādi\\n\\nLai tie būtu vai nu kādi\\n\\nBagātniekus turi cieņā\\n\\nLīdzēt var tie ļaunā dienā\\n\\nTā tu dzīvo tikumīgi\\n\\nStingri cieti likumīgi\\n\\nBūs tev nauda būs tev vieta\\n\\nDzīves grunte droša cieta\\n\\nCienīs tevi klanīdamies\\n\\nStrādās tevim lādēdamies\\n\\nValdīsi tu likumīgi \\n\\nStingri cieti tikumīgi\\n\\nTad tu vari palīgsmoties\\n\\nLabi sevi pamieloties\\n\\nPaņemt sievu padevīgu\\n\\nTuklu dumju paklausīgu\\n\\nPapriecāties likumīgi\\n\\nRadīt bērnus tikumīgi\\n\\n\\n\\n\\n\\n\\n\\n\\n\\nKam velti dārgo laiku tērē\\n\\nUn dzejām papīri tu smērē\\n\\nSen beidzies dzejas laikmets svēts\\n\\nPēc maizes tagad cilvēks brēc\\n\\nJo mūsu prozaiskās dienās\\n\\nNav žēlabainām dzejām cieņas\\n\\nĒst salkušam tās nevar dot\\n\\nUn paēdis tās nesaprot\\n\\nTu raksti romānīšus vieglus\\n\\nUn saprātīgi zobojies\\n\\nLai plašai publikai ceļ smieklus \\n\\nTu redzēsi kā tad tev ies\\n\\nBūs slava liela kaudzēm naudas\\n\\nUn dzīvi baudīsi cik jaudas\\n\\n\\n\\n\\n\\n\\n\\n\\n\\nMums latviešiem dzejnieku milzīgs bars\\n\\nNo tiesas tiem dodam šo vārdu\\n\\nJo viņu dzejās mīt burvības gars\\n\\nTās miegu mums dāvina gārdu\\n\\n\\n\\n\\n\\n\\n\\n\\n\\nJa gribi tikt pie labas vietas\\n\\nTad klanies lokies rokas laizi\\n\\nGan citi sauc tās kauna lietas\\n\\nPar to nekas kad nāk tik maize\\n\\nPie bagātnieku lepniem galdiem\\n\\nTu pazemīgi klātu lieni\\n\\nUn glaimošanas vārdiem saldiem\\n\\nCik vien ir spējas katru cieni\\n\\nBet dieva dēļ ar zemākajiem\\n\\nNekad lai kopā neredz tevi\\n\\nMin labāk kāju virsū vājiem\\n\\nJo prātīgs gādā tik par sevi\\n\\nTā drīz tu augstā vietā tiksi\\n\\nTev slavēs teiks par lielu garu\\n\\nTu līdzbiedrus zem kājām liksi\\n\\nUn katris bīsies tavu varu\\n\\n\\n\\n\\n\\n\\n\\n\\n\\nNu tu vari palīgsmoties\\n\\nLabi sevi pamieloties\\n\\nPaņemt sievu padevīgu\\n\\nTuklu dumju paklausīgu\\n\\nPapriecāties likumīgi\\n\\nRadīt bērnus tikumīgi\\n\\n\\n\\n\\n\\nGudro cik gudrodams nekāda mērķa nevar atrast dzīvei visi ideāļi tuvāk apskatot izrādās no tārpiem izēsti un galu galā tev jāpaliek vai nu lopam kas nekā nedomā cita kā tik par ēšanu jeb pesimistam\\n\\n(Vēstule E TreimanimZvārgulim 1890 gada 5 jūlijā)\\n\\n\\n\\n\\n\\n\\n\\n\\n\\nReiz zaļoja jaunība cerības plauka\\n\\nTad asins bij karsta tad gaišs bija laiks\\n\\nUn pasaule visa tik krāšņa tik jauka\\n\\nUn nākotne spoža kā saules vaigs\\n\\nLaiks aizgāja cerības zuda kā dūmi\\n\\nViss mira kas agrāk bij daiļš kas bij svēts\\n\\nReiz dievīgie tēli tik bāli tik drūmi\\n\\nUn dīdzis nekas nav kas ticībā sēts\\n\\nUn tukšām paliekot zinību slāpēm\\n\\nUn beidzoties visam kas daiļš bij kas svēts\\n\\nSirds pildījās nāvīgām asiņu sāpēm\\n\\nBet pagātne arī jau sāpes sedz\\n\\nUn tagad es nicinu pasaules lietas\\n\\nJo redzu ka viss tikai murgi un nieks\\n\\nPar laimi pret nelaimi krūtis ir cietas\\n\\nMan gluži vienalga vai bēdas vai prieks\\n\\n\\n\\n\\n\\n\\n\\n\\n\\nIedzer brāli Ātrām kājām\\n\\nMūža dienas projām skrien\\n\\nNāve sauc uz tumšām mājām\\n\\nIedzer kamēr kapā lien\\n\\nIedzer brāli Laiki grūti\\n\\nDzīves ērkšķi nikni dur\\n\\nIedzer Mazāk sāpes jūti\\n\\nJaunu dzīvi alus bur\\n\\nIedzer brāli Nodzer prātu \\n\\nPrāts tik bēdu kaudzes ceļ\\n\\nMuļķis tikai domas krātu\\n\\nGudrais ellē viņas veļ\\n\\n\\n\\n\\n\\n\\n\\n\\n\\nGrāmatu kaudzes\\n\\nVelti tu šķirsti\\n\\nMirušās audzes\\n\\nPētī līdz mirsti\\n\\nZinību nieki\\n\\nMuļķus lai baro\\n\\nPasaules prieki\\n\\nGaišāki staro\\n\\n\\n\\n\\n\\n\\n\\n\\n\\nKā gulbji balti padebeši iet\\n\\nTiem vēlētos es līdza tāļu skriet\\n\\nTur tāļumā tur ziemas nepazīst\\n\\nTur rozes mūžam zied un nenovīst\\n\\nKam veltīgi laimību kāro tu sirds\\n\\nMet projām reiz cerības tumšajā kapā\\n\\nNo saulainām lejām ir mirstīgais šķirsts\\n\\nTam jādzīvo asaru dūksnājā slapjā\\n\\nKur dzelži un cirvji bez rimšanas klaudz\\n\\nPēc maizes pēc pārtikas vergi kur kauc\\n\\nNo stiprākā samīts vājāks kur lūst\\n\\nUn asins un sviedri ik dienas kur plūst\\n\\n\\n\\n\\n\\n\\n\\n\\n\\nEs domāju ka pasaulē\\n\\nNav prātīgas it nekas\\n\\nUn mūsu dzīves nozīme\\n\\nIr tīrās muļķības\\n\\nBez mērķa cilvēks blandās te\\n\\nPar gudrām lietām spriedelē\\n\\nBet galā dumjš ir viss\\n\\nUn vēders  dievs visaugstākais\\n\\nIkkatris pats sev tuvākais\\n\\nTiklīdz kā izsalcis\\n\\n\\n\\n\\n\\n\\n\\n\\n\\nViss atriebies apnicis ir \\n\\nKo kavējies dzīvajos vēl\\n\\nLai lode reiz likteni šķir\\n\\nTev droši pēc nebūs žēl\\n\\nŠis niecīgais muļķīgais prieks\\n\\nTev laimes šeit nevar dot\\n\\nKaut būtu tu valdnieks\\n\\nIr tas nevar ielīgsmot\\n\\nBet valdnieks nebūsi tu\\n\\nBet tiksi zem kājām mīdīts\\n\\nNo citiem pie malas bīdīts\\n\\nKam žēlo tad dzīvību\\n\\nTik dusmas un sāpes tev būs\\n\\nUn nespēsi mierināt viņas\\n\\nUn jāiet pēc varmāku ziņas\\n\\nLīdz dzīvība verdzībā žūs\\n\\nUn ka ar tev laimes stars\\n\\nKā aklajai vistai grauds\\n\\nReiz atrastos  tomēr tavs gars\\n\\nUz nīcību drūmīgi sauc\\n\\nNav labs it nekas kam nīkt\\n\\nKam izputēt nolemts un beigties\\n\\nTu pasteidzies drīzāki steigties\\n\\nLai…\\n\\nEs laimi nicināju\\n\\nMan nevajaga tās\\n\\n\\n\\n\\n\\n\\n\\n\\n\\nViss ir joks par visu smejies\\n\\nLaid lai citi raud un vaid\\n\\nJa ir labi  pakavējies\\n\\nUn ja netīk  projām laid\\n\\nProjām laid uz citām malām\\n\\nVienā vietā sasmok drīz\\n\\nVai līdz otram pasauls galam\\n\\nLīdz sev priekus atradis\\n\\nJa nav naudas spārni īsi\\n\\nGuli tur kur liktens sien\\n\\nGaidi nāvi paradīzi\\n\\nPaliec vājš un bedrē lien\\n\\n\\n\\n\\n\\n\\n\\n\\n\\nKuļos es kā pliks pa nātrēm\\n\\nRaizes moca nakt un dien\\n\\nUn pa tam līdz vējam ātram\\n\\nDzīves ziedons projām skrien\\n\\nTumsība kur vien tik skatās\\n\\nAukstums visur kur vien iet\\n\\nAk uz visas pasauls platās\\n\\nNav neviens kam laime zied\\n\\n\\n\\n\\n\\n\\n\\n\\n\\nVai senatnē vien tikai vīri bija\\n\\nKam liktenis rūpestus nedarīja\\n\\nKam mierīgs kā Zokratam palika vaigs\\n\\nLai trakoja vētra lai skaists bija laiks\\n\\nVēl tagad ikkatram pār dabu ir vara\\n\\nKam sirdī ir spožums no mūžības gara\\n\\n\\n\\n\\n\\n\\n\\n\\n\\nĪsts filozofs nav pesimists\\n\\nBet dzīvi jautri bauda\\n\\nUn priecājas cik jauda\\n\\nVēl mieži laukos kupli briest\\n\\nVēl netrūkst daiļas skuķes\\n\\nKam patīk tas var raizes ciest\\n\\nEs labāk guļu puķēs\\n\\n\\n\\n\\n\\n\\n\\n\\nVēl neesmu dubļos tik dziļi es stidzis\\n\\nVēl spēks man ir atgriezties labākam būt\\n\\nIz sirds vēl dievības gaišums nav nīcis\\n\\nVēl dvēsele augstākas iegribas jūt\\n\\nIkkatram ir uzdevums grūtības nest\\n\\nTā dieva prāts mūs radot spriedis\\n\\nNevienam nav atļauts prom dzīvību mest\\n\\nKaut daudz tas ar dzīvojot raudājis cietis\\n\\nMums augstāks mērķis aiz zvaigznēm ir sprausts\\n\\nKaut šaubās un šaubīsies cilvēka prāts\\n\\nLai jaunam ar līķa palags tiek austs\\n\\nLai asarās paliekam skumdināti\\n\\nBet tomēr mums jātic ka nekrīt ne mats\\n\\nKo neredz un nezina dievības acs\\n\\nMums jādzīvo jātic ka nemirstīgs gars\\n\\nKa ziedēs pēc nāves vēl pavasars\\n\\nTā raižu un grūtību niknajos karos\\n\\nMums debesu līgsmībā dvēseles staros\\n\\n\\n\\n\\n\\n\\n\\n\\n\\nVēl desmit divdesmit gadus \\n\\nUn lugai būs pienācis gals\\n\\nVai slinkojis būtu vai centies\\n\\nReiz trūdēt sauc likteņa balss\\n\\nUn tomēr te dzīvē sapņots\\n\\nPar mūžīgām lietām tiek\\n\\nPar laimi par slavu par godu \\n\\nUz kapa grib laurus lai liek\\n\\nBet lauri un gods un slava\\n\\nLīdz iznīkst kā beidzies tu pats\\n\\nUn tāļāk un atkal tāļāk\\n\\nRit šausmīgais mūžības rats\\n\\n\\n\\n\\n\\n\\n\\n\\n\\nNost reiz skumjību sviedīšu tumšo\\n\\nBeigšu pēc nāves reiz ilgoties\\n\\nIesākšu ticēt ka mērķis ir dzīvei\\n\\nGan tad nāks spēks gan labāki ies\\n\\nTumšajā zilumā spīguļo zvaigznes\\n\\nMūžīgā kārtībā kustas to bars\\n\\nCilvēka likteņa drūmajos viļņos\\n\\nValda bez rimšanas dievības gars\\n\\nĪss gan izrādās dzīvības sprīdis\\n\\nTuvu ir kopā šūpuliskaps\\n\\nTomēr no svara ir katris brīdis\\n\\nDzīve ir laba kad mērķis tai labs\\n\\nTādēļ projām skumjība bēdas\\n\\nStrādāšu centīšos vēl man ir laiks\\n\\nLabošu pagātnes riebīgās pēdas\\n\\nLaime nāks atpakaļ priecīgs būs vaigs\\n\\n\\n\\n\\n\\n\\n\\n\\n\\nMosties mosties reiz svabadais gars\\n\\nCelies uz salauzi kalpības spaidus\\n\\nAtpestī cietējus klusini vaidus \\n\\nMosties brīvības cēlajais gars\\n\\nTumšos varmākas zemē triec\\n\\nSvētos bizuļusgarīdzniekus\\n\\nKuri melš krāpdami debesu niekus\\n\\nTicības māņus pie malas liec\\n\\nZemē kungus kas lepnībā sēž\\n\\nŠķērdīgi putina miljonu sviedrus\\n\\nZemē kundzības draugus un biedrus\\n\\nKas savus brāļus spaida un plēš\\n\\n\\n\\n\\n\\n\\n\\n\\n\\nKur klusā naktī lakstīgalas dzied\\n\\nTur klausīties man labprāt tīkas iet\\n\\nTur bučoties man labprāt tīkas iet\\n\\nTur bučoties ar daiļām meitenēm\\n\\nUn izrauties iz dzīves ķibelēm\\n\\nBet vairāk tīk man tur kur lodes dzied\\n\\nKur asins kaujā brīvie vergi iet\\n\\nKur skaņas dziesmas atskan trokšņainas\\n\\nUn peklē gāžas lepnie varmākas\\n\\n\\n\\n\\n\\n\\n\\n\\n\\nKas staigājot pa košām puķu lejām\\n\\nTik apskaita cik siena viņas dos\\n\\nLai mani nelasa Pie manām dzejām\\n\\nTik piktu prātu viņš sev iemantos\\n\\n\\n\\n\\n\\n'"
      ]
     },
     "execution_count": 53,
     "metadata": {},
     "output_type": "execute_result"
    }
   ],
   "source": [
    "txt"
   ]
  },
  {
   "cell_type": "code",
   "execution_count": null,
   "metadata": {},
   "outputs": [],
   "source": [
    "# Alex Martelli's extra whitespace cleaner\n",
    "# ' '.join(mystring.split())"
   ]
  },
  {
   "cell_type": "code",
   "execution_count": 64,
   "metadata": {},
   "outputs": [
    {
     "data": {
      "text/plain": [
       "1870"
      ]
     },
     "execution_count": 64,
     "metadata": {},
     "output_type": "execute_result"
    }
   ],
   "source": [
    "words = txt.split()\n",
    "len(words)"
   ]
  },
  {
   "cell_type": "code",
   "execution_count": 65,
   "metadata": {},
   "outputs": [
    {
     "data": {
      "text/plain": [
       "1870"
      ]
     },
     "execution_count": 65,
     "metadata": {},
     "output_type": "execute_result"
    }
   ],
   "source": [
    "cwords = [word.title() for word in words]\n",
    "len(cwords)"
   ]
  },
  {
   "cell_type": "code",
   "execution_count": 66,
   "metadata": {},
   "outputs": [
    {
     "data": {
      "text/plain": [
       "1072"
      ]
     },
     "execution_count": 66,
     "metadata": {},
     "output_type": "execute_result"
    }
   ],
   "source": [
    "vdict = { word: cwords.count(word) for word in set(cwords)}\n",
    "len(vdict)"
   ]
  },
  {
   "cell_type": "code",
   "execution_count": 67,
   "metadata": {},
   "outputs": [
    {
     "data": {
      "text/plain": [
       "['Paņemt', 'Joks', 'Liela', 'Raizēm', 'Bučoties']"
      ]
     },
     "execution_count": 67,
     "metadata": {},
     "output_type": "execute_result"
    }
   ],
   "source": [
    "list(vdict.keys())[:5]"
   ]
  },
  {
   "cell_type": "code",
   "execution_count": 68,
   "metadata": {},
   "outputs": [
    {
     "data": {
      "text/plain": [
       "'Un'"
      ]
     },
     "execution_count": 68,
     "metadata": {},
     "output_type": "execute_result"
    }
   ],
   "source": [
    "max(vdict, key = lambda k: vdict[k])"
   ]
  },
  {
   "cell_type": "code",
   "execution_count": 69,
   "metadata": {},
   "outputs": [
    {
     "data": {
      "text/plain": [
       "76"
      ]
     },
     "execution_count": 69,
     "metadata": {},
     "output_type": "execute_result"
    }
   ],
   "source": [
    "vdict['Un']"
   ]
  },
  {
   "cell_type": "code",
   "execution_count": 70,
   "metadata": {},
   "outputs": [
    {
     "data": {
      "text/plain": [
       "1072"
      ]
     },
     "execution_count": 70,
     "metadata": {},
     "output_type": "execute_result"
    }
   ],
   "source": [
    "sortedWords = sorted(vdict.items(), key = lambda x: x[1])\n",
    "len(sortedWords)"
   ]
  },
  {
   "cell_type": "code",
   "execution_count": 71,
   "metadata": {},
   "outputs": [
    {
     "data": {
      "text/plain": [
       "dict_items"
      ]
     },
     "execution_count": 71,
     "metadata": {},
     "output_type": "execute_result"
    }
   ],
   "source": [
    "type(vdict.items())"
   ]
  },
  {
   "cell_type": "code",
   "execution_count": 61,
   "metadata": {},
   "outputs": [],
   "source": [
    "sortedWords.reverse()"
   ]
  },
  {
   "cell_type": "code",
   "execution_count": 62,
   "metadata": {},
   "outputs": [
    {
     "data": {
      "text/plain": [
       "[('Un', 76),\n",
       " ('Ir', 24),\n",
       " ('Tu', 21),\n",
       " ('Tik', 21),\n",
       " ('Vēl', 21),\n",
       " ('Bet', 15),\n",
       " ('Kas', 15),\n",
       " ('Nav', 14),\n",
       " ('Man', 14),\n",
       " ('Par', 13)]"
      ]
     },
     "execution_count": 62,
     "metadata": {},
     "output_type": "execute_result"
    }
   ],
   "source": [
    "sortedWords[:10]"
   ]
  },
  {
   "cell_type": "code",
   "execution_count": 63,
   "metadata": {},
   "outputs": [
    {
     "data": {
      "text/plain": [
       "[('Un', 76),\n",
       " ('Ir', 24),\n",
       " ('Tu', 21),\n",
       " ('Tik', 21),\n",
       " ('Vēl', 21),\n",
       " ('Bet', 15),\n",
       " ('Kas', 15),\n",
       " ('Nav', 14),\n",
       " ('Man', 14),\n",
       " ('Par', 13),\n",
       " ('Kā', 13),\n",
       " ('Kur', 13),\n",
       " ('Lai', 12),\n",
       " ('Kam', 11),\n",
       " ('Pēc', 11),\n",
       " ('Tev', 11),\n",
       " ('Ar', 11),\n",
       " ('Tie', 10),\n",
       " ('Reiz', 10),\n",
       " ('Ka', 10),\n",
       " ('Uz', 10),\n",
       " ('Pie', 9),\n",
       " ('Būs', 9),\n",
       " ('Tur', 9),\n",
       " ('Vai', 9),\n",
       " ('No', 9),\n",
       " ('Es', 9),\n",
       " ('Viss', 9),\n",
       " ('Tad', 8),\n",
       " ('Kad', 8),\n",
       " ('Līdz', 8),\n",
       " ('Mums', 7),\n",
       " ('Cik', 7),\n",
       " ('Ja', 6),\n",
       " ('Sauc', 6),\n",
       " ('Bij', 6),\n",
       " ('Gars', 6),\n",
       " ('Projām', 6),\n",
       " ('Iet', 6),\n",
       " ('Tās', 6),\n",
       " ('Nu', 5),\n",
       " ('Likumīgi', 5),\n",
       " ('Sirds', 5),\n",
       " ('Dzīves', 5),\n",
       " ('Laiks', 5),\n",
       " ('Gan', 5),\n",
       " ('Tā', 5),\n",
       " ('Jau', 5),\n",
       " ('Iedzer', 5),\n",
       " ('Tomēr', 5)]"
      ]
     },
     "execution_count": 63,
     "metadata": {},
     "output_type": "execute_result"
    }
   ],
   "source": [
    "sortedWords[:50]"
   ]
  },
  {
   "cell_type": "code",
   "execution_count": 74,
   "metadata": {},
   "outputs": [],
   "source": [
    "from collections import Counter"
   ]
  },
  {
   "cell_type": "code",
   "execution_count": 75,
   "metadata": {},
   "outputs": [],
   "source": [
    "cnt = Counter(cwords)"
   ]
  },
  {
   "cell_type": "code",
   "execution_count": 76,
   "metadata": {},
   "outputs": [
    {
     "data": {
      "text/plain": [
       "[('Un', 76),\n",
       " ('Ir', 24),\n",
       " ('Tik', 21),\n",
       " ('Vēl', 21),\n",
       " ('Tu', 21),\n",
       " ('Bet', 15),\n",
       " ('Kas', 15),\n",
       " ('Nav', 14),\n",
       " ('Man', 14),\n",
       " ('Par', 13)]"
      ]
     },
     "execution_count": 76,
     "metadata": {},
     "output_type": "execute_result"
    }
   ],
   "source": [
    "cnt.most_common(10)"
   ]
  }
 ],
 "metadata": {
  "kernelspec": {
   "display_name": "Python 3",
   "language": "python",
   "name": "python3"
  },
  "language_info": {
   "codemirror_mode": {
    "name": "ipython",
    "version": 3
   },
   "file_extension": ".py",
   "mimetype": "text/x-python",
   "name": "python",
   "nbconvert_exporter": "python",
   "pygments_lexer": "ipython3",
   "version": "3.6.4"
  }
 },
 "nbformat": 4,
 "nbformat_minor": 2
}
