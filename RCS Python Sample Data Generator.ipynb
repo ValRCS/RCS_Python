{
 "cells": [
  {
   "cell_type": "markdown",
   "metadata": {},
   "source": [
    "## RCS Python Sample Data Generation"
   ]
  },
  {
   "cell_type": "code",
   "execution_count": 3,
   "metadata": {},
   "outputs": [],
   "source": [
    "from faker import Faker"
   ]
  },
  {
   "cell_type": "code",
   "execution_count": 2,
   "metadata": {},
   "outputs": [
    {
     "name": "stdout",
     "output_type": "stream",
     "text": [
      "Collecting Faker\n",
      "  Downloading https://files.pythonhosted.org/packages/e3/d8/e4967bdae2961bb4ab8e23ace6fcef74312fdefae591a46424b8568e16ee/Faker-0.8.16-py2.py3-none-any.whl (742kB)\n",
      "Requirement already satisfied: python-dateutil>=2.4 in c:\\programdata\\anaconda3\\lib\\site-packages (from Faker)\n",
      "Requirement already satisfied: six>=1.10 in c:\\programdata\\anaconda3\\lib\\site-packages (from Faker)\n",
      "Collecting text-unidecode==1.2 (from Faker)\n",
      "  Downloading https://files.pythonhosted.org/packages/79/42/d717cc2b4520fb09e45b344b1b0b4e81aa672001dd128c180fabc655c341/text_unidecode-1.2-py2.py3-none-any.whl (77kB)\n",
      "Installing collected packages: text-unidecode, Faker\n",
      "Successfully installed Faker-0.8.16 text-unidecode-1.2\n"
     ]
    },
    {
     "name": "stderr",
     "output_type": "stream",
     "text": [
      "You are using pip version 9.0.1, however version 10.0.1 is available.\n",
      "You should consider upgrading via the 'python -m pip install --upgrade pip' command.\n"
     ]
    }
   ],
   "source": [
    "!pip install Faker"
   ]
  },
  {
   "cell_type": "code",
   "execution_count": 4,
   "metadata": {},
   "outputs": [],
   "source": [
    "data = Faker()"
   ]
  },
  {
   "cell_type": "code",
   "execution_count": 5,
   "metadata": {},
   "outputs": [
    {
     "data": {
      "text/plain": [
       "['_Generator__config',\n",
       " '_Generator__format_token',\n",
       " '_Generator__random',\n",
       " '__class__',\n",
       " '__delattr__',\n",
       " '__dict__',\n",
       " '__dir__',\n",
       " '__doc__',\n",
       " '__eq__',\n",
       " '__format__',\n",
       " '__ge__',\n",
       " '__getattribute__',\n",
       " '__gt__',\n",
       " '__hash__',\n",
       " '__init__',\n",
       " '__init_subclass__',\n",
       " '__le__',\n",
       " '__lt__',\n",
       " '__module__',\n",
       " '__ne__',\n",
       " '__new__',\n",
       " '__reduce__',\n",
       " '__reduce_ex__',\n",
       " '__repr__',\n",
       " '__setattr__',\n",
       " '__sizeof__',\n",
       " '__str__',\n",
       " '__subclasshook__',\n",
       " '__weakref__',\n",
       " 'add_provider',\n",
       " 'address',\n",
       " 'am_pm',\n",
       " 'ascii_company_email',\n",
       " 'ascii_email',\n",
       " 'ascii_free_email',\n",
       " 'ascii_safe_email',\n",
       " 'bank_country',\n",
       " 'bban',\n",
       " 'binary',\n",
       " 'boolean',\n",
       " 'bothify',\n",
       " 'bs',\n",
       " 'building_number',\n",
       " 'catch_phrase',\n",
       " 'century',\n",
       " 'chrome',\n",
       " 'city',\n",
       " 'city_prefix',\n",
       " 'city_suffix',\n",
       " 'color_name',\n",
       " 'company',\n",
       " 'company_email',\n",
       " 'company_suffix',\n",
       " 'country',\n",
       " 'country_code',\n",
       " 'credit_card_expire',\n",
       " 'credit_card_full',\n",
       " 'credit_card_number',\n",
       " 'credit_card_provider',\n",
       " 'credit_card_security_code',\n",
       " 'cryptocurrency',\n",
       " 'cryptocurrency_code',\n",
       " 'cryptocurrency_name',\n",
       " 'currency',\n",
       " 'currency_code',\n",
       " 'currency_name',\n",
       " 'date',\n",
       " 'date_between',\n",
       " 'date_between_dates',\n",
       " 'date_object',\n",
       " 'date_this_century',\n",
       " 'date_this_decade',\n",
       " 'date_this_month',\n",
       " 'date_this_year',\n",
       " 'date_time',\n",
       " 'date_time_ad',\n",
       " 'date_time_between',\n",
       " 'date_time_between_dates',\n",
       " 'date_time_this_century',\n",
       " 'date_time_this_decade',\n",
       " 'date_time_this_month',\n",
       " 'date_time_this_year',\n",
       " 'day_of_month',\n",
       " 'day_of_week',\n",
       " 'domain_name',\n",
       " 'domain_word',\n",
       " 'ean',\n",
       " 'ean13',\n",
       " 'ean8',\n",
       " 'email',\n",
       " 'file_extension',\n",
       " 'file_name',\n",
       " 'file_path',\n",
       " 'firefox',\n",
       " 'first_name',\n",
       " 'first_name_female',\n",
       " 'first_name_male',\n",
       " 'format',\n",
       " 'free_email',\n",
       " 'free_email_domain',\n",
       " 'future_date',\n",
       " 'future_datetime',\n",
       " 'geo_coordinate',\n",
       " 'get_formatter',\n",
       " 'get_providers',\n",
       " 'hex_color',\n",
       " 'hexify',\n",
       " 'iban',\n",
       " 'image_url',\n",
       " 'internet_explorer',\n",
       " 'ipv4',\n",
       " 'ipv4_network_class',\n",
       " 'ipv4_private',\n",
       " 'ipv4_public',\n",
       " 'ipv6',\n",
       " 'isbn10',\n",
       " 'isbn13',\n",
       " 'iso8601',\n",
       " 'job',\n",
       " 'language_code',\n",
       " 'last_name',\n",
       " 'last_name_female',\n",
       " 'last_name_male',\n",
       " 'latitude',\n",
       " 'lexify',\n",
       " 'license_plate',\n",
       " 'linux_platform_token',\n",
       " 'linux_processor',\n",
       " 'locale',\n",
       " 'longitude',\n",
       " 'mac_address',\n",
       " 'mac_platform_token',\n",
       " 'mac_processor',\n",
       " 'md5',\n",
       " 'military_apo',\n",
       " 'military_dpo',\n",
       " 'military_ship',\n",
       " 'military_state',\n",
       " 'mime_type',\n",
       " 'month',\n",
       " 'month_name',\n",
       " 'msisdn',\n",
       " 'name',\n",
       " 'name_female',\n",
       " 'name_male',\n",
       " 'null_boolean',\n",
       " 'numerify',\n",
       " 'opera',\n",
       " 'paragraph',\n",
       " 'paragraphs',\n",
       " 'parse',\n",
       " 'password',\n",
       " 'past_date',\n",
       " 'past_datetime',\n",
       " 'phone_number',\n",
       " 'postalcode',\n",
       " 'postalcode_plus4',\n",
       " 'postcode',\n",
       " 'prefix',\n",
       " 'prefix_female',\n",
       " 'prefix_male',\n",
       " 'profile',\n",
       " 'provider',\n",
       " 'providers',\n",
       " 'pybool',\n",
       " 'pydecimal',\n",
       " 'pydict',\n",
       " 'pyfloat',\n",
       " 'pyint',\n",
       " 'pyiterable',\n",
       " 'pylist',\n",
       " 'pyset',\n",
       " 'pystr',\n",
       " 'pystruct',\n",
       " 'pytuple',\n",
       " 'random',\n",
       " 'random_digit',\n",
       " 'random_digit_not_null',\n",
       " 'random_digit_not_null_or_empty',\n",
       " 'random_digit_or_empty',\n",
       " 'random_element',\n",
       " 'random_int',\n",
       " 'random_letter',\n",
       " 'random_lowercase_letter',\n",
       " 'random_number',\n",
       " 'random_sample',\n",
       " 'random_sample_unique',\n",
       " 'random_uppercase_letter',\n",
       " 'randomize_nb_elements',\n",
       " 'rgb_color',\n",
       " 'rgb_css_color',\n",
       " 'safari',\n",
       " 'safe_color_name',\n",
       " 'safe_email',\n",
       " 'safe_hex_color',\n",
       " 'secondary_address',\n",
       " 'seed',\n",
       " 'seed_instance',\n",
       " 'sentence',\n",
       " 'sentences',\n",
       " 'set_formatter',\n",
       " 'sha1',\n",
       " 'sha256',\n",
       " 'simple_profile',\n",
       " 'slug',\n",
       " 'ssn',\n",
       " 'state',\n",
       " 'state_abbr',\n",
       " 'street_address',\n",
       " 'street_name',\n",
       " 'street_suffix',\n",
       " 'suffix',\n",
       " 'suffix_female',\n",
       " 'suffix_male',\n",
       " 'text',\n",
       " 'time',\n",
       " 'time_delta',\n",
       " 'time_object',\n",
       " 'time_series',\n",
       " 'timezone',\n",
       " 'tld',\n",
       " 'unix_device',\n",
       " 'unix_partition',\n",
       " 'unix_time',\n",
       " 'uri',\n",
       " 'uri_extension',\n",
       " 'uri_page',\n",
       " 'uri_path',\n",
       " 'url',\n",
       " 'user_agent',\n",
       " 'user_name',\n",
       " 'uuid4',\n",
       " 'windows_platform_token',\n",
       " 'word',\n",
       " 'words',\n",
       " 'year',\n",
       " 'zipcode',\n",
       " 'zipcode_plus4']"
      ]
     },
     "execution_count": 5,
     "metadata": {},
     "output_type": "execute_result"
    }
   ],
   "source": [
    "dir(data)"
   ]
  },
  {
   "cell_type": "code",
   "execution_count": 7,
   "metadata": {},
   "outputs": [
    {
     "data": {
      "text/plain": [
       "'James Blake'"
      ]
     },
     "execution_count": 7,
     "metadata": {},
     "output_type": "execute_result"
    }
   ],
   "source": [
    "data.name()"
   ]
  },
  {
   "cell_type": "code",
   "execution_count": 9,
   "metadata": {},
   "outputs": [],
   "source": [
    "ldata = Faker('lv_LV')"
   ]
  },
  {
   "cell_type": "code",
   "execution_count": 10,
   "metadata": {},
   "outputs": [
    {
     "data": {
      "text/plain": [
       "'Zvaigzne, Ziedonis'"
      ]
     },
     "execution_count": 10,
     "metadata": {},
     "output_type": "execute_result"
    }
   ],
   "source": [
    "ldata.name()"
   ]
  },
  {
   "cell_type": "code",
   "execution_count": 11,
   "metadata": {},
   "outputs": [
    {
     "data": {
      "text/plain": [
       "('BURST', 'Burstcoin')"
      ]
     },
     "execution_count": 11,
     "metadata": {},
     "output_type": "execute_result"
    }
   ],
   "source": [
    "ldata.cryptocurrency()"
   ]
  },
  {
   "cell_type": "code",
   "execution_count": 12,
   "metadata": {},
   "outputs": [
    {
     "data": {
      "text/plain": [
       "'Opera/8.95.(X11; Linux i686; se-NO) Presto/2.9.185 Version/10.00'"
      ]
     },
     "execution_count": 12,
     "metadata": {},
     "output_type": "execute_result"
    }
   ],
   "source": [
    "ldata.opera()"
   ]
  },
  {
   "cell_type": "code",
   "execution_count": 13,
   "metadata": {},
   "outputs": [
    {
     "data": {
      "text/plain": [
       "'019 Vera Underpass Apt. 488'"
      ]
     },
     "execution_count": 13,
     "metadata": {},
     "output_type": "execute_result"
    }
   ],
   "source": [
    "ldata.street_address()"
   ]
  },
  {
   "cell_type": "code",
   "execution_count": 14,
   "metadata": {},
   "outputs": [
    {
     "data": {
      "text/plain": [
       "'Zigrīda Apinis'"
      ]
     },
     "execution_count": 14,
     "metadata": {},
     "output_type": "execute_result"
    }
   ],
   "source": [
    "ldata.name()"
   ]
  },
  {
   "cell_type": "code",
   "execution_count": 17,
   "metadata": {},
   "outputs": [
    {
     "data": {
      "text/plain": [
       "'1989'"
      ]
     },
     "execution_count": 17,
     "metadata": {},
     "output_type": "execute_result"
    }
   ],
   "source": [
    "ldata.year()"
   ]
  },
  {
   "cell_type": "code",
   "execution_count": 15,
   "metadata": {},
   "outputs": [
    {
     "data": {
      "text/plain": [
       "('WAVES', 'Waves Platform')"
      ]
     },
     "execution_count": 15,
     "metadata": {},
     "output_type": "execute_result"
    }
   ],
   "source": [
    "ldata.cryptocurrency()"
   ]
  },
  {
   "cell_type": "code",
   "execution_count": 34,
   "metadata": {},
   "outputs": [],
   "source": [
    "import random"
   ]
  },
  {
   "cell_type": "code",
   "execution_count": 37,
   "metadata": {},
   "outputs": [],
   "source": [
    "def createData(cnt, locale=None):\n",
    "    lst=[]\n",
    "    if not locale:\n",
    "        data = Faker()\n",
    "    else:\n",
    "        data = Faker(locale)\n",
    "        \n",
    "    for i in range(cnt):\n",
    "        o={}\n",
    "        o['UID']=i\n",
    "        o['FirstName']=data.first_name()\n",
    "        o['LastName']=data.last_name()\n",
    "        o['Born']=data.year()\n",
    "        o['City']=data.city()\n",
    "        o['Email']=data.email()\n",
    "        o['Crypto']=data.cryptocurrency()\n",
    "        o['FavoriteURL']=data.url()\n",
    "        o['Description']=data.text()\n",
    "        o['Phone']=[]\n",
    "        for _ in range(random.randint(1,5)):\n",
    "            o['Phone'].append(data.phone_number())\n",
    "        lst.append(o)\n",
    "    \n",
    "    return lst\n",
    "    \n",
    "    "
   ]
  },
  {
   "cell_type": "code",
   "execution_count": 38,
   "metadata": {},
   "outputs": [
    {
     "data": {
      "text/plain": [
       "[{'Born': '2007',\n",
       "  'City': 'Cauneside',\n",
       "  'Crypto': ('FTH', 'Feathercoin'),\n",
       "  'Description': 'Natus voluptas repellat consequatur. Nihil nobis reprehenderit libero sunt nulla.\\nVeniam quia ab consectetur voluptatibus reprehenderit debitis sint.',\n",
       "  'Email': 'kaspars94@lacis-krievins.biz',\n",
       "  'FavoriteURL': 'http://www.purins.com/',\n",
       "  'FirstName': 'Aija',\n",
       "  'LastName': 'Apsītis',\n",
       "  'Phone': ['+371 22654114', '+371 17411292', '+371 82836492'],\n",
       "  'UID': 0},\n",
       " {'Born': '2001',\n",
       "  'City': 'Port Augustsstad',\n",
       "  'Crypto': ('BCH', 'Bitcoin Cash'),\n",
       "  'Description': 'Ipsam accusantium eos odit.\\nAsperiores blanditiis mollitia praesentium cum sapiente dolore. Nulla excepturi nulla culpa esse eius reprehenderit.',\n",
       "  'Email': 'dzintarsvanags@kalejs-kreslins.org',\n",
       "  'FavoriteURL': 'https://www.zvaigzne.info/',\n",
       "  'FirstName': 'Nikolajs',\n",
       "  'LastName': 'Ziemelis',\n",
       "  'Phone': ['+371 73927263', '+(371) 77959887', '+37141903089'],\n",
       "  'UID': 1},\n",
       " {'Born': '2010',\n",
       "  'City': 'Zvaigznefort',\n",
       "  'Crypto': ('NEM', 'XEM'),\n",
       "  'Description': 'Enim temporibus porro vitae explicabo nemo consequuntur dolorum. Reprehenderit accusantium mollitia dolorum soluta. Perspiciatis eius inventore impedit ipsam veniam.',\n",
       "  'Email': 'cjaunzems@yahoo.com',\n",
       "  'FavoriteURL': 'http://alksnis-skujins.org/',\n",
       "  'FirstName': 'Jūla',\n",
       "  'LastName': 'Lagzdiņš',\n",
       "  'Phone': ['+37182427365',\n",
       "   '+371 57494435',\n",
       "   '+(371) 35580513',\n",
       "   '+37176997474'],\n",
       "  'UID': 2},\n",
       " {'Born': '1989',\n",
       "  'City': 'Avotiņšberg',\n",
       "  'Crypto': ('FTH', 'Feathercoin'),\n",
       "  'Description': 'Nihil a atque laudantium quae voluptates eaque laborum. Nam aspernatur ipsam laudantium doloremque modi. Eos labore quaerat velit omnis dolor iste tempora. Assumenda necessitatibus dignissimos.',\n",
       "  'Email': 'dzenisartis@yahoo.com',\n",
       "  'FavoriteURL': 'https://krumins.com/',\n",
       "  'FirstName': 'Hanss',\n",
       "  'LastName': 'Riekstiņš',\n",
       "  'Phone': ['+37125863621'],\n",
       "  'UID': 3},\n",
       " {'Born': '1989',\n",
       "  'City': 'Lake Ģirts',\n",
       "  'Crypto': ('MSC', 'Omni'),\n",
       "  'Description': 'Quaerat sunt debitis. Eaque tempore perferendis quam dolore repellat ratione voluptas. Fugit nesciunt consectetur eos fugiat quis.',\n",
       "  'Email': 'lvilks@hotmail.com',\n",
       "  'FavoriteURL': 'https://www.sprogis.com/',\n",
       "  'FirstName': 'Vilma',\n",
       "  'LastName': 'Zvirbulis',\n",
       "  'Phone': ['+37146458585',\n",
       "   '+371 72765881',\n",
       "   '+(371) 21770943',\n",
       "   '+(371) 54641642'],\n",
       "  'UID': 4},\n",
       " {'Born': '1977',\n",
       "  'City': 'North Zelmaberg',\n",
       "  'Crypto': ('BC', 'BlackCoin'),\n",
       "  'Description': 'Corporis amet molestiae beatae. Aut possimus nam atque. Ex repellat ratione dolores libero.\\nFacilis reprehenderit quibusdam tenetur dolor assumenda. Neque adipisci impedit.',\n",
       "  'Email': 'svitols@sprogis.com',\n",
       "  'FavoriteURL': 'https://strazdins.com/',\n",
       "  'FirstName': 'Roberts',\n",
       "  'LastName': 'Skuja',\n",
       "  'Phone': ['+37107395161', '+(371) 23375197', '+37178255498', '+37193169667'],\n",
       "  'UID': 5},\n",
       " {'Born': '2000',\n",
       "  'City': 'South Emmamouth',\n",
       "  'Crypto': ('DRC', 'Decred'),\n",
       "  'Description': 'Ea facilis perferendis. Optio earum magni dolore quo similique odit.\\nFacere accusamus unde facilis eos accusantium quaerat iure. Harum assumenda provident eius. Nobis a incidunt blanditiis alias.',\n",
       "  'Email': 'leontine00@hotmail.com',\n",
       "  'FavoriteURL': 'https://www.kundzins.org/',\n",
       "  'FirstName': 'Roberts',\n",
       "  'LastName': 'Sproģis',\n",
       "  'Phone': ['+(371) 08167174',\n",
       "   '+371 53744269',\n",
       "   '+(371) 31467491',\n",
       "   '+(371) 39385039',\n",
       "   '+37109968538'],\n",
       "  'UID': 6},\n",
       " {'Born': '1981',\n",
       "  'City': 'Lūsisfort',\n",
       "  'Crypto': ('DOGE', 'Dogecoin'),\n",
       "  'Description': 'Perspiciatis ipsum perspiciatis quibusdam tempore. Id aliquam ab nulla neque.\\nIure veniam natus corporis officia sint minus. Placeat at porro cumque corrupti voluptates aperiam.',\n",
       "  'Email': 'grudzitis@hotmail.com',\n",
       "  'FavoriteURL': 'http://birznieks-purmals.org/',\n",
       "  'FirstName': 'Kristers',\n",
       "  'LastName': 'Liepiņš',\n",
       "  'Phone': ['+37186087909', '+(371) 46723286'],\n",
       "  'UID': 7},\n",
       " {'Born': '2009',\n",
       "  'City': 'Johansbury',\n",
       "  'Crypto': ('XMR', 'Monero'),\n",
       "  'Description': 'Exercitationem iste non aut.',\n",
       "  'Email': 'viesturskalejs@krastins.com',\n",
       "  'FavoriteURL': 'http://birznieks-purmals.com/',\n",
       "  'FirstName': 'Diāna',\n",
       "  'LastName': 'Kalējs',\n",
       "  'Phone': ['+(371) 60322027',\n",
       "   '+37118037508',\n",
       "   '+371 63268407',\n",
       "   '+(371) 16331194',\n",
       "   '+37167286470'],\n",
       "  'UID': 8},\n",
       " {'Born': '1997',\n",
       "  'City': 'Paulīnafurt',\n",
       "  'Crypto': ('EMC', 'Emercoin'),\n",
       "  'Description': 'Labore amet quia soluta nam accusantium magni nihil. Commodi eveniet possimus perferendis magni. Quas dicta officia incidunt occaecati quasi. Molestiae minima officia neque maxime.',\n",
       "  'Email': 'valijasilins@dumins.net',\n",
       "  'FavoriteURL': 'https://www.prieditis-baltins.com/',\n",
       "  'FirstName': 'Margareta',\n",
       "  'LastName': 'Puriņš',\n",
       "  'Phone': ['+37106899581'],\n",
       "  'UID': 9},\n",
       " {'Born': '2007',\n",
       "  'City': 'Liepiņštown',\n",
       "  'Crypto': ('AUR', 'Auroracoin'),\n",
       "  'Description': 'Repellat esse voluptates amet beatae. Ducimus reprehenderit odit molestiae.\\nCulpa ad eaque earum dicta eaque illum quisquam. Dolorem tempore vel eius.',\n",
       "  'Email': 'vitaalksnis@liepa.info',\n",
       "  'FavoriteURL': 'http://www.karklins.com/',\n",
       "  'FirstName': 'Irēna',\n",
       "  'LastName': 'Vanags',\n",
       "  'Phone': ['+37155447041', '+(371) 22954167'],\n",
       "  'UID': 10},\n",
       " {'Born': '1978',\n",
       "  'City': 'East Elizabeteland',\n",
       "  'Crypto': ('GRC', 'Gridcoin'),\n",
       "  'Description': 'Ut unde temporibus aperiam dolor laudantium nesciunt sint. Cupiditate ab velit.',\n",
       "  'Email': 'licisolgerts@rubenis.com',\n",
       "  'FavoriteURL': 'http://alksnis-avotins.com/',\n",
       "  'FirstName': 'Silvija',\n",
       "  'LastName': 'Dūmiņš',\n",
       "  'Phone': ['+37123192224', '+37148590668', '+371 51499663'],\n",
       "  'UID': 11}]"
      ]
     },
     "execution_count": 38,
     "metadata": {},
     "output_type": "execute_result"
    }
   ],
   "source": [
    "a = createData(12, 'lv_LV')\n",
    "a"
   ]
  },
  {
   "cell_type": "code",
   "execution_count": 20,
   "metadata": {},
   "outputs": [
    {
     "data": {
      "text/plain": [
       "[{'Name': 'Heather Gutierrez'},\n",
       " {'Name': 'David Stevens'},\n",
       " {'Name': 'Michael White'},\n",
       " {'Name': 'Jeffrey Berger'},\n",
       " {'Name': 'Catherine Montgomery'},\n",
       " {'Name': 'Michael Melton'},\n",
       " {'Name': 'Ronald Perkins'},\n",
       " {'Name': 'Jonathan Frank'},\n",
       " {'Name': 'Mr. Scott Jackson'},\n",
       " {'Name': 'Jeremy Benjamin'}]"
      ]
     },
     "execution_count": 20,
     "metadata": {},
     "output_type": "execute_result"
    }
   ],
   "source": [
    "a"
   ]
  }
 ],
 "metadata": {
  "kernelspec": {
   "display_name": "Python 3",
   "language": "python",
   "name": "python3"
  },
  "language_info": {
   "codemirror_mode": {
    "name": "ipython",
    "version": 3
   },
   "file_extension": ".py",
   "mimetype": "text/x-python",
   "name": "python",
   "nbconvert_exporter": "python",
   "pygments_lexer": "ipython3",
   "version": "3.6.4"
  }
 },
 "nbformat": 4,
 "nbformat_minor": 2
}
