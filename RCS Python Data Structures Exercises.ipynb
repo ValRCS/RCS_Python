{
 "cells": [
  {
   "cell_type": "markdown",
   "metadata": {},
   "source": [
    "## RCS Python Data Structures Exercises"
   ]
  },
  {
   "cell_type": "code",
   "execution_count": null,
   "metadata": {},
   "outputs": [],
   "source": [
    "mydata = [{'Born': '2007',\n",
    "  'City': 'Cauneside',\n",
    "  'Crypto': ('FTH', 'Feathercoin'),\n",
    "  'Description': 'Natus voluptas repellat consequatur. Nihil nobis reprehenderit libero sunt nulla.\\nVeniam quia ab consectetur voluptatibus reprehenderit debitis sint.',\n",
    "  'Email': 'kaspars94@lacis-krievins.biz',\n",
    "  'FavoriteURL': 'http://www.purins.com/',\n",
    "  'FirstName': 'Aija',\n",
    "  'LastName': 'Apsītis',\n",
    "  'Phone': ['+371 22654114', '+371 17411292', '+371 82836492'],\n",
    "  'UID': 0},\n",
    " {'Born': '2001',\n",
    "  'City': 'Port Augustsstad',\n",
    "  'Crypto': ('BCH', 'Bitcoin Cash'),\n",
    "  'Description': 'Ipsam accusantium eos odit.\\nAsperiores blanditiis mollitia praesentium cum sapiente dolore. Nulla excepturi nulla culpa esse eius reprehenderit.',\n",
    "  'Email': 'dzintarsvanags@kalejs-kreslins.org',\n",
    "  'FavoriteURL': 'https://www.zvaigzne.info/',\n",
    "  'FirstName': 'Nikolajs',\n",
    "  'LastName': 'Ziemelis',\n",
    "  'Phone': ['+371 73927263', '+(371) 77959887', '+37141903089'],\n",
    "  'UID': 1},\n",
    " {'Born': '2010',\n",
    "  'City': 'Zvaigznefort',\n",
    "  'Crypto': ('NEM', 'XEM'),\n",
    "  'Description': 'Enim temporibus porro vitae explicabo nemo consequuntur dolorum. Reprehenderit accusantium mollitia dolorum soluta. Perspiciatis eius inventore impedit ipsam veniam.',\n",
    "  'Email': 'cjaunzems@yahoo.com',\n",
    "  'FavoriteURL': 'http://alksnis-skujins.org/',\n",
    "  'FirstName': 'Jūla',\n",
    "  'LastName': 'Lagzdiņš',\n",
    "  'Phone': ['+37182427365',\n",
    "   '+371 57494435',\n",
    "   '+(371) 35580513',\n",
    "   '+37176997474'],\n",
    "  'UID': 2},\n",
    " {'Born': '1989',\n",
    "  'City': 'Avotiņšberg',\n",
    "  'Crypto': ('FTH', 'Feathercoin'),\n",
    "  'Description': 'Nihil a atque laudantium quae voluptates eaque laborum. Nam aspernatur ipsam laudantium doloremque modi. Eos labore quaerat velit omnis dolor iste tempora. Assumenda necessitatibus dignissimos.',\n",
    "  'Email': 'dzenisartis@yahoo.com',\n",
    "  'FavoriteURL': 'https://krumins.com/',\n",
    "  'FirstName': 'Hanss',\n",
    "  'LastName': 'Riekstiņš',\n",
    "  'Phone': ['+37125863621'],\n",
    "  'UID': 3},\n",
    " {'Born': '1989',\n",
    "  'City': 'Lake Ģirts',\n",
    "  'Crypto': ('MSC', 'Omni'),\n",
    "  'Description': 'Quaerat sunt debitis. Eaque tempore perferendis quam dolore repellat ratione voluptas. Fugit nesciunt consectetur eos fugiat quis.',\n",
    "  'Email': 'lvilks@hotmail.com',\n",
    "  'FavoriteURL': 'https://www.sprogis.com/',\n",
    "  'FirstName': 'Vilma',\n",
    "  'LastName': 'Zvirbulis',\n",
    "  'Phone': ['+37146458585',\n",
    "   '+371 72765881',\n",
    "   '+(371) 21770943',\n",
    "   '+(371) 54641642'],\n",
    "  'UID': 4},\n",
    " {'Born': '1977',\n",
    "  'City': 'North Zelmaberg',\n",
    "  'Crypto': ('BC', 'BlackCoin'),\n",
    "  'Description': 'Corporis amet molestiae beatae. Aut possimus nam atque. Ex repellat ratione dolores libero.\\nFacilis reprehenderit quibusdam tenetur dolor assumenda. Neque adipisci impedit.',\n",
    "  'Email': 'svitols@sprogis.com',\n",
    "  'FavoriteURL': 'https://strazdins.com/',\n",
    "  'FirstName': 'Roberts',\n",
    "  'LastName': 'Skuja',\n",
    "  'Phone': ['+37107395161', '+(371) 23375197', '+37178255498', '+37193169667'],\n",
    "  'UID': 5},\n",
    " {'Born': '2000',\n",
    "  'City': 'South Emmamouth',\n",
    "  'Crypto': ('DRC', 'Decred'),\n",
    "  'Description': 'Ea facilis perferendis. Optio earum magni dolore quo similique odit.\\nFacere accusamus unde facilis eos accusantium quaerat iure. Harum assumenda provident eius. Nobis a incidunt blanditiis alias.',\n",
    "  'Email': 'leontine00@hotmail.com',\n",
    "  'FavoriteURL': 'https://www.kundzins.org/',\n",
    "  'FirstName': 'Roberts',\n",
    "  'LastName': 'Sproģis',\n",
    "  'Phone': ['+(371) 08167174',\n",
    "   '+371 53744269',\n",
    "   '+(371) 31467491',\n",
    "   '+(371) 39385039',\n",
    "   '+37109968538'],\n",
    "  'UID': 6},\n",
    " {'Born': '1981',\n",
    "  'City': 'Lūsisfort',\n",
    "  'Crypto': ('DOGE', 'Dogecoin'),\n",
    "  'Description': 'Perspiciatis ipsum perspiciatis quibusdam tempore. Id aliquam ab nulla neque.\\nIure veniam natus corporis officia sint minus. Placeat at porro cumque corrupti voluptates aperiam.',\n",
    "  'Email': 'grudzitis@hotmail.com',\n",
    "  'FavoriteURL': 'http://birznieks-purmals.org/',\n",
    "  'FirstName': 'Kristers',\n",
    "  'LastName': 'Liepiņš',\n",
    "  'Phone': ['+37186087909', '+(371) 46723286'],\n",
    "  'UID': 7},\n",
    " {'Born': '2009',\n",
    "  'City': 'Johansbury',\n",
    "  'Crypto': ('XMR', 'Monero'),\n",
    "  'Description': 'Exercitationem iste non aut.',\n",
    "  'Email': 'viesturskalejs@krastins.com',\n",
    "  'FavoriteURL': 'http://birznieks-purmals.com/',\n",
    "  'FirstName': 'Diāna',\n",
    "  'LastName': 'Kalējs',\n",
    "  'Phone': ['+(371) 60322027',\n",
    "   '+37118037508',\n",
    "   '+371 63268407',\n",
    "   '+(371) 16331194',\n",
    "   '+37167286470'],\n",
    "  'UID': 8},\n",
    " {'Born': '1997',\n",
    "  'City': 'Paulīnafurt',\n",
    "  'Crypto': ('EMC', 'Emercoin'),\n",
    "  'Description': 'Labore amet quia soluta nam accusantium magni nihil. Commodi eveniet possimus perferendis magni. Quas dicta officia incidunt occaecati quasi. Molestiae minima officia neque maxime.',\n",
    "  'Email': 'valijasilins@dumins.net',\n",
    "  'FavoriteURL': 'https://www.prieditis-baltins.com/',\n",
    "  'FirstName': 'Margareta',\n",
    "  'LastName': 'Puriņš',\n",
    "  'Phone': ['+37106899581'],\n",
    "  'UID': 9},\n",
    " {'Born': '2007',\n",
    "  'City': 'Liepiņštown',\n",
    "  'Crypto': ('AUR', 'Auroracoin'),\n",
    "  'Description': 'Repellat esse voluptates amet beatae. Ducimus reprehenderit odit molestiae.\\nCulpa ad eaque earum dicta eaque illum quisquam. Dolorem tempore vel eius.',\n",
    "  'Email': 'vitaalksnis@liepa.info',\n",
    "  'FavoriteURL': 'http://www.karklins.com/',\n",
    "  'FirstName': 'Irēna',\n",
    "  'LastName': 'Vanags',\n",
    "  'Phone': ['+37155447041', '+(371) 22954167'],\n",
    "  'UID': 10},\n",
    " {'Born': '1978',\n",
    "  'City': 'East Elizabeteland',\n",
    "  'Crypto': ('GRC', 'Gridcoin'),\n",
    "  'Description': 'Ut unde temporibus aperiam dolor laudantium nesciunt sint. Cupiditate ab velit.',\n",
    "  'Email': 'licisolgerts@rubenis.com',\n",
    "  'FavoriteURL': 'http://alksnis-avotins.com/',\n",
    "  'FirstName': 'Silvija',\n",
    "  'LastName': 'Dūmiņš',\n",
    "  'Phone': ['+37123192224', '+37148590668', '+371 51499663'],\n",
    "  'UID': 11}]"
   ]
  },
  {
   "cell_type": "code",
   "execution_count": null,
   "metadata": {},
   "outputs": [],
   "source": [
    "# What is type of data is held in mydata? "
   ]
  },
  {
   "cell_type": "code",
   "execution_count": null,
   "metadata": {},
   "outputs": [],
   "source": [
    "# How many elements(in this case people) are in mydata?"
   ]
  },
  {
   "cell_type": "code",
   "execution_count": null,
   "metadata": {},
   "outputs": [],
   "source": [
    "# Print ALL information known about 6th person(the one with UID 5)"
   ]
  },
  {
   "cell_type": "code",
   "execution_count": null,
   "metadata": {},
   "outputs": [],
   "source": [
    "# Find First Two Numbers for Roberts Skuja (by hand picked index since we do not know how to loop just yet)\n",
    "a1 = mydata[5]['Phone'][:2]\n",
    "assert(a1 == ['+37107395161', '+(371) 23375197']), \"Expected ['+37107395161', '+(371) 23375197']\"\n",
    "a1"
   ]
  },
  {
   "cell_type": "code",
   "execution_count": null,
   "metadata": {},
   "outputs": [],
   "source": [
    "# Find First Three Phone Numbers for Roberts Sprogis (by hand picked index since we do not know how to loop just yet)\n",
    "a2 = None\n",
    "assert(a2 == ['+(371) 08167174', '+371 53744269', '+(371) 31467491']), \"Expected ['+(371) 08167174', '+371 53744269', '+(371) 31467491']\"\n",
    "a2"
   ]
  },
  {
   "cell_type": "code",
   "execution_count": null,
   "metadata": {},
   "outputs": [],
   "source": [
    "# Find LAST Two Phone Numbers for Aija Apsitis (by hand picked index since we do not know how to loop just yet)\n",
    "a3 = None\n",
    "assert(a3 == ['+371 17411292', '+371 82836492']), \"Expected ['+371 17411292', '+371 82836492']\"\n",
    "a3"
   ]
  },
  {
   "cell_type": "code",
   "execution_count": null,
   "metadata": {},
   "outputs": [],
   "source": [
    "a4 = None\n",
    "# Find First Two Words (including space in between) in the Description for Kristers Liepins\n",
    "# For now it is okay to use numberic index\n",
    "# There is also a solution using join and split which we can explore in class\n",
    "assert(a4 == 'Perspiciatis ipsum'), \"Expected 'Perspiciatis ipsum'\"\n",
    "a4"
   ]
  },
  {
   "cell_type": "code",
   "execution_count": null,
   "metadata": {},
   "outputs": [],
   "source": [
    "# What kind of Data Structure Holds Cryptocurrency information for each person?"
   ]
  },
  {
   "cell_type": "code",
   "execution_count": null,
   "metadata": {},
   "outputs": [],
   "source": [
    "# Find Favorite Crypto Symbol for Silvija Dumins\n",
    "a5 = None\n",
    "assert(a5 == 'GRC'), \"Expected 'GRC'\"\n",
    "a5"
   ]
  }
 ],
 "metadata": {
  "kernelspec": {
   "display_name": "Python 3",
   "language": "python",
   "name": "python3"
  },
  "language_info": {
   "codemirror_mode": {
    "name": "ipython",
    "version": 3
   },
   "file_extension": ".py",
   "mimetype": "text/x-python",
   "name": "python",
   "nbconvert_exporter": "python",
   "pygments_lexer": "ipython3",
   "version": "3.6.4"
  }
 },
 "nbformat": 4,
 "nbformat_minor": 2
}
